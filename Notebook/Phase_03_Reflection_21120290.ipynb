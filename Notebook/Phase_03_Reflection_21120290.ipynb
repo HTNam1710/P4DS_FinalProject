{
 "cells": [
  {
   "cell_type": "markdown",
   "metadata": {},
   "source": [
    "## **Reflection**"
   ]
  },
  {
   "cell_type": "markdown",
   "metadata": {},
   "source": [
    "### Difficulties I have encountered"
   ]
  },
  {
   "cell_type": "markdown",
   "metadata": {},
   "source": [
    "- When I started asking questions, I had many ideas in my head, but the questions I made were not related to each other. That will make it difficult for me to conclude after finishing my section.\n",
    "\n",
    "- Once I posed my own problems, I began to have difficulty coming up with a suitable plot to show everyone the correlation between my variables.\n",
    "\n",
    "- `I have never written code` is a column that makes me think a lot about whether someone who has never written code can have roles in Data Science."
   ]
  },
  {
   "cell_type": "markdown",
   "metadata": {},
   "source": [
    "### What I have learned"
   ]
  },
  {
   "cell_type": "markdown",
   "metadata": {},
   "source": [
    "- The most important thing I think that I learned the most in this project is our team members and me learning and exchanging as a group.\n",
    "\n",
    "- How to present a Data Science project properly.\n",
    "\n",
    "- How to ask the right and reasonable questions.\n",
    "\n",
    "- I knew how to choose a suitable plot in some cases to show everyone an overview about what I want to say without understanding code.\n",
    "\n",
    "- Knowing more about people `who have never written code` in Data Science."
   ]
  },
  {
   "cell_type": "markdown",
   "metadata": {},
   "source": [
    "### If I have more time, I will"
   ]
  },
  {
   "cell_type": "markdown",
   "metadata": {},
   "source": [
    "- Because I'm intersted in people `who have never written code` so I can code more to tell you more about the correlation of them with other factors."
   ]
  },
  {
   "cell_type": "markdown",
   "metadata": {},
   "source": [
    "## **Cross Review**"
   ]
  },
  {
   "cell_type": "markdown",
   "metadata": {},
   "source": [
    "### 1. Huynh Cao Khoi\n",
    "- **Strength**:\n",
    "    - The main topic he raised is salary which is very interesting because when looking for a job, people almost want to know if the profession they work in has a stable or even high income.\n",
    "    - He clearly shows us the correlation between salary and many other important factors such as `Residential country`, `Age`, `Role`, `Education level`, `Programming experience`, `Industry`.\n",
    "    - The way he uses the Plotly.express library to show us the plot is awesome because it helps us see the data on the plot more clearly.\n",
    "- **Weakness**:\n",
    "    - For me, his work is very interesting and can make people enjoy, perhaps the only mistake I can point out is that sometimes at the end of the sentence he still lacks a period at the end of the sentence."
   ]
  },
  {
   "cell_type": "markdown",
   "metadata": {},
   "source": [
    "### 2. Pham Le Tu Nhi\n",
    "- **Strength**:\n",
    "    - The main topic she raised will help us gain more knowledge about the distribution of survey participants across countries and continents around the world.\n",
    "    - She presents her notebook is very clear and easy to see.\n",
    "    - Her storytelling is great, and the way she presents it makes me feel her enthusiasm.\n",
    "- **Weakness**:\n",
    "    For me, her work has brought me a lot of awesome knowledge and to find a weakness, I still haven't been able to find it."
   ]
  },
  {
   "cell_type": "markdown",
   "metadata": {},
   "source": [
    "## **References**"
   ]
  },
  {
   "cell_type": "markdown",
   "metadata": {},
   "source": [
    "- [Does Data Science Require Coding?](https://www.springboard.com/blog/data-science/data-science-coding/)\n",
    "- [Python Data Science Handbook](https://jakevdp.github.io/PythonDataScienceHandbook/)"
   ]
  }
 ],
 "metadata": {
  "language_info": {
   "name": "python"
  }
 },
 "nbformat": 4,
 "nbformat_minor": 2
}
