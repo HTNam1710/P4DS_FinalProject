{
 "cells": [
  {
   "cell_type": "markdown",
   "metadata": {},
   "source": [
    "## Reflection"
   ]
  },
  {
   "cell_type": "markdown",
   "metadata": {},
   "source": [
    "### Difficulties I have encountered"
   ]
  },
  {
   "cell_type": "markdown",
   "metadata": {},
   "source": [
    "- When I started asking questions, I had many ideas in my head, but the questions I made were not related to each other. That will make it difficult for me to conclude after finishing my section.\n",
    "\n",
    "- Once I posed my own problems, I began to have difficulty coming up with a suitable plot to show everyone the correlation between my variables.\n",
    "\n",
    "- `I have never written code` is a column that makes me think a lot about whether someone who has never written code can have roles in Data Science."
   ]
  },
  {
   "cell_type": "markdown",
   "metadata": {},
   "source": [
    "### What I have learned"
   ]
  },
  {
   "cell_type": "markdown",
   "metadata": {},
   "source": [
    "- The most important thing I think that I learned the most in this project is our team members and me learning and exchanging as a group.\n",
    "\n",
    "- How to present a Data Science project properly\n",
    "\n",
    "- How to ask the right and reasonable questions.\n",
    "\n",
    "- I knew how to choose a suitable plot in some cases to show everyone an overview about what I want to say without understanding code.\n",
    "\n",
    "- Knowing more about people `who have never written code` in Data Science."
   ]
  },
  {
   "cell_type": "markdown",
   "metadata": {},
   "source": [
    "### If I have more time, I will"
   ]
  },
  {
   "cell_type": "markdown",
   "metadata": {},
   "source": [
    "- Because I'm intersted in people 'who have never written code' so I can code more to tell you more about the correlation of people `who have never written code` with other columns."
   ]
  }
 ],
 "metadata": {
  "language_info": {
   "name": "python"
  }
 },
 "nbformat": 4,
 "nbformat_minor": 2
}
