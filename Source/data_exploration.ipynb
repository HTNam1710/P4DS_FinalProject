{
 "cells": [
  {
   "cell_type": "markdown",
   "metadata": {},
   "source": [
    "# Explore data\n",
    "\n",
    "First, let's see how many columns and the meaning of each columns in the datasets."
   ]
  },
  {
   "cell_type": "code",
   "execution_count": 40,
   "metadata": {},
   "outputs": [],
   "source": [
    "import pandas as pd\n",
    "import numpy as np"
   ]
  },
  {
   "cell_type": "code",
   "execution_count": 41,
   "metadata": {},
   "outputs": [
    {
     "name": "stderr",
     "output_type": "stream",
     "text": [
      "C:\\Users\\nk\\AppData\\Local\\Temp\\ipykernel_21704\\1085557566.py:2: DtypeWarning: Columns (0,15,43,57,73,88,104,118,126,132,170,200,208,215,225,248,255,257,260,270,271,272,277,281,294) have mixed types. Specify dtype option on import or set low_memory=False.\n",
      "  ds_survey_df = pd.read_csv('../Dataset/kaggle_survey_2022_responses.csv', )\n"
     ]
    }
   ],
   "source": [
    "# Read data from file\n",
    "ds_survey_df = pd.read_csv('../Dataset/kaggle_survey_2022_responses.csv', )\n",
    "\n",
    "# Delete first row as it is the sub-text for the meaning of the column\n",
    "ds_survey_df = ds_survey_df.drop(0)"
   ]
  },
  {
   "cell_type": "code",
   "execution_count": 42,
   "metadata": {},
   "outputs": [
    {
     "name": "stdout",
     "output_type": "stream",
     "text": [
      "Number of columns:  296\n",
      "Number of rows:  23997\n",
      "Columns:  Index(['Duration (in seconds)', 'Q2', 'Q3', 'Q4', 'Q5', 'Q6_1', 'Q6_2', 'Q6_3',\n",
      "       'Q6_4', 'Q6_5',\n",
      "       ...\n",
      "       'Q44_3', 'Q44_4', 'Q44_5', 'Q44_6', 'Q44_7', 'Q44_8', 'Q44_9', 'Q44_10',\n",
      "       'Q44_11', 'Q44_12'],\n",
      "      dtype='object', length=296)\n"
     ]
    }
   ],
   "source": [
    "print(\"Number of columns: \", len(ds_survey_df.columns))\n",
    "print(\"Number of rows: \", len(ds_survey_df))\n",
    "print(\"Columns: \", ds_survey_df.columns)"
   ]
  },
  {
   "cell_type": "markdown",
   "metadata": {},
   "source": [
    "*Notice that all columns has data types of object. This makes sense, since all the questions answer are of type string. As for Duration, the suitable data type should be float.*\n",
    "\n",
    "---\n",
    "The details meaning of the columns are aviailable as Kaggle had published them along with the survey information. \n",
    "\n",
    "*Note: \"Person who took the survey\" wiil be shortened to PWTS*\n",
    "\n",
    "## Details meaning of each questions/columns sorted by theme:\n",
    "\n",
    "- Durations: The duration the survey takes to complete by a person. (Calculated by system)\n",
    "\n",
    "### Bibography:\n",
    "\n",
    "- Q2: Age of PWTS (One choice)\n",
    "- Q3: Gender of PWTS (One choice)\n",
    "- Q4: Country that PWTS comes from (Once choice)\n",
    "- Q5: Whether PWTS a student (One choice)\n",
    "\n",
    "### Education:\n",
    "\n",
    "- Q6: Platforms that PWTS have used to study Data Sciecne (Multiple choice)\n",
    "- Q7: Platforms/Prodects that PWTS found to be most helpful when started studying DS (Multiple choice)\n",
    "- Q8: Highest level of education that PWTS had attained/plan to attain in the next 2 years (One choice)\n",
    "- Q9: Whether PWTS had published an academic research (One choice)\n",
    "- Q10: If PWTS had published an academic research, did the research make use of machine learning? (Multiple choice)\n",
    "\n",
    "### Pragramming skills & experience:\n",
    "\n",
    "- Q11: Number of years the PWTS have been writing code (One choice)\n",
    "- Q12: Programming languages that PWTS use on a regular basis? (Multiple choice)\n",
    "- Q13: IDE that PWTS use on a regular basis? (Multiple choice)\n",
    "- Q14: Notebook hosting products that PWTS use? (Multiple choice)\n",
    "- Q15: Data visualization libraries that PWTS use on a regular basis? (Multiple choice)\n",
    "- Q16: Number of years PWTS have used ML methods? (One choice)\n",
    "- Q17: ML frameworks that PWTS use on a regular basis? (Multiple choice)\n",
    "- Q18: ML algorithm that PWTS use on a regular basis? (Multiple choice)\n",
    "- Q19: Computer vision methods that PWTS use on a regular basis? (Multiple choice)\n",
    "- Q20: NLP (natural language processing) methods that PWTS use on a regular basis? (Multiple choice)\n",
    "- Q21: Pre-trained model weights services that PWTS download? (Multiple choice)\n",
    "- Q22: ML model hubs/repositories that PWTS use often? (Multiple choice)\n",
    "\n",
    "### Employments:\n",
    "\n",
    "- Q23: Tittle that most similar to PWTS current role? (Multiple choice)\n",
    "- Q24: Industry that PWTS currently employed/contracted in? (One choice)\n",
    "- Q25: Size of company that PWTS employed in? (One choice)\n",
    "- Q26: The approximate number of individuals responsible for DS workloads at PWTS place of work? (One choice)\n",
    "- Q27: Whether current employer incorporate ML methods in their business? (One choice)\n",
    "- Q28: Activities that makes up important part of PWTS at work? (Multiple choice)\n",
    "- Q29: Current yearly compensation of PWTS? (One choice)\n",
    "\n",
    "### Other product used (Cloud computing, Data storage...):\n",
    "\n",
    "- Q30: The approximate number of money that PWTS had spent of ML/cloud computer at home/at work in the past 5 years in USD? (One choice)\n",
    "- Q31: Cloud computing platforms that PWTS uses? (Multiple choice)\n",
    "- Q32: Cloud platforms that PWTS had most familiar with/has the best developer experience? (One choice)\n",
    "- Q33: Cloud computing products that PWTS uses? (Multiple choice)\n",
    "- Q34: Data storage products that PWTS uses? (Multiple choice)\n",
    "- Q35: Data products (relational databases, data warehouses, data lakes...) that PWTS are most farmiliar with? (Multiple choice)\n",
    "- Q36: Business Intelligence tools that PWTS uses? (Multiple choice)\n",
    "- Q37: Managed machine learning products that PWTS uses? (Multiple choice)\n",
    "- Q38: Automated Machine Learning tools that PWTS uses? (Multiple choice)\n",
    "- Q39: Products that PWTS to help with ML models? (Multiple choice)\n",
    "- Q40: Tools that help PWTS monitor ML models/experiments? (Multiple choice)\n",
    "- Q41: Responsible/Ethical AI products that PWTS uses in ML practices? (Multiple choice)\n",
    "- Q42: Specilized hardware that PWTS uses when training ML models? (Multiple choice)\n",
    "- Q43: Times PWTS used TPU (tensor processing unit)? (One choice)\n",
    "\n",
    "### Source of information:\n",
    "\n",
    "- Q44: Favorite DS media sources of PWTS? (Multiple choice)\n",
    "\n",
    "In total, the survey have 44 questions with number of restrictions related to the choice in some questions. For example, if the answer to Q5 answer is that PWTS's a student, questions related to employment would not be asked.\n",
    "\n",
    "The reason the number of columns in the dataset (296) is not equal to the number of questions in the survey is that each columns represent an option/a choice in every questions."
   ]
  },
  {
   "cell_type": "markdown",
   "metadata": {},
   "source": [
    "## Meaning of row\n",
    "\n",
    "Each row is an response to the Kaggle state of Data Science Survey - 2022."
   ]
  },
  {
   "cell_type": "markdown",
   "metadata": {},
   "source": [
    "## Explore dataset\n",
    "\n",
    "Firts, let's check if there is any duplicated rows."
   ]
  },
  {
   "cell_type": "code",
   "execution_count": 43,
   "metadata": {},
   "outputs": [
    {
     "name": "stdout",
     "output_type": "stream",
     "text": [
      "Number of duplicated rows:  0\n"
     ]
    }
   ],
   "source": [
    "print(\"Number of duplicated rows: \", np.count_nonzero(ds_survey_df.duplicated()))"
   ]
  },
  {
   "cell_type": "markdown",
   "metadata": {},
   "source": [
    "We see that there's no duplicated rows.\n",
    "\n",
    "## Clean dataset\n",
    "\n",
    "Remember we've made an observation that the Duration column should be of type float. Let's change its data type and see what how the values are distributed."
   ]
  },
  {
   "cell_type": "code",
   "execution_count": 53,
   "metadata": {},
   "outputs": [],
   "source": [
    "ds_survey_df['Duration (in seconds)'] = ds_survey_df['Duration (in seconds)'].astype(np.float64)"
   ]
  },
  {
   "cell_type": "code",
   "execution_count": 62,
   "metadata": {},
   "outputs": [
    {
     "name": "stdout",
     "output_type": "stream",
     "text": [
      "Max duration in minute:  42227.96666666667\n",
      "Min duration in minute:  2.0\n",
      "Average duration in minute:  168.16826408856662\n",
      "Median duration in minute:  6.9\n"
     ]
    }
   ],
   "source": [
    "# Let's check out the distribution of the data\n",
    "print(\"Max duration in minute: \", ds_survey_df['Duration (in seconds)'].max()/60)\n",
    "print(\"Min duration in minute: \", ds_survey_df['Duration (in seconds)'].min()/60)\n",
    "print(\"Average duration in minute: \", np.average(ds_survey_df['Duration (in seconds)'])/60)\n",
    "print(\"Median duration in minute: \", ds_survey_df['Duration (in seconds)'].median()/60)"
   ]
  },
  {
   "cell_type": "markdown",
   "metadata": {},
   "source": [
    "The maximum duration takes to complete the survey is very strange. "
   ]
  }
 ],
 "metadata": {
  "kernelspec": {
   "display_name": "min_ds-env",
   "language": "python",
   "name": "python3"
  },
  "language_info": {
   "codemirror_mode": {
    "name": "ipython",
    "version": 3
   },
   "file_extension": ".py",
   "mimetype": "text/x-python",
   "name": "python",
   "nbconvert_exporter": "python",
   "pygments_lexer": "ipython3",
   "version": "3.11.5"
  }
 },
 "nbformat": 4,
 "nbformat_minor": 2
}
