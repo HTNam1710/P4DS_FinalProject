{
 "cells": [
  {
   "cell_type": "markdown",
   "metadata": {},
   "source": [
    "<div style=\"text-align: center; background-color: #0A6EBD; font-family: 'Trebuchet MS', Arial, sans-serif; color: white; padding: 20px; font-size: 30px; font-weight: bold; border-radius: 0 0 0 0; box-shadow: 0px 6px 8px rgba(0, 0, 0, 0.2);\">\n",
    "  Final Project\n",
    "</div>"
   ]
  },
  {
   "cell_type": "markdown",
   "metadata": {},
   "source": [
    "## Instructors:\n",
    "- \n",
    "- \n",
    "## Our Team Information\n",
    "| FULL NAME                | STUDENT ID      |\n",
    "|:------------------    |:--------: |\n",
    "| Huỳnh Cao Khôi     | 21120275  |\n",
    "| Hoàng Trung Nam       | 21120290  |\n",
    "| Phạm Lê Tú Nhi       | 21120308  |\n"
   ]
  },
  {
   "cell_type": "markdown",
   "metadata": {},
   "source": [
    "## 0. Introduction"
   ]
  },
  {
   "cell_type": "markdown",
   "metadata": {},
   "source": [
    "### 0.1. Data Information\n",
    "\n",
    "[2022 Kaggle Machine Learning & Data Science Survey](https://www.kaggle.com/competitions/kaggle-survey-2022/data) is the most comprehensive dataset available on the state of ML and data science. **Kaggle Machine Learning & Data Science Survey** is a competition held annually from 2017 until 2022 to conduct an industry-wide survey with the aim of presenting a truly comprehensive view of the current state of Data Science and Machine Learning. The survey took place from 09/16/2022 to 10/16/2022, after Kaggle cleaned the data (Data Cleaning), it received 23,997 responses.\n",
    "\n",
    "**License**: CC BY 2.0 (Creative Commons Attribution 2.0 Generic). You are free to copy, modify, distribute, and perform the work, even for commercial purposes, as long as you provide proper attribution.\n"
   ]
  },
  {
   "cell_type": "markdown",
   "metadata": {},
   "source": [
    "### 0.2. Why do we choose this dataset?\n",
    "\n",
    "We are students who have only been approached to Data Science and Machine Learning for about 1 semester so we are really excited to know more about people who is working with data, what's happening with Machine Learning in different industries, and we want to know more about the best ways for new data scientists like us (in the future) to break into the field."
   ]
  },
  {
   "cell_type": "markdown",
   "metadata": {},
   "source": [
    "## 1. Data Exploration and Visulization"
   ]
  },
  {
   "cell_type": "markdown",
   "metadata": {},
   "source": [
    "## 2. Asking Meaningful Questions"
   ]
  },
  {
   "cell_type": "markdown",
   "metadata": {},
   "source": [
    "## 3. Reflection"
   ]
  }
 ],
 "metadata": {
  "kernelspec": {
   "display_name": "Python 3",
   "language": "python",
   "name": "python3"
  },
  "language_info": {
   "codemirror_mode": {
    "name": "ipython",
    "version": 3
   },
   "file_extension": ".py",
   "mimetype": "text/x-python",
   "name": "python",
   "nbconvert_exporter": "python",
   "pygments_lexer": "ipython3",
   "version": "3.11.0"
  }
 },
 "nbformat": 4,
 "nbformat_minor": 2
}
