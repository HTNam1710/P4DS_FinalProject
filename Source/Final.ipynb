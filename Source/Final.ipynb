{
 "cells": [
  {
   "cell_type": "markdown",
   "metadata": {},
   "source": [
    "# Final Project"
   ]
  },
  {
   "cell_type": "markdown",
   "metadata": {},
   "source": [
    "## Our Team Information\n",
    "- **Huỳnh Cao Khôi**\n",
    "  - MSSV: 21120275\n",
    "- **Hoàng Trung Nam**\n",
    "  - MSSV: 21120290\n",
    "- **Phạm Lê Tú Nhi**\n",
    "  - MSSV: 21120308"
   ]
  },
  {
   "cell_type": "markdown",
   "metadata": {},
   "source": [
    "## 1. Collecting Data"
   ]
  },
  {
   "cell_type": "markdown",
   "metadata": {},
   "source": [
    "### 1.1. Data Information\n",
    "\n",
    "[2022 Kaggle Machine Learning & Data Science Survey](https://www.kaggle.com/competitions/kaggle-survey-2022/data) is the most comprehensive dataset available on the state of ML and data science. **Kaggle Machine Learning & Data Science Survey** is a competition held annually from 2017 until 2022 to conduct an industry-wide survey with the aim of presenting a truly comprehensive view of the current state of Data Science and Machine Learning. The survey took place from 09/16/2022 to 10/16/2022, after Kaggle cleaned the data (Data Cleaning), it received 23,997 responses.\n",
    "\n",
    "**License**: CC BY 2.0 (Creative Commons Attribution 2.0 Generic). You are free to copy, modify, distribute, and perform the work, even for commercial purposes, as long as you provide proper attribution.\n"
   ]
  },
  {
   "cell_type": "markdown",
   "metadata": {},
   "source": [
    "### 1.2. Why do we choose this dataset?\n",
    "\n",
    "We are students who have only been approached to Data Science and Machine Learning for about 1 semester so we are really excited to know more about people who is working with data, what's happening with Machine Learning in different industries, and we want to know more about the best ways for new data scientists like us (in the future) to break into the field."
   ]
  },
  {
   "cell_type": "markdown",
   "metadata": {},
   "source": [
    "## 2. Data Pre-processing and Exploration"
   ]
  },
  {
   "cell_type": "markdown",
   "metadata": {},
   "source": [
    "## 3. Asking Meaningful Questions"
   ]
  },
  {
   "cell_type": "markdown",
   "metadata": {},
   "source": [
    "## 4. Analyzing Data To Answer Each Question"
   ]
  }
 ],
 "metadata": {
  "kernelspec": {
   "display_name": "Python 3",
   "language": "python",
   "name": "python3"
  },
  "language_info": {
   "codemirror_mode": {
    "name": "ipython",
    "version": 3
   },
   "file_extension": ".py",
   "mimetype": "text/x-python",
   "name": "python",
   "nbconvert_exporter": "python",
   "pygments_lexer": "ipython3",
   "version": "3.11.0"
  }
 },
 "nbformat": 4,
 "nbformat_minor": 2
}
