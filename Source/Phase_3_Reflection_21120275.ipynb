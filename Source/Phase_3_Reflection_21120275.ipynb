{
 "cells": [
  {
   "cell_type": "markdown",
   "metadata": {},
   "source": [
    "# <div style=\" text-align: center; font-weight: bold\">Some reflection</div>\n",
    "\n",
    "- **Student name:** Huynh Cao Khoi\n",
    "- **Student id**: 21120275\n",
    "\n",
    "This is a reflection on my experience during the process of this project.\n",
    "\n",
    "## **Difficulties:**\n",
    "\n",
    "During this process, I have encountered several difficulties below:\n",
    "- Data collection: \n",
    "\n",
    "With an open-topic project like this one, the data collecting process become a challenge, I have many ideas, but I cannot find enough necessary data to support them. Some data sources were limited by the policy, while other are not available for public. Also with other public datasets in Kaggle, they cover many topics, but not many of them are in my interst such as health, animals, nature world,... So after that, my team come up with this topic, the topic that I think is really important for someone who are new to the field of Data Science.\n",
    "\n",
    "- Preprocessing and understanding the data:\n",
    "\n",
    "    - First of all, the size of this data is very large, this is the first I have to handle such a large dataset like this. The main issue come from the number of columns, there are 44 questions in this dataset, .ost of them are multiple-choice question, and processing them like one hot encoding method make the total columns increase a lot (upto 296 columns). So the chanllenge here is read and find out the meaning of each columns, It just a take time step. Fortunately, the PDF file provided in the dataset folder was very helpful.\n",
    "    - Also, the preprocessing step is not also very easy, the current dataset are just divide in many fields, range, the column name doenn't have many meaning, so we have to do more in the preprocessing step to normalize and turn the data into more good and easy to read format.\n",
    "\n",
    "- Making meaningful questions: \n",
    "    - This is the most challenging step, the dataset cover various topic, most of aspects of the current status of the data science fields, so to make a specific meaningful question in this context become more difficult, it was a struggle to see the relationship between each cols, how can they help me to dicover some thing inteseting that required for a further analysis?\n",
    "    - For my question, the current salary status, the tool set for each roles. They are all a very large question, and the relevant information is spray throughout the dataset, so the first thing I need to do is determine which columns are really needed? Does they contribute to my answer?  I also had to find the simplest way to present my ideas to ensure easy access to the information for everyone.\n",
    "\n",
    "## **What I learn from this project:**\n",
    "Those are what I have learnt while doing this project:\n",
    "\n",
    "- From the data: \n",
    "    \n",
    "    The topic is just a informative topic that I can more information about my career path. Through my analysis go along my teammates' analysis too, I get more information about what I should learn and what aspect I should focus in the future,..\n",
    "- Importance of teamworks: \n",
    "\n",
    "    Yeah, while working together, I know how important of the story-telling skills, how can i present and develop my idea in a effective way. Also how to collaborate with each teammate to come to a final result.\n",
    "\n",
    "- More skills:\n",
    "I also get more and practice more skill in working with dataset, dataframe, also know how to go more into visualize the data and extract information from the data.\n",
    "\n",
    "## **What I can do next:**\n",
    "- About the topic of my questions:\n",
    "    For the answer of my question, I think that there are still lots of thing to do. While working in this project, I just consider the feature that I think is really important for my important. So the answers may not provide an overview point for the entire question, also the answer is limited in my knowledge scope. So if I have more time, I will get deeper to the dataset, try to get all the features to the best answer for my question.\n",
    "\n",
    "- About the skills:\n",
    "    With knowledge gained from this project, I can continue develop my skills, especially skills for presentation, collaboration, and programming skills (of course). Also, make a try to some interseting topic like Machine Learning is also one of my intend.\n"
   ]
  }
 ],
 "metadata": {
  "language_info": {
   "name": "python"
  }
 },
 "nbformat": 4,
 "nbformat_minor": 2
}
