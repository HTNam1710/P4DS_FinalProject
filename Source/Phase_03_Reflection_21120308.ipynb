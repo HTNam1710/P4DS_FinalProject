{
 "cells": [
  {
   "cell_type": "markdown",
   "metadata": {},
   "source": [
    "# Reflections\n",
    "\n",
    "## 1. Difficulties and Lessons\n",
    "\n",
    "Because the challenges I faced comes with its solution so I'm grouping the 2 into 1 part.\n",
    "\n",
    "### 1.1 Data processing\n",
    "\n",
    "There are 2 main aspects of data processing that I find most difficult:\n",
    "1. The data is survey data, therefore it has a lot of columns (over 200 columns).\n",
    "2. Because when we started the project we aren't very experience with pandas and mathplotlib programming was slow and inefficient.\n",
    "\n",
    "### 1.2 Asking questions\n",
    "\n",
    "#### 1.2.1 Struggling to ask question\n",
    "This is the steps that I struggle with the most. I started with a big question but I didn't know where to go from there so I started to try to break it down and anaylize the smaller questions.\n",
    "\n",
    "This is what I learned from that process:\n",
    "\n",
    "1. Some of the questions I asked that I try to find meaning in doesn't have anymeaning because they don't exist in any context.\n",
    "\n",
    "For example: *What country have the highest survey respondee who work in a big Data Scientist team?*\n",
    "\n",
    "After analyzing the dataset, I can say with confidence that that country is most likely the Netherlands, but **it still doesn't mean anything because I can't explain why**. I lack the necessary knowledge and background on this subject matter to extracts most of what is going on.\n",
    "\n",
    "2. Some of the questions I asked had too many dimension. \n",
    "\n",
    "For example: *What is the top 3 industries that has the highest number of survey respondee from every countries to be in?*\n",
    "\n",
    "The question has 4 dimension. With that many dimension I'm not sure how to  to plot it, which make me realize it was a bad question."
   ]
  },
  {
   "cell_type": "markdown",
   "metadata": {},
   "source": [
    "#### 1.2.2 Tips for asking questions\n",
    "Some tips I've developed after questions itteration:\n",
    "\n",
    "1. Quantitative data is so much better and easier to analize than qualitative data: With quantitative data you can use descriptive statistics to understand the data. **It's crucial to transform qualitative data to quantitative data**, which I have done by using ratio.\n",
    "\n",
    "2. You can evaluate your questions by trying to analyze the number of dimensions of that questions.\n"
   ]
  },
  {
   "cell_type": "markdown",
   "metadata": {},
   "source": [
    "#### 1.2.3 Learning from others\n",
    "\n",
    "I discover the `Kaggle Data Science Survey Analysis Competition 2022` winners' notebook. I started to look up and read the notebook by the winners of the competition. The notebook that impresses me the most was of the first place winner, Michal Bogacz with this analysis [15 factors for data science in your country! 🎌](https://www.kaggle.com/code/michau96/15-factors-for-data-science-in-your-country). It taught me how to create a good framework to ask and extracts conclusions/meaning from questions. My EDA was mirror after his notebook.\n",
    "\n",
    "> I hope you don't misunderstand my work and regards it as plagiarism. I did follow the style of his work but the conclusion and the questions I posed was my own. I regards this project as educational, therefore I will do what is best to learn. Mirroring from the best is one of the way I believe to understand and practice good process with minimal guidance - as with our circumstance working on this project (at least in the posing question part).\n",
    "\n",
    "There are many things I learned from his notebook, but 2 things stands out:\n",
    "\n",
    "1. Following the basic analysis pattern is a very good way to analyze and understand a dataset: Michal works follow 3 phase: \n",
    "- First, univariate analysis: Looking into 1 variable's distribution.\n",
    "- Second, bivariate analysis: Looking into the relation between 2 variables's distribution.\n",
    "- Third, multivariate analysis: Looking into the relation between 3 (or more) variables's distribution.\n",
    " \n",
    "This approach might seems by the book, but it helps paints a picture and understand the dataset, as well as to extract some interesting trends and data points.\n",
    "\n",
    "2. Find a variable - a subject for your question. You can consider this is the `groupby variable` that you'll use in analyzing the dataset.\n",
    "\n",
    "### 1.3 Plotting graph\n",
    "\n",
    "Choosing the best graph to plot was difficult. In the end, I decided to limit the number of graph I used and focus on learning and reading them. (`(Horizontal) Bar plot` and `Heatmap`)\n",
    "\n",
    "### 1.4 Project managing\n",
    "\n",
    "This has been a tough time for me (I signed up for 5 courses which I have realize is biting off more than I can chew), so it was tough planning for this project. In the end, because the project spans is long, it was not as diffult as I thought. Even though, the work planning for the timeline has been a disaster as I as very off predicting the time it would take to do many tasks - like preprocessing the data and asking questions.\n",
    "\n",
    "Now that I've learned the reality of this work I hope to apply it more to planning in the future.\n",
    "\n",
    "### 1.5 Team work\n",
    "\n",
    "Learning from others has been the theme I set for my team and we did learn a lot from others. I learned to take criticism and to apolizie and owning my mistakes/misunderstanding, and to appreaciate others strong points."
   ]
  },
  {
   "cell_type": "markdown",
   "metadata": {},
   "source": [
    "**Conclusion:**\n",
    "\n",
    "The resulting products has been through many itteration and I don't think it's perfect, but it was a good learning experience for me. If there is something I'd like to improve on is to use more descriptive statistic to understand the data."
   ]
  },
  {
   "cell_type": "markdown",
   "metadata": {},
   "source": [
    "## 2. If you have more time, what will you do?\n",
    "\n",
    "There are 2 direction I want to try with what I ended up completing:\n",
    "1. Edit down the essential parts of the analysis and condense I can make it.\n",
    "2. Explore further into mutivariate analysis."
   ]
  },
  {
   "cell_type": "markdown",
   "metadata": {},
   "source": [
    "## 3. Cross review\n",
    "\n",
    "### 3.1 Hoang Trung Nam's work\n",
    "#### Strength\n",
    "- Good reasonning skills and shows that he knows how to apply external knowledge to explain his findings.\n",
    "- Write pricise comment for graphs.\n",
    "\n",
    "#### Weakness\n",
    "- His notebook structure isn't very good. The numbering for each questions are `2.2.1` and `2.2.2`, which infer they are \"*secondary information*', while they are the main information.\n",
    "- Inconsistent program commenting.\n",
    "- His graph are too packed and dense, making it very hard to make out. I think he should try to reduce the amount of information that he try to show.\n",
    "- His use of `word highlighting` is inconsistent.\n",
    "\n",
    "### 3.2 Huynh Cao Khoi's work\n",
    "#### Strength\n",
    "- Demonstrate good commenting skills and knows how to write precise conclusion.\n",
    "- Good job breaking down and ask questions.\n",
    "- Demonstrate good story-telling skills.\n",
    "\n",
    "#### Weakness\n",
    "- His notebook structure while clean, doesn't do a very good job helping reader navigate. Some sub questions are denote numerately, some are not denote at all, which is very inconsistent.\n",
    "- His programming while reliable (using `for` loop), is not optimized. It's shows that he stills have to practice his pandas and numpy fluency.\n",
    "\n",
    "### 3.3 Conclusion\n",
    "\n",
    "Both shows improvement and growth in their time working on the project, and demonstrate good understanding of the data. However, there are parts that they should consider improving."
   ]
  },
  {
   "cell_type": "markdown",
   "metadata": {},
   "source": [
    "## 4. References\n",
    "\n",
    "I used a lot of generative AI (ChatGPT 3.5) for debug, programming and idea generation overall. Other than that, these are the resources that I've consult.\n",
    "\n",
    "1. [Michau. (n.d.-a). 1st place solution approach \"behind the scenes\" - part I: before development.](https://www.kaggle.com/competitions/kaggle-survey-2022/discussion/374157 )\n",
    "2. [Michau. (n.d.-b). 1st place solution approach \"behind the scenes\" - part II: idea.](https://www.kaggle.com/competitions/kaggle-survey-2022/discussion/374969) \n",
    "3. [Michau. (n.d.-c). 1st place solution approach \"behind the scenes\" - part III: charts.](https://www.kaggle.com/competitions/kaggle-survey-2022/discussion/375837) \n",
    "4. [Michau. (2022, November 19). 15 factors for data science in your country! 🎌. Kaggle.](https://www.kaggle.com/code/michau96/15-factors-for-data-science-in-your-country) \n",
    "5. [Rosspmcdonald. (2022, November 27). Classifying users and learning from experts. Kaggle.](https://www.kaggle.com/code/rosspmcdonald/classifying-users-and-learning-from-experts/notebook) \n",
    "6. [Imuhammad. (2022, December 9). The Fellowship of Kaggle.](https://www.kaggle.com/code/imuhammad/the-fellowship-of-kaggle) \n",
    "7. [Wilke, C. O. (n.d.). Fundamentals of Data Visualization.](https://clauswilke.com/dataviz/)\n",
    "8. [VanderPlas, J. (n.d.). Python Data Science Handbook | Python Data Science Handbook.](https://jakevdp.github.io/PythonDataScienceHandbook/)\n"
   ]
  }
 ],
 "metadata": {
  "language_info": {
   "name": "python"
  }
 },
 "nbformat": 4,
 "nbformat_minor": 2
}
