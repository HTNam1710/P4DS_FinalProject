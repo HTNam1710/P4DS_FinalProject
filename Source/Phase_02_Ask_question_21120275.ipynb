{
 "cells": [
  {
   "cell_type": "markdown",
   "metadata": {},
   "source": [
    "# <div style=\" text-align: center; font-weight: bold; font-size:50px\">Exploratory data analysis</div>\n",
    "\n",
    "## **Import necessary libraries:**"
   ]
  },
  {
   "cell_type": "code",
   "execution_count": 1,
   "metadata": {},
   "outputs": [],
   "source": [
    "import pandas as pd\n",
    "import numpy as np\n",
    "import matplotlib.pyplot as plt\n",
    "import plotly.express as px\n",
    "from plotly.subplots import make_subplots\n",
    "import re"
   ]
  },
  {
   "cell_type": "markdown",
   "metadata": {},
   "source": [
    "## **Read data from file:**"
   ]
  },
  {
   "cell_type": "code",
   "execution_count": 2,
   "metadata": {},
   "outputs": [],
   "source": [
    "ds_survey_df = pd.read_csv('../Dataset/final_data.csv', low_memory=False)"
   ]
  },
  {
   "cell_type": "markdown",
   "metadata": {},
   "source": [
    "## **Ask some question:**\n",
    "\n",
    "### **Question 01: How do factors such as residential country, age, current role, education level, programming experience, current industry affect a person's salary or the distribution of the income across these factors?**\n",
    "\n",
    "We know that, the income is just an aspect that many of us prioritize, most of us always tend to pursure higher income. So how is the status of this survey of participants' income? How was it affected by different factors? In this analysis, we aim to get more insights about the salary of a person. Specifically, we will focus on more about factors that may be most important such as `Residential country`, `Age`, `Role`, `Education level`, `Programming experience`, `Industry`.\n",
    "But before that, let's take an overview of the income and perform any necessary preprocessing steps."
   ]
  },
  {
   "cell_type": "markdown",
   "metadata": {},
   "source": [
    "Firstly, by above exploration, we can see that there is over 50 percent of missing values for the column `Current income`. As we discuss earlier, these missing values come from survey participants that currently are student. There for, in this analysis, we just drop all nan values\n",
    " "
   ]
  },
  {
   "cell_type": "code",
   "execution_count": 3,
   "metadata": {},
   "outputs": [
    {
     "name": "stdout",
     "output_type": "stream",
     "text": [
      "Current income range of participants:\n",
      "['25,000-29,999' '100,000-124,999' '200,000-249,999' '150,000-199,999'\n",
      " '90,000-99,999' '30,000-39,999' '3,000-3,999' '50,000-59,999'\n",
      " '125,000-149,999' '15,000-19,999' '5,000-7,499' '10,000-14,999'\n",
      " '20,000-24,999' '$0-999' '7,500-9,999' '4,000-4,999' '80,000-89,999'\n",
      " '2,000-2,999' '250,000-299,999' '1,000-1,999' '$500,000-999,999'\n",
      " '70,000-79,999' '60,000-69,999' '40,000-49,999' '>$1,000,000'\n",
      " '300,000-499,999']\n"
     ]
    }
   ],
   "source": [
    "# Drop the missing value for column `Current income`\n",
    "income_df = ds_survey_df.dropna(subset= 'Current income')\n",
    "\n",
    "print (f\"Current income range of participants:\")\n",
    "ranges = income_df['Current income'].unique()\n",
    "print(ranges)"
   ]
  },
  {
   "cell_type": "markdown",
   "metadata": {},
   "source": [
    "Through the above result, we can see that the income is seperated into too many ranges, We will group these ranges and create a new income range which become more easier for our anslysis."
   ]
  },
  {
   "cell_type": "code",
   "execution_count": 4,
   "metadata": {},
   "outputs": [],
   "source": [
    "# Identify the new income range. \n",
    "new_income_range = {\n",
    "    '<$10,000': (0, 10000),\n",
    "    '$10,000-50,000': (0, 50000),\n",
    "    '$50,000-100,000': (50000, 100000),\n",
    "    '$100,000-300,000' : (100000, 300000),\n",
    "    '$300,000-500,000' : (300000, 500000),\n",
    "    '>$500,000' : (500000, float('inf'))\n",
    "}"
   ]
  },
  {
   "cell_type": "markdown",
   "metadata": {},
   "source": [
    "Now, replace the current range with the new range for all sample in our dataset."
   ]
  },
  {
   "cell_type": "code",
   "execution_count": 5,
   "metadata": {},
   "outputs": [],
   "source": [
    "processed_income_df = income_df.copy()  # Make a copy of income_df.\n",
    "\n",
    "# Define a function to map income ranges to new ranges\n",
    "def map_income_range(income_range):\n",
    "    for new_range, (lower_bound, upper_bound) in new_income_range.items():\n",
    "        lower = income_range.split('-')[0]\n",
    "        lower = int(lower.replace(',', '').replace('$', '').replace('>', ''))\n",
    "        if lower_bound <= lower < upper_bound:\n",
    "            return new_range\n",
    "    return None  # Handle cases where income range doesn't fall into any new range\n",
    "\n",
    "# Apply the function to the 'Current income' column\n",
    "processed_income_df['Current income'] = income_df['Current income'].apply(map_income_range)"
   ]
  },
  {
   "cell_type": "markdown",
   "metadata": {},
   "source": [
    "We have converted all the current income of the participants to the new range of income.From this, `processed_income_df` will be the main dataframe that we use for out analysis.     \n",
    "\n",
    "Now, see the current distribution of income in new range:"
   ]
  },
  {
   "cell_type": "code",
   "execution_count": 6,
   "metadata": {},
   "outputs": [
    {
     "data": {
      "application/vnd.plotly.v1+json": {
       "config": {
        "plotlyServerURL": "https://plot.ly"
       },
       "data": [
        {
         "alignmentgroup": "True",
         "hovertemplate": "<b>%{text}</b> participants have the income in range <b>%{y}</b>",
         "legendgroup": "",
         "marker": {
          "color": "#636efa",
          "line": {
           "color": "black",
           "width": 1
          },
          "pattern": {
           "shape": ""
          }
         },
         "name": "",
         "offsetgroup": "",
         "orientation": "h",
         "showlegend": false,
         "text": [
          3058,
          2291,
          1392,
          1248,
          76,
          71
         ],
         "textposition": "auto",
         "type": "bar",
         "x": [
          3058,
          2291,
          1392,
          1248,
          76,
          71
         ],
         "xaxis": "x",
         "y": [
          "<$10,000",
          "$10,000-50,000",
          "$50,000-100,000",
          "$100,000-300,000",
          "$300,000-500,000",
          ">$500,000"
         ],
         "yaxis": "y"
        }
       ],
       "layout": {
        "barmode": "relative",
        "height": 400,
        "legend": {
         "tracegroupgap": 0
        },
        "margin": {
         "b": 20,
         "l": 20,
         "r": 30,
         "t": 70
        },
        "paper_bgcolor": "#ffe6cc",
        "template": {
         "data": {
          "bar": [
           {
            "error_x": {
             "color": "#2a3f5f"
            },
            "error_y": {
             "color": "#2a3f5f"
            },
            "marker": {
             "line": {
              "color": "#E5ECF6",
              "width": 0.5
             },
             "pattern": {
              "fillmode": "overlay",
              "size": 10,
              "solidity": 0.2
             }
            },
            "type": "bar"
           }
          ],
          "barpolar": [
           {
            "marker": {
             "line": {
              "color": "#E5ECF6",
              "width": 0.5
             },
             "pattern": {
              "fillmode": "overlay",
              "size": 10,
              "solidity": 0.2
             }
            },
            "type": "barpolar"
           }
          ],
          "carpet": [
           {
            "aaxis": {
             "endlinecolor": "#2a3f5f",
             "gridcolor": "white",
             "linecolor": "white",
             "minorgridcolor": "white",
             "startlinecolor": "#2a3f5f"
            },
            "baxis": {
             "endlinecolor": "#2a3f5f",
             "gridcolor": "white",
             "linecolor": "white",
             "minorgridcolor": "white",
             "startlinecolor": "#2a3f5f"
            },
            "type": "carpet"
           }
          ],
          "choropleth": [
           {
            "colorbar": {
             "outlinewidth": 0,
             "ticks": ""
            },
            "type": "choropleth"
           }
          ],
          "contour": [
           {
            "colorbar": {
             "outlinewidth": 0,
             "ticks": ""
            },
            "colorscale": [
             [
              0,
              "#0d0887"
             ],
             [
              0.1111111111111111,
              "#46039f"
             ],
             [
              0.2222222222222222,
              "#7201a8"
             ],
             [
              0.3333333333333333,
              "#9c179e"
             ],
             [
              0.4444444444444444,
              "#bd3786"
             ],
             [
              0.5555555555555556,
              "#d8576b"
             ],
             [
              0.6666666666666666,
              "#ed7953"
             ],
             [
              0.7777777777777778,
              "#fb9f3a"
             ],
             [
              0.8888888888888888,
              "#fdca26"
             ],
             [
              1,
              "#f0f921"
             ]
            ],
            "type": "contour"
           }
          ],
          "contourcarpet": [
           {
            "colorbar": {
             "outlinewidth": 0,
             "ticks": ""
            },
            "type": "contourcarpet"
           }
          ],
          "heatmap": [
           {
            "colorbar": {
             "outlinewidth": 0,
             "ticks": ""
            },
            "colorscale": [
             [
              0,
              "#0d0887"
             ],
             [
              0.1111111111111111,
              "#46039f"
             ],
             [
              0.2222222222222222,
              "#7201a8"
             ],
             [
              0.3333333333333333,
              "#9c179e"
             ],
             [
              0.4444444444444444,
              "#bd3786"
             ],
             [
              0.5555555555555556,
              "#d8576b"
             ],
             [
              0.6666666666666666,
              "#ed7953"
             ],
             [
              0.7777777777777778,
              "#fb9f3a"
             ],
             [
              0.8888888888888888,
              "#fdca26"
             ],
             [
              1,
              "#f0f921"
             ]
            ],
            "type": "heatmap"
           }
          ],
          "heatmapgl": [
           {
            "colorbar": {
             "outlinewidth": 0,
             "ticks": ""
            },
            "colorscale": [
             [
              0,
              "#0d0887"
             ],
             [
              0.1111111111111111,
              "#46039f"
             ],
             [
              0.2222222222222222,
              "#7201a8"
             ],
             [
              0.3333333333333333,
              "#9c179e"
             ],
             [
              0.4444444444444444,
              "#bd3786"
             ],
             [
              0.5555555555555556,
              "#d8576b"
             ],
             [
              0.6666666666666666,
              "#ed7953"
             ],
             [
              0.7777777777777778,
              "#fb9f3a"
             ],
             [
              0.8888888888888888,
              "#fdca26"
             ],
             [
              1,
              "#f0f921"
             ]
            ],
            "type": "heatmapgl"
           }
          ],
          "histogram": [
           {
            "marker": {
             "pattern": {
              "fillmode": "overlay",
              "size": 10,
              "solidity": 0.2
             }
            },
            "type": "histogram"
           }
          ],
          "histogram2d": [
           {
            "colorbar": {
             "outlinewidth": 0,
             "ticks": ""
            },
            "colorscale": [
             [
              0,
              "#0d0887"
             ],
             [
              0.1111111111111111,
              "#46039f"
             ],
             [
              0.2222222222222222,
              "#7201a8"
             ],
             [
              0.3333333333333333,
              "#9c179e"
             ],
             [
              0.4444444444444444,
              "#bd3786"
             ],
             [
              0.5555555555555556,
              "#d8576b"
             ],
             [
              0.6666666666666666,
              "#ed7953"
             ],
             [
              0.7777777777777778,
              "#fb9f3a"
             ],
             [
              0.8888888888888888,
              "#fdca26"
             ],
             [
              1,
              "#f0f921"
             ]
            ],
            "type": "histogram2d"
           }
          ],
          "histogram2dcontour": [
           {
            "colorbar": {
             "outlinewidth": 0,
             "ticks": ""
            },
            "colorscale": [
             [
              0,
              "#0d0887"
             ],
             [
              0.1111111111111111,
              "#46039f"
             ],
             [
              0.2222222222222222,
              "#7201a8"
             ],
             [
              0.3333333333333333,
              "#9c179e"
             ],
             [
              0.4444444444444444,
              "#bd3786"
             ],
             [
              0.5555555555555556,
              "#d8576b"
             ],
             [
              0.6666666666666666,
              "#ed7953"
             ],
             [
              0.7777777777777778,
              "#fb9f3a"
             ],
             [
              0.8888888888888888,
              "#fdca26"
             ],
             [
              1,
              "#f0f921"
             ]
            ],
            "type": "histogram2dcontour"
           }
          ],
          "mesh3d": [
           {
            "colorbar": {
             "outlinewidth": 0,
             "ticks": ""
            },
            "type": "mesh3d"
           }
          ],
          "parcoords": [
           {
            "line": {
             "colorbar": {
              "outlinewidth": 0,
              "ticks": ""
             }
            },
            "type": "parcoords"
           }
          ],
          "pie": [
           {
            "automargin": true,
            "type": "pie"
           }
          ],
          "scatter": [
           {
            "fillpattern": {
             "fillmode": "overlay",
             "size": 10,
             "solidity": 0.2
            },
            "type": "scatter"
           }
          ],
          "scatter3d": [
           {
            "line": {
             "colorbar": {
              "outlinewidth": 0,
              "ticks": ""
             }
            },
            "marker": {
             "colorbar": {
              "outlinewidth": 0,
              "ticks": ""
             }
            },
            "type": "scatter3d"
           }
          ],
          "scattercarpet": [
           {
            "marker": {
             "colorbar": {
              "outlinewidth": 0,
              "ticks": ""
             }
            },
            "type": "scattercarpet"
           }
          ],
          "scattergeo": [
           {
            "marker": {
             "colorbar": {
              "outlinewidth": 0,
              "ticks": ""
             }
            },
            "type": "scattergeo"
           }
          ],
          "scattergl": [
           {
            "marker": {
             "colorbar": {
              "outlinewidth": 0,
              "ticks": ""
             }
            },
            "type": "scattergl"
           }
          ],
          "scattermapbox": [
           {
            "marker": {
             "colorbar": {
              "outlinewidth": 0,
              "ticks": ""
             }
            },
            "type": "scattermapbox"
           }
          ],
          "scatterpolar": [
           {
            "marker": {
             "colorbar": {
              "outlinewidth": 0,
              "ticks": ""
             }
            },
            "type": "scatterpolar"
           }
          ],
          "scatterpolargl": [
           {
            "marker": {
             "colorbar": {
              "outlinewidth": 0,
              "ticks": ""
             }
            },
            "type": "scatterpolargl"
           }
          ],
          "scatterternary": [
           {
            "marker": {
             "colorbar": {
              "outlinewidth": 0,
              "ticks": ""
             }
            },
            "type": "scatterternary"
           }
          ],
          "surface": [
           {
            "colorbar": {
             "outlinewidth": 0,
             "ticks": ""
            },
            "colorscale": [
             [
              0,
              "#0d0887"
             ],
             [
              0.1111111111111111,
              "#46039f"
             ],
             [
              0.2222222222222222,
              "#7201a8"
             ],
             [
              0.3333333333333333,
              "#9c179e"
             ],
             [
              0.4444444444444444,
              "#bd3786"
             ],
             [
              0.5555555555555556,
              "#d8576b"
             ],
             [
              0.6666666666666666,
              "#ed7953"
             ],
             [
              0.7777777777777778,
              "#fb9f3a"
             ],
             [
              0.8888888888888888,
              "#fdca26"
             ],
             [
              1,
              "#f0f921"
             ]
            ],
            "type": "surface"
           }
          ],
          "table": [
           {
            "cells": {
             "fill": {
              "color": "#EBF0F8"
             },
             "line": {
              "color": "white"
             }
            },
            "header": {
             "fill": {
              "color": "#C8D4E3"
             },
             "line": {
              "color": "white"
             }
            },
            "type": "table"
           }
          ]
         },
         "layout": {
          "annotationdefaults": {
           "arrowcolor": "#2a3f5f",
           "arrowhead": 0,
           "arrowwidth": 1
          },
          "autotypenumbers": "strict",
          "coloraxis": {
           "colorbar": {
            "outlinewidth": 0,
            "ticks": ""
           }
          },
          "colorscale": {
           "diverging": [
            [
             0,
             "#8e0152"
            ],
            [
             0.1,
             "#c51b7d"
            ],
            [
             0.2,
             "#de77ae"
            ],
            [
             0.3,
             "#f1b6da"
            ],
            [
             0.4,
             "#fde0ef"
            ],
            [
             0.5,
             "#f7f7f7"
            ],
            [
             0.6,
             "#e6f5d0"
            ],
            [
             0.7,
             "#b8e186"
            ],
            [
             0.8,
             "#7fbc41"
            ],
            [
             0.9,
             "#4d9221"
            ],
            [
             1,
             "#276419"
            ]
           ],
           "sequential": [
            [
             0,
             "#0d0887"
            ],
            [
             0.1111111111111111,
             "#46039f"
            ],
            [
             0.2222222222222222,
             "#7201a8"
            ],
            [
             0.3333333333333333,
             "#9c179e"
            ],
            [
             0.4444444444444444,
             "#bd3786"
            ],
            [
             0.5555555555555556,
             "#d8576b"
            ],
            [
             0.6666666666666666,
             "#ed7953"
            ],
            [
             0.7777777777777778,
             "#fb9f3a"
            ],
            [
             0.8888888888888888,
             "#fdca26"
            ],
            [
             1,
             "#f0f921"
            ]
           ],
           "sequentialminus": [
            [
             0,
             "#0d0887"
            ],
            [
             0.1111111111111111,
             "#46039f"
            ],
            [
             0.2222222222222222,
             "#7201a8"
            ],
            [
             0.3333333333333333,
             "#9c179e"
            ],
            [
             0.4444444444444444,
             "#bd3786"
            ],
            [
             0.5555555555555556,
             "#d8576b"
            ],
            [
             0.6666666666666666,
             "#ed7953"
            ],
            [
             0.7777777777777778,
             "#fb9f3a"
            ],
            [
             0.8888888888888888,
             "#fdca26"
            ],
            [
             1,
             "#f0f921"
            ]
           ]
          },
          "colorway": [
           "#636efa",
           "#EF553B",
           "#00cc96",
           "#ab63fa",
           "#FFA15A",
           "#19d3f3",
           "#FF6692",
           "#B6E880",
           "#FF97FF",
           "#FECB52"
          ],
          "font": {
           "color": "#2a3f5f"
          },
          "geo": {
           "bgcolor": "white",
           "lakecolor": "white",
           "landcolor": "#E5ECF6",
           "showlakes": true,
           "showland": true,
           "subunitcolor": "white"
          },
          "hoverlabel": {
           "align": "left"
          },
          "hovermode": "closest",
          "mapbox": {
           "style": "light"
          },
          "paper_bgcolor": "white",
          "plot_bgcolor": "#E5ECF6",
          "polar": {
           "angularaxis": {
            "gridcolor": "white",
            "linecolor": "white",
            "ticks": ""
           },
           "bgcolor": "#E5ECF6",
           "radialaxis": {
            "gridcolor": "white",
            "linecolor": "white",
            "ticks": ""
           }
          },
          "scene": {
           "xaxis": {
            "backgroundcolor": "#E5ECF6",
            "gridcolor": "white",
            "gridwidth": 2,
            "linecolor": "white",
            "showbackground": true,
            "ticks": "",
            "zerolinecolor": "white"
           },
           "yaxis": {
            "backgroundcolor": "#E5ECF6",
            "gridcolor": "white",
            "gridwidth": 2,
            "linecolor": "white",
            "showbackground": true,
            "ticks": "",
            "zerolinecolor": "white"
           },
           "zaxis": {
            "backgroundcolor": "#E5ECF6",
            "gridcolor": "white",
            "gridwidth": 2,
            "linecolor": "white",
            "showbackground": true,
            "ticks": "",
            "zerolinecolor": "white"
           }
          },
          "shapedefaults": {
           "line": {
            "color": "#2a3f5f"
           }
          },
          "ternary": {
           "aaxis": {
            "gridcolor": "white",
            "linecolor": "white",
            "ticks": ""
           },
           "baxis": {
            "gridcolor": "white",
            "linecolor": "white",
            "ticks": ""
           },
           "bgcolor": "#E5ECF6",
           "caxis": {
            "gridcolor": "white",
            "linecolor": "white",
            "ticks": ""
           }
          },
          "title": {
           "x": 0.05
          },
          "xaxis": {
           "automargin": true,
           "gridcolor": "white",
           "linecolor": "white",
           "ticks": "",
           "title": {
            "standoff": 15
           },
           "zerolinecolor": "white",
           "zerolinewidth": 2
          },
          "yaxis": {
           "automargin": true,
           "gridcolor": "white",
           "linecolor": "white",
           "ticks": "",
           "title": {
            "standoff": 15
           },
           "zerolinecolor": "white",
           "zerolinewidth": 2
          }
         }
        },
        "title": {
         "font": {
          "size": 25
         },
         "text": "<b>Participants' current income distribution</b>"
        },
        "width": 1000,
        "xaxis": {
         "anchor": "y",
         "domain": [
          0,
          1
         ],
         "tickfont": {
          "size": 14
         },
         "title": {
          "text": "<b>Count</b>"
         }
        },
        "yaxis": {
         "anchor": "x",
         "domain": [
          0,
          1
         ],
         "tickfont": {
          "size": 14
         },
         "ticksuffix": " ",
         "title": {
          "text": "<b>Income range</b>"
         }
        }
       }
      }
     },
     "metadata": {},
     "output_type": "display_data"
    }
   ],
   "source": [
    "# Find the frequency of each income range\n",
    "income_distribution_df = processed_income_df['Current income'].value_counts().reset_index(name='Count')\n",
    "\n",
    "fig = px.bar(income_distribution_df, \n",
    "            x='Count', \n",
    "            y='Current income',\n",
    "            text='Count',\n",
    "            labels={ 'Current income': '<b>Income range</b>', 'Count': '<b>Count</b>'},)\n",
    "\n",
    "fig.update_layout(\n",
    "    title_text='<b>Participants\\' current income distribution</b>',\n",
    "    title_font_size=25,\n",
    "    width=1000, height=400,\n",
    "    margin=dict(l=20, r=30, t=70, b=20),\n",
    "    paper_bgcolor='#ffe6cc',\n",
    "    xaxis=dict(tickfont=dict(size=14)),\n",
    "    yaxis=dict(tickfont=dict(size=14), ticksuffix = \" \"),\n",
    ")\n",
    "fig.update_traces(marker_line_color='black', marker_line_width=1, hovertemplate='<b>%{text}</b> participants have the income in range <b>%{y}</b>')\n",
    "fig.show()"
   ]
  },
  {
   "cell_type": "markdown",
   "metadata": {},
   "source": [
    "Currently, we can see that a large percentage of participants' income drop into the range `<$10,000` and `$10,000 - 50,000`. Just a little percentage have the income `>$300,000`. So we can see that this income is the super high income and not popular with most of participants.\n",
    "\n",
    "Now, we will get the a deeper analysis for each factors."
   ]
  },
  {
   "cell_type": "markdown",
   "metadata": {},
   "source": [
    "### **1.1 Income distribution by residential country**:\n",
    "Easily, in different countries, the income will also very differnt, but can we get more insights about it? How the income is distributed in each country? Which continent or countries will give us more potential to a good income? Or which one will have less advantage for income? Let's find the answer in this section\n"
   ]
  },
  {
   "cell_type": "markdown",
   "metadata": {},
   "source": [
    "Now we want check how the income is distributed by the residential country through these steps:\n",
    "- Step 01: Group the income data by residential country then count the value for each range of current income.\n",
    "- Step 02: Find the percentage of each income range in each country.\n",
    "- Step 03: Use a `scatter geo plot` to present the distribution"
   ]
  },
  {
   "cell_type": "code",
   "execution_count": 7,
   "metadata": {},
   "outputs": [],
   "source": [
    "# Group the dataframe by countries and find the percentage of each income ranges in each countries.\n",
    "income_by_countries_df = processed_income_df.groupby('Residential country')['Current income'].value_counts().to_frame().reset_index()\n",
    "income_by_countries_df['Percentage'] = income_by_countries_df.groupby('Residential country')['count'].transform(lambda x: x / x.sum() * 100)\n",
    "income_by_countries_df['Percentage'] = income_by_countries_df['Percentage'].round(3)"
   ]
  },
  {
   "cell_type": "code",
   "execution_count": 8,
   "metadata": {},
   "outputs": [
    {
     "data": {
      "application/vnd.plotly.v1+json": {
       "config": {
        "plotlyServerURL": "https://plot.ly",
        "scrollZoom": true
       },
       "data": [
        {
         "geo": "geo",
         "hovertemplate": "%{marker.size} (%) of participants in %{location} have the income %{fullData.name}",
         "legendgroup": "<$10,000",
         "locationmode": "country names",
         "locations": [
          "Algeria",
          "Argentina",
          "Australia",
          "Bangladesh",
          "Belgium",
          "Brazil",
          "Cameroon",
          "Canada",
          "Chile",
          "China",
          "Colombia",
          "Czech Republic",
          "Ecuador",
          "Egypt",
          "Ethiopia",
          "France",
          "Germany",
          "Ghana",
          "Hong Kong (S.A.R.)",
          "I do not wish to disclose my location",
          "India",
          "Indonesia",
          "Iran, Islamic Republic of...",
          "Ireland",
          "Israel",
          "Italy",
          "Japan",
          "Kenya",
          "Malaysia",
          "Mexico",
          "Morocco",
          "Nepal",
          "Netherlands",
          "Nigeria",
          "Other",
          "Pakistan",
          "Peru",
          "Philippines",
          "Poland",
          "Portugal",
          "Romania",
          "Russia",
          "Saudi Arabia",
          "Singapore",
          "South Africa",
          "South Korea",
          "Spain",
          "Sri Lanka",
          "Taiwan",
          "Thailand",
          "Tunisia",
          "Turkey",
          "Ukraine",
          "United Arab Emirates",
          "United Kingdom of Great Britain and Northern Ireland",
          "United States of America",
          "Viet Nam",
          "Zimbabwe"
         ],
         "marker": {
          "autocolorscale": true,
          "color": "#636efa",
          "line": {
           "color": "black",
           "width": 0.5
          },
          "opacity": 0.7,
          "size": [
           87.5,
           52.703,
           3.448,
           76.744,
           6.061,
           36.986,
           53.333,
           10.256,
           27.778,
           37.963,
           42.697,
           3.846,
           58.333,
           78.022,
           90.909,
           8.759,
           8.929,
           84,
           23.077,
           66.667,
           56.959,
           71.698,
           86.207,
           3.333,
           2.439,
           4.494,
           30.631,
           51.163,
           42.857,
           38.849,
           54.762,
           69.231,
           13.889,
           84.277,
           39.53,
           82.443,
           52.5,
           62.5,
           17.568,
           7.143,
           13.636,
           45.652,
           37.838,
           18.919,
           43.243,
           30.534,
           10.714,
           75,
           27.273,
           27.451,
           65,
           43.86,
           45.455,
           35.294,
           4.317,
           5.509,
           61.818,
           53.846
          ],
          "sizemode": "area",
          "sizeref": 0.1,
          "symbol": "circle"
         },
         "mode": "markers",
         "name": "<$10,000",
         "showlegend": true,
         "type": "scattergeo"
        },
        {
         "geo": "geo",
         "hovertemplate": "%{marker.size} (%) of participants in %{location} have the income %{fullData.name}",
         "legendgroup": "$10,000-50,000",
         "locationmode": "country names",
         "locations": [
          "Algeria",
          "Argentina",
          "Australia",
          "Bangladesh",
          "Belgium",
          "Brazil",
          "Cameroon",
          "Canada",
          "Chile",
          "China",
          "Colombia",
          "Czech Republic",
          "Ecuador",
          "Egypt",
          "Ethiopia",
          "France",
          "Germany",
          "Ghana",
          "Hong Kong (S.A.R.)",
          "I do not wish to disclose my location",
          "India",
          "Indonesia",
          "Iran, Islamic Republic of...",
          "Ireland",
          "Israel",
          "Italy",
          "Japan",
          "Kenya",
          "Malaysia",
          "Mexico",
          "Morocco",
          "Nepal",
          "Netherlands",
          "Nigeria",
          "Other",
          "Pakistan",
          "Peru",
          "Philippines",
          "Poland",
          "Portugal",
          "Romania",
          "Russia",
          "Saudi Arabia",
          "Singapore",
          "South Africa",
          "South Korea",
          "Spain",
          "Sri Lanka",
          "Taiwan",
          "Thailand",
          "Tunisia",
          "Turkey",
          "Ukraine",
          "United Arab Emirates",
          "United Kingdom of Great Britain and Northern Ireland",
          "United States of America",
          "Viet Nam",
          "Zimbabwe"
         ],
         "marker": {
          "autocolorscale": true,
          "color": "#EF553B",
          "line": {
           "color": "black",
           "width": 0.5
          },
          "opacity": 0.7,
          "size": [
           12.5,
           39.189,
           3.448,
           16.279,
           36.364,
           41.781,
           40,
           14.53,
           59.259,
           33.333,
           33.708,
           46.154,
           25,
           16.484,
           9.091,
           28.467,
           5.357,
           12,
           26.923,
           8.333,
           34.192,
           23.585,
           10.345,
           30,
           9.756,
           68.539,
           27.928,
           44.186,
           50,
           46.043,
           30.952,
           7.692,
           12.5,
           11.321,
           32.877,
           12.214,
           42.5,
           33.333,
           48.649,
           64.286,
           59.091,
           41.304,
           21.622,
           21.622,
           24.324,
           22.901,
           46.429,
           16.667,
           50,
           54.902,
           25,
           41.228,
           36.364,
           17.647,
           20.144,
           8.577,
           36.364,
           30.769
          ],
          "sizemode": "area",
          "sizeref": 0.1,
          "symbol": "circle"
         },
         "mode": "markers",
         "name": "$10,000-50,000",
         "showlegend": true,
         "type": "scattergeo"
        },
        {
         "geo": "geo",
         "hovertemplate": "%{marker.size} (%) of participants in %{location} have the income %{fullData.name}",
         "legendgroup": "$50,000-100,000",
         "locationmode": "country names",
         "locations": [
          "Argentina",
          "Australia",
          "Bangladesh",
          "Belgium",
          "Brazil",
          "Cameroon",
          "Canada",
          "Chile",
          "China",
          "Colombia",
          "Czech Republic",
          "Ecuador",
          "Egypt",
          "France",
          "Germany",
          "Hong Kong (S.A.R.)",
          "I do not wish to disclose my location",
          "India",
          "Indonesia",
          "Ireland",
          "Israel",
          "Italy",
          "Japan",
          "Kenya",
          "Malaysia",
          "Mexico",
          "Morocco",
          "Nepal",
          "Netherlands",
          "Nigeria",
          "Other",
          "Pakistan",
          "Peru",
          "Philippines",
          "Poland",
          "Portugal",
          "Romania",
          "Russia",
          "Saudi Arabia",
          "Singapore",
          "South Africa",
          "South Korea",
          "Spain",
          "Sri Lanka",
          "Taiwan",
          "Thailand",
          "Tunisia",
          "Turkey",
          "Ukraine",
          "United Arab Emirates",
          "United Kingdom of Great Britain and Northern Ireland",
          "United States of America",
          "Viet Nam"
         ],
         "marker": {
          "autocolorscale": true,
          "color": "#00cc96",
          "line": {
           "color": "black",
           "width": 0.5
          },
          "opacity": 0.7,
          "size": [
           5.405,
           29.31,
           6.977,
           42.424,
           17.123,
           6.667,
           43.59,
           11.111,
           18.519,
           21.348,
           38.462,
           8.333,
           1.099,
           45.985,
           58.929,
           38.462,
           8.333,
           5.112,
           1.887,
           36.667,
           19.512,
           23.596,
           33.934,
           4.651,
           7.143,
           10.072,
           4.762,
           15.385,
           51.389,
           3.774,
           19.961,
           3.817,
           5,
           4.167,
           28.378,
           23.81,
           22.727,
           11.957,
           21.622,
           29.73,
           21.622,
           35.878,
           33.571,
           4.167,
           20,
           15.686,
           5,
           12.281,
           13.636,
           19.608,
           46.043,
           24.128,
           1.818
          ],
          "sizemode": "area",
          "sizeref": 0.1,
          "symbol": "circle"
         },
         "mode": "markers",
         "name": "$50,000-100,000",
         "showlegend": true,
         "type": "scattergeo"
        },
        {
         "geo": "geo",
         "hovertemplate": "%{marker.size} (%) of participants in %{location} have the income %{fullData.name}",
         "legendgroup": "$100,000-300,000",
         "locationmode": "country names",
         "locations": [
          "Argentina",
          "Australia",
          "Belgium",
          "Brazil",
          "Canada",
          "Chile",
          "China",
          "Colombia",
          "Czech Republic",
          "Ecuador",
          "Egypt",
          "France",
          "Germany",
          "Hong Kong (S.A.R.)",
          "I do not wish to disclose my location",
          "India",
          "Indonesia",
          "Iran, Islamic Republic of...",
          "Ireland",
          "Israel",
          "Italy",
          "Japan",
          "Mexico",
          "Morocco",
          "Nepal",
          "Netherlands",
          "Nigeria",
          "Other",
          "Pakistan",
          "Poland",
          "Portugal",
          "Romania",
          "Russia",
          "Saudi Arabia",
          "Singapore",
          "South Africa",
          "South Korea",
          "Spain",
          "Taiwan",
          "Thailand",
          "Tunisia",
          "Turkey",
          "Ukraine",
          "United Arab Emirates",
          "United Kingdom of Great Britain and Northern Ireland",
          "United States of America"
         ],
         "marker": {
          "autocolorscale": true,
          "color": "#ab63fa",
          "line": {
           "color": "black",
           "width": 0.5
          },
          "opacity": 0.7,
          "size": [
           2.703,
           60.345,
           15.152,
           3.425,
           29.915,
           1.852,
           10.185,
           2.247,
           7.692,
           8.333,
           3.297,
           14.599,
           26.786,
           11.538,
           16.667,
           2.62,
           2.83,
           3.448,
           26.667,
           65.854,
           3.371,
           6.907,
           5.036,
           7.143,
           7.692,
           22.222,
           0.629,
           6.654,
           1.527,
           5.405,
           4.762,
           4.545,
           1.087,
           18.919,
           29.73,
           10.811,
           10.687,
           9.286,
           1.818,
           1.961,
           5,
           1.754,
           4.545,
           25.49,
           26.619,
           55.579
          ],
          "sizemode": "area",
          "sizeref": 0.1,
          "symbol": "circle"
         },
         "mode": "markers",
         "name": "$100,000-300,000",
         "showlegend": true,
         "type": "scattergeo"
        },
        {
         "geo": "geo",
         "hovertemplate": "%{marker.size} (%) of participants in %{location} have the income %{fullData.name}",
         "legendgroup": "$300,000-500,000",
         "locationmode": "country names",
         "locations": [
          "Australia",
          "Brazil",
          "Canada",
          "Czech Republic",
          "Ghana",
          "India",
          "Ireland",
          "Israel",
          "Morocco",
          "Other",
          "Taiwan",
          "Turkey",
          "United Kingdom of Great Britain and Northern Ireland",
          "United States of America"
         ],
         "marker": {
          "autocolorscale": true,
          "color": "#FFA15A",
          "line": {
           "color": "black",
           "width": 0.5
          },
          "opacity": 0.7,
          "size": [
           1.724,
           0.342,
           1.709,
           3.846,
           4,
           0.473,
           3.333,
           2.439,
           2.381,
           0.391,
           0.909,
           0.877,
           0.719,
           3.556
          ],
          "sizemode": "area",
          "sizeref": 0.1,
          "symbol": "circle"
         },
         "mode": "markers",
         "name": "$300,000-500,000",
         "showlegend": true,
         "type": "scattergeo"
        },
        {
         "geo": "geo",
         "hovertemplate": "%{marker.size} (%) of participants in %{location} have the income %{fullData.name}",
         "legendgroup": ">$500,000",
         "locationmode": "country names",
         "locations": [
          "Australia",
          "Brazil",
          "Egypt",
          "France",
          "India",
          "Japan",
          "Other",
          "Sri Lanka",
          "United Arab Emirates",
          "United Kingdom of Great Britain and Northern Ireland",
          "United States of America",
          "Zimbabwe"
         ],
         "marker": {
          "autocolorscale": true,
          "color": "#19d3f3",
          "line": {
           "color": "black",
           "width": 0.5
          },
          "opacity": 0.7,
          "size": [
           1.724,
           0.342,
           1.099,
           2.19,
           0.644,
           0.601,
           0.587,
           4.167,
           1.961,
           2.158,
           2.65,
           15.385
          ],
          "sizemode": "area",
          "sizeref": 0.1,
          "symbol": "circle"
         },
         "mode": "markers",
         "name": ">$500,000",
         "showlegend": true,
         "type": "scattergeo"
        }
       ],
       "layout": {
        "geo": {
         "center": {},
         "countrycolor": "black",
         "domain": {
          "x": [
           0,
           1
          ],
          "y": [
           0,
           1
          ]
         },
         "landcolor": "#A9B388",
         "oceancolor": "#E3F4F4",
         "showcountries": true,
         "showland": true,
         "showocean": true
        },
        "height": 600,
        "legend": {
         "itemsizing": "constant",
         "orientation": "h",
         "title": {
          "text": "<b>Income Range</b>"
         },
         "tracegroupgap": 0,
         "x": 1,
         "xanchor": "right",
         "y": 0.97,
         "yanchor": "bottom"
        },
        "margin": {
         "b": 0,
         "l": 20,
         "r": 20,
         "t": 70
        },
        "paper_bgcolor": "#ffe6cc",
        "template": {
         "data": {
          "bar": [
           {
            "error_x": {
             "color": "#2a3f5f"
            },
            "error_y": {
             "color": "#2a3f5f"
            },
            "marker": {
             "line": {
              "color": "#E5ECF6",
              "width": 0.5
             },
             "pattern": {
              "fillmode": "overlay",
              "size": 10,
              "solidity": 0.2
             }
            },
            "type": "bar"
           }
          ],
          "barpolar": [
           {
            "marker": {
             "line": {
              "color": "#E5ECF6",
              "width": 0.5
             },
             "pattern": {
              "fillmode": "overlay",
              "size": 10,
              "solidity": 0.2
             }
            },
            "type": "barpolar"
           }
          ],
          "carpet": [
           {
            "aaxis": {
             "endlinecolor": "#2a3f5f",
             "gridcolor": "white",
             "linecolor": "white",
             "minorgridcolor": "white",
             "startlinecolor": "#2a3f5f"
            },
            "baxis": {
             "endlinecolor": "#2a3f5f",
             "gridcolor": "white",
             "linecolor": "white",
             "minorgridcolor": "white",
             "startlinecolor": "#2a3f5f"
            },
            "type": "carpet"
           }
          ],
          "choropleth": [
           {
            "colorbar": {
             "outlinewidth": 0,
             "ticks": ""
            },
            "type": "choropleth"
           }
          ],
          "contour": [
           {
            "colorbar": {
             "outlinewidth": 0,
             "ticks": ""
            },
            "colorscale": [
             [
              0,
              "#0d0887"
             ],
             [
              0.1111111111111111,
              "#46039f"
             ],
             [
              0.2222222222222222,
              "#7201a8"
             ],
             [
              0.3333333333333333,
              "#9c179e"
             ],
             [
              0.4444444444444444,
              "#bd3786"
             ],
             [
              0.5555555555555556,
              "#d8576b"
             ],
             [
              0.6666666666666666,
              "#ed7953"
             ],
             [
              0.7777777777777778,
              "#fb9f3a"
             ],
             [
              0.8888888888888888,
              "#fdca26"
             ],
             [
              1,
              "#f0f921"
             ]
            ],
            "type": "contour"
           }
          ],
          "contourcarpet": [
           {
            "colorbar": {
             "outlinewidth": 0,
             "ticks": ""
            },
            "type": "contourcarpet"
           }
          ],
          "heatmap": [
           {
            "colorbar": {
             "outlinewidth": 0,
             "ticks": ""
            },
            "colorscale": [
             [
              0,
              "#0d0887"
             ],
             [
              0.1111111111111111,
              "#46039f"
             ],
             [
              0.2222222222222222,
              "#7201a8"
             ],
             [
              0.3333333333333333,
              "#9c179e"
             ],
             [
              0.4444444444444444,
              "#bd3786"
             ],
             [
              0.5555555555555556,
              "#d8576b"
             ],
             [
              0.6666666666666666,
              "#ed7953"
             ],
             [
              0.7777777777777778,
              "#fb9f3a"
             ],
             [
              0.8888888888888888,
              "#fdca26"
             ],
             [
              1,
              "#f0f921"
             ]
            ],
            "type": "heatmap"
           }
          ],
          "heatmapgl": [
           {
            "colorbar": {
             "outlinewidth": 0,
             "ticks": ""
            },
            "colorscale": [
             [
              0,
              "#0d0887"
             ],
             [
              0.1111111111111111,
              "#46039f"
             ],
             [
              0.2222222222222222,
              "#7201a8"
             ],
             [
              0.3333333333333333,
              "#9c179e"
             ],
             [
              0.4444444444444444,
              "#bd3786"
             ],
             [
              0.5555555555555556,
              "#d8576b"
             ],
             [
              0.6666666666666666,
              "#ed7953"
             ],
             [
              0.7777777777777778,
              "#fb9f3a"
             ],
             [
              0.8888888888888888,
              "#fdca26"
             ],
             [
              1,
              "#f0f921"
             ]
            ],
            "type": "heatmapgl"
           }
          ],
          "histogram": [
           {
            "marker": {
             "pattern": {
              "fillmode": "overlay",
              "size": 10,
              "solidity": 0.2
             }
            },
            "type": "histogram"
           }
          ],
          "histogram2d": [
           {
            "colorbar": {
             "outlinewidth": 0,
             "ticks": ""
            },
            "colorscale": [
             [
              0,
              "#0d0887"
             ],
             [
              0.1111111111111111,
              "#46039f"
             ],
             [
              0.2222222222222222,
              "#7201a8"
             ],
             [
              0.3333333333333333,
              "#9c179e"
             ],
             [
              0.4444444444444444,
              "#bd3786"
             ],
             [
              0.5555555555555556,
              "#d8576b"
             ],
             [
              0.6666666666666666,
              "#ed7953"
             ],
             [
              0.7777777777777778,
              "#fb9f3a"
             ],
             [
              0.8888888888888888,
              "#fdca26"
             ],
             [
              1,
              "#f0f921"
             ]
            ],
            "type": "histogram2d"
           }
          ],
          "histogram2dcontour": [
           {
            "colorbar": {
             "outlinewidth": 0,
             "ticks": ""
            },
            "colorscale": [
             [
              0,
              "#0d0887"
             ],
             [
              0.1111111111111111,
              "#46039f"
             ],
             [
              0.2222222222222222,
              "#7201a8"
             ],
             [
              0.3333333333333333,
              "#9c179e"
             ],
             [
              0.4444444444444444,
              "#bd3786"
             ],
             [
              0.5555555555555556,
              "#d8576b"
             ],
             [
              0.6666666666666666,
              "#ed7953"
             ],
             [
              0.7777777777777778,
              "#fb9f3a"
             ],
             [
              0.8888888888888888,
              "#fdca26"
             ],
             [
              1,
              "#f0f921"
             ]
            ],
            "type": "histogram2dcontour"
           }
          ],
          "mesh3d": [
           {
            "colorbar": {
             "outlinewidth": 0,
             "ticks": ""
            },
            "type": "mesh3d"
           }
          ],
          "parcoords": [
           {
            "line": {
             "colorbar": {
              "outlinewidth": 0,
              "ticks": ""
             }
            },
            "type": "parcoords"
           }
          ],
          "pie": [
           {
            "automargin": true,
            "type": "pie"
           }
          ],
          "scatter": [
           {
            "fillpattern": {
             "fillmode": "overlay",
             "size": 10,
             "solidity": 0.2
            },
            "type": "scatter"
           }
          ],
          "scatter3d": [
           {
            "line": {
             "colorbar": {
              "outlinewidth": 0,
              "ticks": ""
             }
            },
            "marker": {
             "colorbar": {
              "outlinewidth": 0,
              "ticks": ""
             }
            },
            "type": "scatter3d"
           }
          ],
          "scattercarpet": [
           {
            "marker": {
             "colorbar": {
              "outlinewidth": 0,
              "ticks": ""
             }
            },
            "type": "scattercarpet"
           }
          ],
          "scattergeo": [
           {
            "marker": {
             "colorbar": {
              "outlinewidth": 0,
              "ticks": ""
             }
            },
            "type": "scattergeo"
           }
          ],
          "scattergl": [
           {
            "marker": {
             "colorbar": {
              "outlinewidth": 0,
              "ticks": ""
             }
            },
            "type": "scattergl"
           }
          ],
          "scattermapbox": [
           {
            "marker": {
             "colorbar": {
              "outlinewidth": 0,
              "ticks": ""
             }
            },
            "type": "scattermapbox"
           }
          ],
          "scatterpolar": [
           {
            "marker": {
             "colorbar": {
              "outlinewidth": 0,
              "ticks": ""
             }
            },
            "type": "scatterpolar"
           }
          ],
          "scatterpolargl": [
           {
            "marker": {
             "colorbar": {
              "outlinewidth": 0,
              "ticks": ""
             }
            },
            "type": "scatterpolargl"
           }
          ],
          "scatterternary": [
           {
            "marker": {
             "colorbar": {
              "outlinewidth": 0,
              "ticks": ""
             }
            },
            "type": "scatterternary"
           }
          ],
          "surface": [
           {
            "colorbar": {
             "outlinewidth": 0,
             "ticks": ""
            },
            "colorscale": [
             [
              0,
              "#0d0887"
             ],
             [
              0.1111111111111111,
              "#46039f"
             ],
             [
              0.2222222222222222,
              "#7201a8"
             ],
             [
              0.3333333333333333,
              "#9c179e"
             ],
             [
              0.4444444444444444,
              "#bd3786"
             ],
             [
              0.5555555555555556,
              "#d8576b"
             ],
             [
              0.6666666666666666,
              "#ed7953"
             ],
             [
              0.7777777777777778,
              "#fb9f3a"
             ],
             [
              0.8888888888888888,
              "#fdca26"
             ],
             [
              1,
              "#f0f921"
             ]
            ],
            "type": "surface"
           }
          ],
          "table": [
           {
            "cells": {
             "fill": {
              "color": "#EBF0F8"
             },
             "line": {
              "color": "white"
             }
            },
            "header": {
             "fill": {
              "color": "#C8D4E3"
             },
             "line": {
              "color": "white"
             }
            },
            "type": "table"
           }
          ]
         },
         "layout": {
          "annotationdefaults": {
           "arrowcolor": "#2a3f5f",
           "arrowhead": 0,
           "arrowwidth": 1
          },
          "autotypenumbers": "strict",
          "coloraxis": {
           "colorbar": {
            "outlinewidth": 0,
            "ticks": ""
           }
          },
          "colorscale": {
           "diverging": [
            [
             0,
             "#8e0152"
            ],
            [
             0.1,
             "#c51b7d"
            ],
            [
             0.2,
             "#de77ae"
            ],
            [
             0.3,
             "#f1b6da"
            ],
            [
             0.4,
             "#fde0ef"
            ],
            [
             0.5,
             "#f7f7f7"
            ],
            [
             0.6,
             "#e6f5d0"
            ],
            [
             0.7,
             "#b8e186"
            ],
            [
             0.8,
             "#7fbc41"
            ],
            [
             0.9,
             "#4d9221"
            ],
            [
             1,
             "#276419"
            ]
           ],
           "sequential": [
            [
             0,
             "#0d0887"
            ],
            [
             0.1111111111111111,
             "#46039f"
            ],
            [
             0.2222222222222222,
             "#7201a8"
            ],
            [
             0.3333333333333333,
             "#9c179e"
            ],
            [
             0.4444444444444444,
             "#bd3786"
            ],
            [
             0.5555555555555556,
             "#d8576b"
            ],
            [
             0.6666666666666666,
             "#ed7953"
            ],
            [
             0.7777777777777778,
             "#fb9f3a"
            ],
            [
             0.8888888888888888,
             "#fdca26"
            ],
            [
             1,
             "#f0f921"
            ]
           ],
           "sequentialminus": [
            [
             0,
             "#0d0887"
            ],
            [
             0.1111111111111111,
             "#46039f"
            ],
            [
             0.2222222222222222,
             "#7201a8"
            ],
            [
             0.3333333333333333,
             "#9c179e"
            ],
            [
             0.4444444444444444,
             "#bd3786"
            ],
            [
             0.5555555555555556,
             "#d8576b"
            ],
            [
             0.6666666666666666,
             "#ed7953"
            ],
            [
             0.7777777777777778,
             "#fb9f3a"
            ],
            [
             0.8888888888888888,
             "#fdca26"
            ],
            [
             1,
             "#f0f921"
            ]
           ]
          },
          "colorway": [
           "#636efa",
           "#EF553B",
           "#00cc96",
           "#ab63fa",
           "#FFA15A",
           "#19d3f3",
           "#FF6692",
           "#B6E880",
           "#FF97FF",
           "#FECB52"
          ],
          "font": {
           "color": "#2a3f5f"
          },
          "geo": {
           "bgcolor": "white",
           "lakecolor": "white",
           "landcolor": "#E5ECF6",
           "showlakes": true,
           "showland": true,
           "subunitcolor": "white"
          },
          "hoverlabel": {
           "align": "left"
          },
          "hovermode": "closest",
          "mapbox": {
           "style": "light"
          },
          "paper_bgcolor": "white",
          "plot_bgcolor": "#E5ECF6",
          "polar": {
           "angularaxis": {
            "gridcolor": "white",
            "linecolor": "white",
            "ticks": ""
           },
           "bgcolor": "#E5ECF6",
           "radialaxis": {
            "gridcolor": "white",
            "linecolor": "white",
            "ticks": ""
           }
          },
          "scene": {
           "xaxis": {
            "backgroundcolor": "#E5ECF6",
            "gridcolor": "white",
            "gridwidth": 2,
            "linecolor": "white",
            "showbackground": true,
            "ticks": "",
            "zerolinecolor": "white"
           },
           "yaxis": {
            "backgroundcolor": "#E5ECF6",
            "gridcolor": "white",
            "gridwidth": 2,
            "linecolor": "white",
            "showbackground": true,
            "ticks": "",
            "zerolinecolor": "white"
           },
           "zaxis": {
            "backgroundcolor": "#E5ECF6",
            "gridcolor": "white",
            "gridwidth": 2,
            "linecolor": "white",
            "showbackground": true,
            "ticks": "",
            "zerolinecolor": "white"
           }
          },
          "shapedefaults": {
           "line": {
            "color": "#2a3f5f"
           }
          },
          "ternary": {
           "aaxis": {
            "gridcolor": "white",
            "linecolor": "white",
            "ticks": ""
           },
           "baxis": {
            "gridcolor": "white",
            "linecolor": "white",
            "ticks": ""
           },
           "bgcolor": "#E5ECF6",
           "caxis": {
            "gridcolor": "white",
            "linecolor": "white",
            "ticks": ""
           }
          },
          "title": {
           "x": 0.05
          },
          "xaxis": {
           "automargin": true,
           "gridcolor": "white",
           "linecolor": "white",
           "ticks": "",
           "title": {
            "standoff": 15
           },
           "zerolinecolor": "white",
           "zerolinewidth": 2
          },
          "yaxis": {
           "automargin": true,
           "gridcolor": "white",
           "linecolor": "white",
           "ticks": "",
           "title": {
            "standoff": 15
           },
           "zerolinecolor": "white",
           "zerolinewidth": 2
          }
         }
        },
        "title": {
         "font": {
          "size": 25
         },
         "text": "<b>Percentage Distribution of Income Ranges by Country<b>"
        },
        "width": 1000
       }
      }
     },
     "metadata": {},
     "output_type": "display_data"
    }
   ],
   "source": [
    "# Draw a scatter_geo plot\n",
    "fig = px.scatter_geo(\n",
    "                    income_by_countries_df, \n",
    "                    locations='Residential country', \n",
    "                    locationmode='country names',\n",
    "                    color='Current income',\n",
    "                    size='Percentage',\n",
    "                    labels={ 'Current income': '<b>Income Range</b>'},\n",
    "                    category_orders={'Current income': [ '<$10,000', '$10,000-50,000', '$50,000-100,000', '$100,000-300,000',  '$300,000-500,000', '>$500,000']},\n",
    "                    opacity = 0.7\n",
    "                    )\n",
    "\n",
    "fig.update_geos(showcountries=True, countrycolor=\"black\", showland=True, showocean=True, oceancolor=\"#E3F4F4\", landcolor = '#A9B388' )\n",
    "\n",
    "fig.update_layout(\n",
    "                title='<b>Percentage Distribution of Income Ranges by Country<b>',\n",
    "                title_font_size = 25,\n",
    "                width = 1000,\n",
    "                height = 600,\n",
    "                margin=dict(l=20, r=20, t=70, b=0),\n",
    "                paper_bgcolor='#ffe6cc',\n",
    "                legend=dict(orientation=\"h\", yanchor=\"bottom\", y=0.97, xanchor=\"right\", x=1 )\n",
    "                )\n",
    "\n",
    "fig.update_traces(marker=dict(sizemode='area', sizeref= 0.1),\n",
    "                  marker_autocolorscale=True, selector=dict(type='scattergeo'),\n",
    "                  marker_line_color='black',\n",
    "                  marker_line_width=0.5,\n",
    "                  hovertemplate='%{marker.size} (%) of participants in %{location} have the income %{fullData.name}'\n",
    "                  )\n",
    "\n",
    "config = {'scrollZoom': True}\n",
    "fig.show(config = config)\n"
   ]
  },
  {
   "cell_type": "markdown",
   "metadata": {},
   "source": [
    "\n",
    "- The countries that have the high percentage of income in range `<$10,000` mostly located in `Asia`, `Africa`, `South Americas` (from about 40% up to over 80% in `Iran` or 90% in `Ethiopia`). Especially, in `Middle East`and `Africa`, this income range is the most popular for participants in these region. `Austrilia`, `North America` almost `Europe` got just a little percentage of income in this range.\n",
    "\n",
    "- Unlike range `<$10,000`, we can see that the range `$10,000-50,000` has different distribution in most of countries. Which lower percentage in `Africa` and `Middle East`(of course). There also a big increase percentage for countries in `Europe` while other countries still remain the same percentage of previous range. The thick density of this range in `Europe` show that this is the porpular range of income in this continent. With other countries in `Asia`, this also an porpular income range, we can see the high percentage in `Japan`, `Korea`, `Chinese` and countries in `South East Asia`.\n",
    "\n",
    "- For the range `%50,000-100,000` there are some nortable changes  for all countries:\n",
    "\n",
    "    - With `Africa`, most of countries have no one that has income in this range. It show that this income is a high-level income for most of countries in `Africa`. Only `South Africa` have about 21,6% participant that can reach this income range.\n",
    "\n",
    "    - In `Europe`, most countries have high percentage of income that are in this range, go along with range `$10,000-50,000`.\n",
    "\n",
    "    - Some countries in `Asia` also have hight percentage of this range is: `China`, `Japan`, `South Korea`, `Taiwan`. They are all countries that have high development in `Asia`.\n",
    "\n",
    "    - Another notable countries is `Canada`, `The USA` and `Australia`, have very low percentage in two older ranges, but with this range, The percentage is much more higher.\n",
    "\n",
    "- With range is `$100,000-300,000`, for most of countries, the percentage is slightly decrease, except for `The USA`, `Australia`, `United Arab Emirates`. Specially, with `Israel`, while up to 65.9% of participants in this country have income in this range.\n",
    "\n",
    "- With two other ranges, these are very high range of income, so most of countries have very little percentage in this range. A notable countrt here is `Zimbabwe`, with 15% of paricipants have this income.\n",
    "\n",
    "In conclusion, which the residential country, we can see that there is a strong relationship between them with the current income of people in countries. The region that we will have more potential to get higher income is `Europe`, `North America`, `Australia` and some developed countries in `Asia` such as `Japan`,`South Korea`, `China`"
   ]
  },
  {
   "cell_type": "markdown",
   "metadata": {},
   "source": [
    "### **1.2 Income distribution in each age range:**"
   ]
  },
  {
   "cell_type": "markdown",
   "metadata": {},
   "source": [
    "The age range is also a factor that we can consider.  Are younger people might have the salary that less than others that have works for a long time or not? This section aims to find some trends about the income distribution across each age range."
   ]
  },
  {
   "cell_type": "code",
   "execution_count": 9,
   "metadata": {},
   "outputs": [],
   "source": [
    "# The fucntion to draw a stacked bar plot, we will use it for all other part in this question.\n",
    "def stacked_bar_plot(df, x_col, y_col,color_col, text_col, color_range, col_ordered, order):\n",
    "    \n",
    "    # Create a bar plot\n",
    "    fig = px.bar(df, \n",
    "                x = x_col, \n",
    "                y = y_col,\n",
    "                color = color_col,\n",
    "                text = text_col,\n",
    "                labels = { x_col: f\"<b>{x_col}</b>\", y_col: f\"<b>{y_col}</b>\", color_col: f\"<b>{color_col}</b>\"},\n",
    "                category_orders = {'Current income':  ['<$10,000', '$10,000-50,000', '$50,000-100,000', '$100,000-300,000','$300,000-500,000', '>$500,000'],\n",
    "                                   col_ordered: order},\n",
    "                color_discrete_sequence = color_range,\n",
    "                barmode = 'stack'\n",
    "                )\n",
    "\n",
    "    # Define the layout\n",
    "    fig.update_layout(\n",
    "        title_font_size = 25,\n",
    "        width = 1100,\n",
    "        height = 600,\n",
    "        paper_bgcolor = '#ffe6cc',\n",
    "        xaxis = dict(tickfont=dict(size=14)),\n",
    "        yaxis = dict(tickfont=dict(size=14), ticksuffix = \" \"),\n",
    "        margin=dict(l=20, r=30, t=70, b=20),\n",
    "    )\n",
    "\n",
    "    return fig\n"
   ]
  },
  {
   "cell_type": "code",
   "execution_count": 10,
   "metadata": {},
   "outputs": [],
   "source": [
    "# Get the frequency of each income range for each range of age\n",
    "age_income_df = processed_income_df.groupby('Age')['Current income'].value_counts().reset_index(name = 'Count')\n",
    "\n",
    "# Find the percentage of each income range\n",
    "age_income_df.loc[:,'Percentage'] = ((age_income_df['Count'] / age_income_df.groupby('Age')['Count'].transform('sum'))*100)\n",
    "age_income_df['Percentage'] = age_income_df['Percentage'].round(2)\n",
    "age_income_df = age_income_df.sort_values(by = ['Age', 'Percentage'], ascending = [True, False])"
   ]
  },
  {
   "cell_type": "code",
   "execution_count": 11,
   "metadata": {},
   "outputs": [
    {
     "data": {
      "application/vnd.plotly.v1+json": {
       "config": {
        "plotlyServerURL": "https://plot.ly"
       },
       "data": [
        {
         "alignmentgroup": "True",
         "hovertemplate": "<b>%{text} (%)</b> of participants that in age range <b>%{x}</b> have the income <b>%{fullData.name}</b>",
         "legendgroup": "<$10,000",
         "marker": {
          "color": "#beca5c",
          "line": {
           "color": "black",
           "width": 1
          },
          "pattern": {
           "shape": ""
          }
         },
         "name": "<$10,000",
         "offsetgroup": "<$10,000",
         "orientation": "v",
         "showlegend": true,
         "text": [
          66.27,
          67.97,
          51,
          38.39,
          31.15,
          28.93,
          27.39,
          17.64,
          16.71,
          24.93,
          28.12
         ],
         "textposition": "auto",
         "type": "bar",
         "x": [
          "18-21",
          "22-24",
          "25-29",
          "30-34",
          "35-39",
          "40-44",
          "45-49",
          "50-54",
          "55-59",
          "60-69",
          "70+"
         ],
         "xaxis": "x",
         "y": [
          66.27,
          67.97,
          51,
          38.39,
          31.15,
          28.93,
          27.39,
          17.64,
          16.71,
          24.93,
          28.12
         ],
         "yaxis": "y"
        },
        {
         "alignmentgroup": "True",
         "hovertemplate": "<b>%{text} (%)</b> of participants that in age range <b>%{x}</b> have the income <b>%{fullData.name}</b>",
         "legendgroup": "$10,000-50,000",
         "marker": {
          "color": "#57c550",
          "line": {
           "color": "black",
           "width": 1
          },
          "pattern": {
           "shape": ""
          }
         },
         "name": "$10,000-50,000",
         "offsetgroup": "$10,000-50,000",
         "orientation": "v",
         "showlegend": true,
         "text": [
          21.69,
          25.03,
          31.92,
          28.04,
          29.16,
          28.25,
          26.25,
          30.51,
          26.46,
          19.35,
          17.19
         ],
         "textposition": "auto",
         "type": "bar",
         "x": [
          "18-21",
          "22-24",
          "25-29",
          "30-34",
          "35-39",
          "40-44",
          "45-49",
          "50-54",
          "55-59",
          "60-69",
          "70+"
         ],
         "xaxis": "x",
         "y": [
          21.69,
          25.03,
          31.92,
          28.04,
          29.16,
          28.25,
          26.25,
          30.51,
          26.46,
          19.35,
          17.19
         ],
         "yaxis": "y"
        },
        {
         "alignmentgroup": "True",
         "hovertemplate": "<b>%{text} (%)</b> of participants that in age range <b>%{x}</b> have the income <b>%{fullData.name}</b>",
         "legendgroup": "$50,000-100,000",
         "marker": {
          "color": "#45bfa3",
          "line": {
           "color": "black",
           "width": 1
          },
          "pattern": {
           "shape": ""
          }
         },
         "name": "$50,000-100,000",
         "offsetgroup": "$50,000-100,000",
         "orientation": "v",
         "showlegend": true,
         "text": [
          6.02,
          4.85,
          9.98,
          17.83,
          18.72,
          21.89,
          22.82,
          23.28,
          28.41,
          22.29,
          20.31
         ],
         "textposition": "auto",
         "type": "bar",
         "x": [
          "18-21",
          "22-24",
          "25-29",
          "30-34",
          "35-39",
          "40-44",
          "45-49",
          "50-54",
          "55-59",
          "60-69",
          "70+"
         ],
         "xaxis": "x",
         "y": [
          6.02,
          4.85,
          9.98,
          17.83,
          18.72,
          21.89,
          22.82,
          23.28,
          28.41,
          22.29,
          20.31
         ],
         "yaxis": "y"
        },
        {
         "alignmentgroup": "True",
         "hovertemplate": "<b>%{text} (%)</b> of participants that in age range <b>%{x}</b> have the income <b>%{fullData.name}</b>",
         "legendgroup": "$100,000-300,000",
         "marker": {
          "color": "#3835b7",
          "line": {
           "color": "black",
           "width": 1
          },
          "pattern": {
           "shape": ""
          }
         },
         "name": "$100,000-300,000",
         "offsetgroup": "$100,000-300,000",
         "orientation": "v",
         "showlegend": true,
         "text": [
          2.41,
          1.75,
          6.23,
          14.41,
          19.06,
          18.51,
          20.97,
          24.87,
          25.63,
          31.09,
          29.69
         ],
         "textposition": "auto",
         "type": "bar",
         "x": [
          "18-21",
          "22-24",
          "25-29",
          "30-34",
          "35-39",
          "40-44",
          "45-49",
          "50-54",
          "55-59",
          "60-69",
          "70+"
         ],
         "xaxis": "x",
         "y": [
          2.41,
          1.75,
          6.23,
          14.41,
          19.06,
          18.51,
          20.97,
          24.87,
          25.63,
          31.09,
          29.69
         ],
         "yaxis": "y"
        },
        {
         "alignmentgroup": "True",
         "hovertemplate": "<b>%{text} (%)</b> of participants that in age range <b>%{x}</b> have the income <b>%{fullData.name}</b>",
         "legendgroup": "$300,000-500,000",
         "marker": {
          "color": "#9e2bb2",
          "line": {
           "color": "black",
           "width": 1
          },
          "pattern": {
           "shape": ""
          }
         },
         "name": "$300,000-500,000",
         "offsetgroup": "$300,000-500,000",
         "orientation": "v",
         "showlegend": true,
         "text": [
          2.41,
          0.13,
          0.37,
          0.49,
          1.16,
          1.16,
          1.57,
          2.12,
          0.84,
          1.76,
          3.12
         ],
         "textposition": "auto",
         "type": "bar",
         "x": [
          "18-21",
          "22-24",
          "25-29",
          "30-34",
          "35-39",
          "40-44",
          "45-49",
          "50-54",
          "55-59",
          "60-69",
          "70+"
         ],
         "xaxis": "x",
         "y": [
          2.41,
          0.13,
          0.37,
          0.49,
          1.16,
          1.16,
          1.57,
          2.12,
          0.84,
          1.76,
          3.12
         ],
         "yaxis": "y"
        },
        {
         "alignmentgroup": "True",
         "hovertemplate": "<b>%{text} (%)</b> of participants that in age range <b>%{x}</b> have the income <b>%{fullData.name}</b>",
         "legendgroup": ">$500,000",
         "marker": {
          "color": "#aa2b1d",
          "line": {
           "color": "black",
           "width": 1
          },
          "pattern": {
           "shape": ""
          }
         },
         "name": ">$500,000",
         "offsetgroup": ">$500,000",
         "orientation": "v",
         "showlegend": true,
         "text": [
          1.2,
          0.27,
          0.5,
          0.84,
          0.75,
          1.25,
          1,
          1.59,
          1.95,
          0.59,
          1.56
         ],
         "textposition": "auto",
         "type": "bar",
         "x": [
          "18-21",
          "22-24",
          "25-29",
          "30-34",
          "35-39",
          "40-44",
          "45-49",
          "50-54",
          "55-59",
          "60-69",
          "70+"
         ],
         "xaxis": "x",
         "y": [
          1.2,
          0.27,
          0.5,
          0.84,
          0.75,
          1.25,
          1,
          1.59,
          1.95,
          0.59,
          1.56
         ],
         "yaxis": "y"
        }
       ],
       "layout": {
        "barmode": "stack",
        "height": 600,
        "legend": {
         "title": {
          "text": "<b>Current income</b>"
         },
         "tracegroupgap": 0
        },
        "margin": {
         "b": 20,
         "l": 20,
         "r": 30,
         "t": 70
        },
        "paper_bgcolor": "#ffe6cc",
        "template": {
         "data": {
          "bar": [
           {
            "error_x": {
             "color": "#2a3f5f"
            },
            "error_y": {
             "color": "#2a3f5f"
            },
            "marker": {
             "line": {
              "color": "#E5ECF6",
              "width": 0.5
             },
             "pattern": {
              "fillmode": "overlay",
              "size": 10,
              "solidity": 0.2
             }
            },
            "type": "bar"
           }
          ],
          "barpolar": [
           {
            "marker": {
             "line": {
              "color": "#E5ECF6",
              "width": 0.5
             },
             "pattern": {
              "fillmode": "overlay",
              "size": 10,
              "solidity": 0.2
             }
            },
            "type": "barpolar"
           }
          ],
          "carpet": [
           {
            "aaxis": {
             "endlinecolor": "#2a3f5f",
             "gridcolor": "white",
             "linecolor": "white",
             "minorgridcolor": "white",
             "startlinecolor": "#2a3f5f"
            },
            "baxis": {
             "endlinecolor": "#2a3f5f",
             "gridcolor": "white",
             "linecolor": "white",
             "minorgridcolor": "white",
             "startlinecolor": "#2a3f5f"
            },
            "type": "carpet"
           }
          ],
          "choropleth": [
           {
            "colorbar": {
             "outlinewidth": 0,
             "ticks": ""
            },
            "type": "choropleth"
           }
          ],
          "contour": [
           {
            "colorbar": {
             "outlinewidth": 0,
             "ticks": ""
            },
            "colorscale": [
             [
              0,
              "#0d0887"
             ],
             [
              0.1111111111111111,
              "#46039f"
             ],
             [
              0.2222222222222222,
              "#7201a8"
             ],
             [
              0.3333333333333333,
              "#9c179e"
             ],
             [
              0.4444444444444444,
              "#bd3786"
             ],
             [
              0.5555555555555556,
              "#d8576b"
             ],
             [
              0.6666666666666666,
              "#ed7953"
             ],
             [
              0.7777777777777778,
              "#fb9f3a"
             ],
             [
              0.8888888888888888,
              "#fdca26"
             ],
             [
              1,
              "#f0f921"
             ]
            ],
            "type": "contour"
           }
          ],
          "contourcarpet": [
           {
            "colorbar": {
             "outlinewidth": 0,
             "ticks": ""
            },
            "type": "contourcarpet"
           }
          ],
          "heatmap": [
           {
            "colorbar": {
             "outlinewidth": 0,
             "ticks": ""
            },
            "colorscale": [
             [
              0,
              "#0d0887"
             ],
             [
              0.1111111111111111,
              "#46039f"
             ],
             [
              0.2222222222222222,
              "#7201a8"
             ],
             [
              0.3333333333333333,
              "#9c179e"
             ],
             [
              0.4444444444444444,
              "#bd3786"
             ],
             [
              0.5555555555555556,
              "#d8576b"
             ],
             [
              0.6666666666666666,
              "#ed7953"
             ],
             [
              0.7777777777777778,
              "#fb9f3a"
             ],
             [
              0.8888888888888888,
              "#fdca26"
             ],
             [
              1,
              "#f0f921"
             ]
            ],
            "type": "heatmap"
           }
          ],
          "heatmapgl": [
           {
            "colorbar": {
             "outlinewidth": 0,
             "ticks": ""
            },
            "colorscale": [
             [
              0,
              "#0d0887"
             ],
             [
              0.1111111111111111,
              "#46039f"
             ],
             [
              0.2222222222222222,
              "#7201a8"
             ],
             [
              0.3333333333333333,
              "#9c179e"
             ],
             [
              0.4444444444444444,
              "#bd3786"
             ],
             [
              0.5555555555555556,
              "#d8576b"
             ],
             [
              0.6666666666666666,
              "#ed7953"
             ],
             [
              0.7777777777777778,
              "#fb9f3a"
             ],
             [
              0.8888888888888888,
              "#fdca26"
             ],
             [
              1,
              "#f0f921"
             ]
            ],
            "type": "heatmapgl"
           }
          ],
          "histogram": [
           {
            "marker": {
             "pattern": {
              "fillmode": "overlay",
              "size": 10,
              "solidity": 0.2
             }
            },
            "type": "histogram"
           }
          ],
          "histogram2d": [
           {
            "colorbar": {
             "outlinewidth": 0,
             "ticks": ""
            },
            "colorscale": [
             [
              0,
              "#0d0887"
             ],
             [
              0.1111111111111111,
              "#46039f"
             ],
             [
              0.2222222222222222,
              "#7201a8"
             ],
             [
              0.3333333333333333,
              "#9c179e"
             ],
             [
              0.4444444444444444,
              "#bd3786"
             ],
             [
              0.5555555555555556,
              "#d8576b"
             ],
             [
              0.6666666666666666,
              "#ed7953"
             ],
             [
              0.7777777777777778,
              "#fb9f3a"
             ],
             [
              0.8888888888888888,
              "#fdca26"
             ],
             [
              1,
              "#f0f921"
             ]
            ],
            "type": "histogram2d"
           }
          ],
          "histogram2dcontour": [
           {
            "colorbar": {
             "outlinewidth": 0,
             "ticks": ""
            },
            "colorscale": [
             [
              0,
              "#0d0887"
             ],
             [
              0.1111111111111111,
              "#46039f"
             ],
             [
              0.2222222222222222,
              "#7201a8"
             ],
             [
              0.3333333333333333,
              "#9c179e"
             ],
             [
              0.4444444444444444,
              "#bd3786"
             ],
             [
              0.5555555555555556,
              "#d8576b"
             ],
             [
              0.6666666666666666,
              "#ed7953"
             ],
             [
              0.7777777777777778,
              "#fb9f3a"
             ],
             [
              0.8888888888888888,
              "#fdca26"
             ],
             [
              1,
              "#f0f921"
             ]
            ],
            "type": "histogram2dcontour"
           }
          ],
          "mesh3d": [
           {
            "colorbar": {
             "outlinewidth": 0,
             "ticks": ""
            },
            "type": "mesh3d"
           }
          ],
          "parcoords": [
           {
            "line": {
             "colorbar": {
              "outlinewidth": 0,
              "ticks": ""
             }
            },
            "type": "parcoords"
           }
          ],
          "pie": [
           {
            "automargin": true,
            "type": "pie"
           }
          ],
          "scatter": [
           {
            "fillpattern": {
             "fillmode": "overlay",
             "size": 10,
             "solidity": 0.2
            },
            "type": "scatter"
           }
          ],
          "scatter3d": [
           {
            "line": {
             "colorbar": {
              "outlinewidth": 0,
              "ticks": ""
             }
            },
            "marker": {
             "colorbar": {
              "outlinewidth": 0,
              "ticks": ""
             }
            },
            "type": "scatter3d"
           }
          ],
          "scattercarpet": [
           {
            "marker": {
             "colorbar": {
              "outlinewidth": 0,
              "ticks": ""
             }
            },
            "type": "scattercarpet"
           }
          ],
          "scattergeo": [
           {
            "marker": {
             "colorbar": {
              "outlinewidth": 0,
              "ticks": ""
             }
            },
            "type": "scattergeo"
           }
          ],
          "scattergl": [
           {
            "marker": {
             "colorbar": {
              "outlinewidth": 0,
              "ticks": ""
             }
            },
            "type": "scattergl"
           }
          ],
          "scattermapbox": [
           {
            "marker": {
             "colorbar": {
              "outlinewidth": 0,
              "ticks": ""
             }
            },
            "type": "scattermapbox"
           }
          ],
          "scatterpolar": [
           {
            "marker": {
             "colorbar": {
              "outlinewidth": 0,
              "ticks": ""
             }
            },
            "type": "scatterpolar"
           }
          ],
          "scatterpolargl": [
           {
            "marker": {
             "colorbar": {
              "outlinewidth": 0,
              "ticks": ""
             }
            },
            "type": "scatterpolargl"
           }
          ],
          "scatterternary": [
           {
            "marker": {
             "colorbar": {
              "outlinewidth": 0,
              "ticks": ""
             }
            },
            "type": "scatterternary"
           }
          ],
          "surface": [
           {
            "colorbar": {
             "outlinewidth": 0,
             "ticks": ""
            },
            "colorscale": [
             [
              0,
              "#0d0887"
             ],
             [
              0.1111111111111111,
              "#46039f"
             ],
             [
              0.2222222222222222,
              "#7201a8"
             ],
             [
              0.3333333333333333,
              "#9c179e"
             ],
             [
              0.4444444444444444,
              "#bd3786"
             ],
             [
              0.5555555555555556,
              "#d8576b"
             ],
             [
              0.6666666666666666,
              "#ed7953"
             ],
             [
              0.7777777777777778,
              "#fb9f3a"
             ],
             [
              0.8888888888888888,
              "#fdca26"
             ],
             [
              1,
              "#f0f921"
             ]
            ],
            "type": "surface"
           }
          ],
          "table": [
           {
            "cells": {
             "fill": {
              "color": "#EBF0F8"
             },
             "line": {
              "color": "white"
             }
            },
            "header": {
             "fill": {
              "color": "#C8D4E3"
             },
             "line": {
              "color": "white"
             }
            },
            "type": "table"
           }
          ]
         },
         "layout": {
          "annotationdefaults": {
           "arrowcolor": "#2a3f5f",
           "arrowhead": 0,
           "arrowwidth": 1
          },
          "autotypenumbers": "strict",
          "coloraxis": {
           "colorbar": {
            "outlinewidth": 0,
            "ticks": ""
           }
          },
          "colorscale": {
           "diverging": [
            [
             0,
             "#8e0152"
            ],
            [
             0.1,
             "#c51b7d"
            ],
            [
             0.2,
             "#de77ae"
            ],
            [
             0.3,
             "#f1b6da"
            ],
            [
             0.4,
             "#fde0ef"
            ],
            [
             0.5,
             "#f7f7f7"
            ],
            [
             0.6,
             "#e6f5d0"
            ],
            [
             0.7,
             "#b8e186"
            ],
            [
             0.8,
             "#7fbc41"
            ],
            [
             0.9,
             "#4d9221"
            ],
            [
             1,
             "#276419"
            ]
           ],
           "sequential": [
            [
             0,
             "#0d0887"
            ],
            [
             0.1111111111111111,
             "#46039f"
            ],
            [
             0.2222222222222222,
             "#7201a8"
            ],
            [
             0.3333333333333333,
             "#9c179e"
            ],
            [
             0.4444444444444444,
             "#bd3786"
            ],
            [
             0.5555555555555556,
             "#d8576b"
            ],
            [
             0.6666666666666666,
             "#ed7953"
            ],
            [
             0.7777777777777778,
             "#fb9f3a"
            ],
            [
             0.8888888888888888,
             "#fdca26"
            ],
            [
             1,
             "#f0f921"
            ]
           ],
           "sequentialminus": [
            [
             0,
             "#0d0887"
            ],
            [
             0.1111111111111111,
             "#46039f"
            ],
            [
             0.2222222222222222,
             "#7201a8"
            ],
            [
             0.3333333333333333,
             "#9c179e"
            ],
            [
             0.4444444444444444,
             "#bd3786"
            ],
            [
             0.5555555555555556,
             "#d8576b"
            ],
            [
             0.6666666666666666,
             "#ed7953"
            ],
            [
             0.7777777777777778,
             "#fb9f3a"
            ],
            [
             0.8888888888888888,
             "#fdca26"
            ],
            [
             1,
             "#f0f921"
            ]
           ]
          },
          "colorway": [
           "#636efa",
           "#EF553B",
           "#00cc96",
           "#ab63fa",
           "#FFA15A",
           "#19d3f3",
           "#FF6692",
           "#B6E880",
           "#FF97FF",
           "#FECB52"
          ],
          "font": {
           "color": "#2a3f5f"
          },
          "geo": {
           "bgcolor": "white",
           "lakecolor": "white",
           "landcolor": "#E5ECF6",
           "showlakes": true,
           "showland": true,
           "subunitcolor": "white"
          },
          "hoverlabel": {
           "align": "left"
          },
          "hovermode": "closest",
          "mapbox": {
           "style": "light"
          },
          "paper_bgcolor": "white",
          "plot_bgcolor": "#E5ECF6",
          "polar": {
           "angularaxis": {
            "gridcolor": "white",
            "linecolor": "white",
            "ticks": ""
           },
           "bgcolor": "#E5ECF6",
           "radialaxis": {
            "gridcolor": "white",
            "linecolor": "white",
            "ticks": ""
           }
          },
          "scene": {
           "xaxis": {
            "backgroundcolor": "#E5ECF6",
            "gridcolor": "white",
            "gridwidth": 2,
            "linecolor": "white",
            "showbackground": true,
            "ticks": "",
            "zerolinecolor": "white"
           },
           "yaxis": {
            "backgroundcolor": "#E5ECF6",
            "gridcolor": "white",
            "gridwidth": 2,
            "linecolor": "white",
            "showbackground": true,
            "ticks": "",
            "zerolinecolor": "white"
           },
           "zaxis": {
            "backgroundcolor": "#E5ECF6",
            "gridcolor": "white",
            "gridwidth": 2,
            "linecolor": "white",
            "showbackground": true,
            "ticks": "",
            "zerolinecolor": "white"
           }
          },
          "shapedefaults": {
           "line": {
            "color": "#2a3f5f"
           }
          },
          "ternary": {
           "aaxis": {
            "gridcolor": "white",
            "linecolor": "white",
            "ticks": ""
           },
           "baxis": {
            "gridcolor": "white",
            "linecolor": "white",
            "ticks": ""
           },
           "bgcolor": "#E5ECF6",
           "caxis": {
            "gridcolor": "white",
            "linecolor": "white",
            "ticks": ""
           }
          },
          "title": {
           "x": 0.05
          },
          "xaxis": {
           "automargin": true,
           "gridcolor": "white",
           "linecolor": "white",
           "ticks": "",
           "title": {
            "standoff": 15
           },
           "zerolinecolor": "white",
           "zerolinewidth": 2
          },
          "yaxis": {
           "automargin": true,
           "gridcolor": "white",
           "linecolor": "white",
           "ticks": "",
           "title": {
            "standoff": 15
           },
           "zerolinecolor": "white",
           "zerolinewidth": 2
          }
         }
        },
        "title": {
         "font": {
          "size": 25
         },
         "text": "<b>Participants' current income with the Age range</b>"
        },
        "width": 1100,
        "xaxis": {
         "anchor": "y",
         "domain": [
          0,
          1
         ],
         "tickfont": {
          "size": 14
         },
         "title": {
          "text": "<b>Age</b>"
         }
        },
        "yaxis": {
         "anchor": "x",
         "domain": [
          0,
          1
         ],
         "tickfont": {
          "size": 14
         },
         "ticksuffix": " ",
         "title": {
          "text": "<b>Percentage</b>"
         }
        }
       }
      }
     },
     "metadata": {},
     "output_type": "display_data"
    }
   ],
   "source": [
    "# Draw the plot\n",
    "fig = stacked_bar_plot(age_income_df, 'Age', 'Percentage', 'Current income' , 'Percentage', ['#beca5c', '#57c550', '#45bfa3','#3835b7','#9e2bb2' ,'#aa2b1d'], 0, 0)\n",
    "fig.update_layout(\n",
    "    title_text = '<b>Participants\\' current income with the Age range</b>',\n",
    ")\n",
    "fig.update_traces(marker_line_color='black', marker_line_width=1, hovertemplate='<b>%{text} (%)</b> of participants that in age range <b>%{x}</b> have the income <b>%{fullData.name}</b>')\n",
    "\n",
    "fig.show()"
   ]
  },
  {
   "cell_type": "markdown",
   "metadata": {},
   "source": [
    "Through the plot, we can easily see the trend is the overall income will getting higher over each age range from `22-24` and reach the max in range `55-59`, then the income will change a little in other next range. Now, let's take a closer look to it:\n",
    "- The notable range here is the first range `18-21`, while there is 66.27% of individuals have the income `<$10,000`, there also a high percentage of people who have the income in the highest income range like `$300,000-500,000` and `>$500,000`. This percentage even higher than other age range like `22-24` or `25-29`, but by the very small percentage of people in age `18-21` in the total. We just recorgnize people that reach these range of income at age `18-21` are someone who much oustanding with others. And can not be the characteristic for the this age range.\n",
    "- Also, we can see that people tend to get higher income in their middle range of age (about `35-59`), with the percentage of participants in low income range decrease over age ranges. There also an increasing of higher income range percentage through each age range.\n",
    "- For the income range between `$100,000 - $300,000` and `>$300,000`, the percentage increases across age ranges. This means that with the higher age range, the percentage of participant with higher income ranges will increase.\n"
   ]
  },
  {
   "cell_type": "markdown",
   "metadata": {},
   "source": [
    "### **1.3 Income distribution by curent role:**\n",
    "In this part, we will see how the roles of pariticipants affect to their income.         \n",
    "Firstly, in `Data exploration part 2`, we found that this is many roles that is not related to the data jobs, so before starting our analysis, we will eliminate them."
   ]
  },
  {
   "cell_type": "code",
   "execution_count": 12,
   "metadata": {},
   "outputs": [],
   "source": [
    "# Define necessary roles\n",
    "data_roles = ['Manager (Program, Project, Operations, Executive-level, etc)',\n",
    "            'Machine Learning/ MLops Engineer',\n",
    "            'Research Scientist', \n",
    "            'Data Scientist',\n",
    "            'Data Analyst (Business, Marketing, Financial, Quantitative, etc)',\n",
    "            'Statistician',\n",
    "            'Teacher / professor']\n",
    "\n",
    "processed_income_df_copy = processed_income_df.copy()\n",
    "\n",
    "role_income_df = processed_income_df_copy.groupby('Current role')['Current income'].value_counts().reset_index(name = 'Count')\n",
    "filtered_role_income_df = role_income_df[role_income_df['Current role'].isin(data_roles)].copy()\n",
    "\n",
    "# Shorten the name of roles for better visualization\n",
    "filtered_role_income_df.loc[:, 'Current role'] = filtered_role_income_df['Current role'].replace(r'^Data Analyst.*', 'Data Analyst', regex=True)\n",
    "filtered_role_income_df.loc[:, 'Current role'] = filtered_role_income_df['Current role'].replace(r'^Manager.*', 'Manager', regex=True)\n",
    "filtered_role_income_df.loc[:, 'Current role'] = filtered_role_income_df['Current role'].replace(r'^Machine Learning.*', 'ML Engineer', regex=True)"
   ]
  },
  {
   "cell_type": "markdown",
   "metadata": {},
   "source": [
    "Then, we will find the `Percentage` of the income for each role"
   ]
  },
  {
   "cell_type": "code",
   "execution_count": 13,
   "metadata": {},
   "outputs": [],
   "source": [
    "filtered_role_income_df['Percentage'] = (filtered_role_income_df['Count'] / filtered_role_income_df.groupby('Current role')['Count'].transform('sum')) * 100\n",
    "filtered_role_income_df.loc[:, 'Percentage'] = filtered_role_income_df['Percentage'].round(2)\n",
    "filtered_role_income_df = filtered_role_income_df.sort_values(by = ['Percentage'], ascending=[True])"
   ]
  },
  {
   "cell_type": "markdown",
   "metadata": {},
   "source": [
    "Finally, make a visualization for a clearly view of the distribution. In this case, I will use stacked bar chart to show the distribution of income range for each data role."
   ]
  },
  {
   "cell_type": "code",
   "execution_count": 14,
   "metadata": {},
   "outputs": [
    {
     "data": {
      "application/vnd.plotly.v1+json": {
       "config": {
        "plotlyServerURL": "https://plot.ly"
       },
       "data": [
        {
         "alignmentgroup": "True",
         "hovertemplate": "<b>%{text} (%)</b> of <b>%{y}</b> have the income <b>%{fullData.name}</b>",
         "legendgroup": "<$10,000",
         "marker": {
          "color": "#F2F7A1",
          "line": {
           "color": "black",
           "width": 1.2
          },
          "pattern": {
           "shape": ""
          }
         },
         "name": "<$10,000",
         "offsetgroup": "<$10,000",
         "orientation": "h",
         "showlegend": true,
         "text": [
          17.02,
          27.28,
          28.57,
          33.4,
          49.96,
          50.8,
          59.26
         ],
         "textposition": "auto",
         "type": "bar",
         "x": [
          17.02,
          27.28,
          28.57,
          33.4,
          49.96,
          50.8,
          59.26
         ],
         "xaxis": "x",
         "y": [
          "Manager",
          "Data Scientist",
          "Research Scientist",
          "ML Engineer",
          "Data Analyst",
          "Teacher / professor",
          "Statistician"
         ],
         "yaxis": "y"
        },
        {
         "alignmentgroup": "True",
         "hovertemplate": "<b>%{text} (%)</b> of <b>%{y}</b> have the income <b>%{fullData.name}</b>",
         "legendgroup": "$10,000-50,000",
         "marker": {
          "color": "#F05941",
          "line": {
           "color": "black",
           "width": 1.2
          },
          "pattern": {
           "shape": ""
          }
         },
         "name": "$10,000-50,000",
         "offsetgroup": "$10,000-50,000",
         "orientation": "h",
         "showlegend": true,
         "text": [
          16.67,
          25.2,
          27.49,
          27.75,
          29.39,
          30.29,
          30.63
         ],
         "textposition": "auto",
         "type": "bar",
         "x": [
          16.67,
          25.2,
          27.49,
          27.75,
          29.39,
          30.29,
          30.63
         ],
         "xaxis": "x",
         "y": [
          "Statistician",
          "Teacher / professor",
          "Data Analyst",
          "Manager",
          "Data Scientist",
          "Research Scientist",
          "ML Engineer"
         ],
         "yaxis": "y"
        },
        {
         "alignmentgroup": "True",
         "hovertemplate": "<b>%{text} (%)</b> of <b>%{y}</b> have the income <b>%{fullData.name}</b>",
         "legendgroup": "$50,000-100,000",
         "marker": {
          "color": "#BE3144",
          "line": {
           "color": "black",
           "width": 1.2
          },
          "pattern": {
           "shape": ""
          }
         },
         "name": "$50,000-100,000",
         "offsetgroup": "$50,000-100,000",
         "orientation": "h",
         "showlegend": true,
         "text": [
          13.89,
          15,
          16.09,
          17.98,
          18.56,
          20.78,
          21.14
         ],
         "textposition": "auto",
         "type": "bar",
         "x": [
          13.89,
          15,
          16.09,
          17.98,
          18.56,
          20.78,
          21.14
         ],
         "xaxis": "x",
         "y": [
          "Statistician",
          "Data Analyst",
          "Teacher / professor",
          "ML Engineer",
          "Data Scientist",
          "Manager",
          "Research Scientist"
         ],
         "yaxis": "y"
        },
        {
         "alignmentgroup": "True",
         "hovertemplate": "<b>%{text} (%)</b> of <b>%{y}</b> have the income <b>%{fullData.name}</b>",
         "legendgroup": "$100,000-300,000",
         "marker": {
          "color": "#973089",
          "line": {
           "color": "black",
           "width": 1.2
          },
          "pattern": {
           "shape": ""
          }
         },
         "name": "$100,000-300,000",
         "offsetgroup": "$100,000-300,000",
         "orientation": "h",
         "showlegend": true,
         "text": [
          6.8,
          7.51,
          9.26,
          15.22,
          16.57,
          23.07,
          30.03
         ],
         "textposition": "auto",
         "type": "bar",
         "x": [
          6.8,
          7.51,
          9.26,
          15.22,
          16.57,
          23.07,
          30.03
         ],
         "xaxis": "x",
         "y": [
          "Data Analyst",
          "Teacher / professor",
          "Statistician",
          "ML Engineer",
          "Research Scientist",
          "Data Scientist",
          "Manager"
         ],
         "yaxis": "y"
        },
        {
         "alignmentgroup": "True",
         "hovertemplate": "<b>%{text} (%)</b> of <b>%{y}</b> have the income <b>%{fullData.name}</b>",
         "legendgroup": "$300,000-500,000",
         "marker": {
          "color": "#541c7b",
          "line": {
           "color": "black",
           "width": 1.2
          },
          "pattern": {
           "shape": ""
          }
         },
         "name": "$300,000-500,000",
         "offsetgroup": "$300,000-500,000",
         "orientation": "h",
         "showlegend": true,
         "text": [
          0.13,
          0.37,
          0.88,
          0.93,
          1.19,
          1.88,
          1.9
         ],
         "textposition": "auto",
         "type": "bar",
         "x": [
          0.13,
          0.37,
          0.88,
          0.93,
          1.19,
          1.88,
          1.9
         ],
         "xaxis": "x",
         "y": [
          "Teacher / professor",
          "Data Analyst",
          "Data Scientist",
          "Statistician",
          "ML Engineer",
          "Manager",
          "Research Scientist"
         ],
         "yaxis": "y"
        },
        {
         "alignmentgroup": "True",
         "hovertemplate": "<b>%{text} (%)</b> of <b>%{y}</b> have the income <b>%{fullData.name}</b>",
         "legendgroup": ">$500,000",
         "marker": {
          "color": "#141E46",
          "line": {
           "color": "black",
           "width": 1.2
          },
          "pattern": {
           "shape": ""
          }
         },
         "name": ">$500,000",
         "offsetgroup": ">$500,000",
         "orientation": "h",
         "showlegend": true,
         "text": [
          0.27,
          0.37,
          0.82,
          1.52,
          1.58,
          2.55
         ],
         "textposition": "auto",
         "type": "bar",
         "x": [
          0.27,
          0.37,
          0.82,
          1.52,
          1.58,
          2.55
         ],
         "xaxis": "x",
         "y": [
          "Teacher / professor",
          "Data Analyst",
          "Data Scientist",
          "Research Scientist",
          "ML Engineer",
          "Manager"
         ],
         "yaxis": "y"
        }
       ],
       "layout": {
        "barmode": "stack",
        "height": 600,
        "legend": {
         "orientation": "h",
         "title": {
          "text": "<b>Current income</b>"
         },
         "tracegroupgap": 0,
         "x": 1,
         "xanchor": "right",
         "y": 1,
         "yanchor": "bottom"
        },
        "margin": {
         "b": 20,
         "l": 10,
         "r": 10,
         "t": 110
        },
        "paper_bgcolor": "#ffe6cc",
        "template": {
         "data": {
          "bar": [
           {
            "error_x": {
             "color": "#2a3f5f"
            },
            "error_y": {
             "color": "#2a3f5f"
            },
            "marker": {
             "line": {
              "color": "#E5ECF6",
              "width": 0.5
             },
             "pattern": {
              "fillmode": "overlay",
              "size": 10,
              "solidity": 0.2
             }
            },
            "type": "bar"
           }
          ],
          "barpolar": [
           {
            "marker": {
             "line": {
              "color": "#E5ECF6",
              "width": 0.5
             },
             "pattern": {
              "fillmode": "overlay",
              "size": 10,
              "solidity": 0.2
             }
            },
            "type": "barpolar"
           }
          ],
          "carpet": [
           {
            "aaxis": {
             "endlinecolor": "#2a3f5f",
             "gridcolor": "white",
             "linecolor": "white",
             "minorgridcolor": "white",
             "startlinecolor": "#2a3f5f"
            },
            "baxis": {
             "endlinecolor": "#2a3f5f",
             "gridcolor": "white",
             "linecolor": "white",
             "minorgridcolor": "white",
             "startlinecolor": "#2a3f5f"
            },
            "type": "carpet"
           }
          ],
          "choropleth": [
           {
            "colorbar": {
             "outlinewidth": 0,
             "ticks": ""
            },
            "type": "choropleth"
           }
          ],
          "contour": [
           {
            "colorbar": {
             "outlinewidth": 0,
             "ticks": ""
            },
            "colorscale": [
             [
              0,
              "#0d0887"
             ],
             [
              0.1111111111111111,
              "#46039f"
             ],
             [
              0.2222222222222222,
              "#7201a8"
             ],
             [
              0.3333333333333333,
              "#9c179e"
             ],
             [
              0.4444444444444444,
              "#bd3786"
             ],
             [
              0.5555555555555556,
              "#d8576b"
             ],
             [
              0.6666666666666666,
              "#ed7953"
             ],
             [
              0.7777777777777778,
              "#fb9f3a"
             ],
             [
              0.8888888888888888,
              "#fdca26"
             ],
             [
              1,
              "#f0f921"
             ]
            ],
            "type": "contour"
           }
          ],
          "contourcarpet": [
           {
            "colorbar": {
             "outlinewidth": 0,
             "ticks": ""
            },
            "type": "contourcarpet"
           }
          ],
          "heatmap": [
           {
            "colorbar": {
             "outlinewidth": 0,
             "ticks": ""
            },
            "colorscale": [
             [
              0,
              "#0d0887"
             ],
             [
              0.1111111111111111,
              "#46039f"
             ],
             [
              0.2222222222222222,
              "#7201a8"
             ],
             [
              0.3333333333333333,
              "#9c179e"
             ],
             [
              0.4444444444444444,
              "#bd3786"
             ],
             [
              0.5555555555555556,
              "#d8576b"
             ],
             [
              0.6666666666666666,
              "#ed7953"
             ],
             [
              0.7777777777777778,
              "#fb9f3a"
             ],
             [
              0.8888888888888888,
              "#fdca26"
             ],
             [
              1,
              "#f0f921"
             ]
            ],
            "type": "heatmap"
           }
          ],
          "heatmapgl": [
           {
            "colorbar": {
             "outlinewidth": 0,
             "ticks": ""
            },
            "colorscale": [
             [
              0,
              "#0d0887"
             ],
             [
              0.1111111111111111,
              "#46039f"
             ],
             [
              0.2222222222222222,
              "#7201a8"
             ],
             [
              0.3333333333333333,
              "#9c179e"
             ],
             [
              0.4444444444444444,
              "#bd3786"
             ],
             [
              0.5555555555555556,
              "#d8576b"
             ],
             [
              0.6666666666666666,
              "#ed7953"
             ],
             [
              0.7777777777777778,
              "#fb9f3a"
             ],
             [
              0.8888888888888888,
              "#fdca26"
             ],
             [
              1,
              "#f0f921"
             ]
            ],
            "type": "heatmapgl"
           }
          ],
          "histogram": [
           {
            "marker": {
             "pattern": {
              "fillmode": "overlay",
              "size": 10,
              "solidity": 0.2
             }
            },
            "type": "histogram"
           }
          ],
          "histogram2d": [
           {
            "colorbar": {
             "outlinewidth": 0,
             "ticks": ""
            },
            "colorscale": [
             [
              0,
              "#0d0887"
             ],
             [
              0.1111111111111111,
              "#46039f"
             ],
             [
              0.2222222222222222,
              "#7201a8"
             ],
             [
              0.3333333333333333,
              "#9c179e"
             ],
             [
              0.4444444444444444,
              "#bd3786"
             ],
             [
              0.5555555555555556,
              "#d8576b"
             ],
             [
              0.6666666666666666,
              "#ed7953"
             ],
             [
              0.7777777777777778,
              "#fb9f3a"
             ],
             [
              0.8888888888888888,
              "#fdca26"
             ],
             [
              1,
              "#f0f921"
             ]
            ],
            "type": "histogram2d"
           }
          ],
          "histogram2dcontour": [
           {
            "colorbar": {
             "outlinewidth": 0,
             "ticks": ""
            },
            "colorscale": [
             [
              0,
              "#0d0887"
             ],
             [
              0.1111111111111111,
              "#46039f"
             ],
             [
              0.2222222222222222,
              "#7201a8"
             ],
             [
              0.3333333333333333,
              "#9c179e"
             ],
             [
              0.4444444444444444,
              "#bd3786"
             ],
             [
              0.5555555555555556,
              "#d8576b"
             ],
             [
              0.6666666666666666,
              "#ed7953"
             ],
             [
              0.7777777777777778,
              "#fb9f3a"
             ],
             [
              0.8888888888888888,
              "#fdca26"
             ],
             [
              1,
              "#f0f921"
             ]
            ],
            "type": "histogram2dcontour"
           }
          ],
          "mesh3d": [
           {
            "colorbar": {
             "outlinewidth": 0,
             "ticks": ""
            },
            "type": "mesh3d"
           }
          ],
          "parcoords": [
           {
            "line": {
             "colorbar": {
              "outlinewidth": 0,
              "ticks": ""
             }
            },
            "type": "parcoords"
           }
          ],
          "pie": [
           {
            "automargin": true,
            "type": "pie"
           }
          ],
          "scatter": [
           {
            "fillpattern": {
             "fillmode": "overlay",
             "size": 10,
             "solidity": 0.2
            },
            "type": "scatter"
           }
          ],
          "scatter3d": [
           {
            "line": {
             "colorbar": {
              "outlinewidth": 0,
              "ticks": ""
             }
            },
            "marker": {
             "colorbar": {
              "outlinewidth": 0,
              "ticks": ""
             }
            },
            "type": "scatter3d"
           }
          ],
          "scattercarpet": [
           {
            "marker": {
             "colorbar": {
              "outlinewidth": 0,
              "ticks": ""
             }
            },
            "type": "scattercarpet"
           }
          ],
          "scattergeo": [
           {
            "marker": {
             "colorbar": {
              "outlinewidth": 0,
              "ticks": ""
             }
            },
            "type": "scattergeo"
           }
          ],
          "scattergl": [
           {
            "marker": {
             "colorbar": {
              "outlinewidth": 0,
              "ticks": ""
             }
            },
            "type": "scattergl"
           }
          ],
          "scattermapbox": [
           {
            "marker": {
             "colorbar": {
              "outlinewidth": 0,
              "ticks": ""
             }
            },
            "type": "scattermapbox"
           }
          ],
          "scatterpolar": [
           {
            "marker": {
             "colorbar": {
              "outlinewidth": 0,
              "ticks": ""
             }
            },
            "type": "scatterpolar"
           }
          ],
          "scatterpolargl": [
           {
            "marker": {
             "colorbar": {
              "outlinewidth": 0,
              "ticks": ""
             }
            },
            "type": "scatterpolargl"
           }
          ],
          "scatterternary": [
           {
            "marker": {
             "colorbar": {
              "outlinewidth": 0,
              "ticks": ""
             }
            },
            "type": "scatterternary"
           }
          ],
          "surface": [
           {
            "colorbar": {
             "outlinewidth": 0,
             "ticks": ""
            },
            "colorscale": [
             [
              0,
              "#0d0887"
             ],
             [
              0.1111111111111111,
              "#46039f"
             ],
             [
              0.2222222222222222,
              "#7201a8"
             ],
             [
              0.3333333333333333,
              "#9c179e"
             ],
             [
              0.4444444444444444,
              "#bd3786"
             ],
             [
              0.5555555555555556,
              "#d8576b"
             ],
             [
              0.6666666666666666,
              "#ed7953"
             ],
             [
              0.7777777777777778,
              "#fb9f3a"
             ],
             [
              0.8888888888888888,
              "#fdca26"
             ],
             [
              1,
              "#f0f921"
             ]
            ],
            "type": "surface"
           }
          ],
          "table": [
           {
            "cells": {
             "fill": {
              "color": "#EBF0F8"
             },
             "line": {
              "color": "white"
             }
            },
            "header": {
             "fill": {
              "color": "#C8D4E3"
             },
             "line": {
              "color": "white"
             }
            },
            "type": "table"
           }
          ]
         },
         "layout": {
          "annotationdefaults": {
           "arrowcolor": "#2a3f5f",
           "arrowhead": 0,
           "arrowwidth": 1
          },
          "autotypenumbers": "strict",
          "coloraxis": {
           "colorbar": {
            "outlinewidth": 0,
            "ticks": ""
           }
          },
          "colorscale": {
           "diverging": [
            [
             0,
             "#8e0152"
            ],
            [
             0.1,
             "#c51b7d"
            ],
            [
             0.2,
             "#de77ae"
            ],
            [
             0.3,
             "#f1b6da"
            ],
            [
             0.4,
             "#fde0ef"
            ],
            [
             0.5,
             "#f7f7f7"
            ],
            [
             0.6,
             "#e6f5d0"
            ],
            [
             0.7,
             "#b8e186"
            ],
            [
             0.8,
             "#7fbc41"
            ],
            [
             0.9,
             "#4d9221"
            ],
            [
             1,
             "#276419"
            ]
           ],
           "sequential": [
            [
             0,
             "#0d0887"
            ],
            [
             0.1111111111111111,
             "#46039f"
            ],
            [
             0.2222222222222222,
             "#7201a8"
            ],
            [
             0.3333333333333333,
             "#9c179e"
            ],
            [
             0.4444444444444444,
             "#bd3786"
            ],
            [
             0.5555555555555556,
             "#d8576b"
            ],
            [
             0.6666666666666666,
             "#ed7953"
            ],
            [
             0.7777777777777778,
             "#fb9f3a"
            ],
            [
             0.8888888888888888,
             "#fdca26"
            ],
            [
             1,
             "#f0f921"
            ]
           ],
           "sequentialminus": [
            [
             0,
             "#0d0887"
            ],
            [
             0.1111111111111111,
             "#46039f"
            ],
            [
             0.2222222222222222,
             "#7201a8"
            ],
            [
             0.3333333333333333,
             "#9c179e"
            ],
            [
             0.4444444444444444,
             "#bd3786"
            ],
            [
             0.5555555555555556,
             "#d8576b"
            ],
            [
             0.6666666666666666,
             "#ed7953"
            ],
            [
             0.7777777777777778,
             "#fb9f3a"
            ],
            [
             0.8888888888888888,
             "#fdca26"
            ],
            [
             1,
             "#f0f921"
            ]
           ]
          },
          "colorway": [
           "#636efa",
           "#EF553B",
           "#00cc96",
           "#ab63fa",
           "#FFA15A",
           "#19d3f3",
           "#FF6692",
           "#B6E880",
           "#FF97FF",
           "#FECB52"
          ],
          "font": {
           "color": "#2a3f5f"
          },
          "geo": {
           "bgcolor": "white",
           "lakecolor": "white",
           "landcolor": "#E5ECF6",
           "showlakes": true,
           "showland": true,
           "subunitcolor": "white"
          },
          "hoverlabel": {
           "align": "left"
          },
          "hovermode": "closest",
          "mapbox": {
           "style": "light"
          },
          "paper_bgcolor": "white",
          "plot_bgcolor": "#E5ECF6",
          "polar": {
           "angularaxis": {
            "gridcolor": "white",
            "linecolor": "white",
            "ticks": ""
           },
           "bgcolor": "#E5ECF6",
           "radialaxis": {
            "gridcolor": "white",
            "linecolor": "white",
            "ticks": ""
           }
          },
          "scene": {
           "xaxis": {
            "backgroundcolor": "#E5ECF6",
            "gridcolor": "white",
            "gridwidth": 2,
            "linecolor": "white",
            "showbackground": true,
            "ticks": "",
            "zerolinecolor": "white"
           },
           "yaxis": {
            "backgroundcolor": "#E5ECF6",
            "gridcolor": "white",
            "gridwidth": 2,
            "linecolor": "white",
            "showbackground": true,
            "ticks": "",
            "zerolinecolor": "white"
           },
           "zaxis": {
            "backgroundcolor": "#E5ECF6",
            "gridcolor": "white",
            "gridwidth": 2,
            "linecolor": "white",
            "showbackground": true,
            "ticks": "",
            "zerolinecolor": "white"
           }
          },
          "shapedefaults": {
           "line": {
            "color": "#2a3f5f"
           }
          },
          "ternary": {
           "aaxis": {
            "gridcolor": "white",
            "linecolor": "white",
            "ticks": ""
           },
           "baxis": {
            "gridcolor": "white",
            "linecolor": "white",
            "ticks": ""
           },
           "bgcolor": "#E5ECF6",
           "caxis": {
            "gridcolor": "white",
            "linecolor": "white",
            "ticks": ""
           }
          },
          "title": {
           "x": 0.05
          },
          "xaxis": {
           "automargin": true,
           "gridcolor": "white",
           "linecolor": "white",
           "ticks": "",
           "title": {
            "standoff": 15
           },
           "zerolinecolor": "white",
           "zerolinewidth": 2
          },
          "yaxis": {
           "automargin": true,
           "gridcolor": "white",
           "linecolor": "white",
           "ticks": "",
           "title": {
            "standoff": 15
           },
           "zerolinecolor": "white",
           "zerolinewidth": 2
          }
         }
        },
        "title": {
         "font": {
          "size": 25
         },
         "text": "<b>The percentage of participants' current income for each role</b>"
        },
        "width": 1100,
        "xaxis": {
         "anchor": "y",
         "domain": [
          0,
          1
         ],
         "tickfont": {
          "size": 14
         },
         "title": {
          "text": "<b>Percentage</b>"
         }
        },
        "yaxis": {
         "anchor": "x",
         "domain": [
          0,
          1
         ],
         "tickfont": {
          "size": 14
         },
         "ticksuffix": " ",
         "title": {
          "text": "<b>Current role</b>"
         }
        }
       }
      }
     },
     "metadata": {},
     "output_type": "display_data"
    }
   ],
   "source": [
    "fig = stacked_bar_plot(filtered_role_income_df, 'Percentage', 'Current role', 'Current income' , 'Percentage', ['#F2F7A1', '#F05941', '#BE3144', '#973089', '#541c7b','#141E46'], 0, 0)\n",
    "fig.update_layout(\n",
    "    title_text = '<b>The percentage of participants\\' current income for each role</b>',\n",
    "    width = 1100,\n",
    "    height = 600,\n",
    "    margin = dict(l=10, r=10, t=110, b=20),\n",
    "    legend=dict( orientation=\"h\", yanchor=\"bottom\", y=1, xanchor=\"right\", x = 1)\n",
    ")\n",
    "\n",
    "fig.update_traces(marker_line_color='black', marker_line_width=1.2, hovertemplate='<b>%{text} (%)</b> of <b>%{y}</b> have the income <b>%{fullData.name}</b>')\n",
    "fig.show()"
   ]
  },
  {
   "cell_type": "markdown",
   "metadata": {},
   "source": [
    "Through the plot, we can get these conclusions:\n",
    "\n",
    "- With `Statiscian`, we can see that majority of statiscian (59.26%) have the income `<$10,000`, also, there isn't any statiscian have income `>$500,000`,and just a little percentage (0.93%) get the income `%300,000-500,000`. That indicates that the potential to have the high income in `Statiscian` is quite limited.\n",
    "\n",
    "- `Teacher` and `Data Analyst` have the quite similar distribution of income, with about 50% in range `<$10,000`, followed by 25% in `$10,000-50,000` and 16% in `$100,000-300,000`, also a very low percentage in `>$500,000`, but compare with `Statiscian`, the overall income raise a little bit.\n",
    "\n",
    "- With `Machine learning engineer`, `Data Scientist` and `Reseach Scientist`, more paricipants get higher income with just about 30% have income `<$10,000`, also, the percentage of income in range `$100,000-300,000` and `>$500,000` increase alot, shown that these role have more potential to get a higher income.\n",
    "\n",
    "- Among the roles, `Manager` have the overall income that outstanding other roles. with over 30% in `$100,000-300,000`, and 2.55% `>$500,000`. It is reasonable because the `Manager` is always the one who have higher position, also more the skills and the experience than the others.  \n",
    "\n",
    "To sum up, the is a large differences of how the income is distributed for each role. We can consider that `Manager` can have the highest income, followed by `Machine learning engineer`, `Data Scientist` and `Reseach Scientist`"
   ]
  },
  {
   "cell_type": "markdown",
   "metadata": {},
   "source": [
    "###  **1.4 Income distribution by the eductional level**\n",
    "Eductional level, can be easily considered as a important factors that determine a person's income. Most of use think that the higher level of education, more potential to get a higher income. But is this thought works for participants of this survey? Let's check it now.\n",
    "\n",
    "Also, go along with the previous section, in this section, we just consider the educations of data roles."
   ]
  },
  {
   "cell_type": "code",
   "execution_count": 15,
   "metadata": {},
   "outputs": [],
   "source": [
    "# Rename the level for clearly meaning\n",
    "processed_income_df.loc[:, 'Higher education?'] = processed_income_df['Higher education?'].replace(r'^No formal education.*', 'Under high school', regex=True)\n",
    "processed_income_df.loc[:, 'Higher education?'] = processed_income_df['Higher education?'].replace(r'^Some college.*', 'College without Bachelor degree', regex=True)\n",
    "level_to_drop = 'I prefer not to answer'"
   ]
  },
  {
   "cell_type": "code",
   "execution_count": 16,
   "metadata": {},
   "outputs": [],
   "source": [
    "# Filter and find the percentage of income across roles.\n",
    "filtered_role_df = processed_income_df[processed_income_df['Current role'].isin(data_roles)].copy()\n",
    "education_income_df = filtered_role_df.groupby('Higher education?')['Current income'].value_counts().reset_index(name = 'Count')\n",
    "filtered_education_income_df = education_income_df[education_income_df['Higher education?'] != level_to_drop].copy()\n",
    "\n",
    "filtered_education_income_df.loc[:,'Percentage'] = ((filtered_education_income_df['Count'] / education_income_df.groupby('Higher education?')['Count'].transform('sum'))*100)\n",
    "filtered_education_income_df['Percentage'] = filtered_education_income_df['Percentage'].round(2)\n",
    "filtered_education_income_df = filtered_education_income_df.sort_values(by = ['Higher education?', 'Percentage'], ascending = [True, False])"
   ]
  },
  {
   "cell_type": "code",
   "execution_count": 27,
   "metadata": {},
   "outputs": [
    {
     "data": {
      "application/vnd.plotly.v1+json": {
       "config": {
        "plotlyServerURL": "https://plot.ly"
       },
       "data": [
        {
         "alignmentgroup": "True",
         "hovertemplate": "<b>%{text} (%)</b> of <b>%{y}</b> have the income <b>%{fullData.name}</b>",
         "legendgroup": "<$10,000",
         "marker": {
          "color": "#FCF5ED",
          "line": {
           "color": "black",
           "width": 1.2
          },
          "pattern": {
           "shape": ""
          }
         },
         "name": "<$10,000",
         "offsetgroup": "<$10,000",
         "orientation": "h",
         "showlegend": true,
         "text": [
          43.13,
          43.2,
          27.93,
          32.21,
          39.66,
          47.83
         ],
         "textposition": "auto",
         "type": "bar",
         "x": [
          43.13,
          43.2,
          27.93,
          32.21,
          39.66,
          47.83
         ],
         "xaxis": "x",
         "y": [
          "Bachelor’s degree",
          "College without Bachelor degree",
          "Doctoral degree",
          "Master’s degree",
          "Professional doctorate",
          "Under high school"
         ],
         "yaxis": "y"
        },
        {
         "alignmentgroup": "True",
         "hovertemplate": "<b>%{text} (%)</b> of <b>%{y}</b> have the income <b>%{fullData.name}</b>",
         "legendgroup": "$10,000-50,000",
         "marker": {
          "color": "#F4BF96",
          "line": {
           "color": "black",
           "width": 1.2
          },
          "pattern": {
           "shape": ""
          }
         },
         "name": "$10,000-50,000",
         "offsetgroup": "$10,000-50,000",
         "orientation": "h",
         "showlegend": true,
         "text": [
          29.65,
          24.85,
          24.87,
          29.09,
          25.86,
          34.78
         ],
         "textposition": "auto",
         "type": "bar",
         "x": [
          29.65,
          24.85,
          24.87,
          29.09,
          25.86,
          34.78
         ],
         "xaxis": "x",
         "y": [
          "Bachelor’s degree",
          "College without Bachelor degree",
          "Doctoral degree",
          "Master’s degree",
          "Professional doctorate",
          "Under high school"
         ],
         "yaxis": "y"
        },
        {
         "alignmentgroup": "True",
         "hovertemplate": "<b>%{text} (%)</b> of <b>%{y}</b> have the income <b>%{fullData.name}</b>",
         "legendgroup": "$50,000-100,000",
         "marker": {
          "color": "#CE5A67",
          "line": {
           "color": "black",
           "width": 1.2
          },
          "pattern": {
           "shape": ""
          }
         },
         "name": "$50,000-100,000",
         "offsetgroup": "$50,000-100,000",
         "orientation": "h",
         "showlegend": true,
         "text": [
          12.87,
          17.75,
          22.07,
          19.25,
          16.38,
          13.04
         ],
         "textposition": "auto",
         "type": "bar",
         "x": [
          12.87,
          17.75,
          22.07,
          19.25,
          16.38,
          13.04
         ],
         "xaxis": "x",
         "y": [
          "Bachelor’s degree",
          "College without Bachelor degree",
          "Doctoral degree",
          "Master’s degree",
          "Professional doctorate",
          "Under high school"
         ],
         "yaxis": "y"
        },
        {
         "alignmentgroup": "True",
         "hovertemplate": "<b>%{text} (%)</b> of <b>%{y}</b> have the income <b>%{fullData.name}</b>",
         "legendgroup": "$100,000-300,000",
         "marker": {
          "color": "#973089",
          "line": {
           "color": "black",
           "width": 1.2
          },
          "pattern": {
           "shape": ""
          }
         },
         "name": "$100,000-300,000",
         "offsetgroup": "$100,000-300,000",
         "orientation": "h",
         "showlegend": true,
         "text": [
          12.7,
          12.43,
          22.67,
          17.74,
          15.09,
          1.74
         ],
         "textposition": "auto",
         "type": "bar",
         "x": [
          12.7,
          12.43,
          22.67,
          17.74,
          15.09,
          1.74
         ],
         "xaxis": "x",
         "y": [
          "Bachelor’s degree",
          "College without Bachelor degree",
          "Doctoral degree",
          "Master’s degree",
          "Professional doctorate",
          "Under high school"
         ],
         "yaxis": "y"
        },
        {
         "alignmentgroup": "True",
         "hovertemplate": "<b>%{text} (%)</b> of <b>%{y}</b> have the income <b>%{fullData.name}</b>",
         "legendgroup": "$300,000-500,000",
         "marker": {
          "color": "#541c7b",
          "line": {
           "color": "black",
           "width": 1.2
          },
          "pattern": {
           "shape": ""
          }
         },
         "name": "$300,000-500,000",
         "offsetgroup": "$300,000-500,000",
         "orientation": "h",
         "showlegend": true,
         "text": [
          0.61,
          0.59,
          1.44,
          0.89,
          0.86,
          1.74
         ],
         "textposition": "auto",
         "type": "bar",
         "x": [
          0.61,
          0.59,
          1.44,
          0.89,
          0.86,
          1.74
         ],
         "xaxis": "x",
         "y": [
          "Bachelor’s degree",
          "College without Bachelor degree",
          "Doctoral degree",
          "Master’s degree",
          "Professional doctorate",
          "Under high school"
         ],
         "yaxis": "y"
        },
        {
         "alignmentgroup": "True",
         "hovertemplate": "<b>%{text} (%)</b> of <b>%{y}</b> have the income <b>%{fullData.name}</b>",
         "legendgroup": ">$500,000",
         "marker": {
          "color": "#141E46",
          "line": {
           "color": "black",
           "width": 1.2
          },
          "pattern": {
           "shape": ""
          }
         },
         "name": ">$500,000",
         "offsetgroup": ">$500,000",
         "orientation": "h",
         "showlegend": true,
         "text": [
          1.04,
          1.18,
          1.02,
          0.82,
          2.16,
          0.87
         ],
         "textposition": "auto",
         "type": "bar",
         "x": [
          1.04,
          1.18,
          1.02,
          0.82,
          2.16,
          0.87
         ],
         "xaxis": "x",
         "y": [
          "Bachelor’s degree",
          "College without Bachelor degree",
          "Doctoral degree",
          "Master’s degree",
          "Professional doctorate",
          "Under high school"
         ],
         "yaxis": "y"
        }
       ],
       "layout": {
        "barmode": "stack",
        "height": 500,
        "legend": {
         "orientation": "h",
         "title": {
          "text": "<b>Current income</b>"
         },
         "tracegroupgap": 0,
         "x": 1,
         "xanchor": "right",
         "y": 1,
         "yanchor": "bottom"
        },
        "margin": {
         "b": 20,
         "l": 10,
         "r": 10,
         "t": 110
        },
        "paper_bgcolor": "#ffe6cc",
        "template": {
         "data": {
          "bar": [
           {
            "error_x": {
             "color": "#2a3f5f"
            },
            "error_y": {
             "color": "#2a3f5f"
            },
            "marker": {
             "line": {
              "color": "#E5ECF6",
              "width": 0.5
             },
             "pattern": {
              "fillmode": "overlay",
              "size": 10,
              "solidity": 0.2
             }
            },
            "type": "bar"
           }
          ],
          "barpolar": [
           {
            "marker": {
             "line": {
              "color": "#E5ECF6",
              "width": 0.5
             },
             "pattern": {
              "fillmode": "overlay",
              "size": 10,
              "solidity": 0.2
             }
            },
            "type": "barpolar"
           }
          ],
          "carpet": [
           {
            "aaxis": {
             "endlinecolor": "#2a3f5f",
             "gridcolor": "white",
             "linecolor": "white",
             "minorgridcolor": "white",
             "startlinecolor": "#2a3f5f"
            },
            "baxis": {
             "endlinecolor": "#2a3f5f",
             "gridcolor": "white",
             "linecolor": "white",
             "minorgridcolor": "white",
             "startlinecolor": "#2a3f5f"
            },
            "type": "carpet"
           }
          ],
          "choropleth": [
           {
            "colorbar": {
             "outlinewidth": 0,
             "ticks": ""
            },
            "type": "choropleth"
           }
          ],
          "contour": [
           {
            "colorbar": {
             "outlinewidth": 0,
             "ticks": ""
            },
            "colorscale": [
             [
              0,
              "#0d0887"
             ],
             [
              0.1111111111111111,
              "#46039f"
             ],
             [
              0.2222222222222222,
              "#7201a8"
             ],
             [
              0.3333333333333333,
              "#9c179e"
             ],
             [
              0.4444444444444444,
              "#bd3786"
             ],
             [
              0.5555555555555556,
              "#d8576b"
             ],
             [
              0.6666666666666666,
              "#ed7953"
             ],
             [
              0.7777777777777778,
              "#fb9f3a"
             ],
             [
              0.8888888888888888,
              "#fdca26"
             ],
             [
              1,
              "#f0f921"
             ]
            ],
            "type": "contour"
           }
          ],
          "contourcarpet": [
           {
            "colorbar": {
             "outlinewidth": 0,
             "ticks": ""
            },
            "type": "contourcarpet"
           }
          ],
          "heatmap": [
           {
            "colorbar": {
             "outlinewidth": 0,
             "ticks": ""
            },
            "colorscale": [
             [
              0,
              "#0d0887"
             ],
             [
              0.1111111111111111,
              "#46039f"
             ],
             [
              0.2222222222222222,
              "#7201a8"
             ],
             [
              0.3333333333333333,
              "#9c179e"
             ],
             [
              0.4444444444444444,
              "#bd3786"
             ],
             [
              0.5555555555555556,
              "#d8576b"
             ],
             [
              0.6666666666666666,
              "#ed7953"
             ],
             [
              0.7777777777777778,
              "#fb9f3a"
             ],
             [
              0.8888888888888888,
              "#fdca26"
             ],
             [
              1,
              "#f0f921"
             ]
            ],
            "type": "heatmap"
           }
          ],
          "heatmapgl": [
           {
            "colorbar": {
             "outlinewidth": 0,
             "ticks": ""
            },
            "colorscale": [
             [
              0,
              "#0d0887"
             ],
             [
              0.1111111111111111,
              "#46039f"
             ],
             [
              0.2222222222222222,
              "#7201a8"
             ],
             [
              0.3333333333333333,
              "#9c179e"
             ],
             [
              0.4444444444444444,
              "#bd3786"
             ],
             [
              0.5555555555555556,
              "#d8576b"
             ],
             [
              0.6666666666666666,
              "#ed7953"
             ],
             [
              0.7777777777777778,
              "#fb9f3a"
             ],
             [
              0.8888888888888888,
              "#fdca26"
             ],
             [
              1,
              "#f0f921"
             ]
            ],
            "type": "heatmapgl"
           }
          ],
          "histogram": [
           {
            "marker": {
             "pattern": {
              "fillmode": "overlay",
              "size": 10,
              "solidity": 0.2
             }
            },
            "type": "histogram"
           }
          ],
          "histogram2d": [
           {
            "colorbar": {
             "outlinewidth": 0,
             "ticks": ""
            },
            "colorscale": [
             [
              0,
              "#0d0887"
             ],
             [
              0.1111111111111111,
              "#46039f"
             ],
             [
              0.2222222222222222,
              "#7201a8"
             ],
             [
              0.3333333333333333,
              "#9c179e"
             ],
             [
              0.4444444444444444,
              "#bd3786"
             ],
             [
              0.5555555555555556,
              "#d8576b"
             ],
             [
              0.6666666666666666,
              "#ed7953"
             ],
             [
              0.7777777777777778,
              "#fb9f3a"
             ],
             [
              0.8888888888888888,
              "#fdca26"
             ],
             [
              1,
              "#f0f921"
             ]
            ],
            "type": "histogram2d"
           }
          ],
          "histogram2dcontour": [
           {
            "colorbar": {
             "outlinewidth": 0,
             "ticks": ""
            },
            "colorscale": [
             [
              0,
              "#0d0887"
             ],
             [
              0.1111111111111111,
              "#46039f"
             ],
             [
              0.2222222222222222,
              "#7201a8"
             ],
             [
              0.3333333333333333,
              "#9c179e"
             ],
             [
              0.4444444444444444,
              "#bd3786"
             ],
             [
              0.5555555555555556,
              "#d8576b"
             ],
             [
              0.6666666666666666,
              "#ed7953"
             ],
             [
              0.7777777777777778,
              "#fb9f3a"
             ],
             [
              0.8888888888888888,
              "#fdca26"
             ],
             [
              1,
              "#f0f921"
             ]
            ],
            "type": "histogram2dcontour"
           }
          ],
          "mesh3d": [
           {
            "colorbar": {
             "outlinewidth": 0,
             "ticks": ""
            },
            "type": "mesh3d"
           }
          ],
          "parcoords": [
           {
            "line": {
             "colorbar": {
              "outlinewidth": 0,
              "ticks": ""
             }
            },
            "type": "parcoords"
           }
          ],
          "pie": [
           {
            "automargin": true,
            "type": "pie"
           }
          ],
          "scatter": [
           {
            "fillpattern": {
             "fillmode": "overlay",
             "size": 10,
             "solidity": 0.2
            },
            "type": "scatter"
           }
          ],
          "scatter3d": [
           {
            "line": {
             "colorbar": {
              "outlinewidth": 0,
              "ticks": ""
             }
            },
            "marker": {
             "colorbar": {
              "outlinewidth": 0,
              "ticks": ""
             }
            },
            "type": "scatter3d"
           }
          ],
          "scattercarpet": [
           {
            "marker": {
             "colorbar": {
              "outlinewidth": 0,
              "ticks": ""
             }
            },
            "type": "scattercarpet"
           }
          ],
          "scattergeo": [
           {
            "marker": {
             "colorbar": {
              "outlinewidth": 0,
              "ticks": ""
             }
            },
            "type": "scattergeo"
           }
          ],
          "scattergl": [
           {
            "marker": {
             "colorbar": {
              "outlinewidth": 0,
              "ticks": ""
             }
            },
            "type": "scattergl"
           }
          ],
          "scattermapbox": [
           {
            "marker": {
             "colorbar": {
              "outlinewidth": 0,
              "ticks": ""
             }
            },
            "type": "scattermapbox"
           }
          ],
          "scatterpolar": [
           {
            "marker": {
             "colorbar": {
              "outlinewidth": 0,
              "ticks": ""
             }
            },
            "type": "scatterpolar"
           }
          ],
          "scatterpolargl": [
           {
            "marker": {
             "colorbar": {
              "outlinewidth": 0,
              "ticks": ""
             }
            },
            "type": "scatterpolargl"
           }
          ],
          "scatterternary": [
           {
            "marker": {
             "colorbar": {
              "outlinewidth": 0,
              "ticks": ""
             }
            },
            "type": "scatterternary"
           }
          ],
          "surface": [
           {
            "colorbar": {
             "outlinewidth": 0,
             "ticks": ""
            },
            "colorscale": [
             [
              0,
              "#0d0887"
             ],
             [
              0.1111111111111111,
              "#46039f"
             ],
             [
              0.2222222222222222,
              "#7201a8"
             ],
             [
              0.3333333333333333,
              "#9c179e"
             ],
             [
              0.4444444444444444,
              "#bd3786"
             ],
             [
              0.5555555555555556,
              "#d8576b"
             ],
             [
              0.6666666666666666,
              "#ed7953"
             ],
             [
              0.7777777777777778,
              "#fb9f3a"
             ],
             [
              0.8888888888888888,
              "#fdca26"
             ],
             [
              1,
              "#f0f921"
             ]
            ],
            "type": "surface"
           }
          ],
          "table": [
           {
            "cells": {
             "fill": {
              "color": "#EBF0F8"
             },
             "line": {
              "color": "white"
             }
            },
            "header": {
             "fill": {
              "color": "#C8D4E3"
             },
             "line": {
              "color": "white"
             }
            },
            "type": "table"
           }
          ]
         },
         "layout": {
          "annotationdefaults": {
           "arrowcolor": "#2a3f5f",
           "arrowhead": 0,
           "arrowwidth": 1
          },
          "autotypenumbers": "strict",
          "coloraxis": {
           "colorbar": {
            "outlinewidth": 0,
            "ticks": ""
           }
          },
          "colorscale": {
           "diverging": [
            [
             0,
             "#8e0152"
            ],
            [
             0.1,
             "#c51b7d"
            ],
            [
             0.2,
             "#de77ae"
            ],
            [
             0.3,
             "#f1b6da"
            ],
            [
             0.4,
             "#fde0ef"
            ],
            [
             0.5,
             "#f7f7f7"
            ],
            [
             0.6,
             "#e6f5d0"
            ],
            [
             0.7,
             "#b8e186"
            ],
            [
             0.8,
             "#7fbc41"
            ],
            [
             0.9,
             "#4d9221"
            ],
            [
             1,
             "#276419"
            ]
           ],
           "sequential": [
            [
             0,
             "#0d0887"
            ],
            [
             0.1111111111111111,
             "#46039f"
            ],
            [
             0.2222222222222222,
             "#7201a8"
            ],
            [
             0.3333333333333333,
             "#9c179e"
            ],
            [
             0.4444444444444444,
             "#bd3786"
            ],
            [
             0.5555555555555556,
             "#d8576b"
            ],
            [
             0.6666666666666666,
             "#ed7953"
            ],
            [
             0.7777777777777778,
             "#fb9f3a"
            ],
            [
             0.8888888888888888,
             "#fdca26"
            ],
            [
             1,
             "#f0f921"
            ]
           ],
           "sequentialminus": [
            [
             0,
             "#0d0887"
            ],
            [
             0.1111111111111111,
             "#46039f"
            ],
            [
             0.2222222222222222,
             "#7201a8"
            ],
            [
             0.3333333333333333,
             "#9c179e"
            ],
            [
             0.4444444444444444,
             "#bd3786"
            ],
            [
             0.5555555555555556,
             "#d8576b"
            ],
            [
             0.6666666666666666,
             "#ed7953"
            ],
            [
             0.7777777777777778,
             "#fb9f3a"
            ],
            [
             0.8888888888888888,
             "#fdca26"
            ],
            [
             1,
             "#f0f921"
            ]
           ]
          },
          "colorway": [
           "#636efa",
           "#EF553B",
           "#00cc96",
           "#ab63fa",
           "#FFA15A",
           "#19d3f3",
           "#FF6692",
           "#B6E880",
           "#FF97FF",
           "#FECB52"
          ],
          "font": {
           "color": "#2a3f5f"
          },
          "geo": {
           "bgcolor": "white",
           "lakecolor": "white",
           "landcolor": "#E5ECF6",
           "showlakes": true,
           "showland": true,
           "subunitcolor": "white"
          },
          "hoverlabel": {
           "align": "left"
          },
          "hovermode": "closest",
          "mapbox": {
           "style": "light"
          },
          "paper_bgcolor": "white",
          "plot_bgcolor": "#E5ECF6",
          "polar": {
           "angularaxis": {
            "gridcolor": "white",
            "linecolor": "white",
            "ticks": ""
           },
           "bgcolor": "#E5ECF6",
           "radialaxis": {
            "gridcolor": "white",
            "linecolor": "white",
            "ticks": ""
           }
          },
          "scene": {
           "xaxis": {
            "backgroundcolor": "#E5ECF6",
            "gridcolor": "white",
            "gridwidth": 2,
            "linecolor": "white",
            "showbackground": true,
            "ticks": "",
            "zerolinecolor": "white"
           },
           "yaxis": {
            "backgroundcolor": "#E5ECF6",
            "gridcolor": "white",
            "gridwidth": 2,
            "linecolor": "white",
            "showbackground": true,
            "ticks": "",
            "zerolinecolor": "white"
           },
           "zaxis": {
            "backgroundcolor": "#E5ECF6",
            "gridcolor": "white",
            "gridwidth": 2,
            "linecolor": "white",
            "showbackground": true,
            "ticks": "",
            "zerolinecolor": "white"
           }
          },
          "shapedefaults": {
           "line": {
            "color": "#2a3f5f"
           }
          },
          "ternary": {
           "aaxis": {
            "gridcolor": "white",
            "linecolor": "white",
            "ticks": ""
           },
           "baxis": {
            "gridcolor": "white",
            "linecolor": "white",
            "ticks": ""
           },
           "bgcolor": "#E5ECF6",
           "caxis": {
            "gridcolor": "white",
            "linecolor": "white",
            "ticks": ""
           }
          },
          "title": {
           "x": 0.05
          },
          "xaxis": {
           "automargin": true,
           "gridcolor": "white",
           "linecolor": "white",
           "ticks": "",
           "title": {
            "standoff": 15
           },
           "zerolinecolor": "white",
           "zerolinewidth": 2
          },
          "yaxis": {
           "automargin": true,
           "gridcolor": "white",
           "linecolor": "white",
           "ticks": "",
           "title": {
            "standoff": 15
           },
           "zerolinecolor": "white",
           "zerolinewidth": 2
          }
         }
        },
        "title": {
         "font": {
          "size": 25
         },
         "text": "<b>Participants' current income by level of education</b>"
        },
        "width": 1100,
        "xaxis": {
         "anchor": "y",
         "domain": [
          0,
          1
         ],
         "tickfont": {
          "size": 14
         },
         "title": {
          "text": "<b>Percentage</b>"
         }
        },
        "yaxis": {
         "anchor": "x",
         "categoryarray": [
          "Professional doctorate",
          "Doctoral degree",
          "Master’s degree",
          "Bachelor’s degree",
          "College without Bachelor degree",
          "Under high school"
         ],
         "categoryorder": "array",
         "domain": [
          0,
          1
         ],
         "tickfont": {
          "size": 14
         },
         "ticksuffix": " ",
         "title": {
          "text": "<b>Higher education?</b>"
         }
        }
       }
      }
     },
     "metadata": {},
     "output_type": "display_data"
    }
   ],
   "source": [
    "fig = stacked_bar_plot(filtered_education_income_df, 'Percentage', 'Higher education?', 'Current income' , 'Percentage', ['#FCF5ED', '#F4BF96', '#CE5A67', '#973089', '#541c7b','#141E46'],\n",
    "                        'Higher education?', ['Under high school', 'College without Bachelor degree', 'Bachelor’s degree', 'Master’s degree', 'Doctoral degree', 'Professional doctorate'])\n",
    "fig.update_layout(\n",
    "    title_text = '<b>Participants\\' current income by level of education</b>',\n",
    "    height = 500,\n",
    "    margin = dict(l=10, r=10, t=110, b=20),\n",
    "    legend = dict(orientation = \"h\", yanchor=\"bottom\", y=1, xanchor=\"right\", x = 1 ),\n",
    ")\n",
    "\n",
    "fig.update_traces(marker_line_color = 'black', marker_line_width = 1.2, hovertemplate='<b>%{text} (%)</b> of <b>%{y}</b> have the income <b>%{fullData.name}</b>')\n",
    "fig.show()"
   ]
  },
  {
   "cell_type": "markdown",
   "metadata": {},
   "source": [
    "With all data roles, we can see some trends below:\n",
    "- With higher levels, the income of participants will be more. With the highest in overall is `Doctoral degree`.\n",
    "- Also, being considered as the highest level in the field, but we can see there is differnces between the income of `Doctoral degree` and `Professional doctorate`, we can easily see that `Dotoral degree` will have more percentage that have income in range `<$300,000`, but in range `>$300,000`, `Professional doctorate` is higher. These differences may come from the diffrences of the works, or which fields each role focus on.\n",
    "\n",
    "But in overall, the education level have a important impact to a person's salary, higher levels will give us more potential to get higher income."
   ]
  },
  {
   "cell_type": "markdown",
   "metadata": {},
   "source": [
    "###  **1.5 Income distribution by the programming experience**\n",
    "We all know that, in the field of Information Technology, programming skills are widely recorgnized as one of the most important part for every jobs in IT, and the data-related as well. So in this section, we will explore how the income is affect by the programming experience. Is the one who have more programming expericence will have the high potential to get higher income?"
   ]
  },
  {
   "cell_type": "code",
   "execution_count": 18,
   "metadata": {},
   "outputs": [],
   "source": [
    "experience_income_df = processed_income_df.groupby('Programming experience')['Current income'].value_counts().reset_index(name = 'Count')\n",
    "experience_income_df.loc[:,'Percentage'] = ((experience_income_df['Count'] / experience_income_df.groupby('Programming experience')['Count'].transform('sum'))*100)\n",
    "experience_income_df['Percentage'] = experience_income_df['Percentage'].round(2)\n",
    "experience_income_df = experience_income_df.sort_values(by = ['Programming experience', 'Percentage'], ascending=[True, False])"
   ]
  },
  {
   "cell_type": "code",
   "execution_count": 19,
   "metadata": {},
   "outputs": [
    {
     "data": {
      "application/vnd.plotly.v1+json": {
       "config": {
        "plotlyServerURL": "https://plot.ly"
       },
       "data": [
        {
         "alignmentgroup": "True",
         "hovertemplate": "<b>%{text} (%)</b> of participants that <b>%{x}</b> have the income <b>%{fullData.name}</b>",
         "legendgroup": "<$10,000",
         "marker": {
          "color": "#F2F7A1",
          "line": {
           "color": "black",
           "width": 1
          },
          "pattern": {
           "shape": ""
          }
         },
         "name": "<$10,000",
         "offsetgroup": "<$10,000",
         "orientation": "v",
         "showlegend": true,
         "text": [
          52.45,
          18.53,
          13.79,
          37.01,
          25.61,
          60.45,
          61.26
         ],
         "textposition": "auto",
         "type": "bar",
         "x": [
          "1-3 years",
          "10-20 years",
          "20+ years",
          "3-5 years",
          "5-10 years",
          "< 1 years",
          "I have never written code"
         ],
         "xaxis": "x",
         "y": [
          52.45,
          18.53,
          13.79,
          37.01,
          25.61,
          60.45,
          61.26
         ],
         "yaxis": "y"
        },
        {
         "alignmentgroup": "True",
         "hovertemplate": "<b>%{text} (%)</b> of participants that <b>%{x}</b> have the income <b>%{fullData.name}</b>",
         "legendgroup": "$10,000-50,000",
         "marker": {
          "color": "#84ce69",
          "line": {
           "color": "black",
           "width": 1
          },
          "pattern": {
           "shape": ""
          }
         },
         "name": "$10,000-50,000",
         "offsetgroup": "$10,000-50,000",
         "orientation": "v",
         "showlegend": true,
         "text": [
          28,
          28.83,
          22.03,
          35.08,
          32.28,
          24.04,
          22.66
         ],
         "textposition": "auto",
         "type": "bar",
         "x": [
          "1-3 years",
          "10-20 years",
          "20+ years",
          "3-5 years",
          "5-10 years",
          "< 1 years",
          "I have never written code"
         ],
         "xaxis": "x",
         "y": [
          28,
          28.83,
          22.03,
          35.08,
          32.28,
          24.04,
          22.66
         ],
         "yaxis": "y"
        },
        {
         "alignmentgroup": "True",
         "hovertemplate": "<b>%{text} (%)</b> of participants that <b>%{x}</b> have the income <b>%{fullData.name}</b>",
         "legendgroup": "$50,000-100,000",
         "marker": {
          "color": "#309771",
          "line": {
           "color": "black",
           "width": 1
          },
          "pattern": {
           "shape": ""
          }
         },
         "name": "$50,000-100,000",
         "offsetgroup": "$50,000-100,000",
         "orientation": "v",
         "showlegend": true,
         "text": [
          13.42,
          23.98,
          24.71,
          15.45,
          19.51,
          11.06,
          10.09
         ],
         "textposition": "auto",
         "type": "bar",
         "x": [
          "1-3 years",
          "10-20 years",
          "20+ years",
          "3-5 years",
          "5-10 years",
          "< 1 years",
          "I have never written code"
         ],
         "xaxis": "x",
         "y": [
          13.42,
          23.98,
          24.71,
          15.45,
          19.51,
          11.06,
          10.09
         ],
         "yaxis": "y"
        },
        {
         "alignmentgroup": "True",
         "hovertemplate": "<b>%{text} (%)</b> of participants that <b>%{x}</b> have the income <b>%{fullData.name}</b>",
         "legendgroup": "$100,000-300,000",
         "marker": {
          "color": "#1c737b",
          "line": {
           "color": "black",
           "width": 1
          },
          "pattern": {
           "shape": ""
          }
         },
         "name": "$100,000-300,000",
         "offsetgroup": "$100,000-300,000",
         "orientation": "v",
         "showlegend": true,
         "text": [
          5.11,
          25.71,
          34.2,
          11.83,
          21.09,
          3.75,
          5.12
         ],
         "textposition": "auto",
         "type": "bar",
         "x": [
          "1-3 years",
          "10-20 years",
          "20+ years",
          "3-5 years",
          "5-10 years",
          "< 1 years",
          "I have never written code"
         ],
         "xaxis": "x",
         "y": [
          5.11,
          25.71,
          34.2,
          11.83,
          21.09,
          3.75,
          5.12
         ],
         "yaxis": "y"
        },
        {
         "alignmentgroup": "True",
         "hovertemplate": "<b>%{text} (%)</b> of participants that <b>%{x}</b> have the income <b>%{fullData.name}</b>",
         "legendgroup": "$300,000-500,000",
         "marker": {
          "color": "#14526e",
          "line": {
           "color": "black",
           "width": 1
          },
          "pattern": {
           "shape": ""
          }
         },
         "name": "$300,000-500,000",
         "offsetgroup": "$300,000-500,000",
         "orientation": "v",
         "showlegend": true,
         "text": [
          0.34,
          1.65,
          3.26,
          0.24,
          0.72,
          0.35,
          0.15
         ],
         "textposition": "auto",
         "type": "bar",
         "x": [
          "1-3 years",
          "10-20 years",
          "20+ years",
          "3-5 years",
          "5-10 years",
          "< 1 years",
          "I have never written code"
         ],
         "xaxis": "x",
         "y": [
          0.34,
          1.65,
          3.26,
          0.24,
          0.72,
          0.35,
          0.15
         ],
         "yaxis": "y"
        },
        {
         "alignmentgroup": "True",
         "hovertemplate": "<b>%{text} (%)</b> of participants that <b>%{x}</b> have the income <b>%{fullData.name}</b>",
         "legendgroup": ">$500,000",
         "marker": {
          "color": "#071952",
          "line": {
           "color": "black",
           "width": 1
          },
          "pattern": {
           "shape": ""
          }
         },
         "name": ">$500,000",
         "offsetgroup": ">$500,000",
         "orientation": "v",
         "showlegend": true,
         "text": [
          0.68,
          1.3,
          2.01,
          0.4,
          0.79,
          0.35,
          0.73
         ],
         "textposition": "auto",
         "type": "bar",
         "x": [
          "1-3 years",
          "10-20 years",
          "20+ years",
          "3-5 years",
          "5-10 years",
          "< 1 years",
          "I have never written code"
         ],
         "xaxis": "x",
         "y": [
          0.68,
          1.3,
          2.01,
          0.4,
          0.79,
          0.35,
          0.73
         ],
         "yaxis": "y"
        }
       ],
       "layout": {
        "barmode": "stack",
        "height": 600,
        "legend": {
         "title": {
          "text": "<b>Current income</b>"
         },
         "tracegroupgap": 0
        },
        "margin": {
         "b": 20,
         "l": 20,
         "r": 30,
         "t": 70
        },
        "paper_bgcolor": "#ffe6cc",
        "template": {
         "data": {
          "bar": [
           {
            "error_x": {
             "color": "#2a3f5f"
            },
            "error_y": {
             "color": "#2a3f5f"
            },
            "marker": {
             "line": {
              "color": "#E5ECF6",
              "width": 0.5
             },
             "pattern": {
              "fillmode": "overlay",
              "size": 10,
              "solidity": 0.2
             }
            },
            "type": "bar"
           }
          ],
          "barpolar": [
           {
            "marker": {
             "line": {
              "color": "#E5ECF6",
              "width": 0.5
             },
             "pattern": {
              "fillmode": "overlay",
              "size": 10,
              "solidity": 0.2
             }
            },
            "type": "barpolar"
           }
          ],
          "carpet": [
           {
            "aaxis": {
             "endlinecolor": "#2a3f5f",
             "gridcolor": "white",
             "linecolor": "white",
             "minorgridcolor": "white",
             "startlinecolor": "#2a3f5f"
            },
            "baxis": {
             "endlinecolor": "#2a3f5f",
             "gridcolor": "white",
             "linecolor": "white",
             "minorgridcolor": "white",
             "startlinecolor": "#2a3f5f"
            },
            "type": "carpet"
           }
          ],
          "choropleth": [
           {
            "colorbar": {
             "outlinewidth": 0,
             "ticks": ""
            },
            "type": "choropleth"
           }
          ],
          "contour": [
           {
            "colorbar": {
             "outlinewidth": 0,
             "ticks": ""
            },
            "colorscale": [
             [
              0,
              "#0d0887"
             ],
             [
              0.1111111111111111,
              "#46039f"
             ],
             [
              0.2222222222222222,
              "#7201a8"
             ],
             [
              0.3333333333333333,
              "#9c179e"
             ],
             [
              0.4444444444444444,
              "#bd3786"
             ],
             [
              0.5555555555555556,
              "#d8576b"
             ],
             [
              0.6666666666666666,
              "#ed7953"
             ],
             [
              0.7777777777777778,
              "#fb9f3a"
             ],
             [
              0.8888888888888888,
              "#fdca26"
             ],
             [
              1,
              "#f0f921"
             ]
            ],
            "type": "contour"
           }
          ],
          "contourcarpet": [
           {
            "colorbar": {
             "outlinewidth": 0,
             "ticks": ""
            },
            "type": "contourcarpet"
           }
          ],
          "heatmap": [
           {
            "colorbar": {
             "outlinewidth": 0,
             "ticks": ""
            },
            "colorscale": [
             [
              0,
              "#0d0887"
             ],
             [
              0.1111111111111111,
              "#46039f"
             ],
             [
              0.2222222222222222,
              "#7201a8"
             ],
             [
              0.3333333333333333,
              "#9c179e"
             ],
             [
              0.4444444444444444,
              "#bd3786"
             ],
             [
              0.5555555555555556,
              "#d8576b"
             ],
             [
              0.6666666666666666,
              "#ed7953"
             ],
             [
              0.7777777777777778,
              "#fb9f3a"
             ],
             [
              0.8888888888888888,
              "#fdca26"
             ],
             [
              1,
              "#f0f921"
             ]
            ],
            "type": "heatmap"
           }
          ],
          "heatmapgl": [
           {
            "colorbar": {
             "outlinewidth": 0,
             "ticks": ""
            },
            "colorscale": [
             [
              0,
              "#0d0887"
             ],
             [
              0.1111111111111111,
              "#46039f"
             ],
             [
              0.2222222222222222,
              "#7201a8"
             ],
             [
              0.3333333333333333,
              "#9c179e"
             ],
             [
              0.4444444444444444,
              "#bd3786"
             ],
             [
              0.5555555555555556,
              "#d8576b"
             ],
             [
              0.6666666666666666,
              "#ed7953"
             ],
             [
              0.7777777777777778,
              "#fb9f3a"
             ],
             [
              0.8888888888888888,
              "#fdca26"
             ],
             [
              1,
              "#f0f921"
             ]
            ],
            "type": "heatmapgl"
           }
          ],
          "histogram": [
           {
            "marker": {
             "pattern": {
              "fillmode": "overlay",
              "size": 10,
              "solidity": 0.2
             }
            },
            "type": "histogram"
           }
          ],
          "histogram2d": [
           {
            "colorbar": {
             "outlinewidth": 0,
             "ticks": ""
            },
            "colorscale": [
             [
              0,
              "#0d0887"
             ],
             [
              0.1111111111111111,
              "#46039f"
             ],
             [
              0.2222222222222222,
              "#7201a8"
             ],
             [
              0.3333333333333333,
              "#9c179e"
             ],
             [
              0.4444444444444444,
              "#bd3786"
             ],
             [
              0.5555555555555556,
              "#d8576b"
             ],
             [
              0.6666666666666666,
              "#ed7953"
             ],
             [
              0.7777777777777778,
              "#fb9f3a"
             ],
             [
              0.8888888888888888,
              "#fdca26"
             ],
             [
              1,
              "#f0f921"
             ]
            ],
            "type": "histogram2d"
           }
          ],
          "histogram2dcontour": [
           {
            "colorbar": {
             "outlinewidth": 0,
             "ticks": ""
            },
            "colorscale": [
             [
              0,
              "#0d0887"
             ],
             [
              0.1111111111111111,
              "#46039f"
             ],
             [
              0.2222222222222222,
              "#7201a8"
             ],
             [
              0.3333333333333333,
              "#9c179e"
             ],
             [
              0.4444444444444444,
              "#bd3786"
             ],
             [
              0.5555555555555556,
              "#d8576b"
             ],
             [
              0.6666666666666666,
              "#ed7953"
             ],
             [
              0.7777777777777778,
              "#fb9f3a"
             ],
             [
              0.8888888888888888,
              "#fdca26"
             ],
             [
              1,
              "#f0f921"
             ]
            ],
            "type": "histogram2dcontour"
           }
          ],
          "mesh3d": [
           {
            "colorbar": {
             "outlinewidth": 0,
             "ticks": ""
            },
            "type": "mesh3d"
           }
          ],
          "parcoords": [
           {
            "line": {
             "colorbar": {
              "outlinewidth": 0,
              "ticks": ""
             }
            },
            "type": "parcoords"
           }
          ],
          "pie": [
           {
            "automargin": true,
            "type": "pie"
           }
          ],
          "scatter": [
           {
            "fillpattern": {
             "fillmode": "overlay",
             "size": 10,
             "solidity": 0.2
            },
            "type": "scatter"
           }
          ],
          "scatter3d": [
           {
            "line": {
             "colorbar": {
              "outlinewidth": 0,
              "ticks": ""
             }
            },
            "marker": {
             "colorbar": {
              "outlinewidth": 0,
              "ticks": ""
             }
            },
            "type": "scatter3d"
           }
          ],
          "scattercarpet": [
           {
            "marker": {
             "colorbar": {
              "outlinewidth": 0,
              "ticks": ""
             }
            },
            "type": "scattercarpet"
           }
          ],
          "scattergeo": [
           {
            "marker": {
             "colorbar": {
              "outlinewidth": 0,
              "ticks": ""
             }
            },
            "type": "scattergeo"
           }
          ],
          "scattergl": [
           {
            "marker": {
             "colorbar": {
              "outlinewidth": 0,
              "ticks": ""
             }
            },
            "type": "scattergl"
           }
          ],
          "scattermapbox": [
           {
            "marker": {
             "colorbar": {
              "outlinewidth": 0,
              "ticks": ""
             }
            },
            "type": "scattermapbox"
           }
          ],
          "scatterpolar": [
           {
            "marker": {
             "colorbar": {
              "outlinewidth": 0,
              "ticks": ""
             }
            },
            "type": "scatterpolar"
           }
          ],
          "scatterpolargl": [
           {
            "marker": {
             "colorbar": {
              "outlinewidth": 0,
              "ticks": ""
             }
            },
            "type": "scatterpolargl"
           }
          ],
          "scatterternary": [
           {
            "marker": {
             "colorbar": {
              "outlinewidth": 0,
              "ticks": ""
             }
            },
            "type": "scatterternary"
           }
          ],
          "surface": [
           {
            "colorbar": {
             "outlinewidth": 0,
             "ticks": ""
            },
            "colorscale": [
             [
              0,
              "#0d0887"
             ],
             [
              0.1111111111111111,
              "#46039f"
             ],
             [
              0.2222222222222222,
              "#7201a8"
             ],
             [
              0.3333333333333333,
              "#9c179e"
             ],
             [
              0.4444444444444444,
              "#bd3786"
             ],
             [
              0.5555555555555556,
              "#d8576b"
             ],
             [
              0.6666666666666666,
              "#ed7953"
             ],
             [
              0.7777777777777778,
              "#fb9f3a"
             ],
             [
              0.8888888888888888,
              "#fdca26"
             ],
             [
              1,
              "#f0f921"
             ]
            ],
            "type": "surface"
           }
          ],
          "table": [
           {
            "cells": {
             "fill": {
              "color": "#EBF0F8"
             },
             "line": {
              "color": "white"
             }
            },
            "header": {
             "fill": {
              "color": "#C8D4E3"
             },
             "line": {
              "color": "white"
             }
            },
            "type": "table"
           }
          ]
         },
         "layout": {
          "annotationdefaults": {
           "arrowcolor": "#2a3f5f",
           "arrowhead": 0,
           "arrowwidth": 1
          },
          "autotypenumbers": "strict",
          "coloraxis": {
           "colorbar": {
            "outlinewidth": 0,
            "ticks": ""
           }
          },
          "colorscale": {
           "diverging": [
            [
             0,
             "#8e0152"
            ],
            [
             0.1,
             "#c51b7d"
            ],
            [
             0.2,
             "#de77ae"
            ],
            [
             0.3,
             "#f1b6da"
            ],
            [
             0.4,
             "#fde0ef"
            ],
            [
             0.5,
             "#f7f7f7"
            ],
            [
             0.6,
             "#e6f5d0"
            ],
            [
             0.7,
             "#b8e186"
            ],
            [
             0.8,
             "#7fbc41"
            ],
            [
             0.9,
             "#4d9221"
            ],
            [
             1,
             "#276419"
            ]
           ],
           "sequential": [
            [
             0,
             "#0d0887"
            ],
            [
             0.1111111111111111,
             "#46039f"
            ],
            [
             0.2222222222222222,
             "#7201a8"
            ],
            [
             0.3333333333333333,
             "#9c179e"
            ],
            [
             0.4444444444444444,
             "#bd3786"
            ],
            [
             0.5555555555555556,
             "#d8576b"
            ],
            [
             0.6666666666666666,
             "#ed7953"
            ],
            [
             0.7777777777777778,
             "#fb9f3a"
            ],
            [
             0.8888888888888888,
             "#fdca26"
            ],
            [
             1,
             "#f0f921"
            ]
           ],
           "sequentialminus": [
            [
             0,
             "#0d0887"
            ],
            [
             0.1111111111111111,
             "#46039f"
            ],
            [
             0.2222222222222222,
             "#7201a8"
            ],
            [
             0.3333333333333333,
             "#9c179e"
            ],
            [
             0.4444444444444444,
             "#bd3786"
            ],
            [
             0.5555555555555556,
             "#d8576b"
            ],
            [
             0.6666666666666666,
             "#ed7953"
            ],
            [
             0.7777777777777778,
             "#fb9f3a"
            ],
            [
             0.8888888888888888,
             "#fdca26"
            ],
            [
             1,
             "#f0f921"
            ]
           ]
          },
          "colorway": [
           "#636efa",
           "#EF553B",
           "#00cc96",
           "#ab63fa",
           "#FFA15A",
           "#19d3f3",
           "#FF6692",
           "#B6E880",
           "#FF97FF",
           "#FECB52"
          ],
          "font": {
           "color": "#2a3f5f"
          },
          "geo": {
           "bgcolor": "white",
           "lakecolor": "white",
           "landcolor": "#E5ECF6",
           "showlakes": true,
           "showland": true,
           "subunitcolor": "white"
          },
          "hoverlabel": {
           "align": "left"
          },
          "hovermode": "closest",
          "mapbox": {
           "style": "light"
          },
          "paper_bgcolor": "white",
          "plot_bgcolor": "#E5ECF6",
          "polar": {
           "angularaxis": {
            "gridcolor": "white",
            "linecolor": "white",
            "ticks": ""
           },
           "bgcolor": "#E5ECF6",
           "radialaxis": {
            "gridcolor": "white",
            "linecolor": "white",
            "ticks": ""
           }
          },
          "scene": {
           "xaxis": {
            "backgroundcolor": "#E5ECF6",
            "gridcolor": "white",
            "gridwidth": 2,
            "linecolor": "white",
            "showbackground": true,
            "ticks": "",
            "zerolinecolor": "white"
           },
           "yaxis": {
            "backgroundcolor": "#E5ECF6",
            "gridcolor": "white",
            "gridwidth": 2,
            "linecolor": "white",
            "showbackground": true,
            "ticks": "",
            "zerolinecolor": "white"
           },
           "zaxis": {
            "backgroundcolor": "#E5ECF6",
            "gridcolor": "white",
            "gridwidth": 2,
            "linecolor": "white",
            "showbackground": true,
            "ticks": "",
            "zerolinecolor": "white"
           }
          },
          "shapedefaults": {
           "line": {
            "color": "#2a3f5f"
           }
          },
          "ternary": {
           "aaxis": {
            "gridcolor": "white",
            "linecolor": "white",
            "ticks": ""
           },
           "baxis": {
            "gridcolor": "white",
            "linecolor": "white",
            "ticks": ""
           },
           "bgcolor": "#E5ECF6",
           "caxis": {
            "gridcolor": "white",
            "linecolor": "white",
            "ticks": ""
           }
          },
          "title": {
           "x": 0.05
          },
          "xaxis": {
           "automargin": true,
           "gridcolor": "white",
           "linecolor": "white",
           "ticks": "",
           "title": {
            "standoff": 15
           },
           "zerolinecolor": "white",
           "zerolinewidth": 2
          },
          "yaxis": {
           "automargin": true,
           "gridcolor": "white",
           "linecolor": "white",
           "ticks": "",
           "title": {
            "standoff": 15
           },
           "zerolinecolor": "white",
           "zerolinewidth": 2
          }
         }
        },
        "title": {
         "font": {
          "size": 25
         },
         "text": "<b>Participants' current income by level of education</b>"
        },
        "width": 1100,
        "xaxis": {
         "anchor": "y",
         "categoryarray": [
          "I have never written code",
          "< 1 years",
          "1-3 years",
          "3-5 years",
          "5-10 years",
          "10-20 years",
          "20+ years"
         ],
         "categoryorder": "array",
         "domain": [
          0,
          1
         ],
         "tickfont": {
          "size": 14
         },
         "title": {
          "text": "<b>Programming experience</b>"
         }
        },
        "yaxis": {
         "anchor": "x",
         "domain": [
          0,
          1
         ],
         "tickfont": {
          "size": 14
         },
         "ticksuffix": " ",
         "title": {
          "text": "<b>Percentage</b>"
         }
        }
       }
      }
     },
     "metadata": {},
     "output_type": "display_data"
    }
   ],
   "source": [
    "fig = stacked_bar_plot(experience_income_df, 'Programming experience', 'Percentage', 'Current income' , 'Percentage', ['#F2F7A1', '#84ce69', '#309771','#1c737b','#14526e' ,'#071952'],\n",
    "                        'Programming experience',  ['I have never written code', '< 1 years', '1-3 years', '3-5 years', '5-10 years', '10-20 years', '20+ years'])\n",
    "fig.update_layout(\n",
    "    title_text = '<b>Participants\\' current income by level of education</b>',\n",
    "    )\n",
    "\n",
    "fig.update_traces(marker_line_color='black', marker_line_width = 1, hovertemplate = '<b>%{text} (%)</b> of participants that <b>%{x}</b> have the income <b>%{fullData.name}</b>')\n",
    "fig.show()"
   ]
  },
  {
   "cell_type": "markdown",
   "metadata": {},
   "source": [
    "From this plot, we can see the overall trend is when individuals get more programming experience, their income potential tends to increase. We will dicuss in detail below:\n",
    "- With experience `<3 years`: This is the early state of participant to acess to a new programming language, aslo they wil get lower income, which over 50% of them is in `<$10,000`.\n",
    "- With experience `3-10 years`: In this range, the icome of participants will increase with higher percentage of higher income range.\n",
    "- With experience `>10 years`: While there still individuals that have low income, but at this experience, most of participants will get a higher income, expecially in range `$100,000-300,000` and `$300,000-500,000`."
   ]
  },
  {
   "cell_type": "markdown",
   "metadata": {},
   "source": [
    "###  **1.6 Income distribution by the current industry**\n",
    "\n",
    "The current industry that a person is working in also affect alot to the income."
   ]
  },
  {
   "cell_type": "code",
   "execution_count": 20,
   "metadata": {},
   "outputs": [],
   "source": [
    "industry_income_df = processed_income_df.groupby('Current industry')['Current income'].value_counts().reset_index(name = 'Count')\n",
    "industry_income_df.loc[:,'Percentage'] = ((industry_income_df['Count'] / industry_income_df.groupby('Current industry')['Count'].transform('sum'))*100)\n",
    "industry_income_df['Percentage'] = industry_income_df['Percentage'].round(2)\n",
    "industry_income_df = industry_income_df.sort_values(by='Percentage', ascending=False)"
   ]
  },
  {
   "cell_type": "code",
   "execution_count": 21,
   "metadata": {},
   "outputs": [
    {
     "data": {
      "application/vnd.plotly.v1+json": {
       "config": {
        "plotlyServerURL": "https://plot.ly"
       },
       "data": [
        {
         "alignmentgroup": "True",
         "hovertemplate": "<b>%{text} (%)</b> of participants that in <b>%{x}</b> industry have the income <b>%{fullData.name}</b>",
         "legendgroup": "<$10,000",
         "marker": {
          "color": "#8ADAB2",
          "line": {
           "color": "black",
           "width": 0.5
          },
          "pattern": {
           "shape": ""
          }
         },
         "name": "<$10,000",
         "offsetgroup": "<$10,000",
         "orientation": "v",
         "showlegend": true,
         "text": [
          50.57,
          49.19,
          40.64,
          39.6,
          38.54,
          38.08,
          36.22,
          35.52,
          33.33,
          31.96,
          31.93,
          29.63,
          29.28,
          25.77,
          22.84
         ],
         "textposition": "auto",
         "type": "bar",
         "x": [
          "Non-profit/Service",
          "Academics/Education",
          "Marketing/CRM",
          "Other",
          "Energy/Mining",
          "Computers/Technology",
          "Retail/Sales",
          "Manufacturing/Fabrication",
          "Online Service/Internet-based Services",
          "Accounting/Finance",
          "Government/Public Service",
          "Shipping/Transportation",
          "Insurance/Risk Assessment",
          "Medical/Pharmaceutical",
          "Broadcasting/Communications"
         ],
         "xaxis": "x",
         "y": [
          50.57,
          49.19,
          40.64,
          39.6,
          38.54,
          38.08,
          36.22,
          35.52,
          33.33,
          31.96,
          31.93,
          29.63,
          29.28,
          25.77,
          22.84
         ],
         "yaxis": "y"
        },
        {
         "alignmentgroup": "True",
         "hovertemplate": "<b>%{text} (%)</b> of participants that in <b>%{x}</b> industry have the income <b>%{fullData.name}</b>",
         "legendgroup": "$10,000-50,000",
         "marker": {
          "color": "#B5CB99",
          "line": {
           "color": "black",
           "width": 0.5
          },
          "pattern": {
           "shape": ""
          }
         },
         "name": "$10,000-50,000",
         "offsetgroup": "$10,000-50,000",
         "orientation": "v",
         "showlegend": true,
         "text": [
          38.89,
          33.33,
          32.43,
          30.16,
          30.16,
          29.49,
          28.7,
          27.41,
          27.06,
          25.68,
          25.42,
          24.67,
          24.65,
          23.74,
          22.16
         ],
         "textposition": "auto",
         "type": "bar",
         "x": [
          "Broadcasting/Communications",
          "Shipping/Transportation",
          "Retail/Sales",
          "Government/Public Service",
          "Manufacturing/Fabrication",
          "Accounting/Finance",
          "Computers/Technology",
          "Academics/Education",
          "Other",
          "Insurance/Risk Assessment",
          "Online Service/Internet-based Services",
          "Medical/Pharmaceutical",
          "Energy/Mining",
          "Marketing/CRM",
          "Non-profit/Service"
         ],
         "xaxis": "x",
         "y": [
          38.89,
          33.33,
          32.43,
          30.16,
          30.16,
          29.49,
          28.7,
          27.41,
          27.06,
          25.68,
          25.42,
          24.67,
          24.65,
          23.74,
          22.16
         ],
         "yaxis": "y"
        },
        {
         "alignmentgroup": "True",
         "hovertemplate": "<b>%{text} (%)</b> of participants that in <b>%{x}</b> industry have the income <b>%{fullData.name}</b>",
         "legendgroup": "$50,000-100,000",
         "marker": {
          "color": "#E48F45",
          "line": {
           "color": "black",
           "width": 0.5
          },
          "pattern": {
           "shape": ""
          }
         },
         "name": "$50,000-100,000",
         "offsetgroup": "$50,000-100,000",
         "orientation": "v",
         "showlegend": true,
         "text": [
          23.21,
          22.22,
          21.81,
          20.14,
          19.96,
          19.37,
          19.14,
          18.72,
          17.27,
          17.01,
          16.01,
          15.95,
          14.83,
          14.49,
          14.2
         ],
         "textposition": "auto",
         "type": "bar",
         "x": [
          "Manufacturing/Fabrication",
          "Shipping/Transportation",
          "Medical/Pharmaceutical",
          "Energy/Mining",
          "Government/Public Service",
          "Insurance/Risk Assessment",
          "Broadcasting/Communications",
          "Marketing/CRM",
          "Online Service/Internet-based Services",
          "Accounting/Finance",
          "Academics/Education",
          "Retail/Sales",
          "Other",
          "Computers/Technology",
          "Non-profit/Service"
         ],
         "xaxis": "x",
         "y": [
          23.21,
          22.22,
          21.81,
          20.14,
          19.96,
          19.37,
          19.14,
          18.72,
          17.27,
          17.01,
          16.01,
          15.95,
          14.83,
          14.49,
          14.2
         ],
         "yaxis": "y"
        },
        {
         "alignmentgroup": "True",
         "hovertemplate": "<b>%{text} (%)</b> of participants that in <b>%{x}</b> industry have the income <b>%{fullData.name}</b>",
         "legendgroup": "$100,000-300,000",
         "marker": {
          "color": "#CD6688",
          "line": {
           "color": "black",
           "width": 0.5
          },
          "pattern": {
           "shape": ""
          }
         },
         "name": "$100,000-300,000",
         "offsetgroup": "$100,000-300,000",
         "orientation": "v",
         "showlegend": true,
         "text": [
          26.65,
          23.42,
          21.1,
          17.56,
          16.85,
          16.67,
          16.32,
          16.21,
          15.98,
          15.9,
          15.14,
          14.81,
          11.93,
          10.52,
          7.01
         ],
         "textposition": "auto",
         "type": "bar",
         "x": [
          "Medical/Pharmaceutical",
          "Insurance/Risk Assessment",
          "Online Service/Internet-based Services",
          "Accounting/Finance",
          "Government/Public Service",
          "Broadcasting/Communications",
          "Energy/Mining",
          "Other",
          "Marketing/CRM",
          "Computers/Technology",
          "Retail/Sales",
          "Shipping/Transportation",
          "Non-profit/Service",
          "Manufacturing/Fabrication",
          "Academics/Education"
         ],
         "xaxis": "x",
         "y": [
          26.65,
          23.42,
          21.1,
          17.56,
          16.85,
          16.67,
          16.32,
          16.21,
          15.98,
          15.9,
          15.14,
          14.81,
          11.93,
          10.52,
          7.01
         ],
         "yaxis": "y"
        },
        {
         "alignmentgroup": "True",
         "hovertemplate": "<b>%{text} (%)</b> of participants that in <b>%{x}</b> industry have the income <b>%{fullData.name}</b>",
         "legendgroup": "$300,000-500,000",
         "marker": {
          "color": "#7A316F",
          "line": {
           "color": "black",
           "width": 0.5
          },
          "pattern": {
           "shape": ""
          }
         },
         "name": "$300,000-500,000",
         "offsetgroup": "$300,000-500,000",
         "orientation": "v",
         "showlegend": true,
         "text": [
          2.19,
          1.85,
          1.8,
          1.44,
          1.41,
          1.07,
          0.66,
          0.46,
          0.44,
          0.4,
          0.35,
          0.15
         ],
         "textposition": "auto",
         "type": "bar",
         "x": [
          "Accounting/Finance",
          "Broadcasting/Communications",
          "Insurance/Risk Assessment",
          "Online Service/Internet-based Services",
          "Computers/Technology",
          "Other",
          "Medical/Pharmaceutical",
          "Marketing/CRM",
          "Government/Public Service",
          "Manufacturing/Fabrication",
          "Energy/Mining",
          "Academics/Education"
         ],
         "xaxis": "x",
         "y": [
          2.19,
          1.85,
          1.8,
          1.44,
          1.41,
          1.07,
          0.66,
          0.46,
          0.44,
          0.4,
          0.35,
          0.15
         ],
         "yaxis": "y"
        },
        {
         "alignmentgroup": "True",
         "hovertemplate": "<b>%{text} (%)</b> of participants that in <b>%{x}</b> industry have the income <b>%{fullData.name}</b>",
         "legendgroup": ">$500,000",
         "marker": {
          "color": "#461959",
          "line": {
           "color": "black",
           "width": 0.5
          },
          "pattern": {
           "shape": ""
          }
         },
         "name": ">$500,000",
         "offsetgroup": ">$500,000",
         "orientation": "v",
         "showlegend": true,
         "text": [
          1.78,
          1.44,
          1.41,
          1.22,
          1.14,
          0.67,
          0.62,
          0.46,
          0.45,
          0.44,
          0.27,
          0.23,
          0.2
         ],
         "textposition": "auto",
         "type": "bar",
         "x": [
          "Accounting/Finance",
          "Online Service/Internet-based Services",
          "Computers/Technology",
          "Other",
          "Non-profit/Service",
          "Government/Public Service",
          "Broadcasting/Communications",
          "Marketing/CRM",
          "Insurance/Risk Assessment",
          "Medical/Pharmaceutical",
          "Retail/Sales",
          "Academics/Education",
          "Manufacturing/Fabrication"
         ],
         "xaxis": "x",
         "y": [
          1.78,
          1.44,
          1.41,
          1.22,
          1.14,
          0.67,
          0.62,
          0.46,
          0.45,
          0.44,
          0.27,
          0.23,
          0.2
         ],
         "yaxis": "y"
        }
       ],
       "layout": {
        "barmode": "stack",
        "height": 600,
        "legend": {
         "title": {
          "text": "<b>Current income</b>"
         },
         "tracegroupgap": 0
        },
        "margin": {
         "b": 20,
         "l": 20,
         "r": 30,
         "t": 70
        },
        "paper_bgcolor": "#ffe6cc",
        "template": {
         "data": {
          "bar": [
           {
            "error_x": {
             "color": "#2a3f5f"
            },
            "error_y": {
             "color": "#2a3f5f"
            },
            "marker": {
             "line": {
              "color": "#E5ECF6",
              "width": 0.5
             },
             "pattern": {
              "fillmode": "overlay",
              "size": 10,
              "solidity": 0.2
             }
            },
            "type": "bar"
           }
          ],
          "barpolar": [
           {
            "marker": {
             "line": {
              "color": "#E5ECF6",
              "width": 0.5
             },
             "pattern": {
              "fillmode": "overlay",
              "size": 10,
              "solidity": 0.2
             }
            },
            "type": "barpolar"
           }
          ],
          "carpet": [
           {
            "aaxis": {
             "endlinecolor": "#2a3f5f",
             "gridcolor": "white",
             "linecolor": "white",
             "minorgridcolor": "white",
             "startlinecolor": "#2a3f5f"
            },
            "baxis": {
             "endlinecolor": "#2a3f5f",
             "gridcolor": "white",
             "linecolor": "white",
             "minorgridcolor": "white",
             "startlinecolor": "#2a3f5f"
            },
            "type": "carpet"
           }
          ],
          "choropleth": [
           {
            "colorbar": {
             "outlinewidth": 0,
             "ticks": ""
            },
            "type": "choropleth"
           }
          ],
          "contour": [
           {
            "colorbar": {
             "outlinewidth": 0,
             "ticks": ""
            },
            "colorscale": [
             [
              0,
              "#0d0887"
             ],
             [
              0.1111111111111111,
              "#46039f"
             ],
             [
              0.2222222222222222,
              "#7201a8"
             ],
             [
              0.3333333333333333,
              "#9c179e"
             ],
             [
              0.4444444444444444,
              "#bd3786"
             ],
             [
              0.5555555555555556,
              "#d8576b"
             ],
             [
              0.6666666666666666,
              "#ed7953"
             ],
             [
              0.7777777777777778,
              "#fb9f3a"
             ],
             [
              0.8888888888888888,
              "#fdca26"
             ],
             [
              1,
              "#f0f921"
             ]
            ],
            "type": "contour"
           }
          ],
          "contourcarpet": [
           {
            "colorbar": {
             "outlinewidth": 0,
             "ticks": ""
            },
            "type": "contourcarpet"
           }
          ],
          "heatmap": [
           {
            "colorbar": {
             "outlinewidth": 0,
             "ticks": ""
            },
            "colorscale": [
             [
              0,
              "#0d0887"
             ],
             [
              0.1111111111111111,
              "#46039f"
             ],
             [
              0.2222222222222222,
              "#7201a8"
             ],
             [
              0.3333333333333333,
              "#9c179e"
             ],
             [
              0.4444444444444444,
              "#bd3786"
             ],
             [
              0.5555555555555556,
              "#d8576b"
             ],
             [
              0.6666666666666666,
              "#ed7953"
             ],
             [
              0.7777777777777778,
              "#fb9f3a"
             ],
             [
              0.8888888888888888,
              "#fdca26"
             ],
             [
              1,
              "#f0f921"
             ]
            ],
            "type": "heatmap"
           }
          ],
          "heatmapgl": [
           {
            "colorbar": {
             "outlinewidth": 0,
             "ticks": ""
            },
            "colorscale": [
             [
              0,
              "#0d0887"
             ],
             [
              0.1111111111111111,
              "#46039f"
             ],
             [
              0.2222222222222222,
              "#7201a8"
             ],
             [
              0.3333333333333333,
              "#9c179e"
             ],
             [
              0.4444444444444444,
              "#bd3786"
             ],
             [
              0.5555555555555556,
              "#d8576b"
             ],
             [
              0.6666666666666666,
              "#ed7953"
             ],
             [
              0.7777777777777778,
              "#fb9f3a"
             ],
             [
              0.8888888888888888,
              "#fdca26"
             ],
             [
              1,
              "#f0f921"
             ]
            ],
            "type": "heatmapgl"
           }
          ],
          "histogram": [
           {
            "marker": {
             "pattern": {
              "fillmode": "overlay",
              "size": 10,
              "solidity": 0.2
             }
            },
            "type": "histogram"
           }
          ],
          "histogram2d": [
           {
            "colorbar": {
             "outlinewidth": 0,
             "ticks": ""
            },
            "colorscale": [
             [
              0,
              "#0d0887"
             ],
             [
              0.1111111111111111,
              "#46039f"
             ],
             [
              0.2222222222222222,
              "#7201a8"
             ],
             [
              0.3333333333333333,
              "#9c179e"
             ],
             [
              0.4444444444444444,
              "#bd3786"
             ],
             [
              0.5555555555555556,
              "#d8576b"
             ],
             [
              0.6666666666666666,
              "#ed7953"
             ],
             [
              0.7777777777777778,
              "#fb9f3a"
             ],
             [
              0.8888888888888888,
              "#fdca26"
             ],
             [
              1,
              "#f0f921"
             ]
            ],
            "type": "histogram2d"
           }
          ],
          "histogram2dcontour": [
           {
            "colorbar": {
             "outlinewidth": 0,
             "ticks": ""
            },
            "colorscale": [
             [
              0,
              "#0d0887"
             ],
             [
              0.1111111111111111,
              "#46039f"
             ],
             [
              0.2222222222222222,
              "#7201a8"
             ],
             [
              0.3333333333333333,
              "#9c179e"
             ],
             [
              0.4444444444444444,
              "#bd3786"
             ],
             [
              0.5555555555555556,
              "#d8576b"
             ],
             [
              0.6666666666666666,
              "#ed7953"
             ],
             [
              0.7777777777777778,
              "#fb9f3a"
             ],
             [
              0.8888888888888888,
              "#fdca26"
             ],
             [
              1,
              "#f0f921"
             ]
            ],
            "type": "histogram2dcontour"
           }
          ],
          "mesh3d": [
           {
            "colorbar": {
             "outlinewidth": 0,
             "ticks": ""
            },
            "type": "mesh3d"
           }
          ],
          "parcoords": [
           {
            "line": {
             "colorbar": {
              "outlinewidth": 0,
              "ticks": ""
             }
            },
            "type": "parcoords"
           }
          ],
          "pie": [
           {
            "automargin": true,
            "type": "pie"
           }
          ],
          "scatter": [
           {
            "fillpattern": {
             "fillmode": "overlay",
             "size": 10,
             "solidity": 0.2
            },
            "type": "scatter"
           }
          ],
          "scatter3d": [
           {
            "line": {
             "colorbar": {
              "outlinewidth": 0,
              "ticks": ""
             }
            },
            "marker": {
             "colorbar": {
              "outlinewidth": 0,
              "ticks": ""
             }
            },
            "type": "scatter3d"
           }
          ],
          "scattercarpet": [
           {
            "marker": {
             "colorbar": {
              "outlinewidth": 0,
              "ticks": ""
             }
            },
            "type": "scattercarpet"
           }
          ],
          "scattergeo": [
           {
            "marker": {
             "colorbar": {
              "outlinewidth": 0,
              "ticks": ""
             }
            },
            "type": "scattergeo"
           }
          ],
          "scattergl": [
           {
            "marker": {
             "colorbar": {
              "outlinewidth": 0,
              "ticks": ""
             }
            },
            "type": "scattergl"
           }
          ],
          "scattermapbox": [
           {
            "marker": {
             "colorbar": {
              "outlinewidth": 0,
              "ticks": ""
             }
            },
            "type": "scattermapbox"
           }
          ],
          "scatterpolar": [
           {
            "marker": {
             "colorbar": {
              "outlinewidth": 0,
              "ticks": ""
             }
            },
            "type": "scatterpolar"
           }
          ],
          "scatterpolargl": [
           {
            "marker": {
             "colorbar": {
              "outlinewidth": 0,
              "ticks": ""
             }
            },
            "type": "scatterpolargl"
           }
          ],
          "scatterternary": [
           {
            "marker": {
             "colorbar": {
              "outlinewidth": 0,
              "ticks": ""
             }
            },
            "type": "scatterternary"
           }
          ],
          "surface": [
           {
            "colorbar": {
             "outlinewidth": 0,
             "ticks": ""
            },
            "colorscale": [
             [
              0,
              "#0d0887"
             ],
             [
              0.1111111111111111,
              "#46039f"
             ],
             [
              0.2222222222222222,
              "#7201a8"
             ],
             [
              0.3333333333333333,
              "#9c179e"
             ],
             [
              0.4444444444444444,
              "#bd3786"
             ],
             [
              0.5555555555555556,
              "#d8576b"
             ],
             [
              0.6666666666666666,
              "#ed7953"
             ],
             [
              0.7777777777777778,
              "#fb9f3a"
             ],
             [
              0.8888888888888888,
              "#fdca26"
             ],
             [
              1,
              "#f0f921"
             ]
            ],
            "type": "surface"
           }
          ],
          "table": [
           {
            "cells": {
             "fill": {
              "color": "#EBF0F8"
             },
             "line": {
              "color": "white"
             }
            },
            "header": {
             "fill": {
              "color": "#C8D4E3"
             },
             "line": {
              "color": "white"
             }
            },
            "type": "table"
           }
          ]
         },
         "layout": {
          "annotationdefaults": {
           "arrowcolor": "#2a3f5f",
           "arrowhead": 0,
           "arrowwidth": 1
          },
          "autotypenumbers": "strict",
          "coloraxis": {
           "colorbar": {
            "outlinewidth": 0,
            "ticks": ""
           }
          },
          "colorscale": {
           "diverging": [
            [
             0,
             "#8e0152"
            ],
            [
             0.1,
             "#c51b7d"
            ],
            [
             0.2,
             "#de77ae"
            ],
            [
             0.3,
             "#f1b6da"
            ],
            [
             0.4,
             "#fde0ef"
            ],
            [
             0.5,
             "#f7f7f7"
            ],
            [
             0.6,
             "#e6f5d0"
            ],
            [
             0.7,
             "#b8e186"
            ],
            [
             0.8,
             "#7fbc41"
            ],
            [
             0.9,
             "#4d9221"
            ],
            [
             1,
             "#276419"
            ]
           ],
           "sequential": [
            [
             0,
             "#0d0887"
            ],
            [
             0.1111111111111111,
             "#46039f"
            ],
            [
             0.2222222222222222,
             "#7201a8"
            ],
            [
             0.3333333333333333,
             "#9c179e"
            ],
            [
             0.4444444444444444,
             "#bd3786"
            ],
            [
             0.5555555555555556,
             "#d8576b"
            ],
            [
             0.6666666666666666,
             "#ed7953"
            ],
            [
             0.7777777777777778,
             "#fb9f3a"
            ],
            [
             0.8888888888888888,
             "#fdca26"
            ],
            [
             1,
             "#f0f921"
            ]
           ],
           "sequentialminus": [
            [
             0,
             "#0d0887"
            ],
            [
             0.1111111111111111,
             "#46039f"
            ],
            [
             0.2222222222222222,
             "#7201a8"
            ],
            [
             0.3333333333333333,
             "#9c179e"
            ],
            [
             0.4444444444444444,
             "#bd3786"
            ],
            [
             0.5555555555555556,
             "#d8576b"
            ],
            [
             0.6666666666666666,
             "#ed7953"
            ],
            [
             0.7777777777777778,
             "#fb9f3a"
            ],
            [
             0.8888888888888888,
             "#fdca26"
            ],
            [
             1,
             "#f0f921"
            ]
           ]
          },
          "colorway": [
           "#636efa",
           "#EF553B",
           "#00cc96",
           "#ab63fa",
           "#FFA15A",
           "#19d3f3",
           "#FF6692",
           "#B6E880",
           "#FF97FF",
           "#FECB52"
          ],
          "font": {
           "color": "#2a3f5f"
          },
          "geo": {
           "bgcolor": "white",
           "lakecolor": "white",
           "landcolor": "#E5ECF6",
           "showlakes": true,
           "showland": true,
           "subunitcolor": "white"
          },
          "hoverlabel": {
           "align": "left"
          },
          "hovermode": "closest",
          "mapbox": {
           "style": "light"
          },
          "paper_bgcolor": "white",
          "plot_bgcolor": "#E5ECF6",
          "polar": {
           "angularaxis": {
            "gridcolor": "white",
            "linecolor": "white",
            "ticks": ""
           },
           "bgcolor": "#E5ECF6",
           "radialaxis": {
            "gridcolor": "white",
            "linecolor": "white",
            "ticks": ""
           }
          },
          "scene": {
           "xaxis": {
            "backgroundcolor": "#E5ECF6",
            "gridcolor": "white",
            "gridwidth": 2,
            "linecolor": "white",
            "showbackground": true,
            "ticks": "",
            "zerolinecolor": "white"
           },
           "yaxis": {
            "backgroundcolor": "#E5ECF6",
            "gridcolor": "white",
            "gridwidth": 2,
            "linecolor": "white",
            "showbackground": true,
            "ticks": "",
            "zerolinecolor": "white"
           },
           "zaxis": {
            "backgroundcolor": "#E5ECF6",
            "gridcolor": "white",
            "gridwidth": 2,
            "linecolor": "white",
            "showbackground": true,
            "ticks": "",
            "zerolinecolor": "white"
           }
          },
          "shapedefaults": {
           "line": {
            "color": "#2a3f5f"
           }
          },
          "ternary": {
           "aaxis": {
            "gridcolor": "white",
            "linecolor": "white",
            "ticks": ""
           },
           "baxis": {
            "gridcolor": "white",
            "linecolor": "white",
            "ticks": ""
           },
           "bgcolor": "#E5ECF6",
           "caxis": {
            "gridcolor": "white",
            "linecolor": "white",
            "ticks": ""
           }
          },
          "title": {
           "x": 0.05
          },
          "xaxis": {
           "automargin": true,
           "gridcolor": "white",
           "linecolor": "white",
           "ticks": "",
           "title": {
            "standoff": 15
           },
           "zerolinecolor": "white",
           "zerolinewidth": 2
          },
          "yaxis": {
           "automargin": true,
           "gridcolor": "white",
           "linecolor": "white",
           "ticks": "",
           "title": {
            "standoff": 15
           },
           "zerolinecolor": "white",
           "zerolinewidth": 2
          }
         }
        },
        "title": {
         "font": {
          "size": 25
         },
         "text": "<b>Percentage distribution of income ranges by Industry<b>"
        },
        "width": 1100,
        "xaxis": {
         "anchor": "y",
         "domain": [
          0,
          1
         ],
         "tickfont": {
          "size": 14
         },
         "title": {
          "text": "<b>Current industry</b>"
         }
        },
        "yaxis": {
         "anchor": "x",
         "domain": [
          0,
          1
         ],
         "tickfont": {
          "size": 14
         },
         "ticksuffix": " ",
         "title": {
          "text": "<b>Percentage</b>"
         }
        }
       }
      }
     },
     "metadata": {},
     "output_type": "display_data"
    }
   ],
   "source": [
    "fig = stacked_bar_plot( industry_income_df, 'Current industry', 'Percentage', 'Current income' , 'Percentage', ['#8ADAB2', '#B5CB99', '#E48F45','#CD6688','#7A316F' ,'#461959'], 0,0)\n",
    "fig.update_layout(\n",
    "    title_text = '<b>Percentage distribution of income ranges by Industry<b>',\n",
    ")\n",
    "fig.update_traces(marker_line_color='black', marker_line_width=0.5, hovertemplate='<b>%{text} (%)</b> of participants that in <b>%{x}</b> industry have the income <b>%{fullData.name}</b>')\n",
    "\n",
    "fig.show()"
   ]
  },
  {
   "cell_type": "markdown",
   "metadata": {},
   "source": [
    "By this plot, we can get some conclusion below:\n",
    "\n",
    "- With low income (in range `<$50,000`) `Academics/ Education`, and `Non-profit/ Service` industry, we can easily know that these industry may get lower income. As we discuss above, partipants who work in `Academics/ Education` generally is  `Teacher / professor`, so there is a lower potential to get higher income. \n",
    "\n",
    "- In range of medium income (`$50,000 - 300,000`), the high percentage is `Medical/Pharmaceutical`, `Insurance/ Risk Assessment` and `Online Service/ Internet-based Services`. This means , most individuals in these industries mostly get the income in this range. This is a good range of salary for everyone. So these industriese are suitable for someone who are finding jobs that have the stable income.\n",
    "\n",
    "- With the high income (`$300,000` or more), `Online Service`, `Accounting/Finance` and `Computer/ Technology` have the high percentage of `$300,000-399,999` and `>$500,000` show that these industries have the most potential to reach the highest range of income. Also, there is a notable industry is `Non-profit/Service`, despite of the very high percentage of low income, but in the high income range, the percentage also very high (upto 1.14%), this means individuals in `Non-profit/Service` industry also can get very high income.\n",
    "\n"
   ]
  },
  {
   "cell_type": "markdown",
   "metadata": {},
   "source": [
    "##### **Overall:**\n",
    "Okay, with all the analysis above, let's take a overall view for what we have done up to now:\n",
    "<br>\n",
    "Based on the overall exploration of factors such as geographical location, current role, programming experience, and qualifications, we can draw the following conclusions regarding their impact on a person's salary:\n",
    "\n",
    "- `Residential country`:  Different regions or countries often have various salary levels due to factors such as cost of living, economic development, and demand for specific skills. Therefore, the income can very different between each countries\n",
    "\n",
    "- `Age` : The distribution of income also different between age ranges. The income will tend to be higher for older age ranges. Some reasons for this pattern here is in many case, the higher age also go along with the higher experience, higher skills or even the higher position in the company. These are just a hypothesis but we can easily check it in the dataset.\n",
    "\n",
    "- `Current Role`: The specific role that a person holds in the workplace can significantly affect their salary. Roles that require specialized skills, expertise, and have lots of demand in the industry like `ML Engineer`, `Reseacher Scientist`, `Data Scientist` will give higher salaries. Additionally, managerial or leadership positions like `Mangager` tend to have higher earning potential compared to entry-level or junior positions.\n",
    "\n",
    "- `Education level`: With different level, participants will have different income, the higher educaitonal level that a person have, their potential to get a good salary will become more. The reason here is that just because the educational level, in many case, represent for the  skills, working capacity and professional knowledges of a person. With these abilities and competency, everyone want a position and a corresponding salary fit with their skills and qualifications.\n",
    "\n",
    "- `Programming Experience`: Programming experience is a valuable asset in the field of IT and can positively impact a person's salary. Generally, individuals with more programming experience tend to have higher income potential. As individuals gain more experience and skills in programming, they often become better in their roles, handle more complex projects, and can get higher salaries than employers.\n",
    "\n",
    "- `Industry`: Industry is also a very important factor to determine the income of a person. Industries with the highly development rate, or in a specific condition, will tend to pay more to get the employer.  \n",
    "       \n",
    "Beside that, it is important to note that these factors do not affect the income independently, and their impact on salary can vary depending on various combinations and interactions. Other factors like `company size`, `skill set` can also influence a person's salary.\n",
    "\n",
    "Overall, a combination of `Residential country`, `Current role`, `Programming experience`, and `Industry` make a significant contribution to a person's salary. By understanding their influences, we can make better decisions about our career paths, skill development, and potential earnings."
   ]
  },
  {
   "cell_type": "markdown",
   "metadata": {},
   "source": [
    "### **Question 02: Is there any difference between men's and women's salaries? If yes, explain the reason.**?\n",
    "\n",
    "For the gender, in this analysis, we just consider participants that is Male and Female."
   ]
  },
  {
   "cell_type": "code",
   "execution_count": 22,
   "metadata": {},
   "outputs": [],
   "source": [
    "# Extract and find the percentage of each income range per gender.\n",
    "gender_income_df = processed_income_df.groupby('Gender')['Current income'].value_counts().reset_index(name = 'Count')\n",
    "filtered_gender_income_df = gender_income_df[gender_income_df['Gender'].isin(['Man', 'Woman'])].copy()\n",
    "filtered_gender_income_df.loc[:,'Percentage'] = ((filtered_gender_income_df.loc[:,'Count'] / filtered_gender_income_df.groupby('Gender')['Count'].transform('sum'))*100)\n",
    "filtered_gender_income_df['Percentage'] = filtered_gender_income_df['Percentage'].round(2)"
   ]
  },
  {
   "cell_type": "code",
   "execution_count": 23,
   "metadata": {},
   "outputs": [
    {
     "data": {
      "application/vnd.plotly.v1+json": {
       "config": {
        "plotlyServerURL": "https://plot.ly"
       },
       "data": [
        {
         "alignmentgroup": "True",
         "hovertemplate": "<b>%{text} (%)</b> of <b>%{x}</b> have the income <b>%{fullData.name}</b>",
         "legendgroup": "<$10,000",
         "marker": {
          "color": "#D2D79F",
          "line": {
           "color": "black",
           "width": 0.5
          },
          "pattern": {
           "shape": ""
          }
         },
         "name": "<$10,000",
         "offsetgroup": "<$10,000",
         "orientation": "v",
         "showlegend": true,
         "text": [
          35.57,
          47.83
         ],
         "textposition": "auto",
         "type": "bar",
         "x": [
          "Man",
          "Woman"
         ],
         "xaxis": "x",
         "y": [
          35.57,
          47.83
         ],
         "yaxis": "y"
        },
        {
         "alignmentgroup": "True",
         "hovertemplate": "<b>%{text} (%)</b> of <b>%{x}</b> have the income <b>%{fullData.name}</b>",
         "legendgroup": "$10,000-50,000",
         "marker": {
          "color": "#86b395",
          "line": {
           "color": "black",
           "width": 0.5
          },
          "pattern": {
           "shape": ""
          }
         },
         "name": "$10,000-50,000",
         "offsetgroup": "$10,000-50,000",
         "orientation": "v",
         "showlegend": true,
         "text": [
          29.15,
          23.81
         ],
         "textposition": "auto",
         "type": "bar",
         "x": [
          "Man",
          "Woman"
         ],
         "xaxis": "x",
         "y": [
          29.15,
          23.81
         ],
         "yaxis": "y"
        },
        {
         "alignmentgroup": "True",
         "hovertemplate": "<b>%{text} (%)</b> of <b>%{x}</b> have the income <b>%{fullData.name}</b>",
         "legendgroup": "$50,000-100,000",
         "marker": {
          "color": "#75969b",
          "line": {
           "color": "black",
           "width": 0.5
          },
          "pattern": {
           "shape": ""
          }
         },
         "name": "$50,000-100,000",
         "offsetgroup": "$50,000-100,000",
         "orientation": "v",
         "showlegend": true,
         "text": [
          17.5,
          15.34
         ],
         "textposition": "auto",
         "type": "bar",
         "x": [
          "Man",
          "Woman"
         ],
         "xaxis": "x",
         "y": [
          17.5,
          15.34
         ],
         "yaxis": "y"
        },
        {
         "alignmentgroup": "True",
         "hovertemplate": "<b>%{text} (%)</b> of <b>%{x}</b> have the income <b>%{fullData.name}</b>",
         "legendgroup": "$100,000-300,000",
         "marker": {
          "color": "#646684",
          "line": {
           "color": "black",
           "width": 0.5
          },
          "pattern": {
           "shape": ""
          }
         },
         "name": "$100,000-300,000",
         "offsetgroup": "$100,000-300,000",
         "orientation": "v",
         "showlegend": true,
         "text": [
          15.89,
          11.87
         ],
         "textposition": "auto",
         "type": "bar",
         "x": [
          "Man",
          "Woman"
         ],
         "xaxis": "x",
         "y": [
          15.89,
          11.87
         ],
         "yaxis": "y"
        },
        {
         "alignmentgroup": "True",
         "hovertemplate": "<b>%{text} (%)</b> of <b>%{x}</b> have the income <b>%{fullData.name}</b>",
         "legendgroup": "$300,000-500,000",
         "marker": {
          "color": "#66536c",
          "line": {
           "color": "black",
           "width": 0.5
          },
          "pattern": {
           "shape": ""
          }
         },
         "name": "$300,000-500,000",
         "offsetgroup": "$300,000-500,000",
         "orientation": "v",
         "showlegend": true,
         "text": [
          0.95,
          0.65
         ],
         "textposition": "auto",
         "type": "bar",
         "x": [
          "Man",
          "Woman"
         ],
         "xaxis": "x",
         "y": [
          0.95,
          0.65
         ],
         "yaxis": "y"
        },
        {
         "alignmentgroup": "True",
         "hovertemplate": "<b>%{text} (%)</b> of <b>%{x}</b> have the income <b>%{fullData.name}</b>",
         "legendgroup": ">$500,000",
         "marker": {
          "color": "#483838",
          "line": {
           "color": "black",
           "width": 0.5
          },
          "pattern": {
           "shape": ""
          }
         },
         "name": ">$500,000",
         "offsetgroup": ">$500,000",
         "orientation": "v",
         "showlegend": true,
         "text": [
          0.95,
          0.51
         ],
         "textposition": "auto",
         "type": "bar",
         "x": [
          "Man",
          "Woman"
         ],
         "xaxis": "x",
         "y": [
          0.95,
          0.51
         ],
         "yaxis": "y"
        }
       ],
       "layout": {
        "barmode": "stack",
        "height": 600,
        "legend": {
         "title": {
          "text": "<b>Current income</b>"
         },
         "tracegroupgap": 0
        },
        "margin": {
         "b": 20,
         "l": 20,
         "r": 30,
         "t": 70
        },
        "paper_bgcolor": "#ffe6cc",
        "template": {
         "data": {
          "bar": [
           {
            "error_x": {
             "color": "#2a3f5f"
            },
            "error_y": {
             "color": "#2a3f5f"
            },
            "marker": {
             "line": {
              "color": "#E5ECF6",
              "width": 0.5
             },
             "pattern": {
              "fillmode": "overlay",
              "size": 10,
              "solidity": 0.2
             }
            },
            "type": "bar"
           }
          ],
          "barpolar": [
           {
            "marker": {
             "line": {
              "color": "#E5ECF6",
              "width": 0.5
             },
             "pattern": {
              "fillmode": "overlay",
              "size": 10,
              "solidity": 0.2
             }
            },
            "type": "barpolar"
           }
          ],
          "carpet": [
           {
            "aaxis": {
             "endlinecolor": "#2a3f5f",
             "gridcolor": "white",
             "linecolor": "white",
             "minorgridcolor": "white",
             "startlinecolor": "#2a3f5f"
            },
            "baxis": {
             "endlinecolor": "#2a3f5f",
             "gridcolor": "white",
             "linecolor": "white",
             "minorgridcolor": "white",
             "startlinecolor": "#2a3f5f"
            },
            "type": "carpet"
           }
          ],
          "choropleth": [
           {
            "colorbar": {
             "outlinewidth": 0,
             "ticks": ""
            },
            "type": "choropleth"
           }
          ],
          "contour": [
           {
            "colorbar": {
             "outlinewidth": 0,
             "ticks": ""
            },
            "colorscale": [
             [
              0,
              "#0d0887"
             ],
             [
              0.1111111111111111,
              "#46039f"
             ],
             [
              0.2222222222222222,
              "#7201a8"
             ],
             [
              0.3333333333333333,
              "#9c179e"
             ],
             [
              0.4444444444444444,
              "#bd3786"
             ],
             [
              0.5555555555555556,
              "#d8576b"
             ],
             [
              0.6666666666666666,
              "#ed7953"
             ],
             [
              0.7777777777777778,
              "#fb9f3a"
             ],
             [
              0.8888888888888888,
              "#fdca26"
             ],
             [
              1,
              "#f0f921"
             ]
            ],
            "type": "contour"
           }
          ],
          "contourcarpet": [
           {
            "colorbar": {
             "outlinewidth": 0,
             "ticks": ""
            },
            "type": "contourcarpet"
           }
          ],
          "heatmap": [
           {
            "colorbar": {
             "outlinewidth": 0,
             "ticks": ""
            },
            "colorscale": [
             [
              0,
              "#0d0887"
             ],
             [
              0.1111111111111111,
              "#46039f"
             ],
             [
              0.2222222222222222,
              "#7201a8"
             ],
             [
              0.3333333333333333,
              "#9c179e"
             ],
             [
              0.4444444444444444,
              "#bd3786"
             ],
             [
              0.5555555555555556,
              "#d8576b"
             ],
             [
              0.6666666666666666,
              "#ed7953"
             ],
             [
              0.7777777777777778,
              "#fb9f3a"
             ],
             [
              0.8888888888888888,
              "#fdca26"
             ],
             [
              1,
              "#f0f921"
             ]
            ],
            "type": "heatmap"
           }
          ],
          "heatmapgl": [
           {
            "colorbar": {
             "outlinewidth": 0,
             "ticks": ""
            },
            "colorscale": [
             [
              0,
              "#0d0887"
             ],
             [
              0.1111111111111111,
              "#46039f"
             ],
             [
              0.2222222222222222,
              "#7201a8"
             ],
             [
              0.3333333333333333,
              "#9c179e"
             ],
             [
              0.4444444444444444,
              "#bd3786"
             ],
             [
              0.5555555555555556,
              "#d8576b"
             ],
             [
              0.6666666666666666,
              "#ed7953"
             ],
             [
              0.7777777777777778,
              "#fb9f3a"
             ],
             [
              0.8888888888888888,
              "#fdca26"
             ],
             [
              1,
              "#f0f921"
             ]
            ],
            "type": "heatmapgl"
           }
          ],
          "histogram": [
           {
            "marker": {
             "pattern": {
              "fillmode": "overlay",
              "size": 10,
              "solidity": 0.2
             }
            },
            "type": "histogram"
           }
          ],
          "histogram2d": [
           {
            "colorbar": {
             "outlinewidth": 0,
             "ticks": ""
            },
            "colorscale": [
             [
              0,
              "#0d0887"
             ],
             [
              0.1111111111111111,
              "#46039f"
             ],
             [
              0.2222222222222222,
              "#7201a8"
             ],
             [
              0.3333333333333333,
              "#9c179e"
             ],
             [
              0.4444444444444444,
              "#bd3786"
             ],
             [
              0.5555555555555556,
              "#d8576b"
             ],
             [
              0.6666666666666666,
              "#ed7953"
             ],
             [
              0.7777777777777778,
              "#fb9f3a"
             ],
             [
              0.8888888888888888,
              "#fdca26"
             ],
             [
              1,
              "#f0f921"
             ]
            ],
            "type": "histogram2d"
           }
          ],
          "histogram2dcontour": [
           {
            "colorbar": {
             "outlinewidth": 0,
             "ticks": ""
            },
            "colorscale": [
             [
              0,
              "#0d0887"
             ],
             [
              0.1111111111111111,
              "#46039f"
             ],
             [
              0.2222222222222222,
              "#7201a8"
             ],
             [
              0.3333333333333333,
              "#9c179e"
             ],
             [
              0.4444444444444444,
              "#bd3786"
             ],
             [
              0.5555555555555556,
              "#d8576b"
             ],
             [
              0.6666666666666666,
              "#ed7953"
             ],
             [
              0.7777777777777778,
              "#fb9f3a"
             ],
             [
              0.8888888888888888,
              "#fdca26"
             ],
             [
              1,
              "#f0f921"
             ]
            ],
            "type": "histogram2dcontour"
           }
          ],
          "mesh3d": [
           {
            "colorbar": {
             "outlinewidth": 0,
             "ticks": ""
            },
            "type": "mesh3d"
           }
          ],
          "parcoords": [
           {
            "line": {
             "colorbar": {
              "outlinewidth": 0,
              "ticks": ""
             }
            },
            "type": "parcoords"
           }
          ],
          "pie": [
           {
            "automargin": true,
            "type": "pie"
           }
          ],
          "scatter": [
           {
            "fillpattern": {
             "fillmode": "overlay",
             "size": 10,
             "solidity": 0.2
            },
            "type": "scatter"
           }
          ],
          "scatter3d": [
           {
            "line": {
             "colorbar": {
              "outlinewidth": 0,
              "ticks": ""
             }
            },
            "marker": {
             "colorbar": {
              "outlinewidth": 0,
              "ticks": ""
             }
            },
            "type": "scatter3d"
           }
          ],
          "scattercarpet": [
           {
            "marker": {
             "colorbar": {
              "outlinewidth": 0,
              "ticks": ""
             }
            },
            "type": "scattercarpet"
           }
          ],
          "scattergeo": [
           {
            "marker": {
             "colorbar": {
              "outlinewidth": 0,
              "ticks": ""
             }
            },
            "type": "scattergeo"
           }
          ],
          "scattergl": [
           {
            "marker": {
             "colorbar": {
              "outlinewidth": 0,
              "ticks": ""
             }
            },
            "type": "scattergl"
           }
          ],
          "scattermapbox": [
           {
            "marker": {
             "colorbar": {
              "outlinewidth": 0,
              "ticks": ""
             }
            },
            "type": "scattermapbox"
           }
          ],
          "scatterpolar": [
           {
            "marker": {
             "colorbar": {
              "outlinewidth": 0,
              "ticks": ""
             }
            },
            "type": "scatterpolar"
           }
          ],
          "scatterpolargl": [
           {
            "marker": {
             "colorbar": {
              "outlinewidth": 0,
              "ticks": ""
             }
            },
            "type": "scatterpolargl"
           }
          ],
          "scatterternary": [
           {
            "marker": {
             "colorbar": {
              "outlinewidth": 0,
              "ticks": ""
             }
            },
            "type": "scatterternary"
           }
          ],
          "surface": [
           {
            "colorbar": {
             "outlinewidth": 0,
             "ticks": ""
            },
            "colorscale": [
             [
              0,
              "#0d0887"
             ],
             [
              0.1111111111111111,
              "#46039f"
             ],
             [
              0.2222222222222222,
              "#7201a8"
             ],
             [
              0.3333333333333333,
              "#9c179e"
             ],
             [
              0.4444444444444444,
              "#bd3786"
             ],
             [
              0.5555555555555556,
              "#d8576b"
             ],
             [
              0.6666666666666666,
              "#ed7953"
             ],
             [
              0.7777777777777778,
              "#fb9f3a"
             ],
             [
              0.8888888888888888,
              "#fdca26"
             ],
             [
              1,
              "#f0f921"
             ]
            ],
            "type": "surface"
           }
          ],
          "table": [
           {
            "cells": {
             "fill": {
              "color": "#EBF0F8"
             },
             "line": {
              "color": "white"
             }
            },
            "header": {
             "fill": {
              "color": "#C8D4E3"
             },
             "line": {
              "color": "white"
             }
            },
            "type": "table"
           }
          ]
         },
         "layout": {
          "annotationdefaults": {
           "arrowcolor": "#2a3f5f",
           "arrowhead": 0,
           "arrowwidth": 1
          },
          "autotypenumbers": "strict",
          "coloraxis": {
           "colorbar": {
            "outlinewidth": 0,
            "ticks": ""
           }
          },
          "colorscale": {
           "diverging": [
            [
             0,
             "#8e0152"
            ],
            [
             0.1,
             "#c51b7d"
            ],
            [
             0.2,
             "#de77ae"
            ],
            [
             0.3,
             "#f1b6da"
            ],
            [
             0.4,
             "#fde0ef"
            ],
            [
             0.5,
             "#f7f7f7"
            ],
            [
             0.6,
             "#e6f5d0"
            ],
            [
             0.7,
             "#b8e186"
            ],
            [
             0.8,
             "#7fbc41"
            ],
            [
             0.9,
             "#4d9221"
            ],
            [
             1,
             "#276419"
            ]
           ],
           "sequential": [
            [
             0,
             "#0d0887"
            ],
            [
             0.1111111111111111,
             "#46039f"
            ],
            [
             0.2222222222222222,
             "#7201a8"
            ],
            [
             0.3333333333333333,
             "#9c179e"
            ],
            [
             0.4444444444444444,
             "#bd3786"
            ],
            [
             0.5555555555555556,
             "#d8576b"
            ],
            [
             0.6666666666666666,
             "#ed7953"
            ],
            [
             0.7777777777777778,
             "#fb9f3a"
            ],
            [
             0.8888888888888888,
             "#fdca26"
            ],
            [
             1,
             "#f0f921"
            ]
           ],
           "sequentialminus": [
            [
             0,
             "#0d0887"
            ],
            [
             0.1111111111111111,
             "#46039f"
            ],
            [
             0.2222222222222222,
             "#7201a8"
            ],
            [
             0.3333333333333333,
             "#9c179e"
            ],
            [
             0.4444444444444444,
             "#bd3786"
            ],
            [
             0.5555555555555556,
             "#d8576b"
            ],
            [
             0.6666666666666666,
             "#ed7953"
            ],
            [
             0.7777777777777778,
             "#fb9f3a"
            ],
            [
             0.8888888888888888,
             "#fdca26"
            ],
            [
             1,
             "#f0f921"
            ]
           ]
          },
          "colorway": [
           "#636efa",
           "#EF553B",
           "#00cc96",
           "#ab63fa",
           "#FFA15A",
           "#19d3f3",
           "#FF6692",
           "#B6E880",
           "#FF97FF",
           "#FECB52"
          ],
          "font": {
           "color": "#2a3f5f"
          },
          "geo": {
           "bgcolor": "white",
           "lakecolor": "white",
           "landcolor": "#E5ECF6",
           "showlakes": true,
           "showland": true,
           "subunitcolor": "white"
          },
          "hoverlabel": {
           "align": "left"
          },
          "hovermode": "closest",
          "mapbox": {
           "style": "light"
          },
          "paper_bgcolor": "white",
          "plot_bgcolor": "#E5ECF6",
          "polar": {
           "angularaxis": {
            "gridcolor": "white",
            "linecolor": "white",
            "ticks": ""
           },
           "bgcolor": "#E5ECF6",
           "radialaxis": {
            "gridcolor": "white",
            "linecolor": "white",
            "ticks": ""
           }
          },
          "scene": {
           "xaxis": {
            "backgroundcolor": "#E5ECF6",
            "gridcolor": "white",
            "gridwidth": 2,
            "linecolor": "white",
            "showbackground": true,
            "ticks": "",
            "zerolinecolor": "white"
           },
           "yaxis": {
            "backgroundcolor": "#E5ECF6",
            "gridcolor": "white",
            "gridwidth": 2,
            "linecolor": "white",
            "showbackground": true,
            "ticks": "",
            "zerolinecolor": "white"
           },
           "zaxis": {
            "backgroundcolor": "#E5ECF6",
            "gridcolor": "white",
            "gridwidth": 2,
            "linecolor": "white",
            "showbackground": true,
            "ticks": "",
            "zerolinecolor": "white"
           }
          },
          "shapedefaults": {
           "line": {
            "color": "#2a3f5f"
           }
          },
          "ternary": {
           "aaxis": {
            "gridcolor": "white",
            "linecolor": "white",
            "ticks": ""
           },
           "baxis": {
            "gridcolor": "white",
            "linecolor": "white",
            "ticks": ""
           },
           "bgcolor": "#E5ECF6",
           "caxis": {
            "gridcolor": "white",
            "linecolor": "white",
            "ticks": ""
           }
          },
          "title": {
           "x": 0.05
          },
          "xaxis": {
           "automargin": true,
           "gridcolor": "white",
           "linecolor": "white",
           "ticks": "",
           "title": {
            "standoff": 15
           },
           "zerolinecolor": "white",
           "zerolinewidth": 2
          },
          "yaxis": {
           "automargin": true,
           "gridcolor": "white",
           "linecolor": "white",
           "ticks": "",
           "title": {
            "standoff": 15
           },
           "zerolinecolor": "white",
           "zerolinewidth": 2
          }
         }
        },
        "title": {
         "font": {
          "size": 25
         },
         "text": "<b>The percentage of participants' current income for each gender</b>"
        },
        "width": 1100,
        "xaxis": {
         "anchor": "y",
         "domain": [
          0,
          1
         ],
         "tickfont": {
          "size": 14
         },
         "title": {
          "text": "<b>Gender</b>"
         }
        },
        "yaxis": {
         "anchor": "x",
         "domain": [
          0,
          1
         ],
         "tickfont": {
          "size": 14
         },
         "ticksuffix": " ",
         "title": {
          "text": "<b>Percentage</b>"
         }
        }
       }
      }
     },
     "metadata": {},
     "output_type": "display_data"
    }
   ],
   "source": [
    "fig = stacked_bar_plot( filtered_gender_income_df, 'Gender', 'Percentage', 'Current income' , 'Percentage', ['#D2D79F', '#86b395', '#75969b','#646684','#66536c' ,'#483838'], 0, 0)\n",
    "fig.update_layout(\n",
    "    title_text = '<b>The percentage of participants\\' current income for each gender</b>',\n",
    ")\n",
    "fig.update_traces(marker_line_color='black', marker_line_width=0.5, hovertemplate='<b>%{text} (%)</b> of <b>%{x}</b> have the income <b>%{fullData.name}</b>')\n",
    "\n",
    "fig.show()"
   ]
  },
  {
   "cell_type": "markdown",
   "metadata": {},
   "source": [
    "With the plot above, we can make some comparisions between income of man and woman and find out some differences below:\n",
    "- There are higher incomes for Men: Men have a higher percentage in most of income ranges (from `$10,000` and more). This suggests that men have a higher likelihood to earn higher incomes compared to women.\n",
    "- Women show a higher percentage in the lower income range of `<$10,000.` This indicates that a larger percentage of women fall into the category of lower-income earners.\n",
    "\n",
    "Now, let's make some analysis to find out the reasons for these differences\n",
    "The the previous question, we found that the income of a person have strong relative with the factors like `Age`, `Programming exprience`, `Education level`, `Current role`, `Industry`, so let's make a deep analysis about the distribution of gender in each factor. I really want to go through all these factors, but with the current limited of time, I just show the differences of the income by `Age` and `Current role`\n",
    "\n",
    "#### **2.1 Gender by age:**\n",
    "\n",
    "Now, we consider the age range of each gender, with the conclusion that higher age will give us more potential to have higher salary. I want to see how is the gender distributed across age ranges."
   ]
  },
  {
   "cell_type": "code",
   "execution_count": 24,
   "metadata": {},
   "outputs": [],
   "source": [
    "# Extract the gender_df with Male and Female\n",
    "gender_df = ds_survey_df[ds_survey_df['Gender'].isin(['Man', 'Woman'])].copy()"
   ]
  },
  {
   "cell_type": "code",
   "execution_count": 25,
   "metadata": {},
   "outputs": [],
   "source": [
    "gender_age_df = gender_df.groupby('Age')['Gender'].value_counts().reset_index(name = 'Count')\n",
    "gender_age_df['Percentage'] = (gender_age_df['Count'] / gender_age_df.groupby('Age')['Count'].transform(sum)) * 100\n",
    "gender_age_df['Percentage'] = gender_age_df['Percentage'].round(2)"
   ]
  },
  {
   "cell_type": "code",
   "execution_count": 41,
   "metadata": {},
   "outputs": [
    {
     "data": {
      "application/vnd.plotly.v1+json": {
       "config": {
        "plotlyServerURL": "https://plot.ly"
       },
       "data": [
        {
         "alignmentgroup": "True",
         "hovertemplate": "<b>%{text} (%)</b> of <b>%{fullData.name}</b> in age range <b>%{x}</b> ",
         "legendgroup": "Man",
         "marker": {
          "color": "#636efa",
          "line": {
           "color": "black",
           "width": 1
          },
          "pattern": {
           "shape": ""
          }
         },
         "name": "Man",
         "offsetgroup": "Man",
         "orientation": "v",
         "showlegend": true,
         "text": [
          74.05,
          75.21,
          77.91,
          77.22,
          77.53,
          78.31,
          80.66,
          84.43,
          85.04,
          91.8,
          92.56
         ],
         "textposition": "auto",
         "type": "bar",
         "x": [
          "18-21",
          "22-24",
          "25-29",
          "30-34",
          "35-39",
          "40-44",
          "45-49",
          "50-54",
          "55-59",
          "60-69",
          "70+"
         ],
         "xaxis": "x",
         "y": [
          3310,
          3168,
          3425,
          2248,
          1791,
          1480,
          997,
          759,
          506,
          470,
          112
         ],
         "yaxis": "y"
        },
        {
         "alignmentgroup": "True",
         "hovertemplate": "<b>%{text} (%)</b> of <b>%{fullData.name}</b> in age range <b>%{x}</b> ",
         "legendgroup": "Woman",
         "marker": {
          "color": "#EF553B",
          "line": {
           "color": "black",
           "width": 1
          },
          "pattern": {
           "shape": ""
          }
         },
         "name": "Woman",
         "offsetgroup": "Woman",
         "orientation": "v",
         "showlegend": true,
         "text": [
          25.95,
          24.79,
          22.09,
          22.78,
          22.47,
          21.69,
          19.34,
          15.57,
          14.96,
          8.2,
          7.44
         ],
         "textposition": "auto",
         "type": "bar",
         "x": [
          "18-21",
          "22-24",
          "25-29",
          "30-34",
          "35-39",
          "40-44",
          "45-49",
          "50-54",
          "55-59",
          "60-69",
          "70+"
         ],
         "xaxis": "x",
         "y": [
          1160,
          1044,
          971,
          663,
          519,
          410,
          239,
          140,
          89,
          42,
          9
         ],
         "yaxis": "y"
        }
       ],
       "layout": {
        "barmode": "stack",
        "height": 400,
        "legend": {
         "title": {
          "text": "<b>Gender</b>"
         },
         "tracegroupgap": 0
        },
        "margin": {
         "b": 20,
         "l": 20,
         "r": 30,
         "t": 70
        },
        "paper_bgcolor": "#ffe6cc",
        "template": {
         "data": {
          "bar": [
           {
            "error_x": {
             "color": "#2a3f5f"
            },
            "error_y": {
             "color": "#2a3f5f"
            },
            "marker": {
             "line": {
              "color": "#E5ECF6",
              "width": 0.5
             },
             "pattern": {
              "fillmode": "overlay",
              "size": 10,
              "solidity": 0.2
             }
            },
            "type": "bar"
           }
          ],
          "barpolar": [
           {
            "marker": {
             "line": {
              "color": "#E5ECF6",
              "width": 0.5
             },
             "pattern": {
              "fillmode": "overlay",
              "size": 10,
              "solidity": 0.2
             }
            },
            "type": "barpolar"
           }
          ],
          "carpet": [
           {
            "aaxis": {
             "endlinecolor": "#2a3f5f",
             "gridcolor": "white",
             "linecolor": "white",
             "minorgridcolor": "white",
             "startlinecolor": "#2a3f5f"
            },
            "baxis": {
             "endlinecolor": "#2a3f5f",
             "gridcolor": "white",
             "linecolor": "white",
             "minorgridcolor": "white",
             "startlinecolor": "#2a3f5f"
            },
            "type": "carpet"
           }
          ],
          "choropleth": [
           {
            "colorbar": {
             "outlinewidth": 0,
             "ticks": ""
            },
            "type": "choropleth"
           }
          ],
          "contour": [
           {
            "colorbar": {
             "outlinewidth": 0,
             "ticks": ""
            },
            "colorscale": [
             [
              0,
              "#0d0887"
             ],
             [
              0.1111111111111111,
              "#46039f"
             ],
             [
              0.2222222222222222,
              "#7201a8"
             ],
             [
              0.3333333333333333,
              "#9c179e"
             ],
             [
              0.4444444444444444,
              "#bd3786"
             ],
             [
              0.5555555555555556,
              "#d8576b"
             ],
             [
              0.6666666666666666,
              "#ed7953"
             ],
             [
              0.7777777777777778,
              "#fb9f3a"
             ],
             [
              0.8888888888888888,
              "#fdca26"
             ],
             [
              1,
              "#f0f921"
             ]
            ],
            "type": "contour"
           }
          ],
          "contourcarpet": [
           {
            "colorbar": {
             "outlinewidth": 0,
             "ticks": ""
            },
            "type": "contourcarpet"
           }
          ],
          "heatmap": [
           {
            "colorbar": {
             "outlinewidth": 0,
             "ticks": ""
            },
            "colorscale": [
             [
              0,
              "#0d0887"
             ],
             [
              0.1111111111111111,
              "#46039f"
             ],
             [
              0.2222222222222222,
              "#7201a8"
             ],
             [
              0.3333333333333333,
              "#9c179e"
             ],
             [
              0.4444444444444444,
              "#bd3786"
             ],
             [
              0.5555555555555556,
              "#d8576b"
             ],
             [
              0.6666666666666666,
              "#ed7953"
             ],
             [
              0.7777777777777778,
              "#fb9f3a"
             ],
             [
              0.8888888888888888,
              "#fdca26"
             ],
             [
              1,
              "#f0f921"
             ]
            ],
            "type": "heatmap"
           }
          ],
          "heatmapgl": [
           {
            "colorbar": {
             "outlinewidth": 0,
             "ticks": ""
            },
            "colorscale": [
             [
              0,
              "#0d0887"
             ],
             [
              0.1111111111111111,
              "#46039f"
             ],
             [
              0.2222222222222222,
              "#7201a8"
             ],
             [
              0.3333333333333333,
              "#9c179e"
             ],
             [
              0.4444444444444444,
              "#bd3786"
             ],
             [
              0.5555555555555556,
              "#d8576b"
             ],
             [
              0.6666666666666666,
              "#ed7953"
             ],
             [
              0.7777777777777778,
              "#fb9f3a"
             ],
             [
              0.8888888888888888,
              "#fdca26"
             ],
             [
              1,
              "#f0f921"
             ]
            ],
            "type": "heatmapgl"
           }
          ],
          "histogram": [
           {
            "marker": {
             "pattern": {
              "fillmode": "overlay",
              "size": 10,
              "solidity": 0.2
             }
            },
            "type": "histogram"
           }
          ],
          "histogram2d": [
           {
            "colorbar": {
             "outlinewidth": 0,
             "ticks": ""
            },
            "colorscale": [
             [
              0,
              "#0d0887"
             ],
             [
              0.1111111111111111,
              "#46039f"
             ],
             [
              0.2222222222222222,
              "#7201a8"
             ],
             [
              0.3333333333333333,
              "#9c179e"
             ],
             [
              0.4444444444444444,
              "#bd3786"
             ],
             [
              0.5555555555555556,
              "#d8576b"
             ],
             [
              0.6666666666666666,
              "#ed7953"
             ],
             [
              0.7777777777777778,
              "#fb9f3a"
             ],
             [
              0.8888888888888888,
              "#fdca26"
             ],
             [
              1,
              "#f0f921"
             ]
            ],
            "type": "histogram2d"
           }
          ],
          "histogram2dcontour": [
           {
            "colorbar": {
             "outlinewidth": 0,
             "ticks": ""
            },
            "colorscale": [
             [
              0,
              "#0d0887"
             ],
             [
              0.1111111111111111,
              "#46039f"
             ],
             [
              0.2222222222222222,
              "#7201a8"
             ],
             [
              0.3333333333333333,
              "#9c179e"
             ],
             [
              0.4444444444444444,
              "#bd3786"
             ],
             [
              0.5555555555555556,
              "#d8576b"
             ],
             [
              0.6666666666666666,
              "#ed7953"
             ],
             [
              0.7777777777777778,
              "#fb9f3a"
             ],
             [
              0.8888888888888888,
              "#fdca26"
             ],
             [
              1,
              "#f0f921"
             ]
            ],
            "type": "histogram2dcontour"
           }
          ],
          "mesh3d": [
           {
            "colorbar": {
             "outlinewidth": 0,
             "ticks": ""
            },
            "type": "mesh3d"
           }
          ],
          "parcoords": [
           {
            "line": {
             "colorbar": {
              "outlinewidth": 0,
              "ticks": ""
             }
            },
            "type": "parcoords"
           }
          ],
          "pie": [
           {
            "automargin": true,
            "type": "pie"
           }
          ],
          "scatter": [
           {
            "fillpattern": {
             "fillmode": "overlay",
             "size": 10,
             "solidity": 0.2
            },
            "type": "scatter"
           }
          ],
          "scatter3d": [
           {
            "line": {
             "colorbar": {
              "outlinewidth": 0,
              "ticks": ""
             }
            },
            "marker": {
             "colorbar": {
              "outlinewidth": 0,
              "ticks": ""
             }
            },
            "type": "scatter3d"
           }
          ],
          "scattercarpet": [
           {
            "marker": {
             "colorbar": {
              "outlinewidth": 0,
              "ticks": ""
             }
            },
            "type": "scattercarpet"
           }
          ],
          "scattergeo": [
           {
            "marker": {
             "colorbar": {
              "outlinewidth": 0,
              "ticks": ""
             }
            },
            "type": "scattergeo"
           }
          ],
          "scattergl": [
           {
            "marker": {
             "colorbar": {
              "outlinewidth": 0,
              "ticks": ""
             }
            },
            "type": "scattergl"
           }
          ],
          "scattermapbox": [
           {
            "marker": {
             "colorbar": {
              "outlinewidth": 0,
              "ticks": ""
             }
            },
            "type": "scattermapbox"
           }
          ],
          "scatterpolar": [
           {
            "marker": {
             "colorbar": {
              "outlinewidth": 0,
              "ticks": ""
             }
            },
            "type": "scatterpolar"
           }
          ],
          "scatterpolargl": [
           {
            "marker": {
             "colorbar": {
              "outlinewidth": 0,
              "ticks": ""
             }
            },
            "type": "scatterpolargl"
           }
          ],
          "scatterternary": [
           {
            "marker": {
             "colorbar": {
              "outlinewidth": 0,
              "ticks": ""
             }
            },
            "type": "scatterternary"
           }
          ],
          "surface": [
           {
            "colorbar": {
             "outlinewidth": 0,
             "ticks": ""
            },
            "colorscale": [
             [
              0,
              "#0d0887"
             ],
             [
              0.1111111111111111,
              "#46039f"
             ],
             [
              0.2222222222222222,
              "#7201a8"
             ],
             [
              0.3333333333333333,
              "#9c179e"
             ],
             [
              0.4444444444444444,
              "#bd3786"
             ],
             [
              0.5555555555555556,
              "#d8576b"
             ],
             [
              0.6666666666666666,
              "#ed7953"
             ],
             [
              0.7777777777777778,
              "#fb9f3a"
             ],
             [
              0.8888888888888888,
              "#fdca26"
             ],
             [
              1,
              "#f0f921"
             ]
            ],
            "type": "surface"
           }
          ],
          "table": [
           {
            "cells": {
             "fill": {
              "color": "#EBF0F8"
             },
             "line": {
              "color": "white"
             }
            },
            "header": {
             "fill": {
              "color": "#C8D4E3"
             },
             "line": {
              "color": "white"
             }
            },
            "type": "table"
           }
          ]
         },
         "layout": {
          "annotationdefaults": {
           "arrowcolor": "#2a3f5f",
           "arrowhead": 0,
           "arrowwidth": 1
          },
          "autotypenumbers": "strict",
          "coloraxis": {
           "colorbar": {
            "outlinewidth": 0,
            "ticks": ""
           }
          },
          "colorscale": {
           "diverging": [
            [
             0,
             "#8e0152"
            ],
            [
             0.1,
             "#c51b7d"
            ],
            [
             0.2,
             "#de77ae"
            ],
            [
             0.3,
             "#f1b6da"
            ],
            [
             0.4,
             "#fde0ef"
            ],
            [
             0.5,
             "#f7f7f7"
            ],
            [
             0.6,
             "#e6f5d0"
            ],
            [
             0.7,
             "#b8e186"
            ],
            [
             0.8,
             "#7fbc41"
            ],
            [
             0.9,
             "#4d9221"
            ],
            [
             1,
             "#276419"
            ]
           ],
           "sequential": [
            [
             0,
             "#0d0887"
            ],
            [
             0.1111111111111111,
             "#46039f"
            ],
            [
             0.2222222222222222,
             "#7201a8"
            ],
            [
             0.3333333333333333,
             "#9c179e"
            ],
            [
             0.4444444444444444,
             "#bd3786"
            ],
            [
             0.5555555555555556,
             "#d8576b"
            ],
            [
             0.6666666666666666,
             "#ed7953"
            ],
            [
             0.7777777777777778,
             "#fb9f3a"
            ],
            [
             0.8888888888888888,
             "#fdca26"
            ],
            [
             1,
             "#f0f921"
            ]
           ],
           "sequentialminus": [
            [
             0,
             "#0d0887"
            ],
            [
             0.1111111111111111,
             "#46039f"
            ],
            [
             0.2222222222222222,
             "#7201a8"
            ],
            [
             0.3333333333333333,
             "#9c179e"
            ],
            [
             0.4444444444444444,
             "#bd3786"
            ],
            [
             0.5555555555555556,
             "#d8576b"
            ],
            [
             0.6666666666666666,
             "#ed7953"
            ],
            [
             0.7777777777777778,
             "#fb9f3a"
            ],
            [
             0.8888888888888888,
             "#fdca26"
            ],
            [
             1,
             "#f0f921"
            ]
           ]
          },
          "colorway": [
           "#636efa",
           "#EF553B",
           "#00cc96",
           "#ab63fa",
           "#FFA15A",
           "#19d3f3",
           "#FF6692",
           "#B6E880",
           "#FF97FF",
           "#FECB52"
          ],
          "font": {
           "color": "#2a3f5f"
          },
          "geo": {
           "bgcolor": "white",
           "lakecolor": "white",
           "landcolor": "#E5ECF6",
           "showlakes": true,
           "showland": true,
           "subunitcolor": "white"
          },
          "hoverlabel": {
           "align": "left"
          },
          "hovermode": "closest",
          "mapbox": {
           "style": "light"
          },
          "paper_bgcolor": "white",
          "plot_bgcolor": "#E5ECF6",
          "polar": {
           "angularaxis": {
            "gridcolor": "white",
            "linecolor": "white",
            "ticks": ""
           },
           "bgcolor": "#E5ECF6",
           "radialaxis": {
            "gridcolor": "white",
            "linecolor": "white",
            "ticks": ""
           }
          },
          "scene": {
           "xaxis": {
            "backgroundcolor": "#E5ECF6",
            "gridcolor": "white",
            "gridwidth": 2,
            "linecolor": "white",
            "showbackground": true,
            "ticks": "",
            "zerolinecolor": "white"
           },
           "yaxis": {
            "backgroundcolor": "#E5ECF6",
            "gridcolor": "white",
            "gridwidth": 2,
            "linecolor": "white",
            "showbackground": true,
            "ticks": "",
            "zerolinecolor": "white"
           },
           "zaxis": {
            "backgroundcolor": "#E5ECF6",
            "gridcolor": "white",
            "gridwidth": 2,
            "linecolor": "white",
            "showbackground": true,
            "ticks": "",
            "zerolinecolor": "white"
           }
          },
          "shapedefaults": {
           "line": {
            "color": "#2a3f5f"
           }
          },
          "ternary": {
           "aaxis": {
            "gridcolor": "white",
            "linecolor": "white",
            "ticks": ""
           },
           "baxis": {
            "gridcolor": "white",
            "linecolor": "white",
            "ticks": ""
           },
           "bgcolor": "#E5ECF6",
           "caxis": {
            "gridcolor": "white",
            "linecolor": "white",
            "ticks": ""
           }
          },
          "title": {
           "x": 0.05
          },
          "xaxis": {
           "automargin": true,
           "gridcolor": "white",
           "linecolor": "white",
           "ticks": "",
           "title": {
            "standoff": 15
           },
           "zerolinecolor": "white",
           "zerolinewidth": 2
          },
          "yaxis": {
           "automargin": true,
           "gridcolor": "white",
           "linecolor": "white",
           "ticks": "",
           "title": {
            "standoff": 15
           },
           "zerolinecolor": "white",
           "zerolinewidth": 2
          }
         }
        },
        "title": {
         "font": {
          "size": 25
         },
         "text": "<b>Participants' current income with the programming experience</b>"
        },
        "width": 1000,
        "xaxis": {
         "anchor": "y",
         "domain": [
          0,
          1
         ],
         "tickfont": {
          "size": 14
         },
         "title": {
          "text": "<b>Age</b>"
         }
        },
        "yaxis": {
         "anchor": "x",
         "domain": [
          0,
          1
         ],
         "tickfont": {
          "size": 14
         },
         "ticksuffix": " ",
         "title": {
          "text": "<b>Count</b>"
         }
        }
       }
      }
     },
     "metadata": {},
     "output_type": "display_data"
    }
   ],
   "source": [
    "fig = stacked_bar_plot( gender_age_df, 'Age', 'Count', 'Gender' , 'Percentage',None, 0,0)\n",
    "fig.update_layout(\n",
    "    title_text='<b>Participants\\' current income with the programming experience</b>',\n",
    "    width=1000,\n",
    "    height=400,\n",
    "    margin=dict(l=20, r=30, t=70, b=20),\n",
    ")\n",
    "fig.update_traces(marker_line_color='black', marker_line_width=1, hovertemplate='<b>%{text} (%)</b> of <b>%{fullData.name}</b> in age range <b>%{x}</b> ')\n",
    "\n",
    "fig.show()"
   ]
  },
  {
   "cell_type": "markdown",
   "metadata": {},
   "source": [
    "Yeah, we can see that the higher age, the less percentage of woman participate in this survey. By the result that participants may get lower income in there younger age, and the descrease in the percentage of `Woman` in the older range indicate why there is difference between the income between `Man` and `Woman`.\n",
    "\n",
    "#### **2.2 Gender by Current job:**\n",
    "Now, let's move to the percentage of each gender in the date-related job, by this we can see which gender is the major in each job"
   ]
  },
  {
   "cell_type": "code",
   "execution_count": 31,
   "metadata": {},
   "outputs": [],
   "source": [
    "\n",
    "role_gender_df = gender_df.groupby('Current role')['Gender'].value_counts().reset_index(name='Count')\n",
    "role_gender_df = role_gender_df[role_gender_df['Current role'].isin(data_roles)].copy()\n",
    "\n",
    "# Shorten the name of roles for better visualization\n",
    "role_gender_df.loc[:, 'Current role'] = role_gender_df['Current role'].replace(r'^Data Analyst.*', 'Data Analyst', regex=True)\n",
    "role_gender_df.loc[:, 'Current role'] = role_gender_df['Current role'].replace(r'^Manager.*', 'Manager', regex=True)\n",
    "role_gender_df.loc[:, 'Current role'] = role_gender_df['Current role'].replace(r'^Machine Learning.*', 'ML Engineer', regex=True)\n",
    "\n",
    "role_gender_df['Percentage'] = (role_gender_df['Count'] / role_gender_df.groupby('Current role')['Count'].transform(sum)) * 100\n",
    "role_gender_df['Percentage'] = role_gender_df['Percentage'].round(2)\n"
   ]
  },
  {
   "cell_type": "code",
   "execution_count": 40,
   "metadata": {},
   "outputs": [
    {
     "data": {
      "application/vnd.plotly.v1+json": {
       "config": {
        "plotlyServerURL": "https://plot.ly"
       },
       "data": [
        {
         "alignmentgroup": "True",
         "hovertemplate": "<b>%{text} (%)</b> of <b>%{y}</b> have the income <b>%{fullData.name}</b>",
         "legendgroup": "Man",
         "marker": {
          "color": "#636efa",
          "line": {
           "color": "black",
           "width": 1.2
          },
          "pattern": {
           "shape": ""
          }
         },
         "name": "Man",
         "offsetgroup": "Man",
         "orientation": "v",
         "showlegend": true,
         "text": [
          78.06,
          83.76,
          89.61,
          87.62,
          82.33,
          69.6,
          67.8
         ],
         "textposition": "auto",
         "type": "bar",
         "x": [
          "Data Analyst",
          "Data Scientist",
          "ML Engineer",
          "Manager",
          "Research Scientist",
          "Statistician",
          "Teacher / professor"
         ],
         "xaxis": "x",
         "y": [
          1188,
          1588,
          500,
          715,
          480,
          87,
          558
         ],
         "yaxis": "y"
        },
        {
         "alignmentgroup": "True",
         "hovertemplate": "<b>%{text} (%)</b> of <b>%{y}</b> have the income <b>%{fullData.name}</b>",
         "legendgroup": "Woman",
         "marker": {
          "color": "#EF553B",
          "line": {
           "color": "black",
           "width": 1.2
          },
          "pattern": {
           "shape": ""
          }
         },
         "name": "Woman",
         "offsetgroup": "Woman",
         "orientation": "v",
         "showlegend": true,
         "text": [
          21.94,
          16.24,
          10.39,
          12.38,
          17.67,
          30.4,
          32.2
         ],
         "textposition": "auto",
         "type": "bar",
         "x": [
          "Data Analyst",
          "Data Scientist",
          "ML Engineer",
          "Manager",
          "Research Scientist",
          "Statistician",
          "Teacher / professor"
         ],
         "xaxis": "x",
         "y": [
          334,
          308,
          58,
          101,
          103,
          38,
          265
         ],
         "yaxis": "y"
        }
       ],
       "layout": {
        "barmode": "stack",
        "height": 400,
        "legend": {
         "title": {
          "text": "<b>Gender</b>"
         },
         "tracegroupgap": 0
        },
        "margin": {
         "b": 20,
         "l": 20,
         "r": 30,
         "t": 70
        },
        "paper_bgcolor": "#ffe6cc",
        "template": {
         "data": {
          "bar": [
           {
            "error_x": {
             "color": "#2a3f5f"
            },
            "error_y": {
             "color": "#2a3f5f"
            },
            "marker": {
             "line": {
              "color": "#E5ECF6",
              "width": 0.5
             },
             "pattern": {
              "fillmode": "overlay",
              "size": 10,
              "solidity": 0.2
             }
            },
            "type": "bar"
           }
          ],
          "barpolar": [
           {
            "marker": {
             "line": {
              "color": "#E5ECF6",
              "width": 0.5
             },
             "pattern": {
              "fillmode": "overlay",
              "size": 10,
              "solidity": 0.2
             }
            },
            "type": "barpolar"
           }
          ],
          "carpet": [
           {
            "aaxis": {
             "endlinecolor": "#2a3f5f",
             "gridcolor": "white",
             "linecolor": "white",
             "minorgridcolor": "white",
             "startlinecolor": "#2a3f5f"
            },
            "baxis": {
             "endlinecolor": "#2a3f5f",
             "gridcolor": "white",
             "linecolor": "white",
             "minorgridcolor": "white",
             "startlinecolor": "#2a3f5f"
            },
            "type": "carpet"
           }
          ],
          "choropleth": [
           {
            "colorbar": {
             "outlinewidth": 0,
             "ticks": ""
            },
            "type": "choropleth"
           }
          ],
          "contour": [
           {
            "colorbar": {
             "outlinewidth": 0,
             "ticks": ""
            },
            "colorscale": [
             [
              0,
              "#0d0887"
             ],
             [
              0.1111111111111111,
              "#46039f"
             ],
             [
              0.2222222222222222,
              "#7201a8"
             ],
             [
              0.3333333333333333,
              "#9c179e"
             ],
             [
              0.4444444444444444,
              "#bd3786"
             ],
             [
              0.5555555555555556,
              "#d8576b"
             ],
             [
              0.6666666666666666,
              "#ed7953"
             ],
             [
              0.7777777777777778,
              "#fb9f3a"
             ],
             [
              0.8888888888888888,
              "#fdca26"
             ],
             [
              1,
              "#f0f921"
             ]
            ],
            "type": "contour"
           }
          ],
          "contourcarpet": [
           {
            "colorbar": {
             "outlinewidth": 0,
             "ticks": ""
            },
            "type": "contourcarpet"
           }
          ],
          "heatmap": [
           {
            "colorbar": {
             "outlinewidth": 0,
             "ticks": ""
            },
            "colorscale": [
             [
              0,
              "#0d0887"
             ],
             [
              0.1111111111111111,
              "#46039f"
             ],
             [
              0.2222222222222222,
              "#7201a8"
             ],
             [
              0.3333333333333333,
              "#9c179e"
             ],
             [
              0.4444444444444444,
              "#bd3786"
             ],
             [
              0.5555555555555556,
              "#d8576b"
             ],
             [
              0.6666666666666666,
              "#ed7953"
             ],
             [
              0.7777777777777778,
              "#fb9f3a"
             ],
             [
              0.8888888888888888,
              "#fdca26"
             ],
             [
              1,
              "#f0f921"
             ]
            ],
            "type": "heatmap"
           }
          ],
          "heatmapgl": [
           {
            "colorbar": {
             "outlinewidth": 0,
             "ticks": ""
            },
            "colorscale": [
             [
              0,
              "#0d0887"
             ],
             [
              0.1111111111111111,
              "#46039f"
             ],
             [
              0.2222222222222222,
              "#7201a8"
             ],
             [
              0.3333333333333333,
              "#9c179e"
             ],
             [
              0.4444444444444444,
              "#bd3786"
             ],
             [
              0.5555555555555556,
              "#d8576b"
             ],
             [
              0.6666666666666666,
              "#ed7953"
             ],
             [
              0.7777777777777778,
              "#fb9f3a"
             ],
             [
              0.8888888888888888,
              "#fdca26"
             ],
             [
              1,
              "#f0f921"
             ]
            ],
            "type": "heatmapgl"
           }
          ],
          "histogram": [
           {
            "marker": {
             "pattern": {
              "fillmode": "overlay",
              "size": 10,
              "solidity": 0.2
             }
            },
            "type": "histogram"
           }
          ],
          "histogram2d": [
           {
            "colorbar": {
             "outlinewidth": 0,
             "ticks": ""
            },
            "colorscale": [
             [
              0,
              "#0d0887"
             ],
             [
              0.1111111111111111,
              "#46039f"
             ],
             [
              0.2222222222222222,
              "#7201a8"
             ],
             [
              0.3333333333333333,
              "#9c179e"
             ],
             [
              0.4444444444444444,
              "#bd3786"
             ],
             [
              0.5555555555555556,
              "#d8576b"
             ],
             [
              0.6666666666666666,
              "#ed7953"
             ],
             [
              0.7777777777777778,
              "#fb9f3a"
             ],
             [
              0.8888888888888888,
              "#fdca26"
             ],
             [
              1,
              "#f0f921"
             ]
            ],
            "type": "histogram2d"
           }
          ],
          "histogram2dcontour": [
           {
            "colorbar": {
             "outlinewidth": 0,
             "ticks": ""
            },
            "colorscale": [
             [
              0,
              "#0d0887"
             ],
             [
              0.1111111111111111,
              "#46039f"
             ],
             [
              0.2222222222222222,
              "#7201a8"
             ],
             [
              0.3333333333333333,
              "#9c179e"
             ],
             [
              0.4444444444444444,
              "#bd3786"
             ],
             [
              0.5555555555555556,
              "#d8576b"
             ],
             [
              0.6666666666666666,
              "#ed7953"
             ],
             [
              0.7777777777777778,
              "#fb9f3a"
             ],
             [
              0.8888888888888888,
              "#fdca26"
             ],
             [
              1,
              "#f0f921"
             ]
            ],
            "type": "histogram2dcontour"
           }
          ],
          "mesh3d": [
           {
            "colorbar": {
             "outlinewidth": 0,
             "ticks": ""
            },
            "type": "mesh3d"
           }
          ],
          "parcoords": [
           {
            "line": {
             "colorbar": {
              "outlinewidth": 0,
              "ticks": ""
             }
            },
            "type": "parcoords"
           }
          ],
          "pie": [
           {
            "automargin": true,
            "type": "pie"
           }
          ],
          "scatter": [
           {
            "fillpattern": {
             "fillmode": "overlay",
             "size": 10,
             "solidity": 0.2
            },
            "type": "scatter"
           }
          ],
          "scatter3d": [
           {
            "line": {
             "colorbar": {
              "outlinewidth": 0,
              "ticks": ""
             }
            },
            "marker": {
             "colorbar": {
              "outlinewidth": 0,
              "ticks": ""
             }
            },
            "type": "scatter3d"
           }
          ],
          "scattercarpet": [
           {
            "marker": {
             "colorbar": {
              "outlinewidth": 0,
              "ticks": ""
             }
            },
            "type": "scattercarpet"
           }
          ],
          "scattergeo": [
           {
            "marker": {
             "colorbar": {
              "outlinewidth": 0,
              "ticks": ""
             }
            },
            "type": "scattergeo"
           }
          ],
          "scattergl": [
           {
            "marker": {
             "colorbar": {
              "outlinewidth": 0,
              "ticks": ""
             }
            },
            "type": "scattergl"
           }
          ],
          "scattermapbox": [
           {
            "marker": {
             "colorbar": {
              "outlinewidth": 0,
              "ticks": ""
             }
            },
            "type": "scattermapbox"
           }
          ],
          "scatterpolar": [
           {
            "marker": {
             "colorbar": {
              "outlinewidth": 0,
              "ticks": ""
             }
            },
            "type": "scatterpolar"
           }
          ],
          "scatterpolargl": [
           {
            "marker": {
             "colorbar": {
              "outlinewidth": 0,
              "ticks": ""
             }
            },
            "type": "scatterpolargl"
           }
          ],
          "scatterternary": [
           {
            "marker": {
             "colorbar": {
              "outlinewidth": 0,
              "ticks": ""
             }
            },
            "type": "scatterternary"
           }
          ],
          "surface": [
           {
            "colorbar": {
             "outlinewidth": 0,
             "ticks": ""
            },
            "colorscale": [
             [
              0,
              "#0d0887"
             ],
             [
              0.1111111111111111,
              "#46039f"
             ],
             [
              0.2222222222222222,
              "#7201a8"
             ],
             [
              0.3333333333333333,
              "#9c179e"
             ],
             [
              0.4444444444444444,
              "#bd3786"
             ],
             [
              0.5555555555555556,
              "#d8576b"
             ],
             [
              0.6666666666666666,
              "#ed7953"
             ],
             [
              0.7777777777777778,
              "#fb9f3a"
             ],
             [
              0.8888888888888888,
              "#fdca26"
             ],
             [
              1,
              "#f0f921"
             ]
            ],
            "type": "surface"
           }
          ],
          "table": [
           {
            "cells": {
             "fill": {
              "color": "#EBF0F8"
             },
             "line": {
              "color": "white"
             }
            },
            "header": {
             "fill": {
              "color": "#C8D4E3"
             },
             "line": {
              "color": "white"
             }
            },
            "type": "table"
           }
          ]
         },
         "layout": {
          "annotationdefaults": {
           "arrowcolor": "#2a3f5f",
           "arrowhead": 0,
           "arrowwidth": 1
          },
          "autotypenumbers": "strict",
          "coloraxis": {
           "colorbar": {
            "outlinewidth": 0,
            "ticks": ""
           }
          },
          "colorscale": {
           "diverging": [
            [
             0,
             "#8e0152"
            ],
            [
             0.1,
             "#c51b7d"
            ],
            [
             0.2,
             "#de77ae"
            ],
            [
             0.3,
             "#f1b6da"
            ],
            [
             0.4,
             "#fde0ef"
            ],
            [
             0.5,
             "#f7f7f7"
            ],
            [
             0.6,
             "#e6f5d0"
            ],
            [
             0.7,
             "#b8e186"
            ],
            [
             0.8,
             "#7fbc41"
            ],
            [
             0.9,
             "#4d9221"
            ],
            [
             1,
             "#276419"
            ]
           ],
           "sequential": [
            [
             0,
             "#0d0887"
            ],
            [
             0.1111111111111111,
             "#46039f"
            ],
            [
             0.2222222222222222,
             "#7201a8"
            ],
            [
             0.3333333333333333,
             "#9c179e"
            ],
            [
             0.4444444444444444,
             "#bd3786"
            ],
            [
             0.5555555555555556,
             "#d8576b"
            ],
            [
             0.6666666666666666,
             "#ed7953"
            ],
            [
             0.7777777777777778,
             "#fb9f3a"
            ],
            [
             0.8888888888888888,
             "#fdca26"
            ],
            [
             1,
             "#f0f921"
            ]
           ],
           "sequentialminus": [
            [
             0,
             "#0d0887"
            ],
            [
             0.1111111111111111,
             "#46039f"
            ],
            [
             0.2222222222222222,
             "#7201a8"
            ],
            [
             0.3333333333333333,
             "#9c179e"
            ],
            [
             0.4444444444444444,
             "#bd3786"
            ],
            [
             0.5555555555555556,
             "#d8576b"
            ],
            [
             0.6666666666666666,
             "#ed7953"
            ],
            [
             0.7777777777777778,
             "#fb9f3a"
            ],
            [
             0.8888888888888888,
             "#fdca26"
            ],
            [
             1,
             "#f0f921"
            ]
           ]
          },
          "colorway": [
           "#636efa",
           "#EF553B",
           "#00cc96",
           "#ab63fa",
           "#FFA15A",
           "#19d3f3",
           "#FF6692",
           "#B6E880",
           "#FF97FF",
           "#FECB52"
          ],
          "font": {
           "color": "#2a3f5f"
          },
          "geo": {
           "bgcolor": "white",
           "lakecolor": "white",
           "landcolor": "#E5ECF6",
           "showlakes": true,
           "showland": true,
           "subunitcolor": "white"
          },
          "hoverlabel": {
           "align": "left"
          },
          "hovermode": "closest",
          "mapbox": {
           "style": "light"
          },
          "paper_bgcolor": "white",
          "plot_bgcolor": "#E5ECF6",
          "polar": {
           "angularaxis": {
            "gridcolor": "white",
            "linecolor": "white",
            "ticks": ""
           },
           "bgcolor": "#E5ECF6",
           "radialaxis": {
            "gridcolor": "white",
            "linecolor": "white",
            "ticks": ""
           }
          },
          "scene": {
           "xaxis": {
            "backgroundcolor": "#E5ECF6",
            "gridcolor": "white",
            "gridwidth": 2,
            "linecolor": "white",
            "showbackground": true,
            "ticks": "",
            "zerolinecolor": "white"
           },
           "yaxis": {
            "backgroundcolor": "#E5ECF6",
            "gridcolor": "white",
            "gridwidth": 2,
            "linecolor": "white",
            "showbackground": true,
            "ticks": "",
            "zerolinecolor": "white"
           },
           "zaxis": {
            "backgroundcolor": "#E5ECF6",
            "gridcolor": "white",
            "gridwidth": 2,
            "linecolor": "white",
            "showbackground": true,
            "ticks": "",
            "zerolinecolor": "white"
           }
          },
          "shapedefaults": {
           "line": {
            "color": "#2a3f5f"
           }
          },
          "ternary": {
           "aaxis": {
            "gridcolor": "white",
            "linecolor": "white",
            "ticks": ""
           },
           "baxis": {
            "gridcolor": "white",
            "linecolor": "white",
            "ticks": ""
           },
           "bgcolor": "#E5ECF6",
           "caxis": {
            "gridcolor": "white",
            "linecolor": "white",
            "ticks": ""
           }
          },
          "title": {
           "x": 0.05
          },
          "xaxis": {
           "automargin": true,
           "gridcolor": "white",
           "linecolor": "white",
           "ticks": "",
           "title": {
            "standoff": 15
           },
           "zerolinecolor": "white",
           "zerolinewidth": 2
          },
          "yaxis": {
           "automargin": true,
           "gridcolor": "white",
           "linecolor": "white",
           "ticks": "",
           "title": {
            "standoff": 15
           },
           "zerolinecolor": "white",
           "zerolinewidth": 2
          }
         }
        },
        "title": {
         "text": "<b>The percentage of participants' Gender for each role</b>"
        },
        "width": 1000,
        "xaxis": {
         "anchor": "y",
         "domain": [
          0,
          1
         ],
         "tickfont": {
          "size": 14
         },
         "title": {
          "text": "<b>Current role</b>"
         }
        },
        "yaxis": {
         "anchor": "x",
         "domain": [
          0,
          1
         ],
         "tickfont": {
          "size": 14
         },
         "ticksuffix": " ",
         "title": {
          "text": "<b>Count</b>"
         }
        }
       }
      }
     },
     "metadata": {},
     "output_type": "display_data"
    }
   ],
   "source": [
    "fig = stacked_bar_plot( role_gender_df, 'Current role', 'Count', 'Gender' , 'Percentage', None, 0, 0)\n",
    "fig.update_layout(\n",
    "    title = '<b>The percentage of participants\\' Gender for each role</b>',\n",
    "    width=1000,\n",
    "    height=400,\n",
    ")\n",
    "fig.update_traces(marker_line_color='black', marker_line_width=1.2, hovertemplate='<b>%{text} (%)</b> of <b>%{y}</b> have the income <b>%{fullData.name}</b>')\n",
    "\n",
    "fig.show()"
   ]
  },
  {
   "cell_type": "markdown",
   "metadata": {},
   "source": [
    "As we consider above, in the role that have high potential to get more income like `Manager`, `ML Engineer`, `Research Scientist` just have of little percentage of `Woman`, while in other roles have lest income like `Data Analyst`, `Statistician` ans `Teacher/ professor`, `Woman` make up a higher percentage. This also contribute to the explain why there is difference between the income of `Man` and `Woman`.\n",
    "\n",
    "Overall, we just consider two basic factors that affect to the income of `Man` and `Woman`. Beside that, there are also another that we could consider like `Programming`, `Industry`, ... But I think we just consider them later.\n",
    "\n",
    "Finally, by these comparision above, we can get a overview about the difference between income of `Man` and `Woman` who participate in this survey.   "
   ]
  },
  {
   "cell_type": "markdown",
   "metadata": {},
   "source": [
    "### **Question 03: What is the tool set for each data roles?**\n",
    "\n",
    "Tools like `programming language`, `ide`, `Machine learning frameworks`,etc are very important for a person who work in the data industry. For each roles, there will be several specific tools that a person should learn and master. So, with this question, we will find out a set of tools that each roles in data-related jobs need.\n",
    "\n",
    "In this question, we just concern about these roles: `Data Scientist`, `Data Analyst`, `Machine learning engineer`, `Research scientist`, `Statistician`.          \n",
    "Also, the tools we wil consider here is `Programming language`, `IDE`, `Data visualization libraries`, `ML frameworks`, `ML Algorithms`, `NLP methods`, `Computer visions method`, `Data products`, `Business Intelligent tools`.`"
   ]
  },
  {
   "cell_type": "code",
   "execution_count": 33,
   "metadata": {},
   "outputs": [],
   "source": [
    "data_roles = ['Machine Learning/ MLops Engineer',\n",
    "            'Research Scientist', \n",
    "            'Data Scientist',\n",
    "            'Data Analyst (Business, Marketing, Financial, Quantitative, etc)',\n",
    "            'Statistician']\n",
    "\n",
    "# Define some skills that significant.\n",
    "skills = ['Programming language', 'IDE', 'Data visualization libraries', 'ML frameworks', 'ML Algorithms', 'NLP methods', 'Computer visions method', 'Data products', 'Business Intelligent tools']\n",
    "role_df = processed_income_df[processed_income_df.loc[:,'Current role'].copy().isin(data_roles)].copy()\n",
    "\n",
    "role_df.loc[:,'Current role'] = role_df['Current role'].replace(r'^Data Analyst.*', 'Data Analyst', regex=True)\n",
    "role_df.loc[:,'Current role'] = role_df['Current role'].replace(r'^Machine Learning.*', 'ML Engineer', regex=True)\n",
    "\n",
    "filtered_role_df = role_df.loc[:,role_df.columns.str.startswith(tuple(skills))].copy()\n",
    "filtered_role_df['Current role'] = role_df['Current role']\n",
    "\n",
    "filtered_role_df = filtered_role_df.groupby('Current role').count()"
   ]
  },
  {
   "cell_type": "markdown",
   "metadata": {},
   "source": [
    "After that, we will extract the dataframe for each tool and store them in a dictionary"
   ]
  },
  {
   "cell_type": "code",
   "execution_count": 34,
   "metadata": {},
   "outputs": [],
   "source": [
    "\n",
    "skill_df_dict = {}\n",
    "\n",
    "# Iterate for each skill and extract all the paricipants that have this skill and store them into a dataframe\n",
    "for skill in skills:\n",
    "    sub_df = filtered_role_df.loc[:, filtered_role_df.columns.str.startswith(skill)]\n",
    "    sub_df.index = sub_df.index.rename(name= None)\n",
    "    skill_df_dict[skill] = sub_df.T\n",
    "     "
   ]
  },
  {
   "cell_type": "markdown",
   "metadata": {},
   "source": [
    "Then, find the percentage of participant that use each tool"
   ]
  },
  {
   "cell_type": "code",
   "execution_count": 35,
   "metadata": {},
   "outputs": [],
   "source": [
    "for key, value in skill_df_dict.items():\n",
    "\n",
    "    for role in value.columns:\n",
    "        value[role+'_total'] = value[role].sum()\n",
    "        value[role] = (value[role]/ value[role+'_total'])* 100\n",
    "        value.drop(columns= [role +'_total'], inplace= True)\n"
   ]
  },
  {
   "cell_type": "markdown",
   "metadata": {},
   "source": [
    "We just get the three most popular tools for each tool type"
   ]
  },
  {
   "cell_type": "code",
   "execution_count": 36,
   "metadata": {},
   "outputs": [],
   "source": [
    "top_3_skill_dict_for_roles = {}\n",
    "\n",
    "for key, value in skill_df_dict.items():\n",
    "    skill_set_list = []\n",
    "\n",
    "    # Find top 3 tools for each skill of each roles\n",
    "    for role in value.columns:\n",
    "        if role not in top_3_skill_dict_for_roles:\n",
    "            top_3_skill_dict_for_roles[role] = value.loc[:,role].nlargest(3).to_frame().T\n",
    "        else:\n",
    "            top_3_skill_dict_for_roles[role] = pd.concat([top_3_skill_dict_for_roles[role], value.loc[:, role].nlargest(3).to_frame().T], axis=1)\n",
    "        "
   ]
  },
  {
   "cell_type": "code",
   "execution_count": 37,
   "metadata": {},
   "outputs": [],
   "source": [
    "all_role_skill_dict = {}\n",
    "\n",
    "for key, value in top_3_skill_dict_for_roles.items():\n",
    "    skill_dict = {}\n",
    "\n",
    "    # Group all top tools and their percenatage for each skill.\n",
    "    for col in value.columns:\n",
    "        match = re.search(r'(.+)\\s+\\(([^)]+)\\)', col)\n",
    "        if match:\n",
    "            skill_group = match.group(1)\n",
    "            skill = match.group(2)\n",
    "            if skill_group not in skill_dict:\n",
    "                skill_dict[skill_group] = []\n",
    "            skill_dict[skill_group].append((skill, value.loc[key,col]))\n",
    "    all_role_skill_dict[key] = skill_dict\n"
   ]
  },
  {
   "cell_type": "markdown",
   "metadata": {},
   "source": [
    "Now, visualize and see the result for each role. Here, I use `Sun brust` plot to visual the result. The first layer will be the skills that we consider. The outside layer will be the top 3 tools for this skill, present by the percentage of participants use it, also show how importants it is?"
   ]
  },
  {
   "cell_type": "code",
   "execution_count": 38,
   "metadata": {},
   "outputs": [
    {
     "data": {
      "application/vnd.plotly.v1+json": {
       "config": {
        "plotlyServerURL": "https://plot.ly"
       },
       "data": [
        {
         "branchvalues": "total",
         "domain": {
          "x": [
           0,
           0.5
          ],
          "y": [
           0.7,
           1
          ]
         },
         "hovertemplate": "<b>%{label}</b> is used by <b>%{value}</b> of <b>%{meta.role}</b>",
         "ids": [
          "ML Algorithms/Decison Trees or Random Forests",
          "NLP methods/Encoder-decoder models",
          "Business Intelligent tools/Google Data Studio",
          "ML Algorithms/Gradient Boosting Machines",
          "Computer visions method/Image classification",
          "Computer visions method/Image segmentation methods",
          "IDE/Jupyter  Notebook",
          "ML frameworks/Keras",
          "ML Algorithms/Linear or Logistict Regression",
          "Data visualization libraries/Matplotlib",
          "Business Intelligent tools/Microsoft Power BI",
          "Data products/Microsoft SQL Server",
          "Data products/MySQL",
          "Computer visions method/Object detection methods",
          "Data visualization libraries/Plotly/ Plotky Express",
          "Data products/PosgreSQL",
          "IDE/PyCharm",
          "Programming language/Python",
          "Programming language/R",
          "Programming language/SQL",
          "ML frameworks/Scikit-learn",
          "Data visualization libraries/Seaborn",
          "Business Intelligent tools/Tablue",
          "ML frameworks/TensorFlow",
          "NLP methods/Transformer language models",
          "IDE/Visual Studio Code",
          "NLP methods/Word embeddings/vectors",
          "Business Intelligent tools",
          "Computer visions method",
          "Data products",
          "Data visualization libraries",
          "IDE",
          "ML Algorithms",
          "ML frameworks",
          "NLP methods",
          "Programming language"
         ],
         "labels": [
          "Decison Trees or Random Forests",
          "Encoder-decoder models",
          "Google Data Studio",
          "Gradient Boosting Machines",
          "Image classification",
          "Image segmentation methods",
          "Jupyter  Notebook",
          "Keras",
          "Linear or Logistict Regression",
          "Matplotlib",
          "Microsoft Power BI",
          "Microsoft SQL Server",
          "MySQL",
          "Object detection methods",
          "Plotly/ Plotky Express",
          "PosgreSQL",
          "PyCharm",
          "Python",
          "R",
          "SQL",
          "Scikit-learn",
          "Seaborn",
          "Tablue",
          "TensorFlow",
          "Transformer language models",
          "Visual Studio Code",
          "Word embeddings/vectors",
          "Business Intelligent tools",
          "Computer visions method",
          "Data products",
          "Data visualization libraries",
          "IDE",
          "ML Algorithms",
          "ML frameworks",
          "NLP methods",
          "Programming language"
         ],
         "marker": {
          "line": {
           "color": "black",
           "width": 0.5
          }
         },
         "meta": {
          "role": "Data Analyst"
         },
         "name": "",
         "parents": [
          "ML Algorithms",
          "NLP methods",
          "Business Intelligent tools",
          "ML Algorithms",
          "Computer visions method",
          "Computer visions method",
          "IDE",
          "ML frameworks",
          "ML Algorithms",
          "Data visualization libraries",
          "Business Intelligent tools",
          "Data products",
          "Data products",
          "Computer visions method",
          "Data visualization libraries",
          "Data products",
          "IDE",
          "Programming language",
          "Programming language",
          "Programming language",
          "ML frameworks",
          "Data visualization libraries",
          "Business Intelligent tools",
          "ML frameworks",
          "NLP methods",
          "IDE",
          "NLP methods",
          "",
          "",
          "",
          "",
          "",
          "",
          "",
          "",
          ""
         ],
         "type": "sunburst",
         "values": [
          23.771224307417338,
          22.748815165876778,
          12.431444241316271,
          13.181411974977658,
          27.7027027027027,
          22.2972972972973,
          27.368064952638697,
          12.612163509471586,
          30.205540661304735,
          32.33333333333333,
          33.729433272394886,
          12.843450479233226,
          23.450479233226837,
          19.93243243243243,
          13.916666666666666,
          11.884984025559106,
          8.930987821380242,
          35.93027392387051,
          11.561721807186055,
          28.175026680896476,
          31.754735792622135,
          26.458333333333332,
          34.36928702010969,
          16.450648055832502,
          29.85781990521327,
          14.682002706359945,
          35.54502369668246,
          80.53016453382085,
          69.93243243243244,
          48.17891373801917,
          72.70833333333333,
          50.981055480378885,
          67.15817694369973,
          60.81754735792622,
          88.15165876777252,
          75.66702241195304
         ]
        },
        {
         "branchvalues": "total",
         "domain": {
          "x": [
           0.5,
           1
          ],
          "y": [
           0.7,
           1
          ]
         },
         "hovertemplate": "<b>%{label}</b> is used by <b>%{value}</b> of <b>%{meta.role}</b>",
         "ids": [
          "ML Algorithms/Decison Trees or Random Forests",
          "NLP methods/Encoder-decoder models",
          "Computer visions method/General tools",
          "Business Intelligent tools/Google Data Studio",
          "ML Algorithms/Gradient Boosting Machines",
          "Computer visions method/Image classification",
          "IDE/Jupyter  Notebook",
          "IDE/JupyterLab",
          "ML Algorithms/Linear or Logistict Regression",
          "Data visualization libraries/Matplotlib",
          "Business Intelligent tools/Microsoft Power BI",
          "Data products/Microsoft SQL Server",
          "Data products/MySQL",
          "Computer visions method/Object detection methods",
          "Data visualization libraries/Plotly/ Plotky Express",
          "Data products/PosgreSQL",
          "Programming language/Python",
          "Programming language/R",
          "Programming language/SQL",
          "ML frameworks/Scikit-learn",
          "Data visualization libraries/Seaborn",
          "Business Intelligent tools/Tablue",
          "ML frameworks/TensorFlow",
          "NLP methods/Transformer language models",
          "IDE/Visual Studio Code",
          "NLP methods/Word embeddings/vectors",
          "ML frameworks/Xgboost",
          "Business Intelligent tools",
          "Computer visions method",
          "Data products",
          "Data visualization libraries",
          "IDE",
          "ML Algorithms",
          "ML frameworks",
          "NLP methods",
          "Programming language"
         ],
         "labels": [
          "Decison Trees or Random Forests",
          "Encoder-decoder models",
          "General tools",
          "Google Data Studio",
          "Gradient Boosting Machines",
          "Image classification",
          "Jupyter  Notebook",
          "JupyterLab",
          "Linear or Logistict Regression",
          "Matplotlib",
          "Microsoft Power BI",
          "Microsoft SQL Server",
          "MySQL",
          "Object detection methods",
          "Plotly/ Plotky Express",
          "PosgreSQL",
          "Python",
          "R",
          "SQL",
          "Scikit-learn",
          "Seaborn",
          "Tablue",
          "TensorFlow",
          "Transformer language models",
          "Visual Studio Code",
          "Word embeddings/vectors",
          "Xgboost",
          "Business Intelligent tools",
          "Computer visions method",
          "Data products",
          "Data visualization libraries",
          "IDE",
          "ML Algorithms",
          "ML frameworks",
          "NLP methods",
          "Programming language"
         ],
         "marker": {
          "line": {
           "color": "black",
           "width": 0.5
          }
         },
         "meta": {
          "role": "Data Scientist"
         },
         "name": "",
         "parents": [
          "ML Algorithms",
          "NLP methods",
          "Computer visions method",
          "Business Intelligent tools",
          "ML Algorithms",
          "Computer visions method",
          "IDE",
          "IDE",
          "ML Algorithms",
          "Data visualization libraries",
          "Business Intelligent tools",
          "Data products",
          "Data products",
          "Computer visions method",
          "Data visualization libraries",
          "Data products",
          "Programming language",
          "Programming language",
          "Programming language",
          "ML frameworks",
          "Data visualization libraries",
          "Business Intelligent tools",
          "ML frameworks",
          "NLP methods",
          "IDE",
          "NLP methods",
          "ML frameworks",
          "",
          "",
          "",
          "",
          "",
          "",
          "",
          "",
          ""
         ],
         "type": "sunburst",
         "values": [
          19.12814148309029,
          21.52428810720268,
          17.34623358673117,
          11.538461538461538,
          16.009928637914985,
          28.956461644782312,
          24.815533980582526,
          12.407766990291263,
          20.152032268073224,
          30.547112462006076,
          29.945054945054945,
          9.685230024213075,
          17.675544794188863,
          20.041465100207326,
          16.456795484151108,
          14.216534071255621,
          37.3169030458033,
          10.974192048360846,
          23.85491746105557,
          23.586000995189917,
          26.87798523664785,
          32.005494505494504,
          13.435063858019571,
          33.91959798994975,
          15.417475728155338,
          33.835845896147404,
          14.164869795986068,
          73.48901098901099,
          66.34416033172081,
          41.57730888965756,
          73.88189318280503,
          52.640776699029125,
          55.2901023890785,
          51.18593464919556,
          89.27973199329983,
          72.14601255521971
         ]
        },
        {
         "branchvalues": "total",
         "domain": {
          "x": [
           0,
           0.5
          ],
          "y": [
           0.35,
           0.6499999999999999
          ]
         },
         "hovertemplate": "<b>%{label}</b> is used by <b>%{value}</b> of <b>%{meta.role}</b>",
         "ids": [
          "Programming language/Bash",
          "ML Algorithms/Convolational Neural Networks",
          "ML Algorithms/Decison Trees or Random Forests",
          "NLP methods/Encoder-decoder models",
          "Computer visions method/General tools",
          "Business Intelligent tools/Google Data Studio",
          "Computer visions method/Image classification",
          "IDE/Jupyter  Notebook",
          "ML Algorithms/Linear or Logistict Regression",
          "Data visualization libraries/Matplotlib",
          "Business Intelligent tools/Microsoft Power BI",
          "Data products/MongoDB",
          "Data products/MySQL",
          "Computer visions method/Object detection methods",
          "Data visualization libraries/Plotly/ Plotky Express",
          "Data products/PosgreSQL",
          "IDE/PyCharm",
          "Programming language/Python",
          "ML frameworks/Pytorch",
          "Programming language/SQL",
          "ML frameworks/Scikit-learn",
          "Data visualization libraries/Seaborn",
          "Business Intelligent tools/Tablue",
          "ML frameworks/TensorFlow",
          "NLP methods/Transformer language models",
          "IDE/Visual Studio Code",
          "NLP methods/Word embeddings/vectors",
          "Business Intelligent tools",
          "Computer visions method",
          "Data products",
          "Data visualization libraries",
          "IDE",
          "ML Algorithms",
          "ML frameworks",
          "NLP methods",
          "Programming language"
         ],
         "labels": [
          "Bash",
          "Convolational Neural Networks",
          "Decison Trees or Random Forests",
          "Encoder-decoder models",
          "General tools",
          "Google Data Studio",
          "Image classification",
          "Jupyter  Notebook",
          "Linear or Logistict Regression",
          "Matplotlib",
          "Microsoft Power BI",
          "MongoDB",
          "MySQL",
          "Object detection methods",
          "Plotly/ Plotky Express",
          "PosgreSQL",
          "PyCharm",
          "Python",
          "Pytorch",
          "SQL",
          "Scikit-learn",
          "Seaborn",
          "Tablue",
          "TensorFlow",
          "Transformer language models",
          "Visual Studio Code",
          "Word embeddings/vectors",
          "Business Intelligent tools",
          "Computer visions method",
          "Data products",
          "Data visualization libraries",
          "IDE",
          "ML Algorithms",
          "ML frameworks",
          "NLP methods",
          "Programming language"
         ],
         "marker": {
          "line": {
           "color": "black",
           "width": 0.5
          }
         },
         "meta": {
          "role": "ML Engineer"
         },
         "name": "",
         "parents": [
          "Programming language",
          "ML Algorithms",
          "ML Algorithms",
          "NLP methods",
          "Computer visions method",
          "Business Intelligent tools",
          "Computer visions method",
          "IDE",
          "ML Algorithms",
          "Data visualization libraries",
          "Business Intelligent tools",
          "Data products",
          "Data products",
          "Computer visions method",
          "Data visualization libraries",
          "Data products",
          "IDE",
          "Programming language",
          "ML frameworks",
          "Programming language",
          "ML frameworks",
          "Data visualization libraries",
          "Business Intelligent tools",
          "ML frameworks",
          "NLP methods",
          "IDE",
          "NLP methods",
          "",
          "",
          "",
          "",
          "",
          "",
          "",
          "",
          ""
         ],
         "type": "sunburst",
         "values": [
          10.303928836174943,
          15.025906735751295,
          13.65991521431936,
          26.937269372693727,
          18.071065989847714,
          14.000000000000002,
          25.482233502538072,
          22.275737507525587,
          15.638247762600093,
          36.04269293924467,
          23.333333333333332,
          11.182108626198083,
          16.719914802981894,
          20.913705583756347,
          15.270935960591133,
          15.015974440894569,
          11.739915713425647,
          36.76797627872499,
          14.439024390243901,
          15.196441808747222,
          19.70731707317073,
          28.24302134646962,
          31,
          15.414634146341463,
          33.76383763837638,
          19.084888621312462,
          29.520295202952028,
          68.33333333333333,
          64.46700507614213,
          42.917997870074544,
          79.55665024630542,
          53.100541842263695,
          44.32406971267075,
          49.5609756097561,
          90.22140221402213,
          62.26834692364715
         ]
        },
        {
         "branchvalues": "total",
         "domain": {
          "x": [
           0.5,
           1
          ],
          "y": [
           0.35,
           0.6499999999999999
          ]
         },
         "hovertemplate": "<b>%{label}</b> is used by <b>%{value}</b> of <b>%{meta.role}</b>",
         "ids": [
          "ML Algorithms/Convolational Neural Networks",
          "ML Algorithms/Decison Trees or Random Forests",
          "NLP methods/Encoder-decoder models",
          "Computer visions method/General tools",
          "Business Intelligent tools/Google Data Studio",
          "Computer visions method/Image classification",
          "Computer visions method/Image segmentation methods",
          "IDE/Jupyter  Notebook",
          "ML Algorithms/Linear or Logistict Regression",
          "Programming language/MATLAB",
          "Data visualization libraries/Matplotlib",
          "Business Intelligent tools/Microsoft Power BI",
          "Data products/MySQL",
          "Data visualization libraries/Plotly/ Plotky Express",
          "Data products/PosgreSQL",
          "Programming language/Python",
          "ML frameworks/Pytorch",
          "Programming language/R",
          "IDE/RStudio/Posit",
          "Data products/SQLite",
          "ML frameworks/Scikit-learn",
          "Data visualization libraries/Seaborn",
          "Business Intelligent tools/Tablue",
          "ML frameworks/TensorFlow",
          "NLP methods/Transformer language models",
          "IDE/Visual Studio Code",
          "NLP methods/Word embeddings/vectors",
          "Business Intelligent tools",
          "Computer visions method",
          "Data products",
          "Data visualization libraries",
          "IDE",
          "ML Algorithms",
          "ML frameworks",
          "NLP methods",
          "Programming language"
         ],
         "labels": [
          "Convolational Neural Networks",
          "Decison Trees or Random Forests",
          "Encoder-decoder models",
          "General tools",
          "Google Data Studio",
          "Image classification",
          "Image segmentation methods",
          "Jupyter  Notebook",
          "Linear or Logistict Regression",
          "MATLAB",
          "Matplotlib",
          "Microsoft Power BI",
          "MySQL",
          "Plotly/ Plotky Express",
          "PosgreSQL",
          "Python",
          "Pytorch",
          "R",
          "RStudio/Posit",
          "SQLite",
          "Scikit-learn",
          "Seaborn",
          "Tablue",
          "TensorFlow",
          "Transformer language models",
          "Visual Studio Code",
          "Word embeddings/vectors",
          "Business Intelligent tools",
          "Computer visions method",
          "Data products",
          "Data visualization libraries",
          "IDE",
          "ML Algorithms",
          "ML frameworks",
          "NLP methods",
          "Programming language"
         ],
         "marker": {
          "line": {
           "color": "black",
           "width": 0.5
          }
         },
         "meta": {
          "role": "Research Scientist"
         },
         "name": "",
         "parents": [
          "ML Algorithms",
          "ML Algorithms",
          "NLP methods",
          "Computer visions method",
          "Business Intelligent tools",
          "Computer visions method",
          "Computer visions method",
          "IDE",
          "ML Algorithms",
          "Programming language",
          "Data visualization libraries",
          "Business Intelligent tools",
          "Data products",
          "Data visualization libraries",
          "Data products",
          "Programming language",
          "ML frameworks",
          "Programming language",
          "IDE",
          "Data products",
          "ML frameworks",
          "Data visualization libraries",
          "Business Intelligent tools",
          "ML frameworks",
          "NLP methods",
          "IDE",
          "NLP methods",
          "",
          "",
          "",
          "",
          "",
          "",
          "",
          "",
          ""
         ],
         "type": "sunburst",
         "values": [
          13.890426120641946,
          13.945766463752074,
          23.404255319148938,
          17.94871794871795,
          16.748768472906402,
          25.64102564102564,
          19.391025641025642,
          21.183591123066577,
          17.376867736579968,
          8.823529411764707,
          33.15696649029982,
          23.15270935960591,
          17.647058823529413,
          13.756613756613756,
          14.08199643493761,
          31.779053084648496,
          15.230875258442452,
          11.119081779053085,
          8.607935440484196,
          14.43850267379679,
          22.8118538938663,
          21.869488536155202,
          33.497536945812804,
          16.6092350103377,
          32.62411347517731,
          13.78614660390047,
          33.33333333333333,
          73.39901477832512,
          62.980769230769226,
          46.16755793226381,
          68.78306878306879,
          43.577673167451245,
          45.21306032097399,
          54.65196416264645,
          89.36170212765958,
          51.72166427546629
         ]
        },
        {
         "branchvalues": "total",
         "domain": {
          "x": [
           0,
           0.5
          ],
          "y": [
           0,
           0.3
          ]
         },
         "hovertemplate": "<b>%{label}</b> is used by <b>%{value}</b> of <b>%{meta.role}</b>",
         "ids": [
          "ML Algorithms/Decison Trees or Random Forests",
          "NLP methods/Encoder-decoder models",
          "Computer visions method/General tools",
          "Data visualization libraries/Ggplot/ ggplot2",
          "Business Intelligent tools/Google Data Studio",
          "ML Algorithms/Gradient Boosting Machines",
          "Computer visions method/Image classification",
          "Computer visions method/Image segmentation methods",
          "IDE/Jupyter  Notebook",
          "ML Algorithms/Linear or Logistict Regression",
          "Data visualization libraries/Matplotlib",
          "Business Intelligent tools/Microsoft Power BI",
          "Data products/Microsoft SQL Server",
          "Data products/MySQL",
          "IDE/Notepad++",
          "Data products/PosgreSQL",
          "Programming language/Python",
          "Programming language/R",
          "IDE/RStudio/Posit",
          "Programming language/SQL",
          "ML frameworks/Scikit-learn",
          "Data visualization libraries/Seaborn",
          "Business Intelligent tools/Tablue",
          "ML frameworks/TensorFlow",
          "NLP methods/Transformer language models",
          "NLP methods/Word embeddings/vectors",
          "ML frameworks/Xgboost",
          "Business Intelligent tools",
          "Computer visions method",
          "Data products",
          "Data visualization libraries",
          "IDE",
          "ML Algorithms",
          "ML frameworks",
          "NLP methods",
          "Programming language"
         ],
         "labels": [
          "Decison Trees or Random Forests",
          "Encoder-decoder models",
          "General tools",
          "Ggplot/ ggplot2",
          "Google Data Studio",
          "Gradient Boosting Machines",
          "Image classification",
          "Image segmentation methods",
          "Jupyter  Notebook",
          "Linear or Logistict Regression",
          "Matplotlib",
          "Microsoft Power BI",
          "Microsoft SQL Server",
          "MySQL",
          "Notepad++",
          "PosgreSQL",
          "Python",
          "R",
          "RStudio/Posit",
          "SQL",
          "Scikit-learn",
          "Seaborn",
          "Tablue",
          "TensorFlow",
          "Transformer language models",
          "Word embeddings/vectors",
          "Xgboost",
          "Business Intelligent tools",
          "Computer visions method",
          "Data products",
          "Data visualization libraries",
          "IDE",
          "ML Algorithms",
          "ML frameworks",
          "NLP methods",
          "Programming language"
         ],
         "marker": {
          "line": {
           "color": "black",
           "width": 0.5
          }
         },
         "meta": {
          "role": "Statistician"
         },
         "name": "",
         "parents": [
          "ML Algorithms",
          "NLP methods",
          "Computer visions method",
          "Data visualization libraries",
          "Business Intelligent tools",
          "ML Algorithms",
          "Computer visions method",
          "Computer visions method",
          "IDE",
          "ML Algorithms",
          "Data visualization libraries",
          "Business Intelligent tools",
          "Data products",
          "Data products",
          "IDE",
          "Data products",
          "Programming language",
          "Programming language",
          "IDE",
          "Programming language",
          "ML frameworks",
          "Data visualization libraries",
          "Business Intelligent tools",
          "ML frameworks",
          "NLP methods",
          "NLP methods",
          "ML frameworks",
          "",
          "",
          "",
          "",
          "",
          "",
          "",
          "",
          ""
         ],
         "type": "sunburst",
         "values": [
          21.58590308370044,
          18.51851851851852,
          22.22222222222222,
          25,
          14.583333333333334,
          11.894273127753303,
          25.925925925925924,
          22.22222222222222,
          20.192307692307693,
          29.074889867841406,
          23.46938775510204,
          37.5,
          14.444444444444443,
          20,
          9.615384615384617,
          11.11111111111111,
          27.038626609442062,
          24.892703862660944,
          23.557692307692307,
          17.59656652360515,
          22.77777777777778,
          20.918367346938776,
          31.25,
          12.777777777777777,
          25.925925925925924,
          40.74074074074074,
          11.666666666666666,
          83.33333333333333,
          70.37037037037037,
          45.55555555555556,
          69.38775510204081,
          53.36538461538461,
          62.55506607929515,
          47.22222222222222,
          85.18518518518519,
          69.52789699570816
         ]
        }
       ],
       "layout": {
        "annotations": [
         {
          "font": {
           "size": 16
          },
          "showarrow": false,
          "text": "<b>Tool set for Data Analyst</b>",
          "x": 0.25,
          "xanchor": "center",
          "xref": "paper",
          "y": 1,
          "yanchor": "bottom",
          "yref": "paper"
         },
         {
          "font": {
           "size": 16
          },
          "showarrow": false,
          "text": "<b>Tool set for Data Scientist</b>",
          "x": 0.75,
          "xanchor": "center",
          "xref": "paper",
          "y": 1,
          "yanchor": "bottom",
          "yref": "paper"
         },
         {
          "font": {
           "size": 16
          },
          "showarrow": false,
          "text": "<b>Tool set for ML Engineer</b>",
          "x": 0.25,
          "xanchor": "center",
          "xref": "paper",
          "y": 0.6499999999999999,
          "yanchor": "bottom",
          "yref": "paper"
         },
         {
          "font": {
           "size": 16
          },
          "showarrow": false,
          "text": "<b>Tool set for Research Scientist</b>",
          "x": 0.75,
          "xanchor": "center",
          "xref": "paper",
          "y": 0.6499999999999999,
          "yanchor": "bottom",
          "yref": "paper"
         },
         {
          "font": {
           "size": 16
          },
          "showarrow": false,
          "text": "<b>Tool set for Statistician</b>",
          "x": 0.25,
          "xanchor": "center",
          "xref": "paper",
          "y": 0.3,
          "yanchor": "bottom",
          "yref": "paper"
         }
        ],
        "height": 1800,
        "margin": {
         "b": 20,
         "l": 0,
         "r": 0,
         "t": 70
        },
        "paper_bgcolor": "#ffe6cc",
        "showlegend": false,
        "template": {
         "data": {
          "bar": [
           {
            "error_x": {
             "color": "#2a3f5f"
            },
            "error_y": {
             "color": "#2a3f5f"
            },
            "marker": {
             "line": {
              "color": "#E5ECF6",
              "width": 0.5
             },
             "pattern": {
              "fillmode": "overlay",
              "size": 10,
              "solidity": 0.2
             }
            },
            "type": "bar"
           }
          ],
          "barpolar": [
           {
            "marker": {
             "line": {
              "color": "#E5ECF6",
              "width": 0.5
             },
             "pattern": {
              "fillmode": "overlay",
              "size": 10,
              "solidity": 0.2
             }
            },
            "type": "barpolar"
           }
          ],
          "carpet": [
           {
            "aaxis": {
             "endlinecolor": "#2a3f5f",
             "gridcolor": "white",
             "linecolor": "white",
             "minorgridcolor": "white",
             "startlinecolor": "#2a3f5f"
            },
            "baxis": {
             "endlinecolor": "#2a3f5f",
             "gridcolor": "white",
             "linecolor": "white",
             "minorgridcolor": "white",
             "startlinecolor": "#2a3f5f"
            },
            "type": "carpet"
           }
          ],
          "choropleth": [
           {
            "colorbar": {
             "outlinewidth": 0,
             "ticks": ""
            },
            "type": "choropleth"
           }
          ],
          "contour": [
           {
            "colorbar": {
             "outlinewidth": 0,
             "ticks": ""
            },
            "colorscale": [
             [
              0,
              "#0d0887"
             ],
             [
              0.1111111111111111,
              "#46039f"
             ],
             [
              0.2222222222222222,
              "#7201a8"
             ],
             [
              0.3333333333333333,
              "#9c179e"
             ],
             [
              0.4444444444444444,
              "#bd3786"
             ],
             [
              0.5555555555555556,
              "#d8576b"
             ],
             [
              0.6666666666666666,
              "#ed7953"
             ],
             [
              0.7777777777777778,
              "#fb9f3a"
             ],
             [
              0.8888888888888888,
              "#fdca26"
             ],
             [
              1,
              "#f0f921"
             ]
            ],
            "type": "contour"
           }
          ],
          "contourcarpet": [
           {
            "colorbar": {
             "outlinewidth": 0,
             "ticks": ""
            },
            "type": "contourcarpet"
           }
          ],
          "heatmap": [
           {
            "colorbar": {
             "outlinewidth": 0,
             "ticks": ""
            },
            "colorscale": [
             [
              0,
              "#0d0887"
             ],
             [
              0.1111111111111111,
              "#46039f"
             ],
             [
              0.2222222222222222,
              "#7201a8"
             ],
             [
              0.3333333333333333,
              "#9c179e"
             ],
             [
              0.4444444444444444,
              "#bd3786"
             ],
             [
              0.5555555555555556,
              "#d8576b"
             ],
             [
              0.6666666666666666,
              "#ed7953"
             ],
             [
              0.7777777777777778,
              "#fb9f3a"
             ],
             [
              0.8888888888888888,
              "#fdca26"
             ],
             [
              1,
              "#f0f921"
             ]
            ],
            "type": "heatmap"
           }
          ],
          "heatmapgl": [
           {
            "colorbar": {
             "outlinewidth": 0,
             "ticks": ""
            },
            "colorscale": [
             [
              0,
              "#0d0887"
             ],
             [
              0.1111111111111111,
              "#46039f"
             ],
             [
              0.2222222222222222,
              "#7201a8"
             ],
             [
              0.3333333333333333,
              "#9c179e"
             ],
             [
              0.4444444444444444,
              "#bd3786"
             ],
             [
              0.5555555555555556,
              "#d8576b"
             ],
             [
              0.6666666666666666,
              "#ed7953"
             ],
             [
              0.7777777777777778,
              "#fb9f3a"
             ],
             [
              0.8888888888888888,
              "#fdca26"
             ],
             [
              1,
              "#f0f921"
             ]
            ],
            "type": "heatmapgl"
           }
          ],
          "histogram": [
           {
            "marker": {
             "pattern": {
              "fillmode": "overlay",
              "size": 10,
              "solidity": 0.2
             }
            },
            "type": "histogram"
           }
          ],
          "histogram2d": [
           {
            "colorbar": {
             "outlinewidth": 0,
             "ticks": ""
            },
            "colorscale": [
             [
              0,
              "#0d0887"
             ],
             [
              0.1111111111111111,
              "#46039f"
             ],
             [
              0.2222222222222222,
              "#7201a8"
             ],
             [
              0.3333333333333333,
              "#9c179e"
             ],
             [
              0.4444444444444444,
              "#bd3786"
             ],
             [
              0.5555555555555556,
              "#d8576b"
             ],
             [
              0.6666666666666666,
              "#ed7953"
             ],
             [
              0.7777777777777778,
              "#fb9f3a"
             ],
             [
              0.8888888888888888,
              "#fdca26"
             ],
             [
              1,
              "#f0f921"
             ]
            ],
            "type": "histogram2d"
           }
          ],
          "histogram2dcontour": [
           {
            "colorbar": {
             "outlinewidth": 0,
             "ticks": ""
            },
            "colorscale": [
             [
              0,
              "#0d0887"
             ],
             [
              0.1111111111111111,
              "#46039f"
             ],
             [
              0.2222222222222222,
              "#7201a8"
             ],
             [
              0.3333333333333333,
              "#9c179e"
             ],
             [
              0.4444444444444444,
              "#bd3786"
             ],
             [
              0.5555555555555556,
              "#d8576b"
             ],
             [
              0.6666666666666666,
              "#ed7953"
             ],
             [
              0.7777777777777778,
              "#fb9f3a"
             ],
             [
              0.8888888888888888,
              "#fdca26"
             ],
             [
              1,
              "#f0f921"
             ]
            ],
            "type": "histogram2dcontour"
           }
          ],
          "mesh3d": [
           {
            "colorbar": {
             "outlinewidth": 0,
             "ticks": ""
            },
            "type": "mesh3d"
           }
          ],
          "parcoords": [
           {
            "line": {
             "colorbar": {
              "outlinewidth": 0,
              "ticks": ""
             }
            },
            "type": "parcoords"
           }
          ],
          "pie": [
           {
            "automargin": true,
            "type": "pie"
           }
          ],
          "scatter": [
           {
            "fillpattern": {
             "fillmode": "overlay",
             "size": 10,
             "solidity": 0.2
            },
            "type": "scatter"
           }
          ],
          "scatter3d": [
           {
            "line": {
             "colorbar": {
              "outlinewidth": 0,
              "ticks": ""
             }
            },
            "marker": {
             "colorbar": {
              "outlinewidth": 0,
              "ticks": ""
             }
            },
            "type": "scatter3d"
           }
          ],
          "scattercarpet": [
           {
            "marker": {
             "colorbar": {
              "outlinewidth": 0,
              "ticks": ""
             }
            },
            "type": "scattercarpet"
           }
          ],
          "scattergeo": [
           {
            "marker": {
             "colorbar": {
              "outlinewidth": 0,
              "ticks": ""
             }
            },
            "type": "scattergeo"
           }
          ],
          "scattergl": [
           {
            "marker": {
             "colorbar": {
              "outlinewidth": 0,
              "ticks": ""
             }
            },
            "type": "scattergl"
           }
          ],
          "scattermapbox": [
           {
            "marker": {
             "colorbar": {
              "outlinewidth": 0,
              "ticks": ""
             }
            },
            "type": "scattermapbox"
           }
          ],
          "scatterpolar": [
           {
            "marker": {
             "colorbar": {
              "outlinewidth": 0,
              "ticks": ""
             }
            },
            "type": "scatterpolar"
           }
          ],
          "scatterpolargl": [
           {
            "marker": {
             "colorbar": {
              "outlinewidth": 0,
              "ticks": ""
             }
            },
            "type": "scatterpolargl"
           }
          ],
          "scatterternary": [
           {
            "marker": {
             "colorbar": {
              "outlinewidth": 0,
              "ticks": ""
             }
            },
            "type": "scatterternary"
           }
          ],
          "surface": [
           {
            "colorbar": {
             "outlinewidth": 0,
             "ticks": ""
            },
            "colorscale": [
             [
              0,
              "#0d0887"
             ],
             [
              0.1111111111111111,
              "#46039f"
             ],
             [
              0.2222222222222222,
              "#7201a8"
             ],
             [
              0.3333333333333333,
              "#9c179e"
             ],
             [
              0.4444444444444444,
              "#bd3786"
             ],
             [
              0.5555555555555556,
              "#d8576b"
             ],
             [
              0.6666666666666666,
              "#ed7953"
             ],
             [
              0.7777777777777778,
              "#fb9f3a"
             ],
             [
              0.8888888888888888,
              "#fdca26"
             ],
             [
              1,
              "#f0f921"
             ]
            ],
            "type": "surface"
           }
          ],
          "table": [
           {
            "cells": {
             "fill": {
              "color": "#EBF0F8"
             },
             "line": {
              "color": "white"
             }
            },
            "header": {
             "fill": {
              "color": "#C8D4E3"
             },
             "line": {
              "color": "white"
             }
            },
            "type": "table"
           }
          ]
         },
         "layout": {
          "annotationdefaults": {
           "arrowcolor": "#2a3f5f",
           "arrowhead": 0,
           "arrowwidth": 1
          },
          "autotypenumbers": "strict",
          "coloraxis": {
           "colorbar": {
            "outlinewidth": 0,
            "ticks": ""
           }
          },
          "colorscale": {
           "diverging": [
            [
             0,
             "#8e0152"
            ],
            [
             0.1,
             "#c51b7d"
            ],
            [
             0.2,
             "#de77ae"
            ],
            [
             0.3,
             "#f1b6da"
            ],
            [
             0.4,
             "#fde0ef"
            ],
            [
             0.5,
             "#f7f7f7"
            ],
            [
             0.6,
             "#e6f5d0"
            ],
            [
             0.7,
             "#b8e186"
            ],
            [
             0.8,
             "#7fbc41"
            ],
            [
             0.9,
             "#4d9221"
            ],
            [
             1,
             "#276419"
            ]
           ],
           "sequential": [
            [
             0,
             "#0d0887"
            ],
            [
             0.1111111111111111,
             "#46039f"
            ],
            [
             0.2222222222222222,
             "#7201a8"
            ],
            [
             0.3333333333333333,
             "#9c179e"
            ],
            [
             0.4444444444444444,
             "#bd3786"
            ],
            [
             0.5555555555555556,
             "#d8576b"
            ],
            [
             0.6666666666666666,
             "#ed7953"
            ],
            [
             0.7777777777777778,
             "#fb9f3a"
            ],
            [
             0.8888888888888888,
             "#fdca26"
            ],
            [
             1,
             "#f0f921"
            ]
           ],
           "sequentialminus": [
            [
             0,
             "#0d0887"
            ],
            [
             0.1111111111111111,
             "#46039f"
            ],
            [
             0.2222222222222222,
             "#7201a8"
            ],
            [
             0.3333333333333333,
             "#9c179e"
            ],
            [
             0.4444444444444444,
             "#bd3786"
            ],
            [
             0.5555555555555556,
             "#d8576b"
            ],
            [
             0.6666666666666666,
             "#ed7953"
            ],
            [
             0.7777777777777778,
             "#fb9f3a"
            ],
            [
             0.8888888888888888,
             "#fdca26"
            ],
            [
             1,
             "#f0f921"
            ]
           ]
          },
          "colorway": [
           "#636efa",
           "#EF553B",
           "#00cc96",
           "#ab63fa",
           "#FFA15A",
           "#19d3f3",
           "#FF6692",
           "#B6E880",
           "#FF97FF",
           "#FECB52"
          ],
          "font": {
           "color": "#2a3f5f"
          },
          "geo": {
           "bgcolor": "white",
           "lakecolor": "white",
           "landcolor": "#E5ECF6",
           "showlakes": true,
           "showland": true,
           "subunitcolor": "white"
          },
          "hoverlabel": {
           "align": "left"
          },
          "hovermode": "closest",
          "mapbox": {
           "style": "light"
          },
          "paper_bgcolor": "white",
          "plot_bgcolor": "#E5ECF6",
          "polar": {
           "angularaxis": {
            "gridcolor": "white",
            "linecolor": "white",
            "ticks": ""
           },
           "bgcolor": "#E5ECF6",
           "radialaxis": {
            "gridcolor": "white",
            "linecolor": "white",
            "ticks": ""
           }
          },
          "scene": {
           "xaxis": {
            "backgroundcolor": "#E5ECF6",
            "gridcolor": "white",
            "gridwidth": 2,
            "linecolor": "white",
            "showbackground": true,
            "ticks": "",
            "zerolinecolor": "white"
           },
           "yaxis": {
            "backgroundcolor": "#E5ECF6",
            "gridcolor": "white",
            "gridwidth": 2,
            "linecolor": "white",
            "showbackground": true,
            "ticks": "",
            "zerolinecolor": "white"
           },
           "zaxis": {
            "backgroundcolor": "#E5ECF6",
            "gridcolor": "white",
            "gridwidth": 2,
            "linecolor": "white",
            "showbackground": true,
            "ticks": "",
            "zerolinecolor": "white"
           }
          },
          "shapedefaults": {
           "line": {
            "color": "#2a3f5f"
           }
          },
          "ternary": {
           "aaxis": {
            "gridcolor": "white",
            "linecolor": "white",
            "ticks": ""
           },
           "baxis": {
            "gridcolor": "white",
            "linecolor": "white",
            "ticks": ""
           },
           "bgcolor": "#E5ECF6",
           "caxis": {
            "gridcolor": "white",
            "linecolor": "white",
            "ticks": ""
           }
          },
          "title": {
           "x": 0.05
          },
          "xaxis": {
           "automargin": true,
           "gridcolor": "white",
           "linecolor": "white",
           "ticks": "",
           "title": {
            "standoff": 15
           },
           "zerolinecolor": "white",
           "zerolinewidth": 2
          },
          "yaxis": {
           "automargin": true,
           "gridcolor": "white",
           "linecolor": "white",
           "ticks": "",
           "title": {
            "standoff": 15
           },
           "zerolinecolor": "white",
           "zerolinewidth": 2
          }
         }
        },
        "width": 1100
       }
      }
     },
     "metadata": {},
     "output_type": "display_data"
    }
   ],
   "source": [
    "\n",
    "fig = make_subplots(\n",
    "    rows = 3, cols = 2,\n",
    "    subplot_titles = [f'<b>Tool set for {role}</b>' for role in all_role_skill_dict.keys()],\n",
    "    specs = [[{'type': 'sunburst'}] *2] * 3,\n",
    "    horizontal_spacing = 0,\n",
    "    vertical_spacing=0.05,\n",
    ")\n",
    "\n",
    "for i, (role, skill_dict) in enumerate(all_role_skill_dict.items(),):\n",
    "\n",
    "    df = pd.DataFrame(skill_dict)\n",
    "    df = pd.melt(df)\n",
    "    df['value1'] = df['value'].apply(lambda x: x[0])\n",
    "    df['value2'] = df['value'].apply(lambda x: x[1])\n",
    "    df.drop(columns='value', inplace=True)\n",
    "    df.rename(columns={'value1': '<b>Tool</b>', 'variable': '<b>Tool type</b>', 'value2': 'Percentage'}, inplace=True)\n",
    "\n",
    "    sunburst_fig = px.sunburst(df,\n",
    "                               path=['<b>Tool type</b>', '<b>Tool</b>'],\n",
    "                               values='Percentage',\n",
    "                               branchvalues='total',\n",
    "                               color_continuous_scale='Viridis'\n",
    "                               )\n",
    "    sunburst_data = sunburst_fig['data'][0]\n",
    "    sunburst_data['meta'] = {'role': role}\n",
    "    sunburst_data['hovertemplate'] = '<b>%{label}</b> is used by <b>%{value}</b> of <b>%{meta.role}</b>'\n",
    "    row_idx = i // 2 + 1\n",
    "    col_idx = i % 2 + 1\n",
    "\n",
    "    fig.add_trace(sunburst_data, row=row_idx, col=col_idx)\n",
    "\n",
    "# Update the layout\n",
    "fig.update_layout(\n",
    "    width=1100,\n",
    "    height=1800,\n",
    "    margin=dict(l=0, r=0, t=70, b=20),\n",
    "    paper_bgcolor='#ffe6cc',\n",
    "    showlegend=False,\n",
    ")\n",
    "fig.update_traces(marker_line_color='black', marker_line_width=0.5)\n",
    "\n",
    "fig.show()\n"
   ]
  },
  {
   "cell_type": "markdown",
   "metadata": {},
   "source": [
    "By these plot, we can see the toolset for each role. \n",
    "- There are lots of similarities between the tool set of each role:\n",
    "    - `Python`, `SQL` and `R` are three programming languages that are widly used by all roles. So if we want to have a good skill to take a roles in data jobs, we have to get more concern in practicing these languages.\n",
    "    - About the `visualization libraries`: `Seaborn`, `Matplotlib` and `Plotly` are the most common libraries with all roles. This show there advance position compare with other visualization libraries.\n",
    "    - With `Machine Learning`, an important skill for all roles, `Scikit-learn`, `TensorFlow` are two frameworks that all roles used. Also, `Linear regression` and `Decision tree` are two the most popular `algorithm` for all roles.\n",
    "    - All other tool set also share a high similarities with each other.\n",
    "\n",
    "- Beside that, there also some tool are most specific for each role. Below is something special we can consider about these plot:\n",
    "\n",
    "    - With `Programming language`:  `Bash` is used by `Machine Learning Engineer`, and `Matlab` for `Research Scientist`\n",
    "\n",
    "    - With `IDE`: For `Statistician` and `Research Scientist`, `RStudio` is the most necessary because `R` is a significant language for statistical analysis.\n",
    "\n",
    "    - With `ML Algorithms`: `Convolational Neutral Network` is mostly used  by `Machine Learning Engineer` and `Research Scientist`, \n",
    "\n",
    "\n",
    "In conclusion, tools that is specific for each roles. From that, be can start to learn, and practice it, to prepare for our career in the future."
   ]
  }
 ],
 "metadata": {
  "kernelspec": {
   "display_name": "Python 3",
   "language": "python",
   "name": "python3"
  },
  "language_info": {
   "codemirror_mode": {
    "name": "ipython",
    "version": 3
   },
   "file_extension": ".py",
   "mimetype": "text/x-python",
   "name": "python",
   "nbconvert_exporter": "python",
   "pygments_lexer": "ipython3",
   "version": "3.11.4"
  }
 },
 "nbformat": 4,
 "nbformat_minor": 2
}
