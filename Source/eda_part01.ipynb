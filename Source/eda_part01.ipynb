{
 "cells": [
  {
   "cell_type": "markdown",
   "metadata": {},
   "source": [
    "# Exploratory data analysis\n",
    "\n"
   ]
  },
  {
   "cell_type": "code",
   "execution_count": 95,
   "metadata": {},
   "outputs": [],
   "source": [
    "import pandas as pd\n",
    "import numpy as np\n",
    "import matplotlib.pyplot as plt\n",
    "import plotly.express as px\n",
    "from plotly.subplots import make_subplots\n",
    "import seaborn as sns\n",
    "import re"
   ]
  },
  {
   "cell_type": "markdown",
   "metadata": {},
   "source": [
    "## Read data from file:"
   ]
  },
  {
   "cell_type": "code",
   "execution_count": 96,
   "metadata": {},
   "outputs": [],
   "source": [
    "ds_survey_df = pd.read_csv('../Dataset/final_data.csv', low_memory=False)"
   ]
  },
  {
   "cell_type": "markdown",
   "metadata": {},
   "source": [
    "## **Ask some question:**\n",
    "\n",
    "### **Question 01: How do factors such as residential country, current role, programming experience, current industry affect a person's salary? Is there any difference between men's and women's salaries? If yes, explain the reason.**\n",
    "\n",
    "To answer the first question, let's see how the income is distributed by each factor."
   ]
  },
  {
   "cell_type": "markdown",
   "metadata": {},
   "source": [
    "### **1.1 Income distribution by residential country**:\n",
    "Firstly, by above exploration, we can see that there is over 50 percent of missing values for the column `Current income`. As we discuss earlier, these missing values come from survey participants that currently are student. There for, in this analysis, we just drop all nan values\n",
    " "
   ]
  },
  {
   "cell_type": "code",
   "execution_count": 97,
   "metadata": {},
   "outputs": [
    {
     "data": {
      "text/plain": [
       "Current income\n",
       "$0-999              1112\n",
       "10,000-14,999        493\n",
       "30,000-39,999        464\n",
       "1,000-1,999          444\n",
       "40,000-49,999        421\n",
       "100,000-124,999      404\n",
       "5,000-7,499          391\n",
       "50,000-59,999        366\n",
       "7,500-9,999          362\n",
       "150,000-199,999      342\n",
       "20,000-24,999        337\n",
       "60,000-69,999        318\n",
       "15,000-19,999        299\n",
       "70,000-79,999        289\n",
       "25,000-29,999        277\n",
       "2,000-2,999          271\n",
       "125,000-149,999      269\n",
       "3,000-3,999          244\n",
       "4,000-4,999          234\n",
       "80,000-89,999        222\n",
       "90,000-99,999        197\n",
       "200,000-249,999      155\n",
       "250,000-299,999       78\n",
       "300,000-499,999       76\n",
       "$500,000-999,999      48\n",
       ">$1,000,000           23\n",
       "Name: count, dtype: int64"
      ]
     },
     "execution_count": 97,
     "metadata": {},
     "output_type": "execute_result"
    }
   ],
   "source": [
    "income_df = ds_survey_df.dropna(subset= 'Current income')\n",
    "income_df['Current income'].value_counts()"
   ]
  },
  {
   "cell_type": "markdown",
   "metadata": {},
   "source": [
    "Through the above result, we can see that the income is seperated into too many ranges, We will group these ranges and create a new income range which become more easier for our anslysis."
   ]
  },
  {
   "cell_type": "code",
   "execution_count": 98,
   "metadata": {},
   "outputs": [],
   "source": [
    "new_income_range = {\n",
    "    '<$10,000': (0, 10000),\n",
    "    '$10,000-50,000': (0, 50000),\n",
    "    '$50,000-100,000': (50000, 100000),\n",
    "    '$100,000-300,000' : (100000, 300000),\n",
    "    '$300,000-500,000' : (300000, 500000),\n",
    "    '>$500,000' : (500000, float('inf'))\n",
    "}"
   ]
  },
  {
   "cell_type": "markdown",
   "metadata": {},
   "source": [
    "Now, replace the current range with the new range for all sample in our dataset."
   ]
  },
  {
   "cell_type": "code",
   "execution_count": 99,
   "metadata": {},
   "outputs": [
    {
     "data": {
      "text/plain": [
       "Current income\n",
       "<$10,000            3058\n",
       "$10,000-50,000      2291\n",
       "$50,000-100,000     1392\n",
       "$100,000-300,000    1248\n",
       "$300,000-500,000      76\n",
       ">$500,000             71\n",
       "Name: count, dtype: int64"
      ]
     },
     "execution_count": 99,
     "metadata": {},
     "output_type": "execute_result"
    }
   ],
   "source": [
    "processed_income_df = income_df.copy()\n",
    "new_range_list = []\n",
    "for index, income_range in enumerate(income_df['Current income']):\n",
    "    for new_range, (lower_bound, upper_bound) in new_income_range.items():\n",
    "        lower = income_range.split('-')[0]\n",
    "        lower = int(lower.replace(',', '').replace('$', '').replace('>', ''))\n",
    "        if lower_bound <= lower < upper_bound:\n",
    "            new_range_list.append(new_range)\n",
    "            break;\n",
    "\n",
    "processed_income_df.loc[:,'Current income'] = new_range_list\n",
    "processed_income_df['Current income'].value_counts()"
   ]
  },
  {
   "cell_type": "markdown",
   "metadata": {},
   "source": [
    "We have converted all the current income of the participants to the new range of income.From this, `processed_income_df` will be the main dataframe that we use for out analysis.     \n",
    "Now, let's check how the income is distributed by the residential country throgh these steps:\n",
    "- Step 01: Group the income data by residential country then count the value for each range of current income.\n",
    "- Step 02: Find the percentage of each income range in each country.\n",
    "- Step 03: Use a `scatter geo plot` to present the distribution"
   ]
  },
  {
   "cell_type": "code",
   "execution_count": 100,
   "metadata": {},
   "outputs": [],
   "source": [
    "\n",
    "income_by_countries_df = processed_income_df.groupby('Residential country')['Current income'].value_counts().to_frame().reset_index()\n",
    "income_by_countries_df['Percentage'] = income_by_countries_df.groupby('Residential country')['count'].transform(lambda x: x / x.sum() * 100)\n",
    "income_by_countries_df['Percentage'] = income_by_countries_df['Percentage'].round(3)"
   ]
  },
  {
   "cell_type": "code",
   "execution_count": 101,
   "metadata": {},
   "outputs": [
    {
     "data": {
      "application/vnd.plotly.v1+json": {
       "config": {
        "plotlyServerURL": "https://plot.ly",
        "scrollZoom": true
       },
       "data": [
        {
         "geo": "geo",
         "hovertemplate": "%{marker.size} (%) of participants in %{location} have the income %{fullData.name}",
         "legendgroup": "<$10,000",
         "locationmode": "country names",
         "locations": [
          "Algeria",
          "Argentina",
          "Australia",
          "Bangladesh",
          "Belgium",
          "Brazil",
          "Cameroon",
          "Canada",
          "Chile",
          "China",
          "Colombia",
          "Czech Republic",
          "Ecuador",
          "Egypt",
          "Ethiopia",
          "France",
          "Germany",
          "Ghana",
          "Hong Kong (S.A.R.)",
          "I do not wish to disclose my location",
          "India",
          "Indonesia",
          "Iran, Islamic Republic of...",
          "Ireland",
          "Israel",
          "Italy",
          "Japan",
          "Kenya",
          "Malaysia",
          "Mexico",
          "Morocco",
          "Nepal",
          "Netherlands",
          "Nigeria",
          "Other",
          "Pakistan",
          "Peru",
          "Philippines",
          "Poland",
          "Portugal",
          "Romania",
          "Russia",
          "Saudi Arabia",
          "Singapore",
          "South Africa",
          "South Korea",
          "Spain",
          "Sri Lanka",
          "Taiwan",
          "Thailand",
          "Tunisia",
          "Turkey",
          "Ukraine",
          "United Arab Emirates",
          "United Kingdom of Great Britain and Northern Ireland",
          "United States of America",
          "Viet Nam",
          "Zimbabwe"
         ],
         "marker": {
          "autocolorscale": true,
          "color": "#636efa",
          "line": {
           "color": "black",
           "width": 0.5
          },
          "opacity": 0.7,
          "size": [
           87.5,
           52.703,
           3.448,
           76.744,
           6.061,
           36.986,
           53.333,
           10.256,
           27.778,
           37.963,
           42.697,
           3.846,
           58.333,
           78.022,
           90.909,
           8.759,
           8.929,
           84,
           23.077,
           66.667,
           56.959,
           71.698,
           86.207,
           3.333,
           2.439,
           4.494,
           30.631,
           51.163,
           42.857,
           38.849,
           54.762,
           69.231,
           13.889,
           84.277,
           39.53,
           82.443,
           52.5,
           62.5,
           17.568,
           7.143,
           13.636,
           45.652,
           37.838,
           18.919,
           43.243,
           30.534,
           10.714,
           75,
           27.273,
           27.451,
           65,
           43.86,
           45.455,
           35.294,
           4.317,
           5.509,
           61.818,
           53.846
          ],
          "sizemode": "area",
          "sizeref": 0.1,
          "symbol": "circle"
         },
         "mode": "markers",
         "name": "<$10,000",
         "showlegend": true,
         "type": "scattergeo"
        },
        {
         "geo": "geo",
         "hovertemplate": "%{marker.size} (%) of participants in %{location} have the income %{fullData.name}",
         "legendgroup": "$10,000-50,000",
         "locationmode": "country names",
         "locations": [
          "Algeria",
          "Argentina",
          "Australia",
          "Bangladesh",
          "Belgium",
          "Brazil",
          "Cameroon",
          "Canada",
          "Chile",
          "China",
          "Colombia",
          "Czech Republic",
          "Ecuador",
          "Egypt",
          "Ethiopia",
          "France",
          "Germany",
          "Ghana",
          "Hong Kong (S.A.R.)",
          "I do not wish to disclose my location",
          "India",
          "Indonesia",
          "Iran, Islamic Republic of...",
          "Ireland",
          "Israel",
          "Italy",
          "Japan",
          "Kenya",
          "Malaysia",
          "Mexico",
          "Morocco",
          "Nepal",
          "Netherlands",
          "Nigeria",
          "Other",
          "Pakistan",
          "Peru",
          "Philippines",
          "Poland",
          "Portugal",
          "Romania",
          "Russia",
          "Saudi Arabia",
          "Singapore",
          "South Africa",
          "South Korea",
          "Spain",
          "Sri Lanka",
          "Taiwan",
          "Thailand",
          "Tunisia",
          "Turkey",
          "Ukraine",
          "United Arab Emirates",
          "United Kingdom of Great Britain and Northern Ireland",
          "United States of America",
          "Viet Nam",
          "Zimbabwe"
         ],
         "marker": {
          "autocolorscale": true,
          "color": "#EF553B",
          "line": {
           "color": "black",
           "width": 0.5
          },
          "opacity": 0.7,
          "size": [
           12.5,
           39.189,
           3.448,
           16.279,
           36.364,
           41.781,
           40,
           14.53,
           59.259,
           33.333,
           33.708,
           46.154,
           25,
           16.484,
           9.091,
           28.467,
           5.357,
           12,
           26.923,
           8.333,
           34.192,
           23.585,
           10.345,
           30,
           9.756,
           68.539,
           27.928,
           44.186,
           50,
           46.043,
           30.952,
           7.692,
           12.5,
           11.321,
           32.877,
           12.214,
           42.5,
           33.333,
           48.649,
           64.286,
           59.091,
           41.304,
           21.622,
           21.622,
           24.324,
           22.901,
           46.429,
           16.667,
           50,
           54.902,
           25,
           41.228,
           36.364,
           17.647,
           20.144,
           8.577,
           36.364,
           30.769
          ],
          "sizemode": "area",
          "sizeref": 0.1,
          "symbol": "circle"
         },
         "mode": "markers",
         "name": "$10,000-50,000",
         "showlegend": true,
         "type": "scattergeo"
        },
        {
         "geo": "geo",
         "hovertemplate": "%{marker.size} (%) of participants in %{location} have the income %{fullData.name}",
         "legendgroup": "$50,000-100,000",
         "locationmode": "country names",
         "locations": [
          "Argentina",
          "Australia",
          "Bangladesh",
          "Belgium",
          "Brazil",
          "Cameroon",
          "Canada",
          "Chile",
          "China",
          "Colombia",
          "Czech Republic",
          "Ecuador",
          "Egypt",
          "France",
          "Germany",
          "Hong Kong (S.A.R.)",
          "I do not wish to disclose my location",
          "India",
          "Indonesia",
          "Ireland",
          "Israel",
          "Italy",
          "Japan",
          "Kenya",
          "Malaysia",
          "Mexico",
          "Morocco",
          "Nepal",
          "Netherlands",
          "Nigeria",
          "Other",
          "Pakistan",
          "Peru",
          "Philippines",
          "Poland",
          "Portugal",
          "Romania",
          "Russia",
          "Saudi Arabia",
          "Singapore",
          "South Africa",
          "South Korea",
          "Spain",
          "Sri Lanka",
          "Taiwan",
          "Thailand",
          "Tunisia",
          "Turkey",
          "Ukraine",
          "United Arab Emirates",
          "United Kingdom of Great Britain and Northern Ireland",
          "United States of America",
          "Viet Nam"
         ],
         "marker": {
          "autocolorscale": true,
          "color": "#00cc96",
          "line": {
           "color": "black",
           "width": 0.5
          },
          "opacity": 0.7,
          "size": [
           5.405,
           29.31,
           6.977,
           42.424,
           17.123,
           6.667,
           43.59,
           11.111,
           18.519,
           21.348,
           38.462,
           8.333,
           1.099,
           45.985,
           58.929,
           38.462,
           8.333,
           5.112,
           1.887,
           36.667,
           19.512,
           23.596,
           33.934,
           4.651,
           7.143,
           10.072,
           4.762,
           15.385,
           51.389,
           3.774,
           19.961,
           3.817,
           5,
           4.167,
           28.378,
           23.81,
           22.727,
           11.957,
           21.622,
           29.73,
           21.622,
           35.878,
           33.571,
           4.167,
           20,
           15.686,
           5,
           12.281,
           13.636,
           19.608,
           46.043,
           24.128,
           1.818
          ],
          "sizemode": "area",
          "sizeref": 0.1,
          "symbol": "circle"
         },
         "mode": "markers",
         "name": "$50,000-100,000",
         "showlegend": true,
         "type": "scattergeo"
        },
        {
         "geo": "geo",
         "hovertemplate": "%{marker.size} (%) of participants in %{location} have the income %{fullData.name}",
         "legendgroup": "$100,000-300,000",
         "locationmode": "country names",
         "locations": [
          "Argentina",
          "Australia",
          "Belgium",
          "Brazil",
          "Canada",
          "Chile",
          "China",
          "Colombia",
          "Czech Republic",
          "Ecuador",
          "Egypt",
          "France",
          "Germany",
          "Hong Kong (S.A.R.)",
          "I do not wish to disclose my location",
          "India",
          "Indonesia",
          "Iran, Islamic Republic of...",
          "Ireland",
          "Israel",
          "Italy",
          "Japan",
          "Mexico",
          "Morocco",
          "Nepal",
          "Netherlands",
          "Nigeria",
          "Other",
          "Pakistan",
          "Poland",
          "Portugal",
          "Romania",
          "Russia",
          "Saudi Arabia",
          "Singapore",
          "South Africa",
          "South Korea",
          "Spain",
          "Taiwan",
          "Thailand",
          "Tunisia",
          "Turkey",
          "Ukraine",
          "United Arab Emirates",
          "United Kingdom of Great Britain and Northern Ireland",
          "United States of America"
         ],
         "marker": {
          "autocolorscale": true,
          "color": "#ab63fa",
          "line": {
           "color": "black",
           "width": 0.5
          },
          "opacity": 0.7,
          "size": [
           2.703,
           60.345,
           15.152,
           3.425,
           29.915,
           1.852,
           10.185,
           2.247,
           7.692,
           8.333,
           3.297,
           14.599,
           26.786,
           11.538,
           16.667,
           2.62,
           2.83,
           3.448,
           26.667,
           65.854,
           3.371,
           6.907,
           5.036,
           7.143,
           7.692,
           22.222,
           0.629,
           6.654,
           1.527,
           5.405,
           4.762,
           4.545,
           1.087,
           18.919,
           29.73,
           10.811,
           10.687,
           9.286,
           1.818,
           1.961,
           5,
           1.754,
           4.545,
           25.49,
           26.619,
           55.579
          ],
          "sizemode": "area",
          "sizeref": 0.1,
          "symbol": "circle"
         },
         "mode": "markers",
         "name": "$100,000-300,000",
         "showlegend": true,
         "type": "scattergeo"
        },
        {
         "geo": "geo",
         "hovertemplate": "%{marker.size} (%) of participants in %{location} have the income %{fullData.name}",
         "legendgroup": "$300,000-500,000",
         "locationmode": "country names",
         "locations": [
          "Australia",
          "Brazil",
          "Canada",
          "Czech Republic",
          "Ghana",
          "India",
          "Ireland",
          "Israel",
          "Morocco",
          "Other",
          "Taiwan",
          "Turkey",
          "United Kingdom of Great Britain and Northern Ireland",
          "United States of America"
         ],
         "marker": {
          "autocolorscale": true,
          "color": "#FFA15A",
          "line": {
           "color": "black",
           "width": 0.5
          },
          "opacity": 0.7,
          "size": [
           1.724,
           0.342,
           1.709,
           3.846,
           4,
           0.473,
           3.333,
           2.439,
           2.381,
           0.391,
           0.909,
           0.877,
           0.719,
           3.556
          ],
          "sizemode": "area",
          "sizeref": 0.1,
          "symbol": "circle"
         },
         "mode": "markers",
         "name": "$300,000-500,000",
         "showlegend": true,
         "type": "scattergeo"
        },
        {
         "geo": "geo",
         "hovertemplate": "%{marker.size} (%) of participants in %{location} have the income %{fullData.name}",
         "legendgroup": ">$500,000",
         "locationmode": "country names",
         "locations": [
          "Australia",
          "Brazil",
          "Egypt",
          "France",
          "India",
          "Japan",
          "Other",
          "Sri Lanka",
          "United Arab Emirates",
          "United Kingdom of Great Britain and Northern Ireland",
          "United States of America",
          "Zimbabwe"
         ],
         "marker": {
          "autocolorscale": true,
          "color": "#19d3f3",
          "line": {
           "color": "black",
           "width": 0.5
          },
          "opacity": 0.7,
          "size": [
           1.724,
           0.342,
           1.099,
           2.19,
           0.644,
           0.601,
           0.587,
           4.167,
           1.961,
           2.158,
           2.65,
           15.385
          ],
          "sizemode": "area",
          "sizeref": 0.1,
          "symbol": "circle"
         },
         "mode": "markers",
         "name": ">$500,000",
         "showlegend": true,
         "type": "scattergeo"
        }
       ],
       "layout": {
        "geo": {
         "center": {},
         "countrycolor": "black",
         "domain": {
          "x": [
           0,
           1
          ],
          "y": [
           0,
           1
          ]
         },
         "landcolor": "#A9B388",
         "oceancolor": "#E3F4F4",
         "showcountries": true,
         "showland": true,
         "showocean": true
        },
        "height": 600,
        "legend": {
         "itemsizing": "constant",
         "orientation": "h",
         "title": {
          "text": "<b>Income Range</b>"
         },
         "tracegroupgap": 0,
         "x": 1,
         "xanchor": "right",
         "y": 0.97,
         "yanchor": "bottom"
        },
        "margin": {
         "b": 0,
         "l": 20,
         "r": 20,
         "t": 70
        },
        "paper_bgcolor": "#ffe6cc",
        "template": {
         "data": {
          "bar": [
           {
            "error_x": {
             "color": "#2a3f5f"
            },
            "error_y": {
             "color": "#2a3f5f"
            },
            "marker": {
             "line": {
              "color": "#E5ECF6",
              "width": 0.5
             },
             "pattern": {
              "fillmode": "overlay",
              "size": 10,
              "solidity": 0.2
             }
            },
            "type": "bar"
           }
          ],
          "barpolar": [
           {
            "marker": {
             "line": {
              "color": "#E5ECF6",
              "width": 0.5
             },
             "pattern": {
              "fillmode": "overlay",
              "size": 10,
              "solidity": 0.2
             }
            },
            "type": "barpolar"
           }
          ],
          "carpet": [
           {
            "aaxis": {
             "endlinecolor": "#2a3f5f",
             "gridcolor": "white",
             "linecolor": "white",
             "minorgridcolor": "white",
             "startlinecolor": "#2a3f5f"
            },
            "baxis": {
             "endlinecolor": "#2a3f5f",
             "gridcolor": "white",
             "linecolor": "white",
             "minorgridcolor": "white",
             "startlinecolor": "#2a3f5f"
            },
            "type": "carpet"
           }
          ],
          "choropleth": [
           {
            "colorbar": {
             "outlinewidth": 0,
             "ticks": ""
            },
            "type": "choropleth"
           }
          ],
          "contour": [
           {
            "colorbar": {
             "outlinewidth": 0,
             "ticks": ""
            },
            "colorscale": [
             [
              0,
              "#0d0887"
             ],
             [
              0.1111111111111111,
              "#46039f"
             ],
             [
              0.2222222222222222,
              "#7201a8"
             ],
             [
              0.3333333333333333,
              "#9c179e"
             ],
             [
              0.4444444444444444,
              "#bd3786"
             ],
             [
              0.5555555555555556,
              "#d8576b"
             ],
             [
              0.6666666666666666,
              "#ed7953"
             ],
             [
              0.7777777777777778,
              "#fb9f3a"
             ],
             [
              0.8888888888888888,
              "#fdca26"
             ],
             [
              1,
              "#f0f921"
             ]
            ],
            "type": "contour"
           }
          ],
          "contourcarpet": [
           {
            "colorbar": {
             "outlinewidth": 0,
             "ticks": ""
            },
            "type": "contourcarpet"
           }
          ],
          "heatmap": [
           {
            "colorbar": {
             "outlinewidth": 0,
             "ticks": ""
            },
            "colorscale": [
             [
              0,
              "#0d0887"
             ],
             [
              0.1111111111111111,
              "#46039f"
             ],
             [
              0.2222222222222222,
              "#7201a8"
             ],
             [
              0.3333333333333333,
              "#9c179e"
             ],
             [
              0.4444444444444444,
              "#bd3786"
             ],
             [
              0.5555555555555556,
              "#d8576b"
             ],
             [
              0.6666666666666666,
              "#ed7953"
             ],
             [
              0.7777777777777778,
              "#fb9f3a"
             ],
             [
              0.8888888888888888,
              "#fdca26"
             ],
             [
              1,
              "#f0f921"
             ]
            ],
            "type": "heatmap"
           }
          ],
          "heatmapgl": [
           {
            "colorbar": {
             "outlinewidth": 0,
             "ticks": ""
            },
            "colorscale": [
             [
              0,
              "#0d0887"
             ],
             [
              0.1111111111111111,
              "#46039f"
             ],
             [
              0.2222222222222222,
              "#7201a8"
             ],
             [
              0.3333333333333333,
              "#9c179e"
             ],
             [
              0.4444444444444444,
              "#bd3786"
             ],
             [
              0.5555555555555556,
              "#d8576b"
             ],
             [
              0.6666666666666666,
              "#ed7953"
             ],
             [
              0.7777777777777778,
              "#fb9f3a"
             ],
             [
              0.8888888888888888,
              "#fdca26"
             ],
             [
              1,
              "#f0f921"
             ]
            ],
            "type": "heatmapgl"
           }
          ],
          "histogram": [
           {
            "marker": {
             "pattern": {
              "fillmode": "overlay",
              "size": 10,
              "solidity": 0.2
             }
            },
            "type": "histogram"
           }
          ],
          "histogram2d": [
           {
            "colorbar": {
             "outlinewidth": 0,
             "ticks": ""
            },
            "colorscale": [
             [
              0,
              "#0d0887"
             ],
             [
              0.1111111111111111,
              "#46039f"
             ],
             [
              0.2222222222222222,
              "#7201a8"
             ],
             [
              0.3333333333333333,
              "#9c179e"
             ],
             [
              0.4444444444444444,
              "#bd3786"
             ],
             [
              0.5555555555555556,
              "#d8576b"
             ],
             [
              0.6666666666666666,
              "#ed7953"
             ],
             [
              0.7777777777777778,
              "#fb9f3a"
             ],
             [
              0.8888888888888888,
              "#fdca26"
             ],
             [
              1,
              "#f0f921"
             ]
            ],
            "type": "histogram2d"
           }
          ],
          "histogram2dcontour": [
           {
            "colorbar": {
             "outlinewidth": 0,
             "ticks": ""
            },
            "colorscale": [
             [
              0,
              "#0d0887"
             ],
             [
              0.1111111111111111,
              "#46039f"
             ],
             [
              0.2222222222222222,
              "#7201a8"
             ],
             [
              0.3333333333333333,
              "#9c179e"
             ],
             [
              0.4444444444444444,
              "#bd3786"
             ],
             [
              0.5555555555555556,
              "#d8576b"
             ],
             [
              0.6666666666666666,
              "#ed7953"
             ],
             [
              0.7777777777777778,
              "#fb9f3a"
             ],
             [
              0.8888888888888888,
              "#fdca26"
             ],
             [
              1,
              "#f0f921"
             ]
            ],
            "type": "histogram2dcontour"
           }
          ],
          "mesh3d": [
           {
            "colorbar": {
             "outlinewidth": 0,
             "ticks": ""
            },
            "type": "mesh3d"
           }
          ],
          "parcoords": [
           {
            "line": {
             "colorbar": {
              "outlinewidth": 0,
              "ticks": ""
             }
            },
            "type": "parcoords"
           }
          ],
          "pie": [
           {
            "automargin": true,
            "type": "pie"
           }
          ],
          "scatter": [
           {
            "fillpattern": {
             "fillmode": "overlay",
             "size": 10,
             "solidity": 0.2
            },
            "type": "scatter"
           }
          ],
          "scatter3d": [
           {
            "line": {
             "colorbar": {
              "outlinewidth": 0,
              "ticks": ""
             }
            },
            "marker": {
             "colorbar": {
              "outlinewidth": 0,
              "ticks": ""
             }
            },
            "type": "scatter3d"
           }
          ],
          "scattercarpet": [
           {
            "marker": {
             "colorbar": {
              "outlinewidth": 0,
              "ticks": ""
             }
            },
            "type": "scattercarpet"
           }
          ],
          "scattergeo": [
           {
            "marker": {
             "colorbar": {
              "outlinewidth": 0,
              "ticks": ""
             }
            },
            "type": "scattergeo"
           }
          ],
          "scattergl": [
           {
            "marker": {
             "colorbar": {
              "outlinewidth": 0,
              "ticks": ""
             }
            },
            "type": "scattergl"
           }
          ],
          "scattermapbox": [
           {
            "marker": {
             "colorbar": {
              "outlinewidth": 0,
              "ticks": ""
             }
            },
            "type": "scattermapbox"
           }
          ],
          "scatterpolar": [
           {
            "marker": {
             "colorbar": {
              "outlinewidth": 0,
              "ticks": ""
             }
            },
            "type": "scatterpolar"
           }
          ],
          "scatterpolargl": [
           {
            "marker": {
             "colorbar": {
              "outlinewidth": 0,
              "ticks": ""
             }
            },
            "type": "scatterpolargl"
           }
          ],
          "scatterternary": [
           {
            "marker": {
             "colorbar": {
              "outlinewidth": 0,
              "ticks": ""
             }
            },
            "type": "scatterternary"
           }
          ],
          "surface": [
           {
            "colorbar": {
             "outlinewidth": 0,
             "ticks": ""
            },
            "colorscale": [
             [
              0,
              "#0d0887"
             ],
             [
              0.1111111111111111,
              "#46039f"
             ],
             [
              0.2222222222222222,
              "#7201a8"
             ],
             [
              0.3333333333333333,
              "#9c179e"
             ],
             [
              0.4444444444444444,
              "#bd3786"
             ],
             [
              0.5555555555555556,
              "#d8576b"
             ],
             [
              0.6666666666666666,
              "#ed7953"
             ],
             [
              0.7777777777777778,
              "#fb9f3a"
             ],
             [
              0.8888888888888888,
              "#fdca26"
             ],
             [
              1,
              "#f0f921"
             ]
            ],
            "type": "surface"
           }
          ],
          "table": [
           {
            "cells": {
             "fill": {
              "color": "#EBF0F8"
             },
             "line": {
              "color": "white"
             }
            },
            "header": {
             "fill": {
              "color": "#C8D4E3"
             },
             "line": {
              "color": "white"
             }
            },
            "type": "table"
           }
          ]
         },
         "layout": {
          "annotationdefaults": {
           "arrowcolor": "#2a3f5f",
           "arrowhead": 0,
           "arrowwidth": 1
          },
          "autotypenumbers": "strict",
          "coloraxis": {
           "colorbar": {
            "outlinewidth": 0,
            "ticks": ""
           }
          },
          "colorscale": {
           "diverging": [
            [
             0,
             "#8e0152"
            ],
            [
             0.1,
             "#c51b7d"
            ],
            [
             0.2,
             "#de77ae"
            ],
            [
             0.3,
             "#f1b6da"
            ],
            [
             0.4,
             "#fde0ef"
            ],
            [
             0.5,
             "#f7f7f7"
            ],
            [
             0.6,
             "#e6f5d0"
            ],
            [
             0.7,
             "#b8e186"
            ],
            [
             0.8,
             "#7fbc41"
            ],
            [
             0.9,
             "#4d9221"
            ],
            [
             1,
             "#276419"
            ]
           ],
           "sequential": [
            [
             0,
             "#0d0887"
            ],
            [
             0.1111111111111111,
             "#46039f"
            ],
            [
             0.2222222222222222,
             "#7201a8"
            ],
            [
             0.3333333333333333,
             "#9c179e"
            ],
            [
             0.4444444444444444,
             "#bd3786"
            ],
            [
             0.5555555555555556,
             "#d8576b"
            ],
            [
             0.6666666666666666,
             "#ed7953"
            ],
            [
             0.7777777777777778,
             "#fb9f3a"
            ],
            [
             0.8888888888888888,
             "#fdca26"
            ],
            [
             1,
             "#f0f921"
            ]
           ],
           "sequentialminus": [
            [
             0,
             "#0d0887"
            ],
            [
             0.1111111111111111,
             "#46039f"
            ],
            [
             0.2222222222222222,
             "#7201a8"
            ],
            [
             0.3333333333333333,
             "#9c179e"
            ],
            [
             0.4444444444444444,
             "#bd3786"
            ],
            [
             0.5555555555555556,
             "#d8576b"
            ],
            [
             0.6666666666666666,
             "#ed7953"
            ],
            [
             0.7777777777777778,
             "#fb9f3a"
            ],
            [
             0.8888888888888888,
             "#fdca26"
            ],
            [
             1,
             "#f0f921"
            ]
           ]
          },
          "colorway": [
           "#636efa",
           "#EF553B",
           "#00cc96",
           "#ab63fa",
           "#FFA15A",
           "#19d3f3",
           "#FF6692",
           "#B6E880",
           "#FF97FF",
           "#FECB52"
          ],
          "font": {
           "color": "#2a3f5f"
          },
          "geo": {
           "bgcolor": "white",
           "lakecolor": "white",
           "landcolor": "#E5ECF6",
           "showlakes": true,
           "showland": true,
           "subunitcolor": "white"
          },
          "hoverlabel": {
           "align": "left"
          },
          "hovermode": "closest",
          "mapbox": {
           "style": "light"
          },
          "paper_bgcolor": "white",
          "plot_bgcolor": "#E5ECF6",
          "polar": {
           "angularaxis": {
            "gridcolor": "white",
            "linecolor": "white",
            "ticks": ""
           },
           "bgcolor": "#E5ECF6",
           "radialaxis": {
            "gridcolor": "white",
            "linecolor": "white",
            "ticks": ""
           }
          },
          "scene": {
           "xaxis": {
            "backgroundcolor": "#E5ECF6",
            "gridcolor": "white",
            "gridwidth": 2,
            "linecolor": "white",
            "showbackground": true,
            "ticks": "",
            "zerolinecolor": "white"
           },
           "yaxis": {
            "backgroundcolor": "#E5ECF6",
            "gridcolor": "white",
            "gridwidth": 2,
            "linecolor": "white",
            "showbackground": true,
            "ticks": "",
            "zerolinecolor": "white"
           },
           "zaxis": {
            "backgroundcolor": "#E5ECF6",
            "gridcolor": "white",
            "gridwidth": 2,
            "linecolor": "white",
            "showbackground": true,
            "ticks": "",
            "zerolinecolor": "white"
           }
          },
          "shapedefaults": {
           "line": {
            "color": "#2a3f5f"
           }
          },
          "ternary": {
           "aaxis": {
            "gridcolor": "white",
            "linecolor": "white",
            "ticks": ""
           },
           "baxis": {
            "gridcolor": "white",
            "linecolor": "white",
            "ticks": ""
           },
           "bgcolor": "#E5ECF6",
           "caxis": {
            "gridcolor": "white",
            "linecolor": "white",
            "ticks": ""
           }
          },
          "title": {
           "x": 0.05
          },
          "xaxis": {
           "automargin": true,
           "gridcolor": "white",
           "linecolor": "white",
           "ticks": "",
           "title": {
            "standoff": 15
           },
           "zerolinecolor": "white",
           "zerolinewidth": 2
          },
          "yaxis": {
           "automargin": true,
           "gridcolor": "white",
           "linecolor": "white",
           "ticks": "",
           "title": {
            "standoff": 15
           },
           "zerolinecolor": "white",
           "zerolinewidth": 2
          }
         }
        },
        "title": {
         "font": {
          "size": 25
         },
         "text": "<b>Percentage Distribution of Income Ranges by Country<b>"
        },
        "width": 1000
       }
      }
     },
     "metadata": {},
     "output_type": "display_data"
    }
   ],
   "source": [
    "\n",
    "fig = px.scatter_geo(\n",
    "                    income_by_countries_df, \n",
    "                    locations='Residential country', \n",
    "                    locationmode='country names',\n",
    "                    color='Current income',\n",
    "                    size='Percentage',\n",
    "                    labels={ 'Current income': '<b>Income Range</b>'},\n",
    "                    category_orders={'Current income': [ '<$10,000', '$10,000-50,000', '$50,000-100,000', '$100,000-300,000',  '$300,000-500,000', '>$500,000']},\n",
    "                    opacity = 0.7\n",
    "                    )\n",
    "\n",
    "fig.update_geos(showcountries=True, countrycolor=\"black\", showland=True, showocean=True, oceancolor=\"#E3F4F4\", landcolor = '#A9B388' )\n",
    "\n",
    "fig.update_layout(\n",
    "                title='<b>Percentage Distribution of Income Ranges by Country<b>',\n",
    "                title_font_size = 25,\n",
    "                width = 1000,\n",
    "                height = 600,\n",
    "                margin=dict(l=20, r=20, t=70, b=0),\n",
    "                paper_bgcolor='#ffe6cc'\n",
    "                 )\n",
    "\n",
    "fig.update_layout(legend=dict(\n",
    "                            orientation=\"h\", yanchor=\"bottom\", y=0.97, xanchor=\"right\", x=1 ))\n",
    "\n",
    "fig.update_traces(marker=dict(sizemode='area', sizeref= 0.1))\n",
    "fig.update_traces(marker_autocolorscale=True, selector=dict(type='scattergeo'))\n",
    "fig.update_traces(marker_line_color='black', marker_line_width=0.5, hovertemplate='%{marker.size} (%) of participants in %{location} have the income %{fullData.name}')\n",
    "config = {'scrollZoom': True}\n",
    "\n",
    "fig.show(config = config)\n"
   ]
  },
  {
   "cell_type": "markdown",
   "metadata": {},
   "source": [
    "\n",
    "- The countries that have the high percentage of income in range `<$10,000` mostly located in `Asia`, `Africa`, `South Americas` (from about 40% upto over 80% in `Iran` or 90% in `Ethiopia`). Expecially, in `Middle East` and `Africa`, this income range is the most popular for participants in these region.\n",
    "\n",
    "- Unlike range `<$10,000`,we can see that the range `$10,000-50,000` has different distribution in most of countries. Which lower percentage in `Africa` and `Middle East`(of course). There also a big increase percentage for countries in `Europe` while other countries still remain the same percentage of previous range. The thick density of this range in `Europe` show that this is the porpular range of income in this continent.\n",
    "\n",
    "- For the range `%50,000-100,000` there are some nortable changes  for all countries:\n",
    "    - With `Africa`, most of countries have no one that has income in this range. It show that this income is a high-level income for most of countries in `Africa`. Only `South Africa` have about 21,6% participant that can reach this income range.\n",
    "    - In `Europe`, most countries have high percentage of income that are in this range, go along with range `$10,000-50,000`.\n",
    "    - Some countries in `Asia` also have hight percentage of this range is: `China`, `Japan`, `South Korea`, `Taiwan`. They are all countries that have high development in `Asia`.\n",
    "    - Another notable countries is `Canada`, `The USA` and `Australia`, have very low percentage in two older ranges, but with this range, The percentage is much more higher.\n",
    "- With range is `$100,000-300,000`, for most of countries, the percentage is slightly decrease, except for `The USA`, `Australia`, `United Arab Emirates`. Specially, with `Israel`, while up to 65.9% of participants in this country have income in this range.\n",
    "- With two other ranges, these are very high range of income, so most of countries have very little percentage in this range.\n",
    "\n",
    "In conclusion, which the residential country, we can see that there is a strong relationship between them with the current income of people in countries. The region that we will have more potential to get higher income is `EU`, `North America` and `Australia`"
   ]
  },
  {
   "cell_type": "markdown",
   "metadata": {},
   "source": [
    "### **1.2 Income distribution by curent role:**\n",
    "In this part, we will see how the roles of pariticipants affect to their income.         \n",
    "Firstly, in `Data exploration part 2`, we found that this is many roles that is not related to the data jobs, so before starting our analysis, we will eliminate them."
   ]
  },
  {
   "cell_type": "code",
   "execution_count": 102,
   "metadata": {},
   "outputs": [],
   "source": [
    "data_roles = ['Manager (Program, Project, Operations, Executive-level, etc)',\n",
    "            'Machine Learning/ MLops Engineer',\n",
    "            'Research Scientist', \n",
    "            'Data Scientist',\n",
    "            'Data Analyst (Business, Marketing, Financial, Quantitative, etc)',\n",
    "            'Statistician',\n",
    "            'Teacher / professor']\n",
    "\n",
    "processed_income_df_copy = processed_income_df.copy()\n",
    "\n",
    "role_income_df = processed_income_df_copy.groupby('Current role')['Current income'].value_counts().reset_index(name='Count')\n",
    "filtered_role_income_df = role_income_df[role_income_df['Current role'].isin(data_roles)].copy()\n",
    "\n",
    "# Shorten the name of roles for better visualization\n",
    "filtered_role_income_df.loc[:, 'Current role'] = filtered_role_income_df['Current role'].replace(r'^Data Analyst.*', 'Data Analyst', regex=True)\n",
    "filtered_role_income_df.loc[:, 'Current role'] = filtered_role_income_df['Current role'].replace(r'^Manager.*', 'Manager', regex=True)\n",
    "filtered_role_income_df.loc[:, 'Current role'] = filtered_role_income_df['Current role'].replace(r'^Machine Learning.*', 'ML Engineer', regex=True)"
   ]
  },
  {
   "cell_type": "markdown",
   "metadata": {},
   "source": [
    "Then, we will find the `Percentage` of the income for each role"
   ]
  },
  {
   "cell_type": "code",
   "execution_count": 103,
   "metadata": {},
   "outputs": [],
   "source": [
    "filtered_role_income_df['Percentage'] = (filtered_role_income_df['Count'] / filtered_role_income_df.groupby('Current role')['Count'].transform('sum')) * 100\n",
    "filtered_role_income_df.loc[:, 'Percentage'] = filtered_role_income_df['Percentage'].round(2)\n",
    "filtered_role_income_df = filtered_role_income_df.sort_values(by = ['Percentage'], ascending=[True])\n"
   ]
  },
  {
   "cell_type": "markdown",
   "metadata": {},
   "source": [
    "Finally, make a visualization for a clearly view of the distribution. In this case, I will use stacked bar chart to show the distribution of income range for each data role."
   ]
  },
  {
   "cell_type": "code",
   "execution_count": 104,
   "metadata": {},
   "outputs": [
    {
     "data": {
      "application/vnd.plotly.v1+json": {
       "config": {
        "plotlyServerURL": "https://plot.ly"
       },
       "data": [
        {
         "alignmentgroup": "True",
         "hovertemplate": "%{text} (%) of %{y}have the income %{fullData.name}",
         "legendgroup": "<$10,000",
         "marker": {
          "color": "#F2F7A1",
          "line": {
           "color": "black",
           "width": 1.2
          },
          "pattern": {
           "shape": ""
          }
         },
         "name": "<$10,000",
         "offsetgroup": "<$10,000",
         "orientation": "h",
         "showlegend": true,
         "text": [
          17.02,
          27.28,
          28.57,
          33.4,
          49.96,
          50.8,
          59.26
         ],
         "textposition": "auto",
         "type": "bar",
         "x": [
          17.02,
          27.28,
          28.57,
          33.4,
          49.96,
          50.8,
          59.26
         ],
         "xaxis": "x",
         "y": [
          "Manager",
          "Data Scientist",
          "Research Scientist",
          "ML Engineer",
          "Data Analyst",
          "Teacher / professor",
          "Statistician"
         ],
         "yaxis": "y"
        },
        {
         "alignmentgroup": "True",
         "hovertemplate": "%{text} (%) of %{y}have the income %{fullData.name}",
         "legendgroup": "$10,000-50,000",
         "marker": {
          "color": "#F05941",
          "line": {
           "color": "black",
           "width": 1.2
          },
          "pattern": {
           "shape": ""
          }
         },
         "name": "$10,000-50,000",
         "offsetgroup": "$10,000-50,000",
         "orientation": "h",
         "showlegend": true,
         "text": [
          16.67,
          25.2,
          27.49,
          27.75,
          29.39,
          30.29,
          30.63
         ],
         "textposition": "auto",
         "type": "bar",
         "x": [
          16.67,
          25.2,
          27.49,
          27.75,
          29.39,
          30.29,
          30.63
         ],
         "xaxis": "x",
         "y": [
          "Statistician",
          "Teacher / professor",
          "Data Analyst",
          "Manager",
          "Data Scientist",
          "Research Scientist",
          "ML Engineer"
         ],
         "yaxis": "y"
        },
        {
         "alignmentgroup": "True",
         "hovertemplate": "%{text} (%) of %{y}have the income %{fullData.name}",
         "legendgroup": "$50,000-100,000",
         "marker": {
          "color": "#BE3144",
          "line": {
           "color": "black",
           "width": 1.2
          },
          "pattern": {
           "shape": ""
          }
         },
         "name": "$50,000-100,000",
         "offsetgroup": "$50,000-100,000",
         "orientation": "h",
         "showlegend": true,
         "text": [
          13.89,
          15,
          16.09,
          17.98,
          18.56,
          20.78,
          21.14
         ],
         "textposition": "auto",
         "type": "bar",
         "x": [
          13.89,
          15,
          16.09,
          17.98,
          18.56,
          20.78,
          21.14
         ],
         "xaxis": "x",
         "y": [
          "Statistician",
          "Data Analyst",
          "Teacher / professor",
          "ML Engineer",
          "Data Scientist",
          "Manager",
          "Research Scientist"
         ],
         "yaxis": "y"
        },
        {
         "alignmentgroup": "True",
         "hovertemplate": "%{text} (%) of %{y}have the income %{fullData.name}",
         "legendgroup": "$100,000-300,000",
         "marker": {
          "color": "#973089",
          "line": {
           "color": "black",
           "width": 1.2
          },
          "pattern": {
           "shape": ""
          }
         },
         "name": "$100,000-300,000",
         "offsetgroup": "$100,000-300,000",
         "orientation": "h",
         "showlegend": true,
         "text": [
          6.8,
          7.51,
          9.26,
          15.22,
          16.57,
          23.07,
          30.03
         ],
         "textposition": "auto",
         "type": "bar",
         "x": [
          6.8,
          7.51,
          9.26,
          15.22,
          16.57,
          23.07,
          30.03
         ],
         "xaxis": "x",
         "y": [
          "Data Analyst",
          "Teacher / professor",
          "Statistician",
          "ML Engineer",
          "Research Scientist",
          "Data Scientist",
          "Manager"
         ],
         "yaxis": "y"
        },
        {
         "alignmentgroup": "True",
         "hovertemplate": "%{text} (%) of %{y}have the income %{fullData.name}",
         "legendgroup": "$300,000-500,000",
         "marker": {
          "color": "#541c7b",
          "line": {
           "color": "black",
           "width": 1.2
          },
          "pattern": {
           "shape": ""
          }
         },
         "name": "$300,000-500,000",
         "offsetgroup": "$300,000-500,000",
         "orientation": "h",
         "showlegend": true,
         "text": [
          0.13,
          0.37,
          0.88,
          0.93,
          1.19,
          1.88,
          1.9
         ],
         "textposition": "auto",
         "type": "bar",
         "x": [
          0.13,
          0.37,
          0.88,
          0.93,
          1.19,
          1.88,
          1.9
         ],
         "xaxis": "x",
         "y": [
          "Teacher / professor",
          "Data Analyst",
          "Data Scientist",
          "Statistician",
          "ML Engineer",
          "Manager",
          "Research Scientist"
         ],
         "yaxis": "y"
        },
        {
         "alignmentgroup": "True",
         "hovertemplate": "%{text} (%) of %{y}have the income %{fullData.name}",
         "legendgroup": ">$500,000",
         "marker": {
          "color": "#141E46",
          "line": {
           "color": "black",
           "width": 1.2
          },
          "pattern": {
           "shape": ""
          }
         },
         "name": ">$500,000",
         "offsetgroup": ">$500,000",
         "orientation": "h",
         "showlegend": true,
         "text": [
          0.27,
          0.37,
          0.82,
          1.52,
          1.58,
          2.55
         ],
         "textposition": "auto",
         "type": "bar",
         "x": [
          0.27,
          0.37,
          0.82,
          1.52,
          1.58,
          2.55
         ],
         "xaxis": "x",
         "y": [
          "Teacher / professor",
          "Data Analyst",
          "Data Scientist",
          "Research Scientist",
          "ML Engineer",
          "Manager"
         ],
         "yaxis": "y"
        }
       ],
       "layout": {
        "barmode": "stack",
        "height": 600,
        "legend": {
         "orientation": "h",
         "title": {
          "text": "<b>Current Income</b>"
         },
         "tracegroupgap": 0,
         "x": 1,
         "xanchor": "right",
         "y": 1,
         "yanchor": "bottom"
        },
        "margin": {
         "b": 20,
         "l": 10,
         "r": 10,
         "t": 110
        },
        "paper_bgcolor": "#ffe6cc",
        "template": {
         "data": {
          "bar": [
           {
            "error_x": {
             "color": "#2a3f5f"
            },
            "error_y": {
             "color": "#2a3f5f"
            },
            "marker": {
             "line": {
              "color": "#E5ECF6",
              "width": 0.5
             },
             "pattern": {
              "fillmode": "overlay",
              "size": 10,
              "solidity": 0.2
             }
            },
            "type": "bar"
           }
          ],
          "barpolar": [
           {
            "marker": {
             "line": {
              "color": "#E5ECF6",
              "width": 0.5
             },
             "pattern": {
              "fillmode": "overlay",
              "size": 10,
              "solidity": 0.2
             }
            },
            "type": "barpolar"
           }
          ],
          "carpet": [
           {
            "aaxis": {
             "endlinecolor": "#2a3f5f",
             "gridcolor": "white",
             "linecolor": "white",
             "minorgridcolor": "white",
             "startlinecolor": "#2a3f5f"
            },
            "baxis": {
             "endlinecolor": "#2a3f5f",
             "gridcolor": "white",
             "linecolor": "white",
             "minorgridcolor": "white",
             "startlinecolor": "#2a3f5f"
            },
            "type": "carpet"
           }
          ],
          "choropleth": [
           {
            "colorbar": {
             "outlinewidth": 0,
             "ticks": ""
            },
            "type": "choropleth"
           }
          ],
          "contour": [
           {
            "colorbar": {
             "outlinewidth": 0,
             "ticks": ""
            },
            "colorscale": [
             [
              0,
              "#0d0887"
             ],
             [
              0.1111111111111111,
              "#46039f"
             ],
             [
              0.2222222222222222,
              "#7201a8"
             ],
             [
              0.3333333333333333,
              "#9c179e"
             ],
             [
              0.4444444444444444,
              "#bd3786"
             ],
             [
              0.5555555555555556,
              "#d8576b"
             ],
             [
              0.6666666666666666,
              "#ed7953"
             ],
             [
              0.7777777777777778,
              "#fb9f3a"
             ],
             [
              0.8888888888888888,
              "#fdca26"
             ],
             [
              1,
              "#f0f921"
             ]
            ],
            "type": "contour"
           }
          ],
          "contourcarpet": [
           {
            "colorbar": {
             "outlinewidth": 0,
             "ticks": ""
            },
            "type": "contourcarpet"
           }
          ],
          "heatmap": [
           {
            "colorbar": {
             "outlinewidth": 0,
             "ticks": ""
            },
            "colorscale": [
             [
              0,
              "#0d0887"
             ],
             [
              0.1111111111111111,
              "#46039f"
             ],
             [
              0.2222222222222222,
              "#7201a8"
             ],
             [
              0.3333333333333333,
              "#9c179e"
             ],
             [
              0.4444444444444444,
              "#bd3786"
             ],
             [
              0.5555555555555556,
              "#d8576b"
             ],
             [
              0.6666666666666666,
              "#ed7953"
             ],
             [
              0.7777777777777778,
              "#fb9f3a"
             ],
             [
              0.8888888888888888,
              "#fdca26"
             ],
             [
              1,
              "#f0f921"
             ]
            ],
            "type": "heatmap"
           }
          ],
          "heatmapgl": [
           {
            "colorbar": {
             "outlinewidth": 0,
             "ticks": ""
            },
            "colorscale": [
             [
              0,
              "#0d0887"
             ],
             [
              0.1111111111111111,
              "#46039f"
             ],
             [
              0.2222222222222222,
              "#7201a8"
             ],
             [
              0.3333333333333333,
              "#9c179e"
             ],
             [
              0.4444444444444444,
              "#bd3786"
             ],
             [
              0.5555555555555556,
              "#d8576b"
             ],
             [
              0.6666666666666666,
              "#ed7953"
             ],
             [
              0.7777777777777778,
              "#fb9f3a"
             ],
             [
              0.8888888888888888,
              "#fdca26"
             ],
             [
              1,
              "#f0f921"
             ]
            ],
            "type": "heatmapgl"
           }
          ],
          "histogram": [
           {
            "marker": {
             "pattern": {
              "fillmode": "overlay",
              "size": 10,
              "solidity": 0.2
             }
            },
            "type": "histogram"
           }
          ],
          "histogram2d": [
           {
            "colorbar": {
             "outlinewidth": 0,
             "ticks": ""
            },
            "colorscale": [
             [
              0,
              "#0d0887"
             ],
             [
              0.1111111111111111,
              "#46039f"
             ],
             [
              0.2222222222222222,
              "#7201a8"
             ],
             [
              0.3333333333333333,
              "#9c179e"
             ],
             [
              0.4444444444444444,
              "#bd3786"
             ],
             [
              0.5555555555555556,
              "#d8576b"
             ],
             [
              0.6666666666666666,
              "#ed7953"
             ],
             [
              0.7777777777777778,
              "#fb9f3a"
             ],
             [
              0.8888888888888888,
              "#fdca26"
             ],
             [
              1,
              "#f0f921"
             ]
            ],
            "type": "histogram2d"
           }
          ],
          "histogram2dcontour": [
           {
            "colorbar": {
             "outlinewidth": 0,
             "ticks": ""
            },
            "colorscale": [
             [
              0,
              "#0d0887"
             ],
             [
              0.1111111111111111,
              "#46039f"
             ],
             [
              0.2222222222222222,
              "#7201a8"
             ],
             [
              0.3333333333333333,
              "#9c179e"
             ],
             [
              0.4444444444444444,
              "#bd3786"
             ],
             [
              0.5555555555555556,
              "#d8576b"
             ],
             [
              0.6666666666666666,
              "#ed7953"
             ],
             [
              0.7777777777777778,
              "#fb9f3a"
             ],
             [
              0.8888888888888888,
              "#fdca26"
             ],
             [
              1,
              "#f0f921"
             ]
            ],
            "type": "histogram2dcontour"
           }
          ],
          "mesh3d": [
           {
            "colorbar": {
             "outlinewidth": 0,
             "ticks": ""
            },
            "type": "mesh3d"
           }
          ],
          "parcoords": [
           {
            "line": {
             "colorbar": {
              "outlinewidth": 0,
              "ticks": ""
             }
            },
            "type": "parcoords"
           }
          ],
          "pie": [
           {
            "automargin": true,
            "type": "pie"
           }
          ],
          "scatter": [
           {
            "fillpattern": {
             "fillmode": "overlay",
             "size": 10,
             "solidity": 0.2
            },
            "type": "scatter"
           }
          ],
          "scatter3d": [
           {
            "line": {
             "colorbar": {
              "outlinewidth": 0,
              "ticks": ""
             }
            },
            "marker": {
             "colorbar": {
              "outlinewidth": 0,
              "ticks": ""
             }
            },
            "type": "scatter3d"
           }
          ],
          "scattercarpet": [
           {
            "marker": {
             "colorbar": {
              "outlinewidth": 0,
              "ticks": ""
             }
            },
            "type": "scattercarpet"
           }
          ],
          "scattergeo": [
           {
            "marker": {
             "colorbar": {
              "outlinewidth": 0,
              "ticks": ""
             }
            },
            "type": "scattergeo"
           }
          ],
          "scattergl": [
           {
            "marker": {
             "colorbar": {
              "outlinewidth": 0,
              "ticks": ""
             }
            },
            "type": "scattergl"
           }
          ],
          "scattermapbox": [
           {
            "marker": {
             "colorbar": {
              "outlinewidth": 0,
              "ticks": ""
             }
            },
            "type": "scattermapbox"
           }
          ],
          "scatterpolar": [
           {
            "marker": {
             "colorbar": {
              "outlinewidth": 0,
              "ticks": ""
             }
            },
            "type": "scatterpolar"
           }
          ],
          "scatterpolargl": [
           {
            "marker": {
             "colorbar": {
              "outlinewidth": 0,
              "ticks": ""
             }
            },
            "type": "scatterpolargl"
           }
          ],
          "scatterternary": [
           {
            "marker": {
             "colorbar": {
              "outlinewidth": 0,
              "ticks": ""
             }
            },
            "type": "scatterternary"
           }
          ],
          "surface": [
           {
            "colorbar": {
             "outlinewidth": 0,
             "ticks": ""
            },
            "colorscale": [
             [
              0,
              "#0d0887"
             ],
             [
              0.1111111111111111,
              "#46039f"
             ],
             [
              0.2222222222222222,
              "#7201a8"
             ],
             [
              0.3333333333333333,
              "#9c179e"
             ],
             [
              0.4444444444444444,
              "#bd3786"
             ],
             [
              0.5555555555555556,
              "#d8576b"
             ],
             [
              0.6666666666666666,
              "#ed7953"
             ],
             [
              0.7777777777777778,
              "#fb9f3a"
             ],
             [
              0.8888888888888888,
              "#fdca26"
             ],
             [
              1,
              "#f0f921"
             ]
            ],
            "type": "surface"
           }
          ],
          "table": [
           {
            "cells": {
             "fill": {
              "color": "#EBF0F8"
             },
             "line": {
              "color": "white"
             }
            },
            "header": {
             "fill": {
              "color": "#C8D4E3"
             },
             "line": {
              "color": "white"
             }
            },
            "type": "table"
           }
          ]
         },
         "layout": {
          "annotationdefaults": {
           "arrowcolor": "#2a3f5f",
           "arrowhead": 0,
           "arrowwidth": 1
          },
          "autotypenumbers": "strict",
          "coloraxis": {
           "colorbar": {
            "outlinewidth": 0,
            "ticks": ""
           }
          },
          "colorscale": {
           "diverging": [
            [
             0,
             "#8e0152"
            ],
            [
             0.1,
             "#c51b7d"
            ],
            [
             0.2,
             "#de77ae"
            ],
            [
             0.3,
             "#f1b6da"
            ],
            [
             0.4,
             "#fde0ef"
            ],
            [
             0.5,
             "#f7f7f7"
            ],
            [
             0.6,
             "#e6f5d0"
            ],
            [
             0.7,
             "#b8e186"
            ],
            [
             0.8,
             "#7fbc41"
            ],
            [
             0.9,
             "#4d9221"
            ],
            [
             1,
             "#276419"
            ]
           ],
           "sequential": [
            [
             0,
             "#0d0887"
            ],
            [
             0.1111111111111111,
             "#46039f"
            ],
            [
             0.2222222222222222,
             "#7201a8"
            ],
            [
             0.3333333333333333,
             "#9c179e"
            ],
            [
             0.4444444444444444,
             "#bd3786"
            ],
            [
             0.5555555555555556,
             "#d8576b"
            ],
            [
             0.6666666666666666,
             "#ed7953"
            ],
            [
             0.7777777777777778,
             "#fb9f3a"
            ],
            [
             0.8888888888888888,
             "#fdca26"
            ],
            [
             1,
             "#f0f921"
            ]
           ],
           "sequentialminus": [
            [
             0,
             "#0d0887"
            ],
            [
             0.1111111111111111,
             "#46039f"
            ],
            [
             0.2222222222222222,
             "#7201a8"
            ],
            [
             0.3333333333333333,
             "#9c179e"
            ],
            [
             0.4444444444444444,
             "#bd3786"
            ],
            [
             0.5555555555555556,
             "#d8576b"
            ],
            [
             0.6666666666666666,
             "#ed7953"
            ],
            [
             0.7777777777777778,
             "#fb9f3a"
            ],
            [
             0.8888888888888888,
             "#fdca26"
            ],
            [
             1,
             "#f0f921"
            ]
           ]
          },
          "colorway": [
           "#636efa",
           "#EF553B",
           "#00cc96",
           "#ab63fa",
           "#FFA15A",
           "#19d3f3",
           "#FF6692",
           "#B6E880",
           "#FF97FF",
           "#FECB52"
          ],
          "font": {
           "color": "#2a3f5f"
          },
          "geo": {
           "bgcolor": "white",
           "lakecolor": "white",
           "landcolor": "#E5ECF6",
           "showlakes": true,
           "showland": true,
           "subunitcolor": "white"
          },
          "hoverlabel": {
           "align": "left"
          },
          "hovermode": "closest",
          "mapbox": {
           "style": "light"
          },
          "paper_bgcolor": "white",
          "plot_bgcolor": "#E5ECF6",
          "polar": {
           "angularaxis": {
            "gridcolor": "white",
            "linecolor": "white",
            "ticks": ""
           },
           "bgcolor": "#E5ECF6",
           "radialaxis": {
            "gridcolor": "white",
            "linecolor": "white",
            "ticks": ""
           }
          },
          "scene": {
           "xaxis": {
            "backgroundcolor": "#E5ECF6",
            "gridcolor": "white",
            "gridwidth": 2,
            "linecolor": "white",
            "showbackground": true,
            "ticks": "",
            "zerolinecolor": "white"
           },
           "yaxis": {
            "backgroundcolor": "#E5ECF6",
            "gridcolor": "white",
            "gridwidth": 2,
            "linecolor": "white",
            "showbackground": true,
            "ticks": "",
            "zerolinecolor": "white"
           },
           "zaxis": {
            "backgroundcolor": "#E5ECF6",
            "gridcolor": "white",
            "gridwidth": 2,
            "linecolor": "white",
            "showbackground": true,
            "ticks": "",
            "zerolinecolor": "white"
           }
          },
          "shapedefaults": {
           "line": {
            "color": "#2a3f5f"
           }
          },
          "ternary": {
           "aaxis": {
            "gridcolor": "white",
            "linecolor": "white",
            "ticks": ""
           },
           "baxis": {
            "gridcolor": "white",
            "linecolor": "white",
            "ticks": ""
           },
           "bgcolor": "#E5ECF6",
           "caxis": {
            "gridcolor": "white",
            "linecolor": "white",
            "ticks": ""
           }
          },
          "title": {
           "x": 0.05
          },
          "xaxis": {
           "automargin": true,
           "gridcolor": "white",
           "linecolor": "white",
           "ticks": "",
           "title": {
            "standoff": 15
           },
           "zerolinecolor": "white",
           "zerolinewidth": 2
          },
          "yaxis": {
           "automargin": true,
           "gridcolor": "white",
           "linecolor": "white",
           "ticks": "",
           "title": {
            "standoff": 15
           },
           "zerolinecolor": "white",
           "zerolinewidth": 2
          }
         }
        },
        "title": {
         "font": {
          "size": 25
         },
         "text": "<b>The percentage of participants' current income for each role</b>"
        },
        "width": 1100,
        "xaxis": {
         "anchor": "y",
         "domain": [
          0,
          1
         ],
         "tickfont": {
          "size": 14
         },
         "title": {
          "text": "<b>Percentage</b>"
         }
        },
        "yaxis": {
         "anchor": "x",
         "domain": [
          0,
          1
         ],
         "tickfont": {
          "size": 14
         },
         "ticksuffix": " ",
         "title": {
          "text": "<b>Current Role</b>"
         }
        }
       }
      }
     },
     "metadata": {},
     "output_type": "display_data"
    }
   ],
   "source": [
    "\n",
    "fig = px.bar(filtered_role_income_df, \n",
    "            y = 'Current role', \n",
    "            x = 'Percentage',\n",
    "            color = 'Current income',\n",
    "            text = 'Percentage',\n",
    "            labels = {'Current role': '<b>Current Role</b>', 'Current income': '<b>Current Income</b>', 'Percentage': '<b>Percentage</b>'},\n",
    "            category_orders = {'Current income':  [ '<$10,000', '$10,000-50,000', '$50,000-100,000', '$100,000-300,000','$300,000-500,000', '>$500,000']},\n",
    "            color_discrete_sequence = ['#F2F7A1', '#F05941', '#BE3144', '#973089', '#541c7b','#141E46'],\n",
    "            barmode = 'stack',\n",
    "            )\n",
    "\n",
    "fig.update_layout(\n",
    "    title = '<b>The percentage of participants\\' current income for each role</b>',\n",
    "    title_font_size = 25,\n",
    "    width = 1100,\n",
    "    height = 600,\n",
    "    margin = dict(l=10, r=10, t=110, b=20),\n",
    "    paper_bgcolor = '#ffe6cc',\n",
    "    xaxis = dict(tickfont=dict(size=14)),\n",
    "    yaxis = dict(tickfont=dict(size=14), ticksuffix = \" \"),\n",
    ")\n",
    "\n",
    "fig.update_layout(legend=dict(\n",
    "    orientation=\"h\", yanchor=\"bottom\", y=1, xanchor=\"right\", x = 1\n",
    "))\n",
    "\n",
    "fig.update_traces(marker_line_color='black', marker_line_width=1.2, hovertemplate='%{text} (%) of %{y}have the income %{fullData.name}')\n",
    "fig.show()"
   ]
  },
  {
   "cell_type": "markdown",
   "metadata": {},
   "source": [
    "Through the plot, we can get these conclusions:\n",
    "\n",
    "- With `Statiscian`, we can see that majority of statiscian (59.26%) have the income `<$10,000`, also, there isn't any statiscian have income `>$500,000`,and just a little percentage (0.93%) get the income `%300,000-500,000`. That indicates that the potential to have the high income in `Statiscian` is quite limited.\n",
    "\n",
    "- `Teacher` and `Data Analyst` have the quite similar distribution of income, with about 50% in range `<$10,000`, followed by 25% in `$10,000-50,000` and 16% in `$100,000-300,000`, also a very low percentage in `>$500,000`, but compare with `Statiscian`, the overall income raise a little bit.\n",
    "\n",
    "- With `Machine learning engineer`, `Data Scientist` and `Reseach Scientist`, more paricipants get higher income with just about 30% have income `<$10,000`, also, the percentage of income in range `$100,000-300,000` and `>$500,000` increase alot, shown that these role have more potential to get a higher income.\n",
    "\n",
    "- Among the roles, `Manager` have the overall income that outstanding other roles. with over 30% in `$100,000-300,000`, and 2.55% `>$500,000`. It is reasonable because the `Manager` is always the one who have higher position, also more the skills and the experience than the others.  \n",
    "\n",
    "To sum up, the is a large differences of how the income is distributed for each role. We can consider that `Manager` can have the highest income, followed by `Machine learning engineer`, `Data Scientist` and `Reseach Scientist`"
   ]
  },
  {
   "cell_type": "markdown",
   "metadata": {},
   "source": [
    "###  **1.3 Income distribution by the programming experience**\n",
    "We all know that, in the field of Information Technology, programming skills are widely recorgnized as one of the most important part for every jobs in IT, and the data-related as well. So in this section, we will explore how the income is affect by the programming experience. Is the one who have more programming expericence will have the high potential to get higher income?"
   ]
  },
  {
   "cell_type": "code",
   "execution_count": 105,
   "metadata": {},
   "outputs": [],
   "source": [
    "experience_income_df = processed_income_df.groupby('Programming experience')['Current income'].value_counts().reset_index(name = 'Count')\n",
    "experience_income_df.loc[:,'Percentage'] = ((experience_income_df['Count'] / experience_income_df.groupby('Programming experience')['Count'].transform('sum'))*100)\n",
    "experience_income_df['Percentage'] = experience_income_df['Percentage'].round(2)\n",
    "experience_income_df = experience_income_df.sort_values(by = ['Programming experience', 'Percentage'], ascending=[True, False])"
   ]
  },
  {
   "cell_type": "code",
   "execution_count": 106,
   "metadata": {},
   "outputs": [
    {
     "data": {
      "application/vnd.plotly.v1+json": {
       "config": {
        "plotlyServerURL": "https://plot.ly"
       },
       "data": [
        {
         "alignmentgroup": "True",
         "hovertemplate": "%{text} (%) of participants that %{x} have the income %{fullData.name}",
         "legendgroup": "<$10,000",
         "marker": {
          "color": "#F2F7A1",
          "line": {
           "color": "black",
           "width": 1
          },
          "pattern": {
           "shape": ""
          }
         },
         "name": "<$10,000",
         "offsetgroup": "<$10,000",
         "orientation": "v",
         "showlegend": true,
         "text": [
          52.45,
          18.53,
          13.79,
          37.01,
          25.61,
          60.45,
          61.26
         ],
         "textposition": "auto",
         "type": "bar",
         "x": [
          "1-3 years",
          "10-20 years",
          "20+ years",
          "3-5 years",
          "5-10 years",
          "< 1 years",
          "I have never written code"
         ],
         "xaxis": "x",
         "y": [
          52.45,
          18.53,
          13.79,
          37.01,
          25.61,
          60.45,
          61.26
         ],
         "yaxis": "y"
        },
        {
         "alignmentgroup": "True",
         "hovertemplate": "%{text} (%) of participants that %{x} have the income %{fullData.name}",
         "legendgroup": "$10,000-50,000",
         "marker": {
          "color": "#84ce69",
          "line": {
           "color": "black",
           "width": 1
          },
          "pattern": {
           "shape": ""
          }
         },
         "name": "$10,000-50,000",
         "offsetgroup": "$10,000-50,000",
         "orientation": "v",
         "showlegend": true,
         "text": [
          28,
          28.83,
          22.03,
          35.08,
          32.28,
          24.04,
          22.66
         ],
         "textposition": "auto",
         "type": "bar",
         "x": [
          "1-3 years",
          "10-20 years",
          "20+ years",
          "3-5 years",
          "5-10 years",
          "< 1 years",
          "I have never written code"
         ],
         "xaxis": "x",
         "y": [
          28,
          28.83,
          22.03,
          35.08,
          32.28,
          24.04,
          22.66
         ],
         "yaxis": "y"
        },
        {
         "alignmentgroup": "True",
         "hovertemplate": "%{text} (%) of participants that %{x} have the income %{fullData.name}",
         "legendgroup": "$50,000-100,000",
         "marker": {
          "color": "#309771",
          "line": {
           "color": "black",
           "width": 1
          },
          "pattern": {
           "shape": ""
          }
         },
         "name": "$50,000-100,000",
         "offsetgroup": "$50,000-100,000",
         "orientation": "v",
         "showlegend": true,
         "text": [
          13.42,
          23.98,
          24.71,
          15.45,
          19.51,
          11.06,
          10.09
         ],
         "textposition": "auto",
         "type": "bar",
         "x": [
          "1-3 years",
          "10-20 years",
          "20+ years",
          "3-5 years",
          "5-10 years",
          "< 1 years",
          "I have never written code"
         ],
         "xaxis": "x",
         "y": [
          13.42,
          23.98,
          24.71,
          15.45,
          19.51,
          11.06,
          10.09
         ],
         "yaxis": "y"
        },
        {
         "alignmentgroup": "True",
         "hovertemplate": "%{text} (%) of participants that %{x} have the income %{fullData.name}",
         "legendgroup": "$100,000-300,000",
         "marker": {
          "color": "#1c737b",
          "line": {
           "color": "black",
           "width": 1
          },
          "pattern": {
           "shape": ""
          }
         },
         "name": "$100,000-300,000",
         "offsetgroup": "$100,000-300,000",
         "orientation": "v",
         "showlegend": true,
         "text": [
          5.11,
          25.71,
          34.2,
          11.83,
          21.09,
          3.75,
          5.12
         ],
         "textposition": "auto",
         "type": "bar",
         "x": [
          "1-3 years",
          "10-20 years",
          "20+ years",
          "3-5 years",
          "5-10 years",
          "< 1 years",
          "I have never written code"
         ],
         "xaxis": "x",
         "y": [
          5.11,
          25.71,
          34.2,
          11.83,
          21.09,
          3.75,
          5.12
         ],
         "yaxis": "y"
        },
        {
         "alignmentgroup": "True",
         "hovertemplate": "%{text} (%) of participants that %{x} have the income %{fullData.name}",
         "legendgroup": "$300,000-500,000",
         "marker": {
          "color": "#14526e",
          "line": {
           "color": "black",
           "width": 1
          },
          "pattern": {
           "shape": ""
          }
         },
         "name": "$300,000-500,000",
         "offsetgroup": "$300,000-500,000",
         "orientation": "v",
         "showlegend": true,
         "text": [
          0.34,
          1.65,
          3.26,
          0.24,
          0.72,
          0.35,
          0.15
         ],
         "textposition": "auto",
         "type": "bar",
         "x": [
          "1-3 years",
          "10-20 years",
          "20+ years",
          "3-5 years",
          "5-10 years",
          "< 1 years",
          "I have never written code"
         ],
         "xaxis": "x",
         "y": [
          0.34,
          1.65,
          3.26,
          0.24,
          0.72,
          0.35,
          0.15
         ],
         "yaxis": "y"
        },
        {
         "alignmentgroup": "True",
         "hovertemplate": "%{text} (%) of participants that %{x} have the income %{fullData.name}",
         "legendgroup": ">$500,000",
         "marker": {
          "color": "#071952",
          "line": {
           "color": "black",
           "width": 1
          },
          "pattern": {
           "shape": ""
          }
         },
         "name": ">$500,000",
         "offsetgroup": ">$500,000",
         "orientation": "v",
         "showlegend": true,
         "text": [
          0.68,
          1.3,
          2.01,
          0.4,
          0.79,
          0.35,
          0.73
         ],
         "textposition": "auto",
         "type": "bar",
         "x": [
          "1-3 years",
          "10-20 years",
          "20+ years",
          "3-5 years",
          "5-10 years",
          "< 1 years",
          "I have never written code"
         ],
         "xaxis": "x",
         "y": [
          0.68,
          1.3,
          2.01,
          0.4,
          0.79,
          0.35,
          0.73
         ],
         "yaxis": "y"
        }
       ],
       "layout": {
        "barmode": "stack",
        "height": 600,
        "legend": {
         "title": {
          "text": "<b>Current Income</b>"
         },
         "tracegroupgap": 0
        },
        "margin": {
         "b": 0,
         "l": 20,
         "r": 30,
         "t": 70
        },
        "paper_bgcolor": "#ffe6cc",
        "template": {
         "data": {
          "bar": [
           {
            "error_x": {
             "color": "#2a3f5f"
            },
            "error_y": {
             "color": "#2a3f5f"
            },
            "marker": {
             "line": {
              "color": "#E5ECF6",
              "width": 0.5
             },
             "pattern": {
              "fillmode": "overlay",
              "size": 10,
              "solidity": 0.2
             }
            },
            "type": "bar"
           }
          ],
          "barpolar": [
           {
            "marker": {
             "line": {
              "color": "#E5ECF6",
              "width": 0.5
             },
             "pattern": {
              "fillmode": "overlay",
              "size": 10,
              "solidity": 0.2
             }
            },
            "type": "barpolar"
           }
          ],
          "carpet": [
           {
            "aaxis": {
             "endlinecolor": "#2a3f5f",
             "gridcolor": "white",
             "linecolor": "white",
             "minorgridcolor": "white",
             "startlinecolor": "#2a3f5f"
            },
            "baxis": {
             "endlinecolor": "#2a3f5f",
             "gridcolor": "white",
             "linecolor": "white",
             "minorgridcolor": "white",
             "startlinecolor": "#2a3f5f"
            },
            "type": "carpet"
           }
          ],
          "choropleth": [
           {
            "colorbar": {
             "outlinewidth": 0,
             "ticks": ""
            },
            "type": "choropleth"
           }
          ],
          "contour": [
           {
            "colorbar": {
             "outlinewidth": 0,
             "ticks": ""
            },
            "colorscale": [
             [
              0,
              "#0d0887"
             ],
             [
              0.1111111111111111,
              "#46039f"
             ],
             [
              0.2222222222222222,
              "#7201a8"
             ],
             [
              0.3333333333333333,
              "#9c179e"
             ],
             [
              0.4444444444444444,
              "#bd3786"
             ],
             [
              0.5555555555555556,
              "#d8576b"
             ],
             [
              0.6666666666666666,
              "#ed7953"
             ],
             [
              0.7777777777777778,
              "#fb9f3a"
             ],
             [
              0.8888888888888888,
              "#fdca26"
             ],
             [
              1,
              "#f0f921"
             ]
            ],
            "type": "contour"
           }
          ],
          "contourcarpet": [
           {
            "colorbar": {
             "outlinewidth": 0,
             "ticks": ""
            },
            "type": "contourcarpet"
           }
          ],
          "heatmap": [
           {
            "colorbar": {
             "outlinewidth": 0,
             "ticks": ""
            },
            "colorscale": [
             [
              0,
              "#0d0887"
             ],
             [
              0.1111111111111111,
              "#46039f"
             ],
             [
              0.2222222222222222,
              "#7201a8"
             ],
             [
              0.3333333333333333,
              "#9c179e"
             ],
             [
              0.4444444444444444,
              "#bd3786"
             ],
             [
              0.5555555555555556,
              "#d8576b"
             ],
             [
              0.6666666666666666,
              "#ed7953"
             ],
             [
              0.7777777777777778,
              "#fb9f3a"
             ],
             [
              0.8888888888888888,
              "#fdca26"
             ],
             [
              1,
              "#f0f921"
             ]
            ],
            "type": "heatmap"
           }
          ],
          "heatmapgl": [
           {
            "colorbar": {
             "outlinewidth": 0,
             "ticks": ""
            },
            "colorscale": [
             [
              0,
              "#0d0887"
             ],
             [
              0.1111111111111111,
              "#46039f"
             ],
             [
              0.2222222222222222,
              "#7201a8"
             ],
             [
              0.3333333333333333,
              "#9c179e"
             ],
             [
              0.4444444444444444,
              "#bd3786"
             ],
             [
              0.5555555555555556,
              "#d8576b"
             ],
             [
              0.6666666666666666,
              "#ed7953"
             ],
             [
              0.7777777777777778,
              "#fb9f3a"
             ],
             [
              0.8888888888888888,
              "#fdca26"
             ],
             [
              1,
              "#f0f921"
             ]
            ],
            "type": "heatmapgl"
           }
          ],
          "histogram": [
           {
            "marker": {
             "pattern": {
              "fillmode": "overlay",
              "size": 10,
              "solidity": 0.2
             }
            },
            "type": "histogram"
           }
          ],
          "histogram2d": [
           {
            "colorbar": {
             "outlinewidth": 0,
             "ticks": ""
            },
            "colorscale": [
             [
              0,
              "#0d0887"
             ],
             [
              0.1111111111111111,
              "#46039f"
             ],
             [
              0.2222222222222222,
              "#7201a8"
             ],
             [
              0.3333333333333333,
              "#9c179e"
             ],
             [
              0.4444444444444444,
              "#bd3786"
             ],
             [
              0.5555555555555556,
              "#d8576b"
             ],
             [
              0.6666666666666666,
              "#ed7953"
             ],
             [
              0.7777777777777778,
              "#fb9f3a"
             ],
             [
              0.8888888888888888,
              "#fdca26"
             ],
             [
              1,
              "#f0f921"
             ]
            ],
            "type": "histogram2d"
           }
          ],
          "histogram2dcontour": [
           {
            "colorbar": {
             "outlinewidth": 0,
             "ticks": ""
            },
            "colorscale": [
             [
              0,
              "#0d0887"
             ],
             [
              0.1111111111111111,
              "#46039f"
             ],
             [
              0.2222222222222222,
              "#7201a8"
             ],
             [
              0.3333333333333333,
              "#9c179e"
             ],
             [
              0.4444444444444444,
              "#bd3786"
             ],
             [
              0.5555555555555556,
              "#d8576b"
             ],
             [
              0.6666666666666666,
              "#ed7953"
             ],
             [
              0.7777777777777778,
              "#fb9f3a"
             ],
             [
              0.8888888888888888,
              "#fdca26"
             ],
             [
              1,
              "#f0f921"
             ]
            ],
            "type": "histogram2dcontour"
           }
          ],
          "mesh3d": [
           {
            "colorbar": {
             "outlinewidth": 0,
             "ticks": ""
            },
            "type": "mesh3d"
           }
          ],
          "parcoords": [
           {
            "line": {
             "colorbar": {
              "outlinewidth": 0,
              "ticks": ""
             }
            },
            "type": "parcoords"
           }
          ],
          "pie": [
           {
            "automargin": true,
            "type": "pie"
           }
          ],
          "scatter": [
           {
            "fillpattern": {
             "fillmode": "overlay",
             "size": 10,
             "solidity": 0.2
            },
            "type": "scatter"
           }
          ],
          "scatter3d": [
           {
            "line": {
             "colorbar": {
              "outlinewidth": 0,
              "ticks": ""
             }
            },
            "marker": {
             "colorbar": {
              "outlinewidth": 0,
              "ticks": ""
             }
            },
            "type": "scatter3d"
           }
          ],
          "scattercarpet": [
           {
            "marker": {
             "colorbar": {
              "outlinewidth": 0,
              "ticks": ""
             }
            },
            "type": "scattercarpet"
           }
          ],
          "scattergeo": [
           {
            "marker": {
             "colorbar": {
              "outlinewidth": 0,
              "ticks": ""
             }
            },
            "type": "scattergeo"
           }
          ],
          "scattergl": [
           {
            "marker": {
             "colorbar": {
              "outlinewidth": 0,
              "ticks": ""
             }
            },
            "type": "scattergl"
           }
          ],
          "scattermapbox": [
           {
            "marker": {
             "colorbar": {
              "outlinewidth": 0,
              "ticks": ""
             }
            },
            "type": "scattermapbox"
           }
          ],
          "scatterpolar": [
           {
            "marker": {
             "colorbar": {
              "outlinewidth": 0,
              "ticks": ""
             }
            },
            "type": "scatterpolar"
           }
          ],
          "scatterpolargl": [
           {
            "marker": {
             "colorbar": {
              "outlinewidth": 0,
              "ticks": ""
             }
            },
            "type": "scatterpolargl"
           }
          ],
          "scatterternary": [
           {
            "marker": {
             "colorbar": {
              "outlinewidth": 0,
              "ticks": ""
             }
            },
            "type": "scatterternary"
           }
          ],
          "surface": [
           {
            "colorbar": {
             "outlinewidth": 0,
             "ticks": ""
            },
            "colorscale": [
             [
              0,
              "#0d0887"
             ],
             [
              0.1111111111111111,
              "#46039f"
             ],
             [
              0.2222222222222222,
              "#7201a8"
             ],
             [
              0.3333333333333333,
              "#9c179e"
             ],
             [
              0.4444444444444444,
              "#bd3786"
             ],
             [
              0.5555555555555556,
              "#d8576b"
             ],
             [
              0.6666666666666666,
              "#ed7953"
             ],
             [
              0.7777777777777778,
              "#fb9f3a"
             ],
             [
              0.8888888888888888,
              "#fdca26"
             ],
             [
              1,
              "#f0f921"
             ]
            ],
            "type": "surface"
           }
          ],
          "table": [
           {
            "cells": {
             "fill": {
              "color": "#EBF0F8"
             },
             "line": {
              "color": "white"
             }
            },
            "header": {
             "fill": {
              "color": "#C8D4E3"
             },
             "line": {
              "color": "white"
             }
            },
            "type": "table"
           }
          ]
         },
         "layout": {
          "annotationdefaults": {
           "arrowcolor": "#2a3f5f",
           "arrowhead": 0,
           "arrowwidth": 1
          },
          "autotypenumbers": "strict",
          "coloraxis": {
           "colorbar": {
            "outlinewidth": 0,
            "ticks": ""
           }
          },
          "colorscale": {
           "diverging": [
            [
             0,
             "#8e0152"
            ],
            [
             0.1,
             "#c51b7d"
            ],
            [
             0.2,
             "#de77ae"
            ],
            [
             0.3,
             "#f1b6da"
            ],
            [
             0.4,
             "#fde0ef"
            ],
            [
             0.5,
             "#f7f7f7"
            ],
            [
             0.6,
             "#e6f5d0"
            ],
            [
             0.7,
             "#b8e186"
            ],
            [
             0.8,
             "#7fbc41"
            ],
            [
             0.9,
             "#4d9221"
            ],
            [
             1,
             "#276419"
            ]
           ],
           "sequential": [
            [
             0,
             "#0d0887"
            ],
            [
             0.1111111111111111,
             "#46039f"
            ],
            [
             0.2222222222222222,
             "#7201a8"
            ],
            [
             0.3333333333333333,
             "#9c179e"
            ],
            [
             0.4444444444444444,
             "#bd3786"
            ],
            [
             0.5555555555555556,
             "#d8576b"
            ],
            [
             0.6666666666666666,
             "#ed7953"
            ],
            [
             0.7777777777777778,
             "#fb9f3a"
            ],
            [
             0.8888888888888888,
             "#fdca26"
            ],
            [
             1,
             "#f0f921"
            ]
           ],
           "sequentialminus": [
            [
             0,
             "#0d0887"
            ],
            [
             0.1111111111111111,
             "#46039f"
            ],
            [
             0.2222222222222222,
             "#7201a8"
            ],
            [
             0.3333333333333333,
             "#9c179e"
            ],
            [
             0.4444444444444444,
             "#bd3786"
            ],
            [
             0.5555555555555556,
             "#d8576b"
            ],
            [
             0.6666666666666666,
             "#ed7953"
            ],
            [
             0.7777777777777778,
             "#fb9f3a"
            ],
            [
             0.8888888888888888,
             "#fdca26"
            ],
            [
             1,
             "#f0f921"
            ]
           ]
          },
          "colorway": [
           "#636efa",
           "#EF553B",
           "#00cc96",
           "#ab63fa",
           "#FFA15A",
           "#19d3f3",
           "#FF6692",
           "#B6E880",
           "#FF97FF",
           "#FECB52"
          ],
          "font": {
           "color": "#2a3f5f"
          },
          "geo": {
           "bgcolor": "white",
           "lakecolor": "white",
           "landcolor": "#E5ECF6",
           "showlakes": true,
           "showland": true,
           "subunitcolor": "white"
          },
          "hoverlabel": {
           "align": "left"
          },
          "hovermode": "closest",
          "mapbox": {
           "style": "light"
          },
          "paper_bgcolor": "white",
          "plot_bgcolor": "#E5ECF6",
          "polar": {
           "angularaxis": {
            "gridcolor": "white",
            "linecolor": "white",
            "ticks": ""
           },
           "bgcolor": "#E5ECF6",
           "radialaxis": {
            "gridcolor": "white",
            "linecolor": "white",
            "ticks": ""
           }
          },
          "scene": {
           "xaxis": {
            "backgroundcolor": "#E5ECF6",
            "gridcolor": "white",
            "gridwidth": 2,
            "linecolor": "white",
            "showbackground": true,
            "ticks": "",
            "zerolinecolor": "white"
           },
           "yaxis": {
            "backgroundcolor": "#E5ECF6",
            "gridcolor": "white",
            "gridwidth": 2,
            "linecolor": "white",
            "showbackground": true,
            "ticks": "",
            "zerolinecolor": "white"
           },
           "zaxis": {
            "backgroundcolor": "#E5ECF6",
            "gridcolor": "white",
            "gridwidth": 2,
            "linecolor": "white",
            "showbackground": true,
            "ticks": "",
            "zerolinecolor": "white"
           }
          },
          "shapedefaults": {
           "line": {
            "color": "#2a3f5f"
           }
          },
          "ternary": {
           "aaxis": {
            "gridcolor": "white",
            "linecolor": "white",
            "ticks": ""
           },
           "baxis": {
            "gridcolor": "white",
            "linecolor": "white",
            "ticks": ""
           },
           "bgcolor": "#E5ECF6",
           "caxis": {
            "gridcolor": "white",
            "linecolor": "white",
            "ticks": ""
           }
          },
          "title": {
           "x": 0.05
          },
          "xaxis": {
           "automargin": true,
           "gridcolor": "white",
           "linecolor": "white",
           "ticks": "",
           "title": {
            "standoff": 15
           },
           "zerolinecolor": "white",
           "zerolinewidth": 2
          },
          "yaxis": {
           "automargin": true,
           "gridcolor": "white",
           "linecolor": "white",
           "ticks": "",
           "title": {
            "standoff": 15
           },
           "zerolinecolor": "white",
           "zerolinewidth": 2
          }
         }
        },
        "title": {
         "font": {
          "size": 25
         },
         "text": "<b>Participants' current income with the programming experience</b>"
        },
        "width": 1000,
        "xaxis": {
         "anchor": "y",
         "categoryarray": [
          "I have never written code",
          "< 1 years",
          "1-3 years",
          "3-5 years",
          "5-10 years",
          "10-20 years",
          "20+ years"
         ],
         "categoryorder": "array",
         "domain": [
          0,
          1
         ],
         "tickfont": {
          "size": 14
         },
         "title": {
          "text": "<b>Programming Experience</b>"
         }
        },
        "yaxis": {
         "anchor": "x",
         "domain": [
          0,
          1
         ],
         "tickfont": {
          "size": 14
         },
         "ticksuffix": " ",
         "title": {
          "text": "<b>Percentage</b>"
         }
        }
       }
      }
     },
     "metadata": {},
     "output_type": "display_data"
    }
   ],
   "source": [
    "\n",
    "fig = px.bar(experience_income_df, \n",
    "            x='Programming experience', \n",
    "            y='Percentage',\n",
    "            color='Current income',\n",
    "            text='Percentage',\n",
    "            labels={ 'Current income': '<b>Current Income</b>', 'Percentage': '<b>Percentage</b>', 'Programming experience': '<b>Programming Experience</b>'},\n",
    "            category_orders={'Current income':  ['<$10,000', '$10,000-50,000', '$50,000-100,000', '$100,000-300,000','$300,000-500,000', '>$500,000'],\n",
    "                            'Programming experience': ['I have never written code', '< 1 years', '1-3 years', '3-5 years', '5-10 years', '10-20 years', '20+ years']},\n",
    "            color_discrete_sequence=['#F2F7A1', '#84ce69', '#309771','#1c737b','#14526e' ,'#071952'],\n",
    "            barmode='stack'\n",
    "            )\n",
    "\n",
    "fig.update_layout(\n",
    "    title_text='<b>Participants\\' current income with the programming experience</b>',\n",
    "    title_font_size=25,\n",
    "    width=1000,\n",
    "    height=600,\n",
    "    margin=dict(l=20, r=30, t=70, b=0),\n",
    "    paper_bgcolor='#ffe6cc',\n",
    "    xaxis=dict(tickfont=dict(size=14)),\n",
    "    yaxis=dict(tickfont=dict(size=14), ticksuffix = \" \"),\n",
    ")\n",
    "\n",
    "fig.update_traces(marker_line_color='black', marker_line_width=1, hovertemplate='%{text} (%) of participants that %{x} have the income %{fullData.name}')\n",
    "\n",
    "fig.show()\n"
   ]
  },
  {
   "cell_type": "markdown",
   "metadata": {},
   "source": [
    "From this plot, we can see the overall trend is when individuals get more programming experience, their income potential tends to increase. We will dicuss in detail below:\n",
    "- With experience `<3 years`: This is the early state of participant to acess to a new programming language, aslo they wil get lower income, which over 50% of them is in `<$10,000`.\n",
    "- With experience `3-10 years`: In this range, the icome of participants will increase with higher percentage of higher income range.\n",
    "- With experience `>10 years`: While there still individuals that have low income, but at this experience, most of participants will get a higher income, expecially in range `$100,000-300,000` and `$300,000-500,000`."
   ]
  },
  {
   "cell_type": "markdown",
   "metadata": {},
   "source": [
    "###  **1.4 Income distribution by the current industry**\n",
    "\n",
    "The current industry that a person is working in also affect alot to the income."
   ]
  },
  {
   "cell_type": "code",
   "execution_count": 107,
   "metadata": {},
   "outputs": [],
   "source": [
    "industry_income_df = processed_income_df.groupby('Current industry')['Current income'].value_counts().reset_index(name = 'Count')\n",
    "industry_income_df.loc[:,'Percentage'] = ((industry_income_df['Count'] / industry_income_df.groupby('Current industry')['Count'].transform('sum'))*100)\n",
    "industry_income_df['Percentage'] = industry_income_df['Percentage'].round(2)\n",
    "industry_income_df = industry_income_df.sort_values(by='Percentage', ascending=False)"
   ]
  },
  {
   "cell_type": "code",
   "execution_count": 108,
   "metadata": {},
   "outputs": [
    {
     "data": {
      "application/vnd.plotly.v1+json": {
       "config": {
        "plotlyServerURL": "https://plot.ly"
       },
       "data": [
        {
         "alignmentgroup": "True",
         "hovertemplate": "%{text} (%) of participants that in %{x} industry have the income %{fullData.name}",
         "legendgroup": "<$10,000",
         "marker": {
          "color": "#8ADAB2",
          "line": {
           "color": "black",
           "width": 0.5
          },
          "pattern": {
           "shape": ""
          }
         },
         "name": "<$10,000",
         "offsetgroup": "<$10,000",
         "orientation": "v",
         "showlegend": true,
         "text": [
          50.57,
          49.19,
          40.64,
          39.6,
          38.54,
          38.08,
          36.22,
          35.52,
          33.33,
          31.96,
          31.93,
          29.63,
          29.28,
          25.77,
          22.84
         ],
         "textposition": "auto",
         "type": "bar",
         "x": [
          "Non-profit/Service",
          "Academics/Education",
          "Marketing/CRM",
          "Other",
          "Energy/Mining",
          "Computers/Technology",
          "Retail/Sales",
          "Manufacturing/Fabrication",
          "Online Service/Internet-based Services",
          "Accounting/Finance",
          "Government/Public Service",
          "Shipping/Transportation",
          "Insurance/Risk Assessment",
          "Medical/Pharmaceutical",
          "Broadcasting/Communications"
         ],
         "xaxis": "x",
         "y": [
          50.57,
          49.19,
          40.64,
          39.6,
          38.54,
          38.08,
          36.22,
          35.52,
          33.33,
          31.96,
          31.93,
          29.63,
          29.28,
          25.77,
          22.84
         ],
         "yaxis": "y"
        },
        {
         "alignmentgroup": "True",
         "hovertemplate": "%{text} (%) of participants that in %{x} industry have the income %{fullData.name}",
         "legendgroup": "$10,000-50,000",
         "marker": {
          "color": "#B5CB99",
          "line": {
           "color": "black",
           "width": 0.5
          },
          "pattern": {
           "shape": ""
          }
         },
         "name": "$10,000-50,000",
         "offsetgroup": "$10,000-50,000",
         "orientation": "v",
         "showlegend": true,
         "text": [
          38.89,
          33.33,
          32.43,
          30.16,
          30.16,
          29.49,
          28.7,
          27.41,
          27.06,
          25.68,
          25.42,
          24.67,
          24.65,
          23.74,
          22.16
         ],
         "textposition": "auto",
         "type": "bar",
         "x": [
          "Broadcasting/Communications",
          "Shipping/Transportation",
          "Retail/Sales",
          "Government/Public Service",
          "Manufacturing/Fabrication",
          "Accounting/Finance",
          "Computers/Technology",
          "Academics/Education",
          "Other",
          "Insurance/Risk Assessment",
          "Online Service/Internet-based Services",
          "Medical/Pharmaceutical",
          "Energy/Mining",
          "Marketing/CRM",
          "Non-profit/Service"
         ],
         "xaxis": "x",
         "y": [
          38.89,
          33.33,
          32.43,
          30.16,
          30.16,
          29.49,
          28.7,
          27.41,
          27.06,
          25.68,
          25.42,
          24.67,
          24.65,
          23.74,
          22.16
         ],
         "yaxis": "y"
        },
        {
         "alignmentgroup": "True",
         "hovertemplate": "%{text} (%) of participants that in %{x} industry have the income %{fullData.name}",
         "legendgroup": "$50,000-100,000",
         "marker": {
          "color": "#E48F45",
          "line": {
           "color": "black",
           "width": 0.5
          },
          "pattern": {
           "shape": ""
          }
         },
         "name": "$50,000-100,000",
         "offsetgroup": "$50,000-100,000",
         "orientation": "v",
         "showlegend": true,
         "text": [
          23.21,
          22.22,
          21.81,
          20.14,
          19.96,
          19.37,
          19.14,
          18.72,
          17.27,
          17.01,
          16.01,
          15.95,
          14.83,
          14.49,
          14.2
         ],
         "textposition": "auto",
         "type": "bar",
         "x": [
          "Manufacturing/Fabrication",
          "Shipping/Transportation",
          "Medical/Pharmaceutical",
          "Energy/Mining",
          "Government/Public Service",
          "Insurance/Risk Assessment",
          "Broadcasting/Communications",
          "Marketing/CRM",
          "Online Service/Internet-based Services",
          "Accounting/Finance",
          "Academics/Education",
          "Retail/Sales",
          "Other",
          "Computers/Technology",
          "Non-profit/Service"
         ],
         "xaxis": "x",
         "y": [
          23.21,
          22.22,
          21.81,
          20.14,
          19.96,
          19.37,
          19.14,
          18.72,
          17.27,
          17.01,
          16.01,
          15.95,
          14.83,
          14.49,
          14.2
         ],
         "yaxis": "y"
        },
        {
         "alignmentgroup": "True",
         "hovertemplate": "%{text} (%) of participants that in %{x} industry have the income %{fullData.name}",
         "legendgroup": "$100,000-300,000",
         "marker": {
          "color": "#CD6688",
          "line": {
           "color": "black",
           "width": 0.5
          },
          "pattern": {
           "shape": ""
          }
         },
         "name": "$100,000-300,000",
         "offsetgroup": "$100,000-300,000",
         "orientation": "v",
         "showlegend": true,
         "text": [
          26.65,
          23.42,
          21.1,
          17.56,
          16.85,
          16.67,
          16.32,
          16.21,
          15.98,
          15.9,
          15.14,
          14.81,
          11.93,
          10.52,
          7.01
         ],
         "textposition": "auto",
         "type": "bar",
         "x": [
          "Medical/Pharmaceutical",
          "Insurance/Risk Assessment",
          "Online Service/Internet-based Services",
          "Accounting/Finance",
          "Government/Public Service",
          "Broadcasting/Communications",
          "Energy/Mining",
          "Other",
          "Marketing/CRM",
          "Computers/Technology",
          "Retail/Sales",
          "Shipping/Transportation",
          "Non-profit/Service",
          "Manufacturing/Fabrication",
          "Academics/Education"
         ],
         "xaxis": "x",
         "y": [
          26.65,
          23.42,
          21.1,
          17.56,
          16.85,
          16.67,
          16.32,
          16.21,
          15.98,
          15.9,
          15.14,
          14.81,
          11.93,
          10.52,
          7.01
         ],
         "yaxis": "y"
        },
        {
         "alignmentgroup": "True",
         "hovertemplate": "%{text} (%) of participants that in %{x} industry have the income %{fullData.name}",
         "legendgroup": "$300,000-500,000",
         "marker": {
          "color": "#7A316F",
          "line": {
           "color": "black",
           "width": 0.5
          },
          "pattern": {
           "shape": ""
          }
         },
         "name": "$300,000-500,000",
         "offsetgroup": "$300,000-500,000",
         "orientation": "v",
         "showlegend": true,
         "text": [
          2.19,
          1.85,
          1.8,
          1.44,
          1.41,
          1.07,
          0.66,
          0.46,
          0.44,
          0.4,
          0.35,
          0.15
         ],
         "textposition": "auto",
         "type": "bar",
         "x": [
          "Accounting/Finance",
          "Broadcasting/Communications",
          "Insurance/Risk Assessment",
          "Online Service/Internet-based Services",
          "Computers/Technology",
          "Other",
          "Medical/Pharmaceutical",
          "Marketing/CRM",
          "Government/Public Service",
          "Manufacturing/Fabrication",
          "Energy/Mining",
          "Academics/Education"
         ],
         "xaxis": "x",
         "y": [
          2.19,
          1.85,
          1.8,
          1.44,
          1.41,
          1.07,
          0.66,
          0.46,
          0.44,
          0.4,
          0.35,
          0.15
         ],
         "yaxis": "y"
        },
        {
         "alignmentgroup": "True",
         "hovertemplate": "%{text} (%) of participants that in %{x} industry have the income %{fullData.name}",
         "legendgroup": ">$500,000",
         "marker": {
          "color": "#461959",
          "line": {
           "color": "black",
           "width": 0.5
          },
          "pattern": {
           "shape": ""
          }
         },
         "name": ">$500,000",
         "offsetgroup": ">$500,000",
         "orientation": "v",
         "showlegend": true,
         "text": [
          1.78,
          1.44,
          1.41,
          1.22,
          1.14,
          0.67,
          0.62,
          0.46,
          0.45,
          0.44,
          0.27,
          0.23,
          0.2
         ],
         "textposition": "auto",
         "type": "bar",
         "x": [
          "Accounting/Finance",
          "Online Service/Internet-based Services",
          "Computers/Technology",
          "Other",
          "Non-profit/Service",
          "Government/Public Service",
          "Broadcasting/Communications",
          "Marketing/CRM",
          "Insurance/Risk Assessment",
          "Medical/Pharmaceutical",
          "Retail/Sales",
          "Academics/Education",
          "Manufacturing/Fabrication"
         ],
         "xaxis": "x",
         "y": [
          1.78,
          1.44,
          1.41,
          1.22,
          1.14,
          0.67,
          0.62,
          0.46,
          0.45,
          0.44,
          0.27,
          0.23,
          0.2
         ],
         "yaxis": "y"
        }
       ],
       "layout": {
        "barmode": "relative",
        "height": 700,
        "legend": {
         "title": {
          "text": "<b>Current Income</b>"
         },
         "tracegroupgap": 0
        },
        "margin": {
         "b": 20,
         "l": 20,
         "r": 20,
         "t": 70
        },
        "paper_bgcolor": "#ffe6cc",
        "template": {
         "data": {
          "bar": [
           {
            "error_x": {
             "color": "#2a3f5f"
            },
            "error_y": {
             "color": "#2a3f5f"
            },
            "marker": {
             "line": {
              "color": "#E5ECF6",
              "width": 0.5
             },
             "pattern": {
              "fillmode": "overlay",
              "size": 10,
              "solidity": 0.2
             }
            },
            "type": "bar"
           }
          ],
          "barpolar": [
           {
            "marker": {
             "line": {
              "color": "#E5ECF6",
              "width": 0.5
             },
             "pattern": {
              "fillmode": "overlay",
              "size": 10,
              "solidity": 0.2
             }
            },
            "type": "barpolar"
           }
          ],
          "carpet": [
           {
            "aaxis": {
             "endlinecolor": "#2a3f5f",
             "gridcolor": "white",
             "linecolor": "white",
             "minorgridcolor": "white",
             "startlinecolor": "#2a3f5f"
            },
            "baxis": {
             "endlinecolor": "#2a3f5f",
             "gridcolor": "white",
             "linecolor": "white",
             "minorgridcolor": "white",
             "startlinecolor": "#2a3f5f"
            },
            "type": "carpet"
           }
          ],
          "choropleth": [
           {
            "colorbar": {
             "outlinewidth": 0,
             "ticks": ""
            },
            "type": "choropleth"
           }
          ],
          "contour": [
           {
            "colorbar": {
             "outlinewidth": 0,
             "ticks": ""
            },
            "colorscale": [
             [
              0,
              "#0d0887"
             ],
             [
              0.1111111111111111,
              "#46039f"
             ],
             [
              0.2222222222222222,
              "#7201a8"
             ],
             [
              0.3333333333333333,
              "#9c179e"
             ],
             [
              0.4444444444444444,
              "#bd3786"
             ],
             [
              0.5555555555555556,
              "#d8576b"
             ],
             [
              0.6666666666666666,
              "#ed7953"
             ],
             [
              0.7777777777777778,
              "#fb9f3a"
             ],
             [
              0.8888888888888888,
              "#fdca26"
             ],
             [
              1,
              "#f0f921"
             ]
            ],
            "type": "contour"
           }
          ],
          "contourcarpet": [
           {
            "colorbar": {
             "outlinewidth": 0,
             "ticks": ""
            },
            "type": "contourcarpet"
           }
          ],
          "heatmap": [
           {
            "colorbar": {
             "outlinewidth": 0,
             "ticks": ""
            },
            "colorscale": [
             [
              0,
              "#0d0887"
             ],
             [
              0.1111111111111111,
              "#46039f"
             ],
             [
              0.2222222222222222,
              "#7201a8"
             ],
             [
              0.3333333333333333,
              "#9c179e"
             ],
             [
              0.4444444444444444,
              "#bd3786"
             ],
             [
              0.5555555555555556,
              "#d8576b"
             ],
             [
              0.6666666666666666,
              "#ed7953"
             ],
             [
              0.7777777777777778,
              "#fb9f3a"
             ],
             [
              0.8888888888888888,
              "#fdca26"
             ],
             [
              1,
              "#f0f921"
             ]
            ],
            "type": "heatmap"
           }
          ],
          "heatmapgl": [
           {
            "colorbar": {
             "outlinewidth": 0,
             "ticks": ""
            },
            "colorscale": [
             [
              0,
              "#0d0887"
             ],
             [
              0.1111111111111111,
              "#46039f"
             ],
             [
              0.2222222222222222,
              "#7201a8"
             ],
             [
              0.3333333333333333,
              "#9c179e"
             ],
             [
              0.4444444444444444,
              "#bd3786"
             ],
             [
              0.5555555555555556,
              "#d8576b"
             ],
             [
              0.6666666666666666,
              "#ed7953"
             ],
             [
              0.7777777777777778,
              "#fb9f3a"
             ],
             [
              0.8888888888888888,
              "#fdca26"
             ],
             [
              1,
              "#f0f921"
             ]
            ],
            "type": "heatmapgl"
           }
          ],
          "histogram": [
           {
            "marker": {
             "pattern": {
              "fillmode": "overlay",
              "size": 10,
              "solidity": 0.2
             }
            },
            "type": "histogram"
           }
          ],
          "histogram2d": [
           {
            "colorbar": {
             "outlinewidth": 0,
             "ticks": ""
            },
            "colorscale": [
             [
              0,
              "#0d0887"
             ],
             [
              0.1111111111111111,
              "#46039f"
             ],
             [
              0.2222222222222222,
              "#7201a8"
             ],
             [
              0.3333333333333333,
              "#9c179e"
             ],
             [
              0.4444444444444444,
              "#bd3786"
             ],
             [
              0.5555555555555556,
              "#d8576b"
             ],
             [
              0.6666666666666666,
              "#ed7953"
             ],
             [
              0.7777777777777778,
              "#fb9f3a"
             ],
             [
              0.8888888888888888,
              "#fdca26"
             ],
             [
              1,
              "#f0f921"
             ]
            ],
            "type": "histogram2d"
           }
          ],
          "histogram2dcontour": [
           {
            "colorbar": {
             "outlinewidth": 0,
             "ticks": ""
            },
            "colorscale": [
             [
              0,
              "#0d0887"
             ],
             [
              0.1111111111111111,
              "#46039f"
             ],
             [
              0.2222222222222222,
              "#7201a8"
             ],
             [
              0.3333333333333333,
              "#9c179e"
             ],
             [
              0.4444444444444444,
              "#bd3786"
             ],
             [
              0.5555555555555556,
              "#d8576b"
             ],
             [
              0.6666666666666666,
              "#ed7953"
             ],
             [
              0.7777777777777778,
              "#fb9f3a"
             ],
             [
              0.8888888888888888,
              "#fdca26"
             ],
             [
              1,
              "#f0f921"
             ]
            ],
            "type": "histogram2dcontour"
           }
          ],
          "mesh3d": [
           {
            "colorbar": {
             "outlinewidth": 0,
             "ticks": ""
            },
            "type": "mesh3d"
           }
          ],
          "parcoords": [
           {
            "line": {
             "colorbar": {
              "outlinewidth": 0,
              "ticks": ""
             }
            },
            "type": "parcoords"
           }
          ],
          "pie": [
           {
            "automargin": true,
            "type": "pie"
           }
          ],
          "scatter": [
           {
            "fillpattern": {
             "fillmode": "overlay",
             "size": 10,
             "solidity": 0.2
            },
            "type": "scatter"
           }
          ],
          "scatter3d": [
           {
            "line": {
             "colorbar": {
              "outlinewidth": 0,
              "ticks": ""
             }
            },
            "marker": {
             "colorbar": {
              "outlinewidth": 0,
              "ticks": ""
             }
            },
            "type": "scatter3d"
           }
          ],
          "scattercarpet": [
           {
            "marker": {
             "colorbar": {
              "outlinewidth": 0,
              "ticks": ""
             }
            },
            "type": "scattercarpet"
           }
          ],
          "scattergeo": [
           {
            "marker": {
             "colorbar": {
              "outlinewidth": 0,
              "ticks": ""
             }
            },
            "type": "scattergeo"
           }
          ],
          "scattergl": [
           {
            "marker": {
             "colorbar": {
              "outlinewidth": 0,
              "ticks": ""
             }
            },
            "type": "scattergl"
           }
          ],
          "scattermapbox": [
           {
            "marker": {
             "colorbar": {
              "outlinewidth": 0,
              "ticks": ""
             }
            },
            "type": "scattermapbox"
           }
          ],
          "scatterpolar": [
           {
            "marker": {
             "colorbar": {
              "outlinewidth": 0,
              "ticks": ""
             }
            },
            "type": "scatterpolar"
           }
          ],
          "scatterpolargl": [
           {
            "marker": {
             "colorbar": {
              "outlinewidth": 0,
              "ticks": ""
             }
            },
            "type": "scatterpolargl"
           }
          ],
          "scatterternary": [
           {
            "marker": {
             "colorbar": {
              "outlinewidth": 0,
              "ticks": ""
             }
            },
            "type": "scatterternary"
           }
          ],
          "surface": [
           {
            "colorbar": {
             "outlinewidth": 0,
             "ticks": ""
            },
            "colorscale": [
             [
              0,
              "#0d0887"
             ],
             [
              0.1111111111111111,
              "#46039f"
             ],
             [
              0.2222222222222222,
              "#7201a8"
             ],
             [
              0.3333333333333333,
              "#9c179e"
             ],
             [
              0.4444444444444444,
              "#bd3786"
             ],
             [
              0.5555555555555556,
              "#d8576b"
             ],
             [
              0.6666666666666666,
              "#ed7953"
             ],
             [
              0.7777777777777778,
              "#fb9f3a"
             ],
             [
              0.8888888888888888,
              "#fdca26"
             ],
             [
              1,
              "#f0f921"
             ]
            ],
            "type": "surface"
           }
          ],
          "table": [
           {
            "cells": {
             "fill": {
              "color": "#EBF0F8"
             },
             "line": {
              "color": "white"
             }
            },
            "header": {
             "fill": {
              "color": "#C8D4E3"
             },
             "line": {
              "color": "white"
             }
            },
            "type": "table"
           }
          ]
         },
         "layout": {
          "annotationdefaults": {
           "arrowcolor": "#2a3f5f",
           "arrowhead": 0,
           "arrowwidth": 1
          },
          "autotypenumbers": "strict",
          "coloraxis": {
           "colorbar": {
            "outlinewidth": 0,
            "ticks": ""
           }
          },
          "colorscale": {
           "diverging": [
            [
             0,
             "#8e0152"
            ],
            [
             0.1,
             "#c51b7d"
            ],
            [
             0.2,
             "#de77ae"
            ],
            [
             0.3,
             "#f1b6da"
            ],
            [
             0.4,
             "#fde0ef"
            ],
            [
             0.5,
             "#f7f7f7"
            ],
            [
             0.6,
             "#e6f5d0"
            ],
            [
             0.7,
             "#b8e186"
            ],
            [
             0.8,
             "#7fbc41"
            ],
            [
             0.9,
             "#4d9221"
            ],
            [
             1,
             "#276419"
            ]
           ],
           "sequential": [
            [
             0,
             "#0d0887"
            ],
            [
             0.1111111111111111,
             "#46039f"
            ],
            [
             0.2222222222222222,
             "#7201a8"
            ],
            [
             0.3333333333333333,
             "#9c179e"
            ],
            [
             0.4444444444444444,
             "#bd3786"
            ],
            [
             0.5555555555555556,
             "#d8576b"
            ],
            [
             0.6666666666666666,
             "#ed7953"
            ],
            [
             0.7777777777777778,
             "#fb9f3a"
            ],
            [
             0.8888888888888888,
             "#fdca26"
            ],
            [
             1,
             "#f0f921"
            ]
           ],
           "sequentialminus": [
            [
             0,
             "#0d0887"
            ],
            [
             0.1111111111111111,
             "#46039f"
            ],
            [
             0.2222222222222222,
             "#7201a8"
            ],
            [
             0.3333333333333333,
             "#9c179e"
            ],
            [
             0.4444444444444444,
             "#bd3786"
            ],
            [
             0.5555555555555556,
             "#d8576b"
            ],
            [
             0.6666666666666666,
             "#ed7953"
            ],
            [
             0.7777777777777778,
             "#fb9f3a"
            ],
            [
             0.8888888888888888,
             "#fdca26"
            ],
            [
             1,
             "#f0f921"
            ]
           ]
          },
          "colorway": [
           "#636efa",
           "#EF553B",
           "#00cc96",
           "#ab63fa",
           "#FFA15A",
           "#19d3f3",
           "#FF6692",
           "#B6E880",
           "#FF97FF",
           "#FECB52"
          ],
          "font": {
           "color": "#2a3f5f"
          },
          "geo": {
           "bgcolor": "white",
           "lakecolor": "white",
           "landcolor": "#E5ECF6",
           "showlakes": true,
           "showland": true,
           "subunitcolor": "white"
          },
          "hoverlabel": {
           "align": "left"
          },
          "hovermode": "closest",
          "mapbox": {
           "style": "light"
          },
          "paper_bgcolor": "white",
          "plot_bgcolor": "#E5ECF6",
          "polar": {
           "angularaxis": {
            "gridcolor": "white",
            "linecolor": "white",
            "ticks": ""
           },
           "bgcolor": "#E5ECF6",
           "radialaxis": {
            "gridcolor": "white",
            "linecolor": "white",
            "ticks": ""
           }
          },
          "scene": {
           "xaxis": {
            "backgroundcolor": "#E5ECF6",
            "gridcolor": "white",
            "gridwidth": 2,
            "linecolor": "white",
            "showbackground": true,
            "ticks": "",
            "zerolinecolor": "white"
           },
           "yaxis": {
            "backgroundcolor": "#E5ECF6",
            "gridcolor": "white",
            "gridwidth": 2,
            "linecolor": "white",
            "showbackground": true,
            "ticks": "",
            "zerolinecolor": "white"
           },
           "zaxis": {
            "backgroundcolor": "#E5ECF6",
            "gridcolor": "white",
            "gridwidth": 2,
            "linecolor": "white",
            "showbackground": true,
            "ticks": "",
            "zerolinecolor": "white"
           }
          },
          "shapedefaults": {
           "line": {
            "color": "#2a3f5f"
           }
          },
          "ternary": {
           "aaxis": {
            "gridcolor": "white",
            "linecolor": "white",
            "ticks": ""
           },
           "baxis": {
            "gridcolor": "white",
            "linecolor": "white",
            "ticks": ""
           },
           "bgcolor": "#E5ECF6",
           "caxis": {
            "gridcolor": "white",
            "linecolor": "white",
            "ticks": ""
           }
          },
          "title": {
           "x": 0.05
          },
          "xaxis": {
           "automargin": true,
           "gridcolor": "white",
           "linecolor": "white",
           "ticks": "",
           "title": {
            "standoff": 15
           },
           "zerolinecolor": "white",
           "zerolinewidth": 2
          },
          "yaxis": {
           "automargin": true,
           "gridcolor": "white",
           "linecolor": "white",
           "ticks": "",
           "title": {
            "standoff": 15
           },
           "zerolinecolor": "white",
           "zerolinewidth": 2
          }
         }
        },
        "title": {
         "font": {
          "size": 30
         },
         "text": "<b>Percentage distribution of income ranges by Industry<b>"
        },
        "width": 1100,
        "xaxis": {
         "anchor": "y",
         "domain": [
          0,
          1
         ],
         "tickfont": {
          "size": 14
         },
         "title": {
          "text": "<b>Industry</b>"
         }
        },
        "yaxis": {
         "anchor": "x",
         "domain": [
          0,
          1
         ],
         "tickfont": {
          "size": 14
         },
         "ticksuffix": " ",
         "title": {
          "text": "<b>Percentage</b>"
         }
        }
       }
      }
     },
     "metadata": {},
     "output_type": "display_data"
    }
   ],
   "source": [
    "\n",
    "fig = px.bar(\n",
    "            industry_income_df, \n",
    "            y='Percentage', \n",
    "            x='Current industry',\n",
    "            color='Current income',\n",
    "            text='Percentage',\n",
    "            labels={'Percentage': '<b>Percentage</b>', 'Current industry': '<b>Industry</b>', 'Current income': '<b>Current Income</b>'},\n",
    "            category_orders={'Current income':  [ '<$10,000', '$10,000-50,000', '$50,000-100,000', '$100,000-300,000','$300,000-500,000', '>$500,000']},\n",
    "            color_discrete_sequence=['#8ADAB2', '#B5CB99', '#E48F45','#CD6688','#7A316F' ,'#461959'],\n",
    "             )\n",
    "\n",
    "fig.update_layout(\n",
    "    title='<b>Percentage distribution of income ranges by Industry<b>',\n",
    "    title_font_size=30,\n",
    "    width=1100,\n",
    "    height=700,\n",
    "    margin=dict(l=20, r=20, t=70, b=20),\n",
    "    paper_bgcolor='#ffe6cc',\n",
    "    xaxis=dict(tickfont=dict(size=14)),\n",
    "    yaxis=dict(tickfont=dict(size=14), ticksuffix = \" \"),\n",
    ")\n",
    "\n",
    "fig.update_traces(marker_line_color='black', marker_line_width=0.5, hovertemplate='%{text} (%) of participants that in %{x} industry have the income %{fullData.name}')\n",
    "\n",
    "fig.show()\n"
   ]
  },
  {
   "cell_type": "markdown",
   "metadata": {},
   "source": [
    "By this plot, we can get some conclusion below:\n",
    "\n",
    "- With low income (in range `<$50,000`) `Academics/ Education`, and `Non-profit/ Service` industry, we can easily know that these industry may get lower income. As we discuss above, partipants who work in `Academics/ Education` generally is  `Teacher / professor`, so there is a lower potential to get higher income. \n",
    "\n",
    "- In range of medium income (`$50,000 - 300,000`), the high percentage is `Medical/Pharmaceutical`, `Insurance/ Risk Assessment` and `Online Service/ Internet-based Services`. This means , most individuals in these industries mostly get the income in this range. This is a good range of salary for everyone. So these industriese are suitable for someone who are finding jobs that have the stable income.\n",
    "\n",
    "- With the high income (`$300,000` or more), `Online Service`, `Accounting/Finance` and `Computer/ Technology` have the high percentage of `$300,000-399,999` and `>$500,000` show that these industries have the most potential to reach the highest range of income. Also, there is a notable industry is `Non-profit/Service`, despite of the very high percentage of low income, but in the high income range, the percentage also very high (upto 1.14%), this means individuals in `Non-profit/Service` industry also can get very high income.\n",
    "\n"
   ]
  },
  {
   "cell_type": "markdown",
   "metadata": {},
   "source": [
    "##### **Overall:**\n",
    "Okay, with all the analysis above, let's take a overall view for what we have done up to now:\n",
    "<br>\n",
    "Based on the overall exploration of factors such as geographical location, current role, programming experience, and qualifications, we can draw the following conclusions regarding their impact on a person's salary:\n",
    "\n",
    "- `Residential country`:  Different regions or countries often have various salary levels due to factors such as cost of living, economic development, and demand for specific skills. Therefore, the income can very different between each countries.\n",
    "\n",
    "- `Current Role`: The specific role that a person holds in the workplace can significantly affect their salary. Roles that require specialized skills, expertise, and have lots of demand in the industry like `ML Engineer`, `Reseacher Scientist`, `Data Scientist` will give higher salaries. Additionally, managerial or leadership positions like `Mangager` tend to have higher earning potential compared to entry-level or junior positions.\n",
    "\n",
    "- `Programming Experience`: Programming experience is a valuable asset in the field of IT and can positively impact a person's salary. Generally, individuals with more programming experience tend to have higher income potential. As individuals gain more experience and skills in programming, they often become better in their roles, handle more complex projects, and can get higher salaries than employers.\n",
    "\n",
    "- `Industry`: Industry is also a very important factor to determine the income of a person. Industries with the highly development rate, or in a specific condition, will tend to pay more to get the employer.  \n",
    "       \n",
    "Beside that, it is important to note that these factors do not affect the income independently, and their impact on salary can vary depending on various combinations and interactions. Other factors like `company size`, `skill set` can also influence a person's salary.\n",
    "\n",
    "Overall, a combination of `Residential country`, `Current role`, `Programming experience`, and `Industry` can contribute to a person's salary. By understanding their influence, we can make better decisions about our career paths, skill development, and potential earnings."
   ]
  },
  {
   "cell_type": "markdown",
   "metadata": {},
   "source": [
    "### **1.5 Is there any difference between the income of Male and Female**?\n",
    "\n",
    "For the gender, in this analysis, we just consider participants that is Male and Female."
   ]
  },
  {
   "cell_type": "code",
   "execution_count": 109,
   "metadata": {},
   "outputs": [],
   "source": [
    "gender_income_df = processed_income_df.groupby('Gender')['Current income'].value_counts().reset_index(name = 'Count')\n",
    "filtered_gender_income_df = gender_income_df[gender_income_df['Gender'].isin(['Man', 'Woman'])].copy()\n",
    "filtered_gender_income_df.loc[:,'Percentage'] = ((filtered_gender_income_df.loc[:,'Count'] / filtered_gender_income_df.groupby('Gender')['Count'].transform('sum'))*100)\n",
    "filtered_gender_income_df['Percentage'] = filtered_gender_income_df['Percentage'].round(2)"
   ]
  },
  {
   "cell_type": "code",
   "execution_count": 110,
   "metadata": {},
   "outputs": [
    {
     "data": {
      "application/vnd.plotly.v1+json": {
       "config": {
        "plotlyServerURL": "https://plot.ly"
       },
       "data": [
        {
         "alignmentgroup": "True",
         "hovertemplate": "%{text} (%) of %{x} have the income %{fullData.name}",
         "legendgroup": "<$10,000",
         "marker": {
          "color": "#D2D79F",
          "line": {
           "color": "black",
           "width": 0.5
          },
          "pattern": {
           "shape": ""
          }
         },
         "name": "<$10,000",
         "offsetgroup": "<$10,000",
         "orientation": "v",
         "showlegend": true,
         "text": [
          35.57,
          47.83
         ],
         "textposition": "auto",
         "type": "bar",
         "x": [
          "Man",
          "Woman"
         ],
         "xaxis": "x",
         "y": [
          35.57,
          47.83
         ],
         "yaxis": "y"
        },
        {
         "alignmentgroup": "True",
         "hovertemplate": "%{text} (%) of %{x} have the income %{fullData.name}",
         "legendgroup": "$10,000-50,000",
         "marker": {
          "color": "#86b395",
          "line": {
           "color": "black",
           "width": 0.5
          },
          "pattern": {
           "shape": ""
          }
         },
         "name": "$10,000-50,000",
         "offsetgroup": "$10,000-50,000",
         "orientation": "v",
         "showlegend": true,
         "text": [
          29.15,
          23.81
         ],
         "textposition": "auto",
         "type": "bar",
         "x": [
          "Man",
          "Woman"
         ],
         "xaxis": "x",
         "y": [
          29.15,
          23.81
         ],
         "yaxis": "y"
        },
        {
         "alignmentgroup": "True",
         "hovertemplate": "%{text} (%) of %{x} have the income %{fullData.name}",
         "legendgroup": "$50,000-100,000",
         "marker": {
          "color": "#75969b",
          "line": {
           "color": "black",
           "width": 0.5
          },
          "pattern": {
           "shape": ""
          }
         },
         "name": "$50,000-100,000",
         "offsetgroup": "$50,000-100,000",
         "orientation": "v",
         "showlegend": true,
         "text": [
          17.5,
          15.34
         ],
         "textposition": "auto",
         "type": "bar",
         "x": [
          "Man",
          "Woman"
         ],
         "xaxis": "x",
         "y": [
          17.5,
          15.34
         ],
         "yaxis": "y"
        },
        {
         "alignmentgroup": "True",
         "hovertemplate": "%{text} (%) of %{x} have the income %{fullData.name}",
         "legendgroup": "$100,000-300,000",
         "marker": {
          "color": "#646684",
          "line": {
           "color": "black",
           "width": 0.5
          },
          "pattern": {
           "shape": ""
          }
         },
         "name": "$100,000-300,000",
         "offsetgroup": "$100,000-300,000",
         "orientation": "v",
         "showlegend": true,
         "text": [
          15.89,
          11.87
         ],
         "textposition": "auto",
         "type": "bar",
         "x": [
          "Man",
          "Woman"
         ],
         "xaxis": "x",
         "y": [
          15.89,
          11.87
         ],
         "yaxis": "y"
        },
        {
         "alignmentgroup": "True",
         "hovertemplate": "%{text} (%) of %{x} have the income %{fullData.name}",
         "legendgroup": "$300,000-500,000",
         "marker": {
          "color": "#66536c",
          "line": {
           "color": "black",
           "width": 0.5
          },
          "pattern": {
           "shape": ""
          }
         },
         "name": "$300,000-500,000",
         "offsetgroup": "$300,000-500,000",
         "orientation": "v",
         "showlegend": true,
         "text": [
          0.95,
          0.65
         ],
         "textposition": "auto",
         "type": "bar",
         "x": [
          "Man",
          "Woman"
         ],
         "xaxis": "x",
         "y": [
          0.95,
          0.65
         ],
         "yaxis": "y"
        },
        {
         "alignmentgroup": "True",
         "hovertemplate": "%{text} (%) of %{x} have the income %{fullData.name}",
         "legendgroup": ">$500,000",
         "marker": {
          "color": "#483838",
          "line": {
           "color": "black",
           "width": 0.5
          },
          "pattern": {
           "shape": ""
          }
         },
         "name": ">$500,000",
         "offsetgroup": ">$500,000",
         "orientation": "v",
         "showlegend": true,
         "text": [
          0.95,
          0.51
         ],
         "textposition": "auto",
         "type": "bar",
         "x": [
          "Man",
          "Woman"
         ],
         "xaxis": "x",
         "y": [
          0.95,
          0.51
         ],
         "yaxis": "y"
        }
       ],
       "layout": {
        "barmode": "stack",
        "height": 600,
        "legend": {
         "title": {
          "text": "<b>Current Income</b>"
         },
         "tracegroupgap": 0
        },
        "margin": {
         "b": 0,
         "l": 20,
         "r": 30,
         "t": 70
        },
        "paper_bgcolor": "#ffe6cc",
        "template": {
         "data": {
          "bar": [
           {
            "error_x": {
             "color": "#2a3f5f"
            },
            "error_y": {
             "color": "#2a3f5f"
            },
            "marker": {
             "line": {
              "color": "#E5ECF6",
              "width": 0.5
             },
             "pattern": {
              "fillmode": "overlay",
              "size": 10,
              "solidity": 0.2
             }
            },
            "type": "bar"
           }
          ],
          "barpolar": [
           {
            "marker": {
             "line": {
              "color": "#E5ECF6",
              "width": 0.5
             },
             "pattern": {
              "fillmode": "overlay",
              "size": 10,
              "solidity": 0.2
             }
            },
            "type": "barpolar"
           }
          ],
          "carpet": [
           {
            "aaxis": {
             "endlinecolor": "#2a3f5f",
             "gridcolor": "white",
             "linecolor": "white",
             "minorgridcolor": "white",
             "startlinecolor": "#2a3f5f"
            },
            "baxis": {
             "endlinecolor": "#2a3f5f",
             "gridcolor": "white",
             "linecolor": "white",
             "minorgridcolor": "white",
             "startlinecolor": "#2a3f5f"
            },
            "type": "carpet"
           }
          ],
          "choropleth": [
           {
            "colorbar": {
             "outlinewidth": 0,
             "ticks": ""
            },
            "type": "choropleth"
           }
          ],
          "contour": [
           {
            "colorbar": {
             "outlinewidth": 0,
             "ticks": ""
            },
            "colorscale": [
             [
              0,
              "#0d0887"
             ],
             [
              0.1111111111111111,
              "#46039f"
             ],
             [
              0.2222222222222222,
              "#7201a8"
             ],
             [
              0.3333333333333333,
              "#9c179e"
             ],
             [
              0.4444444444444444,
              "#bd3786"
             ],
             [
              0.5555555555555556,
              "#d8576b"
             ],
             [
              0.6666666666666666,
              "#ed7953"
             ],
             [
              0.7777777777777778,
              "#fb9f3a"
             ],
             [
              0.8888888888888888,
              "#fdca26"
             ],
             [
              1,
              "#f0f921"
             ]
            ],
            "type": "contour"
           }
          ],
          "contourcarpet": [
           {
            "colorbar": {
             "outlinewidth": 0,
             "ticks": ""
            },
            "type": "contourcarpet"
           }
          ],
          "heatmap": [
           {
            "colorbar": {
             "outlinewidth": 0,
             "ticks": ""
            },
            "colorscale": [
             [
              0,
              "#0d0887"
             ],
             [
              0.1111111111111111,
              "#46039f"
             ],
             [
              0.2222222222222222,
              "#7201a8"
             ],
             [
              0.3333333333333333,
              "#9c179e"
             ],
             [
              0.4444444444444444,
              "#bd3786"
             ],
             [
              0.5555555555555556,
              "#d8576b"
             ],
             [
              0.6666666666666666,
              "#ed7953"
             ],
             [
              0.7777777777777778,
              "#fb9f3a"
             ],
             [
              0.8888888888888888,
              "#fdca26"
             ],
             [
              1,
              "#f0f921"
             ]
            ],
            "type": "heatmap"
           }
          ],
          "heatmapgl": [
           {
            "colorbar": {
             "outlinewidth": 0,
             "ticks": ""
            },
            "colorscale": [
             [
              0,
              "#0d0887"
             ],
             [
              0.1111111111111111,
              "#46039f"
             ],
             [
              0.2222222222222222,
              "#7201a8"
             ],
             [
              0.3333333333333333,
              "#9c179e"
             ],
             [
              0.4444444444444444,
              "#bd3786"
             ],
             [
              0.5555555555555556,
              "#d8576b"
             ],
             [
              0.6666666666666666,
              "#ed7953"
             ],
             [
              0.7777777777777778,
              "#fb9f3a"
             ],
             [
              0.8888888888888888,
              "#fdca26"
             ],
             [
              1,
              "#f0f921"
             ]
            ],
            "type": "heatmapgl"
           }
          ],
          "histogram": [
           {
            "marker": {
             "pattern": {
              "fillmode": "overlay",
              "size": 10,
              "solidity": 0.2
             }
            },
            "type": "histogram"
           }
          ],
          "histogram2d": [
           {
            "colorbar": {
             "outlinewidth": 0,
             "ticks": ""
            },
            "colorscale": [
             [
              0,
              "#0d0887"
             ],
             [
              0.1111111111111111,
              "#46039f"
             ],
             [
              0.2222222222222222,
              "#7201a8"
             ],
             [
              0.3333333333333333,
              "#9c179e"
             ],
             [
              0.4444444444444444,
              "#bd3786"
             ],
             [
              0.5555555555555556,
              "#d8576b"
             ],
             [
              0.6666666666666666,
              "#ed7953"
             ],
             [
              0.7777777777777778,
              "#fb9f3a"
             ],
             [
              0.8888888888888888,
              "#fdca26"
             ],
             [
              1,
              "#f0f921"
             ]
            ],
            "type": "histogram2d"
           }
          ],
          "histogram2dcontour": [
           {
            "colorbar": {
             "outlinewidth": 0,
             "ticks": ""
            },
            "colorscale": [
             [
              0,
              "#0d0887"
             ],
             [
              0.1111111111111111,
              "#46039f"
             ],
             [
              0.2222222222222222,
              "#7201a8"
             ],
             [
              0.3333333333333333,
              "#9c179e"
             ],
             [
              0.4444444444444444,
              "#bd3786"
             ],
             [
              0.5555555555555556,
              "#d8576b"
             ],
             [
              0.6666666666666666,
              "#ed7953"
             ],
             [
              0.7777777777777778,
              "#fb9f3a"
             ],
             [
              0.8888888888888888,
              "#fdca26"
             ],
             [
              1,
              "#f0f921"
             ]
            ],
            "type": "histogram2dcontour"
           }
          ],
          "mesh3d": [
           {
            "colorbar": {
             "outlinewidth": 0,
             "ticks": ""
            },
            "type": "mesh3d"
           }
          ],
          "parcoords": [
           {
            "line": {
             "colorbar": {
              "outlinewidth": 0,
              "ticks": ""
             }
            },
            "type": "parcoords"
           }
          ],
          "pie": [
           {
            "automargin": true,
            "type": "pie"
           }
          ],
          "scatter": [
           {
            "fillpattern": {
             "fillmode": "overlay",
             "size": 10,
             "solidity": 0.2
            },
            "type": "scatter"
           }
          ],
          "scatter3d": [
           {
            "line": {
             "colorbar": {
              "outlinewidth": 0,
              "ticks": ""
             }
            },
            "marker": {
             "colorbar": {
              "outlinewidth": 0,
              "ticks": ""
             }
            },
            "type": "scatter3d"
           }
          ],
          "scattercarpet": [
           {
            "marker": {
             "colorbar": {
              "outlinewidth": 0,
              "ticks": ""
             }
            },
            "type": "scattercarpet"
           }
          ],
          "scattergeo": [
           {
            "marker": {
             "colorbar": {
              "outlinewidth": 0,
              "ticks": ""
             }
            },
            "type": "scattergeo"
           }
          ],
          "scattergl": [
           {
            "marker": {
             "colorbar": {
              "outlinewidth": 0,
              "ticks": ""
             }
            },
            "type": "scattergl"
           }
          ],
          "scattermapbox": [
           {
            "marker": {
             "colorbar": {
              "outlinewidth": 0,
              "ticks": ""
             }
            },
            "type": "scattermapbox"
           }
          ],
          "scatterpolar": [
           {
            "marker": {
             "colorbar": {
              "outlinewidth": 0,
              "ticks": ""
             }
            },
            "type": "scatterpolar"
           }
          ],
          "scatterpolargl": [
           {
            "marker": {
             "colorbar": {
              "outlinewidth": 0,
              "ticks": ""
             }
            },
            "type": "scatterpolargl"
           }
          ],
          "scatterternary": [
           {
            "marker": {
             "colorbar": {
              "outlinewidth": 0,
              "ticks": ""
             }
            },
            "type": "scatterternary"
           }
          ],
          "surface": [
           {
            "colorbar": {
             "outlinewidth": 0,
             "ticks": ""
            },
            "colorscale": [
             [
              0,
              "#0d0887"
             ],
             [
              0.1111111111111111,
              "#46039f"
             ],
             [
              0.2222222222222222,
              "#7201a8"
             ],
             [
              0.3333333333333333,
              "#9c179e"
             ],
             [
              0.4444444444444444,
              "#bd3786"
             ],
             [
              0.5555555555555556,
              "#d8576b"
             ],
             [
              0.6666666666666666,
              "#ed7953"
             ],
             [
              0.7777777777777778,
              "#fb9f3a"
             ],
             [
              0.8888888888888888,
              "#fdca26"
             ],
             [
              1,
              "#f0f921"
             ]
            ],
            "type": "surface"
           }
          ],
          "table": [
           {
            "cells": {
             "fill": {
              "color": "#EBF0F8"
             },
             "line": {
              "color": "white"
             }
            },
            "header": {
             "fill": {
              "color": "#C8D4E3"
             },
             "line": {
              "color": "white"
             }
            },
            "type": "table"
           }
          ]
         },
         "layout": {
          "annotationdefaults": {
           "arrowcolor": "#2a3f5f",
           "arrowhead": 0,
           "arrowwidth": 1
          },
          "autotypenumbers": "strict",
          "coloraxis": {
           "colorbar": {
            "outlinewidth": 0,
            "ticks": ""
           }
          },
          "colorscale": {
           "diverging": [
            [
             0,
             "#8e0152"
            ],
            [
             0.1,
             "#c51b7d"
            ],
            [
             0.2,
             "#de77ae"
            ],
            [
             0.3,
             "#f1b6da"
            ],
            [
             0.4,
             "#fde0ef"
            ],
            [
             0.5,
             "#f7f7f7"
            ],
            [
             0.6,
             "#e6f5d0"
            ],
            [
             0.7,
             "#b8e186"
            ],
            [
             0.8,
             "#7fbc41"
            ],
            [
             0.9,
             "#4d9221"
            ],
            [
             1,
             "#276419"
            ]
           ],
           "sequential": [
            [
             0,
             "#0d0887"
            ],
            [
             0.1111111111111111,
             "#46039f"
            ],
            [
             0.2222222222222222,
             "#7201a8"
            ],
            [
             0.3333333333333333,
             "#9c179e"
            ],
            [
             0.4444444444444444,
             "#bd3786"
            ],
            [
             0.5555555555555556,
             "#d8576b"
            ],
            [
             0.6666666666666666,
             "#ed7953"
            ],
            [
             0.7777777777777778,
             "#fb9f3a"
            ],
            [
             0.8888888888888888,
             "#fdca26"
            ],
            [
             1,
             "#f0f921"
            ]
           ],
           "sequentialminus": [
            [
             0,
             "#0d0887"
            ],
            [
             0.1111111111111111,
             "#46039f"
            ],
            [
             0.2222222222222222,
             "#7201a8"
            ],
            [
             0.3333333333333333,
             "#9c179e"
            ],
            [
             0.4444444444444444,
             "#bd3786"
            ],
            [
             0.5555555555555556,
             "#d8576b"
            ],
            [
             0.6666666666666666,
             "#ed7953"
            ],
            [
             0.7777777777777778,
             "#fb9f3a"
            ],
            [
             0.8888888888888888,
             "#fdca26"
            ],
            [
             1,
             "#f0f921"
            ]
           ]
          },
          "colorway": [
           "#636efa",
           "#EF553B",
           "#00cc96",
           "#ab63fa",
           "#FFA15A",
           "#19d3f3",
           "#FF6692",
           "#B6E880",
           "#FF97FF",
           "#FECB52"
          ],
          "font": {
           "color": "#2a3f5f"
          },
          "geo": {
           "bgcolor": "white",
           "lakecolor": "white",
           "landcolor": "#E5ECF6",
           "showlakes": true,
           "showland": true,
           "subunitcolor": "white"
          },
          "hoverlabel": {
           "align": "left"
          },
          "hovermode": "closest",
          "mapbox": {
           "style": "light"
          },
          "paper_bgcolor": "white",
          "plot_bgcolor": "#E5ECF6",
          "polar": {
           "angularaxis": {
            "gridcolor": "white",
            "linecolor": "white",
            "ticks": ""
           },
           "bgcolor": "#E5ECF6",
           "radialaxis": {
            "gridcolor": "white",
            "linecolor": "white",
            "ticks": ""
           }
          },
          "scene": {
           "xaxis": {
            "backgroundcolor": "#E5ECF6",
            "gridcolor": "white",
            "gridwidth": 2,
            "linecolor": "white",
            "showbackground": true,
            "ticks": "",
            "zerolinecolor": "white"
           },
           "yaxis": {
            "backgroundcolor": "#E5ECF6",
            "gridcolor": "white",
            "gridwidth": 2,
            "linecolor": "white",
            "showbackground": true,
            "ticks": "",
            "zerolinecolor": "white"
           },
           "zaxis": {
            "backgroundcolor": "#E5ECF6",
            "gridcolor": "white",
            "gridwidth": 2,
            "linecolor": "white",
            "showbackground": true,
            "ticks": "",
            "zerolinecolor": "white"
           }
          },
          "shapedefaults": {
           "line": {
            "color": "#2a3f5f"
           }
          },
          "ternary": {
           "aaxis": {
            "gridcolor": "white",
            "linecolor": "white",
            "ticks": ""
           },
           "baxis": {
            "gridcolor": "white",
            "linecolor": "white",
            "ticks": ""
           },
           "bgcolor": "#E5ECF6",
           "caxis": {
            "gridcolor": "white",
            "linecolor": "white",
            "ticks": ""
           }
          },
          "title": {
           "x": 0.05
          },
          "xaxis": {
           "automargin": true,
           "gridcolor": "white",
           "linecolor": "white",
           "ticks": "",
           "title": {
            "standoff": 15
           },
           "zerolinecolor": "white",
           "zerolinewidth": 2
          },
          "yaxis": {
           "automargin": true,
           "gridcolor": "white",
           "linecolor": "white",
           "ticks": "",
           "title": {
            "standoff": 15
           },
           "zerolinecolor": "white",
           "zerolinewidth": 2
          }
         }
        },
        "title": {
         "font": {
          "size": 30
         },
         "text": "<b>The percentage of participants' current income for each gender</b>"
        },
        "width": 1000,
        "xaxis": {
         "anchor": "y",
         "domain": [
          0,
          1
         ],
         "title": {
          "text": "<b>Gender</b>"
         }
        },
        "yaxis": {
         "anchor": "x",
         "domain": [
          0,
          1
         ],
         "range": [
          0,
          100
         ],
         "title": {
          "text": "<b>Percentage</b>"
         }
        }
       }
      }
     },
     "metadata": {},
     "output_type": "display_data"
    }
   ],
   "source": [
    "\n",
    "fig = px.bar(filtered_gender_income_df, \n",
    "            x='Gender', \n",
    "            y='Percentage',\n",
    "            color='Current income',\n",
    "            text='Percentage', \n",
    "            labels={'Gender': '<b>Gender</b>', 'Percentage': '<b>Percentage</b>', 'Current income': '<b>Current Income</b>'},\n",
    "            category_orders={'Current income':  ['<$10,000', '$10,000-50,000', '$50,000-100,000', '$100,000-300,000','$300,000-500,000', '>$500,000'],},\n",
    "            color_discrete_sequence=['#D2D79F', '#86b395', '#75969b','#646684','#66536c' ,'#483838'],\n",
    "            barmode='stack'\n",
    "            )\n",
    "\n",
    "fig.update_layout(\n",
    "                    width=1000,\n",
    "                    height=600,\n",
    "                    title_text='<b>The percentage of participants\\' current income for each gender</b>',\n",
    "                    title_font_size=30,\n",
    "                    margin=dict(l=20, r=30, t=70, b=0),\n",
    "                    paper_bgcolor='#ffe6cc',\n",
    "                    yaxis=dict(range=[0, 100]),\n",
    "                )\n",
    "fig.update_traces(marker_line_color='black', marker_line_width=0.5, hovertemplate='%{text} (%) of %{x} have the income %{fullData.name}')\n",
    "\n",
    "fig.show()\n"
   ]
  },
  {
   "cell_type": "markdown",
   "metadata": {},
   "source": [
    "With the plot above, we can make some comparisions between income of man and woman and find out some differences below:\n",
    "- There are higher incomes for Men: Men have a higher percentage in most of income ranges (from `$10,000` and more). This suggests that men have a higher likelihood to earn higher incomes compared to women.\n",
    "- Women show a higher percentage in the lower income range of `<$10,000.` This indicates that a larger percentage of women fall into the category of lower-income earners.\n",
    "\n",
    "To make a explain for these differences"
   ]
  },
  {
   "cell_type": "markdown",
   "metadata": {},
   "source": [
    "### **Question 02: What is the tool set for each data roles?**\n",
    "\n",
    "Tools like programming language, ide, Machine learning frameworks,etc are very important for a person who work in the data industry. For each roles, there will be several specific tools that s person should learn and master it. So, with this question, we will find out a set of tools that each roles in data-related jobs need.\n",
    "\n",
    "In this question, we just concern about these roles: `Data Scientist`, `Data Analyst`, `Machine learning engineer`, `Research scientist`, `Statistician`.          \n",
    "Also, the tools we wil consider here is `Programming language`, `IDE`, `Data visualization libraries`, `ML frameworks`, `ML Algorithms`, `NLP methods`, `Computer visions method`, `Data products`, `Business Intelligent tools`.`"
   ]
  },
  {
   "cell_type": "code",
   "execution_count": 111,
   "metadata": {},
   "outputs": [
    {
     "name": "stderr",
     "output_type": "stream",
     "text": [
      "C:\\Users\\DELL\\AppData\\Local\\Temp\\ipykernel_20068\\3040157388.py:14: SettingWithCopyWarning:\n",
      "\n",
      "\n",
      "A value is trying to be set on a copy of a slice from a DataFrame.\n",
      "Try using .loc[row_indexer,col_indexer] = value instead\n",
      "\n",
      "See the caveats in the documentation: https://pandas.pydata.org/pandas-docs/stable/user_guide/indexing.html#returning-a-view-versus-a-copy\n",
      "\n"
     ]
    }
   ],
   "source": [
    "data_roles = ['Machine Learning/ MLops Engineer',\n",
    "            'Research Scientist', \n",
    "            'Data Scientist',\n",
    "            'Data Analyst (Business, Marketing, Financial, Quantitative, etc)',\n",
    "            'Statistician']\n",
    "\n",
    "skills = ['Programming language', 'IDE', 'Data visualization libraries', 'ML frameworks', 'ML Algorithms', 'NLP methods', 'Computer visions method', 'Data products', 'Business Intelligent tools']\n",
    "role_df = processed_income_df[processed_income_df.loc[:,'Current role'].isin(data_roles)].copy()\n",
    "\n",
    "role_df.loc[:,'Current role'] = role_df['Current role'].replace(r'^Data Analyst.*', 'Data Analyst', regex=True)\n",
    "role_df.loc[:,'Current role'] = role_df['Current role'].replace(r'^Machine Learning.*', 'ML Engineer', regex=True)\n",
    "\n",
    "filtered_role_df = role_df.loc[:,role_df.columns.str.startswith(tuple(skills))]\n",
    "filtered_role_df['Current role'] = role_df['Current role']\n",
    "\n",
    "filtered_role_df = filtered_role_df.groupby('Current role').count()"
   ]
  },
  {
   "cell_type": "markdown",
   "metadata": {},
   "source": [
    "After that, we will extract the dataframe for each tool and store them in a dictionary"
   ]
  },
  {
   "cell_type": "code",
   "execution_count": 112,
   "metadata": {},
   "outputs": [],
   "source": [
    "\n",
    "skill_df_dict = {}\n",
    "for skill in skills:\n",
    "    sub_df = filtered_role_df.loc[:, filtered_role_df.columns.str.startswith(skill)]\n",
    "    sub_df.index = sub_df.index.rename(name= None)\n",
    "    skill_df_dict[skill] = sub_df.T\n",
    "     "
   ]
  },
  {
   "cell_type": "markdown",
   "metadata": {},
   "source": [
    "Then, find the percentage of participant that use each tool"
   ]
  },
  {
   "cell_type": "code",
   "execution_count": 113,
   "metadata": {},
   "outputs": [],
   "source": [
    "for key, value in skill_df_dict.items():\n",
    "    for role in value.columns:\n",
    "        value[role+'_total'] = value[role].sum()\n",
    "        value[role] = (value[role]/ value[role+'_total'])* 100\n",
    "        value.drop(columns= [role +'_total'], inplace= True)\n",
    "        # value = value.T\n"
   ]
  },
  {
   "cell_type": "markdown",
   "metadata": {},
   "source": [
    "We just get the three most popular tools for each tool type"
   ]
  },
  {
   "cell_type": "code",
   "execution_count": 114,
   "metadata": {},
   "outputs": [],
   "source": [
    "top_3_skill_dict_for_roles = {}\n",
    "\n",
    "for key, value in skill_df_dict.items():\n",
    "    skill_set_list = []\n",
    "    for role in value.columns:\n",
    "        if role not in top_3_skill_dict_for_roles:\n",
    "            top_3_skill_dict_for_roles[role] = value.loc[:,role].nlargest(3).to_frame().T\n",
    "        else:\n",
    "            top_3_skill_dict_for_roles[role] = pd.concat([top_3_skill_dict_for_roles[role], value.loc[:, role].nlargest(3).to_frame().T], axis=1)\n",
    "        "
   ]
  },
  {
   "cell_type": "code",
   "execution_count": 115,
   "metadata": {},
   "outputs": [],
   "source": [
    "all_role_skill_dict = {}\n",
    "\n",
    "for key, value in top_3_skill_dict_for_roles.items():\n",
    "    skill_dict = {}\n",
    "    for col in value.columns:\n",
    "        match = re.search(r'(.+)\\s+\\(([^)]+)\\)', col)\n",
    "        if match:\n",
    "            skill_group = match.group(1)\n",
    "            skill = match.group(2)\n",
    "            if skill_group not in skill_dict:\n",
    "                skill_dict[skill_group] = []\n",
    "            skill_dict[skill_group].append((skill, value.loc[key,col]))\n",
    "    all_role_skill_dict[key] = skill_dict\n"
   ]
  },
  {
   "cell_type": "markdown",
   "metadata": {},
   "source": [
    "Now, visualize and see the result for each role:"
   ]
  },
  {
   "cell_type": "code",
   "execution_count": 116,
   "metadata": {},
   "outputs": [
    {
     "data": {
      "application/vnd.plotly.v1+json": {
       "config": {
        "plotlyServerURL": "https://plot.ly"
       },
       "data": [
        {
         "branchvalues": "total",
         "domain": {
          "x": [
           0,
           0.5
          ],
          "y": [
           0.7,
           1
          ]
         },
         "hovertemplate": "%{label} is used by %{value} of %{meta.role}",
         "ids": [
          "ML Algorithms/Decison Trees or Random Forests",
          "NLP methods/Encoder-decoder models",
          "Business Intelligent tools/Google Data Studio",
          "ML Algorithms/Gradient Boosting Machines",
          "Computer visions method/Image classification",
          "Computer visions method/Image segmentation methods",
          "IDE/Jupyter  Notebook",
          "ML frameworks/Keras",
          "ML Algorithms/Linear or Logistict Regression",
          "Data visualization libraries/Matplotlib",
          "Business Intelligent tools/Microsoft Power BI",
          "Data products/Microsoft SQL Server",
          "Data products/MySQL",
          "Computer visions method/Object detection methods",
          "Data visualization libraries/Plotly/ Plotky Express",
          "Data products/PosgreSQL",
          "IDE/PyCharm",
          "Programming language/Python",
          "Programming language/R",
          "Programming language/SQL",
          "ML frameworks/Scikit-learn",
          "Data visualization libraries/Seaborn",
          "Business Intelligent tools/Tablue",
          "ML frameworks/TensorFlow",
          "NLP methods/Transformer language models",
          "IDE/Visual Studio Code",
          "NLP methods/Word embeddings/vectors",
          "Business Intelligent tools",
          "Computer visions method",
          "Data products",
          "Data visualization libraries",
          "IDE",
          "ML Algorithms",
          "ML frameworks",
          "NLP methods",
          "Programming language"
         ],
         "labels": [
          "Decison Trees or Random Forests",
          "Encoder-decoder models",
          "Google Data Studio",
          "Gradient Boosting Machines",
          "Image classification",
          "Image segmentation methods",
          "Jupyter  Notebook",
          "Keras",
          "Linear or Logistict Regression",
          "Matplotlib",
          "Microsoft Power BI",
          "Microsoft SQL Server",
          "MySQL",
          "Object detection methods",
          "Plotly/ Plotky Express",
          "PosgreSQL",
          "PyCharm",
          "Python",
          "R",
          "SQL",
          "Scikit-learn",
          "Seaborn",
          "Tablue",
          "TensorFlow",
          "Transformer language models",
          "Visual Studio Code",
          "Word embeddings/vectors",
          "Business Intelligent tools",
          "Computer visions method",
          "Data products",
          "Data visualization libraries",
          "IDE",
          "ML Algorithms",
          "ML frameworks",
          "NLP methods",
          "Programming language"
         ],
         "marker": {
          "line": {
           "color": "black",
           "width": 0.5
          }
         },
         "meta": {
          "role": "Data Analyst"
         },
         "name": "",
         "parents": [
          "ML Algorithms",
          "NLP methods",
          "Business Intelligent tools",
          "ML Algorithms",
          "Computer visions method",
          "Computer visions method",
          "IDE",
          "ML frameworks",
          "ML Algorithms",
          "Data visualization libraries",
          "Business Intelligent tools",
          "Data products",
          "Data products",
          "Computer visions method",
          "Data visualization libraries",
          "Data products",
          "IDE",
          "Programming language",
          "Programming language",
          "Programming language",
          "ML frameworks",
          "Data visualization libraries",
          "Business Intelligent tools",
          "ML frameworks",
          "NLP methods",
          "IDE",
          "NLP methods",
          "",
          "",
          "",
          "",
          "",
          "",
          "",
          "",
          ""
         ],
         "type": "sunburst",
         "values": [
          23.771224307417338,
          22.748815165876778,
          12.431444241316271,
          13.181411974977658,
          27.7027027027027,
          22.2972972972973,
          27.368064952638697,
          12.612163509471586,
          30.205540661304735,
          32.33333333333333,
          33.729433272394886,
          12.843450479233226,
          23.450479233226837,
          19.93243243243243,
          13.916666666666666,
          11.884984025559106,
          8.930987821380242,
          35.93027392387051,
          11.561721807186055,
          28.175026680896476,
          31.754735792622135,
          26.458333333333332,
          34.36928702010969,
          16.450648055832502,
          29.85781990521327,
          14.682002706359945,
          35.54502369668246,
          80.53016453382085,
          69.93243243243244,
          48.17891373801917,
          72.70833333333333,
          50.981055480378885,
          67.15817694369973,
          60.81754735792622,
          88.15165876777252,
          75.66702241195304
         ]
        },
        {
         "branchvalues": "total",
         "domain": {
          "x": [
           0.5,
           1
          ],
          "y": [
           0.7,
           1
          ]
         },
         "hovertemplate": "%{label} is used by %{value} of %{meta.role}",
         "ids": [
          "ML Algorithms/Decison Trees or Random Forests",
          "NLP methods/Encoder-decoder models",
          "Computer visions method/General tools",
          "Business Intelligent tools/Google Data Studio",
          "ML Algorithms/Gradient Boosting Machines",
          "Computer visions method/Image classification",
          "IDE/Jupyter  Notebook",
          "IDE/JupyterLab",
          "ML Algorithms/Linear or Logistict Regression",
          "Data visualization libraries/Matplotlib",
          "Business Intelligent tools/Microsoft Power BI",
          "Data products/Microsoft SQL Server",
          "Data products/MySQL",
          "Computer visions method/Object detection methods",
          "Data visualization libraries/Plotly/ Plotky Express",
          "Data products/PosgreSQL",
          "Programming language/Python",
          "Programming language/R",
          "Programming language/SQL",
          "ML frameworks/Scikit-learn",
          "Data visualization libraries/Seaborn",
          "Business Intelligent tools/Tablue",
          "ML frameworks/TensorFlow",
          "NLP methods/Transformer language models",
          "IDE/Visual Studio Code",
          "NLP methods/Word embeddings/vectors",
          "ML frameworks/Xgboost",
          "Business Intelligent tools",
          "Computer visions method",
          "Data products",
          "Data visualization libraries",
          "IDE",
          "ML Algorithms",
          "ML frameworks",
          "NLP methods",
          "Programming language"
         ],
         "labels": [
          "Decison Trees or Random Forests",
          "Encoder-decoder models",
          "General tools",
          "Google Data Studio",
          "Gradient Boosting Machines",
          "Image classification",
          "Jupyter  Notebook",
          "JupyterLab",
          "Linear or Logistict Regression",
          "Matplotlib",
          "Microsoft Power BI",
          "Microsoft SQL Server",
          "MySQL",
          "Object detection methods",
          "Plotly/ Plotky Express",
          "PosgreSQL",
          "Python",
          "R",
          "SQL",
          "Scikit-learn",
          "Seaborn",
          "Tablue",
          "TensorFlow",
          "Transformer language models",
          "Visual Studio Code",
          "Word embeddings/vectors",
          "Xgboost",
          "Business Intelligent tools",
          "Computer visions method",
          "Data products",
          "Data visualization libraries",
          "IDE",
          "ML Algorithms",
          "ML frameworks",
          "NLP methods",
          "Programming language"
         ],
         "marker": {
          "line": {
           "color": "black",
           "width": 0.5
          }
         },
         "meta": {
          "role": "Data Scientist"
         },
         "name": "",
         "parents": [
          "ML Algorithms",
          "NLP methods",
          "Computer visions method",
          "Business Intelligent tools",
          "ML Algorithms",
          "Computer visions method",
          "IDE",
          "IDE",
          "ML Algorithms",
          "Data visualization libraries",
          "Business Intelligent tools",
          "Data products",
          "Data products",
          "Computer visions method",
          "Data visualization libraries",
          "Data products",
          "Programming language",
          "Programming language",
          "Programming language",
          "ML frameworks",
          "Data visualization libraries",
          "Business Intelligent tools",
          "ML frameworks",
          "NLP methods",
          "IDE",
          "NLP methods",
          "ML frameworks",
          "",
          "",
          "",
          "",
          "",
          "",
          "",
          "",
          ""
         ],
         "type": "sunburst",
         "values": [
          19.12814148309029,
          21.52428810720268,
          17.34623358673117,
          11.538461538461538,
          16.009928637914985,
          28.956461644782312,
          24.815533980582526,
          12.407766990291263,
          20.152032268073224,
          30.547112462006076,
          29.945054945054945,
          9.685230024213075,
          17.675544794188863,
          20.041465100207326,
          16.456795484151108,
          14.216534071255621,
          37.3169030458033,
          10.974192048360846,
          23.85491746105557,
          23.586000995189917,
          26.87798523664785,
          32.005494505494504,
          13.435063858019571,
          33.91959798994975,
          15.417475728155338,
          33.835845896147404,
          14.164869795986068,
          73.48901098901099,
          66.34416033172081,
          41.57730888965756,
          73.88189318280503,
          52.640776699029125,
          55.2901023890785,
          51.18593464919556,
          89.27973199329983,
          72.14601255521971
         ]
        },
        {
         "branchvalues": "total",
         "domain": {
          "x": [
           0,
           0.5
          ],
          "y": [
           0.35,
           0.6499999999999999
          ]
         },
         "hovertemplate": "%{label} is used by %{value} of %{meta.role}",
         "ids": [
          "Programming language/Bash",
          "ML Algorithms/Convolational Neural Networks",
          "ML Algorithms/Decison Trees or Random Forests",
          "NLP methods/Encoder-decoder models",
          "Computer visions method/General tools",
          "Business Intelligent tools/Google Data Studio",
          "Computer visions method/Image classification",
          "IDE/Jupyter  Notebook",
          "ML Algorithms/Linear or Logistict Regression",
          "Data visualization libraries/Matplotlib",
          "Business Intelligent tools/Microsoft Power BI",
          "Data products/MongoDB",
          "Data products/MySQL",
          "Computer visions method/Object detection methods",
          "Data visualization libraries/Plotly/ Plotky Express",
          "Data products/PosgreSQL",
          "IDE/PyCharm",
          "Programming language/Python",
          "ML frameworks/Pytorch",
          "Programming language/SQL",
          "ML frameworks/Scikit-learn",
          "Data visualization libraries/Seaborn",
          "Business Intelligent tools/Tablue",
          "ML frameworks/TensorFlow",
          "NLP methods/Transformer language models",
          "IDE/Visual Studio Code",
          "NLP methods/Word embeddings/vectors",
          "Business Intelligent tools",
          "Computer visions method",
          "Data products",
          "Data visualization libraries",
          "IDE",
          "ML Algorithms",
          "ML frameworks",
          "NLP methods",
          "Programming language"
         ],
         "labels": [
          "Bash",
          "Convolational Neural Networks",
          "Decison Trees or Random Forests",
          "Encoder-decoder models",
          "General tools",
          "Google Data Studio",
          "Image classification",
          "Jupyter  Notebook",
          "Linear or Logistict Regression",
          "Matplotlib",
          "Microsoft Power BI",
          "MongoDB",
          "MySQL",
          "Object detection methods",
          "Plotly/ Plotky Express",
          "PosgreSQL",
          "PyCharm",
          "Python",
          "Pytorch",
          "SQL",
          "Scikit-learn",
          "Seaborn",
          "Tablue",
          "TensorFlow",
          "Transformer language models",
          "Visual Studio Code",
          "Word embeddings/vectors",
          "Business Intelligent tools",
          "Computer visions method",
          "Data products",
          "Data visualization libraries",
          "IDE",
          "ML Algorithms",
          "ML frameworks",
          "NLP methods",
          "Programming language"
         ],
         "marker": {
          "line": {
           "color": "black",
           "width": 0.5
          }
         },
         "meta": {
          "role": "ML Engineer"
         },
         "name": "",
         "parents": [
          "Programming language",
          "ML Algorithms",
          "ML Algorithms",
          "NLP methods",
          "Computer visions method",
          "Business Intelligent tools",
          "Computer visions method",
          "IDE",
          "ML Algorithms",
          "Data visualization libraries",
          "Business Intelligent tools",
          "Data products",
          "Data products",
          "Computer visions method",
          "Data visualization libraries",
          "Data products",
          "IDE",
          "Programming language",
          "ML frameworks",
          "Programming language",
          "ML frameworks",
          "Data visualization libraries",
          "Business Intelligent tools",
          "ML frameworks",
          "NLP methods",
          "IDE",
          "NLP methods",
          "",
          "",
          "",
          "",
          "",
          "",
          "",
          "",
          ""
         ],
         "type": "sunburst",
         "values": [
          10.303928836174943,
          15.025906735751295,
          13.65991521431936,
          26.937269372693727,
          18.071065989847714,
          14.000000000000002,
          25.482233502538072,
          22.275737507525587,
          15.638247762600093,
          36.04269293924467,
          23.333333333333332,
          11.182108626198083,
          16.719914802981894,
          20.913705583756347,
          15.270935960591133,
          15.015974440894569,
          11.739915713425647,
          36.76797627872499,
          14.439024390243901,
          15.196441808747222,
          19.70731707317073,
          28.24302134646962,
          31,
          15.414634146341463,
          33.76383763837638,
          19.084888621312462,
          29.520295202952028,
          68.33333333333333,
          64.46700507614213,
          42.917997870074544,
          79.55665024630542,
          53.100541842263695,
          44.32406971267075,
          49.5609756097561,
          90.22140221402213,
          62.26834692364715
         ]
        },
        {
         "branchvalues": "total",
         "domain": {
          "x": [
           0.5,
           1
          ],
          "y": [
           0.35,
           0.6499999999999999
          ]
         },
         "hovertemplate": "%{label} is used by %{value} of %{meta.role}",
         "ids": [
          "ML Algorithms/Convolational Neural Networks",
          "ML Algorithms/Decison Trees or Random Forests",
          "NLP methods/Encoder-decoder models",
          "Computer visions method/General tools",
          "Business Intelligent tools/Google Data Studio",
          "Computer visions method/Image classification",
          "Computer visions method/Image segmentation methods",
          "IDE/Jupyter  Notebook",
          "ML Algorithms/Linear or Logistict Regression",
          "Programming language/MATLAB",
          "Data visualization libraries/Matplotlib",
          "Business Intelligent tools/Microsoft Power BI",
          "Data products/MySQL",
          "Data visualization libraries/Plotly/ Plotky Express",
          "Data products/PosgreSQL",
          "Programming language/Python",
          "ML frameworks/Pytorch",
          "Programming language/R",
          "IDE/RStudio/Posit",
          "Data products/SQLite",
          "ML frameworks/Scikit-learn",
          "Data visualization libraries/Seaborn",
          "Business Intelligent tools/Tablue",
          "ML frameworks/TensorFlow",
          "NLP methods/Transformer language models",
          "IDE/Visual Studio Code",
          "NLP methods/Word embeddings/vectors",
          "Business Intelligent tools",
          "Computer visions method",
          "Data products",
          "Data visualization libraries",
          "IDE",
          "ML Algorithms",
          "ML frameworks",
          "NLP methods",
          "Programming language"
         ],
         "labels": [
          "Convolational Neural Networks",
          "Decison Trees or Random Forests",
          "Encoder-decoder models",
          "General tools",
          "Google Data Studio",
          "Image classification",
          "Image segmentation methods",
          "Jupyter  Notebook",
          "Linear or Logistict Regression",
          "MATLAB",
          "Matplotlib",
          "Microsoft Power BI",
          "MySQL",
          "Plotly/ Plotky Express",
          "PosgreSQL",
          "Python",
          "Pytorch",
          "R",
          "RStudio/Posit",
          "SQLite",
          "Scikit-learn",
          "Seaborn",
          "Tablue",
          "TensorFlow",
          "Transformer language models",
          "Visual Studio Code",
          "Word embeddings/vectors",
          "Business Intelligent tools",
          "Computer visions method",
          "Data products",
          "Data visualization libraries",
          "IDE",
          "ML Algorithms",
          "ML frameworks",
          "NLP methods",
          "Programming language"
         ],
         "marker": {
          "line": {
           "color": "black",
           "width": 0.5
          }
         },
         "meta": {
          "role": "Research Scientist"
         },
         "name": "",
         "parents": [
          "ML Algorithms",
          "ML Algorithms",
          "NLP methods",
          "Computer visions method",
          "Business Intelligent tools",
          "Computer visions method",
          "Computer visions method",
          "IDE",
          "ML Algorithms",
          "Programming language",
          "Data visualization libraries",
          "Business Intelligent tools",
          "Data products",
          "Data visualization libraries",
          "Data products",
          "Programming language",
          "ML frameworks",
          "Programming language",
          "IDE",
          "Data products",
          "ML frameworks",
          "Data visualization libraries",
          "Business Intelligent tools",
          "ML frameworks",
          "NLP methods",
          "IDE",
          "NLP methods",
          "",
          "",
          "",
          "",
          "",
          "",
          "",
          "",
          ""
         ],
         "type": "sunburst",
         "values": [
          13.890426120641946,
          13.945766463752074,
          23.404255319148938,
          17.94871794871795,
          16.748768472906402,
          25.64102564102564,
          19.391025641025642,
          21.183591123066577,
          17.376867736579968,
          8.823529411764707,
          33.15696649029982,
          23.15270935960591,
          17.647058823529413,
          13.756613756613756,
          14.08199643493761,
          31.779053084648496,
          15.230875258442452,
          11.119081779053085,
          8.607935440484196,
          14.43850267379679,
          22.8118538938663,
          21.869488536155202,
          33.497536945812804,
          16.6092350103377,
          32.62411347517731,
          13.78614660390047,
          33.33333333333333,
          73.39901477832512,
          62.980769230769226,
          46.16755793226381,
          68.78306878306879,
          43.577673167451245,
          45.21306032097399,
          54.65196416264645,
          89.36170212765958,
          51.72166427546629
         ]
        },
        {
         "branchvalues": "total",
         "domain": {
          "x": [
           0,
           0.5
          ],
          "y": [
           0,
           0.3
          ]
         },
         "hovertemplate": "%{label} is used by %{value} of %{meta.role}",
         "ids": [
          "ML Algorithms/Decison Trees or Random Forests",
          "NLP methods/Encoder-decoder models",
          "Computer visions method/General tools",
          "Data visualization libraries/Ggplot/ ggplot2",
          "Business Intelligent tools/Google Data Studio",
          "ML Algorithms/Gradient Boosting Machines",
          "Computer visions method/Image classification",
          "Computer visions method/Image segmentation methods",
          "IDE/Jupyter  Notebook",
          "ML Algorithms/Linear or Logistict Regression",
          "Data visualization libraries/Matplotlib",
          "Business Intelligent tools/Microsoft Power BI",
          "Data products/Microsoft SQL Server",
          "Data products/MySQL",
          "IDE/Notepad++",
          "Data products/PosgreSQL",
          "Programming language/Python",
          "Programming language/R",
          "IDE/RStudio/Posit",
          "Programming language/SQL",
          "ML frameworks/Scikit-learn",
          "Data visualization libraries/Seaborn",
          "Business Intelligent tools/Tablue",
          "ML frameworks/TensorFlow",
          "NLP methods/Transformer language models",
          "NLP methods/Word embeddings/vectors",
          "ML frameworks/Xgboost",
          "Business Intelligent tools",
          "Computer visions method",
          "Data products",
          "Data visualization libraries",
          "IDE",
          "ML Algorithms",
          "ML frameworks",
          "NLP methods",
          "Programming language"
         ],
         "labels": [
          "Decison Trees or Random Forests",
          "Encoder-decoder models",
          "General tools",
          "Ggplot/ ggplot2",
          "Google Data Studio",
          "Gradient Boosting Machines",
          "Image classification",
          "Image segmentation methods",
          "Jupyter  Notebook",
          "Linear or Logistict Regression",
          "Matplotlib",
          "Microsoft Power BI",
          "Microsoft SQL Server",
          "MySQL",
          "Notepad++",
          "PosgreSQL",
          "Python",
          "R",
          "RStudio/Posit",
          "SQL",
          "Scikit-learn",
          "Seaborn",
          "Tablue",
          "TensorFlow",
          "Transformer language models",
          "Word embeddings/vectors",
          "Xgboost",
          "Business Intelligent tools",
          "Computer visions method",
          "Data products",
          "Data visualization libraries",
          "IDE",
          "ML Algorithms",
          "ML frameworks",
          "NLP methods",
          "Programming language"
         ],
         "marker": {
          "line": {
           "color": "black",
           "width": 0.5
          }
         },
         "meta": {
          "role": "Statistician"
         },
         "name": "",
         "parents": [
          "ML Algorithms",
          "NLP methods",
          "Computer visions method",
          "Data visualization libraries",
          "Business Intelligent tools",
          "ML Algorithms",
          "Computer visions method",
          "Computer visions method",
          "IDE",
          "ML Algorithms",
          "Data visualization libraries",
          "Business Intelligent tools",
          "Data products",
          "Data products",
          "IDE",
          "Data products",
          "Programming language",
          "Programming language",
          "IDE",
          "Programming language",
          "ML frameworks",
          "Data visualization libraries",
          "Business Intelligent tools",
          "ML frameworks",
          "NLP methods",
          "NLP methods",
          "ML frameworks",
          "",
          "",
          "",
          "",
          "",
          "",
          "",
          "",
          ""
         ],
         "type": "sunburst",
         "values": [
          21.58590308370044,
          18.51851851851852,
          22.22222222222222,
          25,
          14.583333333333334,
          11.894273127753303,
          25.925925925925924,
          22.22222222222222,
          20.192307692307693,
          29.074889867841406,
          23.46938775510204,
          37.5,
          14.444444444444443,
          20,
          9.615384615384617,
          11.11111111111111,
          27.038626609442062,
          24.892703862660944,
          23.557692307692307,
          17.59656652360515,
          22.77777777777778,
          20.918367346938776,
          31.25,
          12.777777777777777,
          25.925925925925924,
          40.74074074074074,
          11.666666666666666,
          83.33333333333333,
          70.37037037037037,
          45.55555555555556,
          69.38775510204081,
          53.36538461538461,
          62.55506607929515,
          47.22222222222222,
          85.18518518518519,
          69.52789699570816
         ]
        }
       ],
       "layout": {
        "annotations": [
         {
          "font": {
           "size": 16
          },
          "showarrow": false,
          "text": "<b>Tool set for Data Analyst</b>",
          "x": 0.25,
          "xanchor": "center",
          "xref": "paper",
          "y": 1,
          "yanchor": "bottom",
          "yref": "paper"
         },
         {
          "font": {
           "size": 16
          },
          "showarrow": false,
          "text": "<b>Tool set for Data Scientist</b>",
          "x": 0.75,
          "xanchor": "center",
          "xref": "paper",
          "y": 1,
          "yanchor": "bottom",
          "yref": "paper"
         },
         {
          "font": {
           "size": 16
          },
          "showarrow": false,
          "text": "<b>Tool set for ML Engineer</b>",
          "x": 0.25,
          "xanchor": "center",
          "xref": "paper",
          "y": 0.6499999999999999,
          "yanchor": "bottom",
          "yref": "paper"
         },
         {
          "font": {
           "size": 16
          },
          "showarrow": false,
          "text": "<b>Tool set for Research Scientist</b>",
          "x": 0.75,
          "xanchor": "center",
          "xref": "paper",
          "y": 0.6499999999999999,
          "yanchor": "bottom",
          "yref": "paper"
         },
         {
          "font": {
           "size": 16
          },
          "showarrow": false,
          "text": "<b>Tool set for Statistician</b>",
          "x": 0.25,
          "xanchor": "center",
          "xref": "paper",
          "y": 0.3,
          "yanchor": "bottom",
          "yref": "paper"
         }
        ],
        "height": 1800,
        "margin": {
         "b": 20,
         "l": 0,
         "r": 0,
         "t": 70
        },
        "paper_bgcolor": "#ffe6cc",
        "showlegend": false,
        "template": {
         "data": {
          "bar": [
           {
            "error_x": {
             "color": "#2a3f5f"
            },
            "error_y": {
             "color": "#2a3f5f"
            },
            "marker": {
             "line": {
              "color": "#E5ECF6",
              "width": 0.5
             },
             "pattern": {
              "fillmode": "overlay",
              "size": 10,
              "solidity": 0.2
             }
            },
            "type": "bar"
           }
          ],
          "barpolar": [
           {
            "marker": {
             "line": {
              "color": "#E5ECF6",
              "width": 0.5
             },
             "pattern": {
              "fillmode": "overlay",
              "size": 10,
              "solidity": 0.2
             }
            },
            "type": "barpolar"
           }
          ],
          "carpet": [
           {
            "aaxis": {
             "endlinecolor": "#2a3f5f",
             "gridcolor": "white",
             "linecolor": "white",
             "minorgridcolor": "white",
             "startlinecolor": "#2a3f5f"
            },
            "baxis": {
             "endlinecolor": "#2a3f5f",
             "gridcolor": "white",
             "linecolor": "white",
             "minorgridcolor": "white",
             "startlinecolor": "#2a3f5f"
            },
            "type": "carpet"
           }
          ],
          "choropleth": [
           {
            "colorbar": {
             "outlinewidth": 0,
             "ticks": ""
            },
            "type": "choropleth"
           }
          ],
          "contour": [
           {
            "colorbar": {
             "outlinewidth": 0,
             "ticks": ""
            },
            "colorscale": [
             [
              0,
              "#0d0887"
             ],
             [
              0.1111111111111111,
              "#46039f"
             ],
             [
              0.2222222222222222,
              "#7201a8"
             ],
             [
              0.3333333333333333,
              "#9c179e"
             ],
             [
              0.4444444444444444,
              "#bd3786"
             ],
             [
              0.5555555555555556,
              "#d8576b"
             ],
             [
              0.6666666666666666,
              "#ed7953"
             ],
             [
              0.7777777777777778,
              "#fb9f3a"
             ],
             [
              0.8888888888888888,
              "#fdca26"
             ],
             [
              1,
              "#f0f921"
             ]
            ],
            "type": "contour"
           }
          ],
          "contourcarpet": [
           {
            "colorbar": {
             "outlinewidth": 0,
             "ticks": ""
            },
            "type": "contourcarpet"
           }
          ],
          "heatmap": [
           {
            "colorbar": {
             "outlinewidth": 0,
             "ticks": ""
            },
            "colorscale": [
             [
              0,
              "#0d0887"
             ],
             [
              0.1111111111111111,
              "#46039f"
             ],
             [
              0.2222222222222222,
              "#7201a8"
             ],
             [
              0.3333333333333333,
              "#9c179e"
             ],
             [
              0.4444444444444444,
              "#bd3786"
             ],
             [
              0.5555555555555556,
              "#d8576b"
             ],
             [
              0.6666666666666666,
              "#ed7953"
             ],
             [
              0.7777777777777778,
              "#fb9f3a"
             ],
             [
              0.8888888888888888,
              "#fdca26"
             ],
             [
              1,
              "#f0f921"
             ]
            ],
            "type": "heatmap"
           }
          ],
          "heatmapgl": [
           {
            "colorbar": {
             "outlinewidth": 0,
             "ticks": ""
            },
            "colorscale": [
             [
              0,
              "#0d0887"
             ],
             [
              0.1111111111111111,
              "#46039f"
             ],
             [
              0.2222222222222222,
              "#7201a8"
             ],
             [
              0.3333333333333333,
              "#9c179e"
             ],
             [
              0.4444444444444444,
              "#bd3786"
             ],
             [
              0.5555555555555556,
              "#d8576b"
             ],
             [
              0.6666666666666666,
              "#ed7953"
             ],
             [
              0.7777777777777778,
              "#fb9f3a"
             ],
             [
              0.8888888888888888,
              "#fdca26"
             ],
             [
              1,
              "#f0f921"
             ]
            ],
            "type": "heatmapgl"
           }
          ],
          "histogram": [
           {
            "marker": {
             "pattern": {
              "fillmode": "overlay",
              "size": 10,
              "solidity": 0.2
             }
            },
            "type": "histogram"
           }
          ],
          "histogram2d": [
           {
            "colorbar": {
             "outlinewidth": 0,
             "ticks": ""
            },
            "colorscale": [
             [
              0,
              "#0d0887"
             ],
             [
              0.1111111111111111,
              "#46039f"
             ],
             [
              0.2222222222222222,
              "#7201a8"
             ],
             [
              0.3333333333333333,
              "#9c179e"
             ],
             [
              0.4444444444444444,
              "#bd3786"
             ],
             [
              0.5555555555555556,
              "#d8576b"
             ],
             [
              0.6666666666666666,
              "#ed7953"
             ],
             [
              0.7777777777777778,
              "#fb9f3a"
             ],
             [
              0.8888888888888888,
              "#fdca26"
             ],
             [
              1,
              "#f0f921"
             ]
            ],
            "type": "histogram2d"
           }
          ],
          "histogram2dcontour": [
           {
            "colorbar": {
             "outlinewidth": 0,
             "ticks": ""
            },
            "colorscale": [
             [
              0,
              "#0d0887"
             ],
             [
              0.1111111111111111,
              "#46039f"
             ],
             [
              0.2222222222222222,
              "#7201a8"
             ],
             [
              0.3333333333333333,
              "#9c179e"
             ],
             [
              0.4444444444444444,
              "#bd3786"
             ],
             [
              0.5555555555555556,
              "#d8576b"
             ],
             [
              0.6666666666666666,
              "#ed7953"
             ],
             [
              0.7777777777777778,
              "#fb9f3a"
             ],
             [
              0.8888888888888888,
              "#fdca26"
             ],
             [
              1,
              "#f0f921"
             ]
            ],
            "type": "histogram2dcontour"
           }
          ],
          "mesh3d": [
           {
            "colorbar": {
             "outlinewidth": 0,
             "ticks": ""
            },
            "type": "mesh3d"
           }
          ],
          "parcoords": [
           {
            "line": {
             "colorbar": {
              "outlinewidth": 0,
              "ticks": ""
             }
            },
            "type": "parcoords"
           }
          ],
          "pie": [
           {
            "automargin": true,
            "type": "pie"
           }
          ],
          "scatter": [
           {
            "fillpattern": {
             "fillmode": "overlay",
             "size": 10,
             "solidity": 0.2
            },
            "type": "scatter"
           }
          ],
          "scatter3d": [
           {
            "line": {
             "colorbar": {
              "outlinewidth": 0,
              "ticks": ""
             }
            },
            "marker": {
             "colorbar": {
              "outlinewidth": 0,
              "ticks": ""
             }
            },
            "type": "scatter3d"
           }
          ],
          "scattercarpet": [
           {
            "marker": {
             "colorbar": {
              "outlinewidth": 0,
              "ticks": ""
             }
            },
            "type": "scattercarpet"
           }
          ],
          "scattergeo": [
           {
            "marker": {
             "colorbar": {
              "outlinewidth": 0,
              "ticks": ""
             }
            },
            "type": "scattergeo"
           }
          ],
          "scattergl": [
           {
            "marker": {
             "colorbar": {
              "outlinewidth": 0,
              "ticks": ""
             }
            },
            "type": "scattergl"
           }
          ],
          "scattermapbox": [
           {
            "marker": {
             "colorbar": {
              "outlinewidth": 0,
              "ticks": ""
             }
            },
            "type": "scattermapbox"
           }
          ],
          "scatterpolar": [
           {
            "marker": {
             "colorbar": {
              "outlinewidth": 0,
              "ticks": ""
             }
            },
            "type": "scatterpolar"
           }
          ],
          "scatterpolargl": [
           {
            "marker": {
             "colorbar": {
              "outlinewidth": 0,
              "ticks": ""
             }
            },
            "type": "scatterpolargl"
           }
          ],
          "scatterternary": [
           {
            "marker": {
             "colorbar": {
              "outlinewidth": 0,
              "ticks": ""
             }
            },
            "type": "scatterternary"
           }
          ],
          "surface": [
           {
            "colorbar": {
             "outlinewidth": 0,
             "ticks": ""
            },
            "colorscale": [
             [
              0,
              "#0d0887"
             ],
             [
              0.1111111111111111,
              "#46039f"
             ],
             [
              0.2222222222222222,
              "#7201a8"
             ],
             [
              0.3333333333333333,
              "#9c179e"
             ],
             [
              0.4444444444444444,
              "#bd3786"
             ],
             [
              0.5555555555555556,
              "#d8576b"
             ],
             [
              0.6666666666666666,
              "#ed7953"
             ],
             [
              0.7777777777777778,
              "#fb9f3a"
             ],
             [
              0.8888888888888888,
              "#fdca26"
             ],
             [
              1,
              "#f0f921"
             ]
            ],
            "type": "surface"
           }
          ],
          "table": [
           {
            "cells": {
             "fill": {
              "color": "#EBF0F8"
             },
             "line": {
              "color": "white"
             }
            },
            "header": {
             "fill": {
              "color": "#C8D4E3"
             },
             "line": {
              "color": "white"
             }
            },
            "type": "table"
           }
          ]
         },
         "layout": {
          "annotationdefaults": {
           "arrowcolor": "#2a3f5f",
           "arrowhead": 0,
           "arrowwidth": 1
          },
          "autotypenumbers": "strict",
          "coloraxis": {
           "colorbar": {
            "outlinewidth": 0,
            "ticks": ""
           }
          },
          "colorscale": {
           "diverging": [
            [
             0,
             "#8e0152"
            ],
            [
             0.1,
             "#c51b7d"
            ],
            [
             0.2,
             "#de77ae"
            ],
            [
             0.3,
             "#f1b6da"
            ],
            [
             0.4,
             "#fde0ef"
            ],
            [
             0.5,
             "#f7f7f7"
            ],
            [
             0.6,
             "#e6f5d0"
            ],
            [
             0.7,
             "#b8e186"
            ],
            [
             0.8,
             "#7fbc41"
            ],
            [
             0.9,
             "#4d9221"
            ],
            [
             1,
             "#276419"
            ]
           ],
           "sequential": [
            [
             0,
             "#0d0887"
            ],
            [
             0.1111111111111111,
             "#46039f"
            ],
            [
             0.2222222222222222,
             "#7201a8"
            ],
            [
             0.3333333333333333,
             "#9c179e"
            ],
            [
             0.4444444444444444,
             "#bd3786"
            ],
            [
             0.5555555555555556,
             "#d8576b"
            ],
            [
             0.6666666666666666,
             "#ed7953"
            ],
            [
             0.7777777777777778,
             "#fb9f3a"
            ],
            [
             0.8888888888888888,
             "#fdca26"
            ],
            [
             1,
             "#f0f921"
            ]
           ],
           "sequentialminus": [
            [
             0,
             "#0d0887"
            ],
            [
             0.1111111111111111,
             "#46039f"
            ],
            [
             0.2222222222222222,
             "#7201a8"
            ],
            [
             0.3333333333333333,
             "#9c179e"
            ],
            [
             0.4444444444444444,
             "#bd3786"
            ],
            [
             0.5555555555555556,
             "#d8576b"
            ],
            [
             0.6666666666666666,
             "#ed7953"
            ],
            [
             0.7777777777777778,
             "#fb9f3a"
            ],
            [
             0.8888888888888888,
             "#fdca26"
            ],
            [
             1,
             "#f0f921"
            ]
           ]
          },
          "colorway": [
           "#636efa",
           "#EF553B",
           "#00cc96",
           "#ab63fa",
           "#FFA15A",
           "#19d3f3",
           "#FF6692",
           "#B6E880",
           "#FF97FF",
           "#FECB52"
          ],
          "font": {
           "color": "#2a3f5f"
          },
          "geo": {
           "bgcolor": "white",
           "lakecolor": "white",
           "landcolor": "#E5ECF6",
           "showlakes": true,
           "showland": true,
           "subunitcolor": "white"
          },
          "hoverlabel": {
           "align": "left"
          },
          "hovermode": "closest",
          "mapbox": {
           "style": "light"
          },
          "paper_bgcolor": "white",
          "plot_bgcolor": "#E5ECF6",
          "polar": {
           "angularaxis": {
            "gridcolor": "white",
            "linecolor": "white",
            "ticks": ""
           },
           "bgcolor": "#E5ECF6",
           "radialaxis": {
            "gridcolor": "white",
            "linecolor": "white",
            "ticks": ""
           }
          },
          "scene": {
           "xaxis": {
            "backgroundcolor": "#E5ECF6",
            "gridcolor": "white",
            "gridwidth": 2,
            "linecolor": "white",
            "showbackground": true,
            "ticks": "",
            "zerolinecolor": "white"
           },
           "yaxis": {
            "backgroundcolor": "#E5ECF6",
            "gridcolor": "white",
            "gridwidth": 2,
            "linecolor": "white",
            "showbackground": true,
            "ticks": "",
            "zerolinecolor": "white"
           },
           "zaxis": {
            "backgroundcolor": "#E5ECF6",
            "gridcolor": "white",
            "gridwidth": 2,
            "linecolor": "white",
            "showbackground": true,
            "ticks": "",
            "zerolinecolor": "white"
           }
          },
          "shapedefaults": {
           "line": {
            "color": "#2a3f5f"
           }
          },
          "ternary": {
           "aaxis": {
            "gridcolor": "white",
            "linecolor": "white",
            "ticks": ""
           },
           "baxis": {
            "gridcolor": "white",
            "linecolor": "white",
            "ticks": ""
           },
           "bgcolor": "#E5ECF6",
           "caxis": {
            "gridcolor": "white",
            "linecolor": "white",
            "ticks": ""
           }
          },
          "title": {
           "x": 0.05
          },
          "xaxis": {
           "automargin": true,
           "gridcolor": "white",
           "linecolor": "white",
           "ticks": "",
           "title": {
            "standoff": 15
           },
           "zerolinecolor": "white",
           "zerolinewidth": 2
          },
          "yaxis": {
           "automargin": true,
           "gridcolor": "white",
           "linecolor": "white",
           "ticks": "",
           "title": {
            "standoff": 15
           },
           "zerolinecolor": "white",
           "zerolinewidth": 2
          }
         }
        },
        "width": 1100
       }
      }
     },
     "metadata": {},
     "output_type": "display_data"
    }
   ],
   "source": [
    "\n",
    "fig = make_subplots(\n",
    "    rows = 3, cols = 2,\n",
    "    subplot_titles = [f'<b>Tool set for {role}</b>' for role in all_role_skill_dict.keys()],\n",
    "    specs = [[{'type': 'sunburst'}] *2] * 3,\n",
    "    horizontal_spacing = 0,\n",
    "    vertical_spacing=0.05,\n",
    ")\n",
    "\n",
    "for i, (role, skill_dict) in enumerate(all_role_skill_dict.items(),):\n",
    "\n",
    "    df = pd.DataFrame(skill_dict)\n",
    "    df = pd.melt(df)\n",
    "    df['value1'] = df['value'].apply(lambda x: x[0])\n",
    "    df['value2'] = df['value'].apply(lambda x: x[1])\n",
    "    df.drop(columns='value', inplace=True)\n",
    "    df.rename(columns={'value1': '<b>Tool</b>', 'variable': '<b>Tool type</b>', 'value2': 'Percentage'}, inplace=True)\n",
    "\n",
    "    sunburst_fig = px.sunburst(df,\n",
    "                               path=['<b>Tool type</b>', '<b>Tool</b>'],\n",
    "                               values='Percentage',\n",
    "                               branchvalues='total',\n",
    "                               color_continuous_scale='Viridis'\n",
    "                               )\n",
    "    sunburst_data = sunburst_fig['data'][0]\n",
    "    sunburst_data['meta'] = {'role': role}\n",
    "    sunburst_data['hovertemplate'] = '%{label} is used by %{value} of %{meta.role}'\n",
    "    row_idx = i // 2 + 1\n",
    "    col_idx = i % 2 + 1\n",
    "\n",
    "    fig.add_trace(sunburst_data, row=row_idx, col=col_idx)\n",
    "\n",
    "# Update the layout\n",
    "fig.update_layout(\n",
    "    width=1100,\n",
    "    height=1800,\n",
    "    margin=dict(l=0, r=0, t=70, b=20),\n",
    "    paper_bgcolor='#ffe6cc',\n",
    "    showlegend=False,\n",
    ")\n",
    "fig.update_traces(marker_line_color='black', marker_line_width=0.5)\n",
    "\n",
    "fig.show()\n"
   ]
  },
  {
   "cell_type": "markdown",
   "metadata": {},
   "source": [
    "By these plot, we can see the toolset for each role. There are lots of similarities between the tool set of each role. Beside that, there also some tool are most specific for each role. Below is something special we can consider about these plot:\n",
    "\n",
    "- With `Programming language`:  `Bash` is used by `Machine Learning Engineer`, and `Matlab` for `Research Scientist`\n",
    "\n",
    "- With `IDE`: For `Statistician` and `Research Scientist`, `RStudio` is the most necessary because `R` is a significant language for statistical analysis.\n",
    "\n",
    "- With `ML Algorithms`: `Convolational Neutral Network` is mostly used  by `Machine Learning Engineer` and `Research Scientist`, \n",
    "\n",
    "\n",
    "In conclusion, tools that is specific for each roles. From that, be can start to learn, and practice it, to prepare for our career in the future."
   ]
  }
 ],
 "metadata": {
  "kernelspec": {
   "display_name": "Python 3",
   "language": "python",
   "name": "python3"
  },
  "language_info": {
   "codemirror_mode": {
    "name": "ipython",
    "version": 3
   },
   "file_extension": ".py",
   "mimetype": "text/x-python",
   "name": "python",
   "nbconvert_exporter": "python",
   "pygments_lexer": "ipython3",
   "version": "3.11.4"
  }
 },
 "nbformat": 4,
 "nbformat_minor": 2
}
